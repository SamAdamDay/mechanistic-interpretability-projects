{
 "cells": [
  {
   "attachments": {},
   "cell_type": "markdown",
   "metadata": {},
   "source": [
    "# Understanding bracket closing in GPT-Neo\n",
    "\n",
    "The goal of this notebook is to explore the phenomenon of bracket closing in the [GPT-Neo 125M model](https://www.eleuther.ai/artifacts/gpt-neo), whereby it can correctly match open parentheses `([{<` with their corresponding closing versions `)]}>`.\n",
    "\n",
    "This is [Problem 2.13](https://www.alignmentforum.org/s/yivyHaCAmMJ3CqSyj/p/XNjRwEX9kxbpzWFWd#block71) in Neel Nanda's [200 Concrete Open Problems in Mechanistic Interpretability](https://www.alignmentforum.org/posts/LbrPTJ4fmABEdEnLf/200-concrete-open-problems-in-mechanistic-interpretability). The first goal is to figure out how the model determines whether an opening or closing bracket is more appropriate, and the second is to figure out how it knows the correct kind: `(`, `[`, `{` or `<`.\n",
    "\n",
    "I'm using the [TransformerLens library](https://github.com/neelnanda-io/TransformerLens), and a lot of this notebook is copied from Neel's [Exploratory Analysis notebook](https://neelnanda.io/exploratory-analysis-demo).\n",
    "\n",
    "This notebook lives in my [mechanistic interpretability GitHub repository](https://github.com/SamAdamDay/mechanistic-interpretability-projects), which also has some common utilities which I import below."
   ]
  },
  {
   "attachments": {},
   "cell_type": "markdown",
   "metadata": {},
   "source": [
    "# Setup"
   ]
  },
  {
   "cell_type": "code",
   "execution_count": 1,
   "metadata": {},
   "outputs": [],
   "source": [
    "# @title Config options\n",
    "\n",
    "DEVELOPMENT_MODE = False  # @param {type:\"boolean\"}\n"
   ]
  },
  {
   "cell_type": "code",
   "execution_count": 2,
   "metadata": {},
   "outputs": [
    {
     "name": "stdout",
     "output_type": "stream",
     "text": [
      "Running as a Jupyter notebook - intended for development only!\n",
      "The autoreload extension is already loaded. To reload it, use:\n",
      "  %reload_ext autoreload\n"
     ]
    },
    {
     "name": "stderr",
     "output_type": "stream",
     "text": [
      "/tmp/ipykernel_18293/3471797719.py:15: DeprecationWarning: `magic(...)` is deprecated since IPython 0.13 (warning added in 8.1), use run_line_magic(magic_name, parameter_s).\n",
      "  ipython.magic(\"load_ext autoreload\")\n",
      "/tmp/ipykernel_18293/3471797719.py:16: DeprecationWarning: `magic(...)` is deprecated since IPython 0.13 (warning added in 8.1), use run_line_magic(magic_name, parameter_s).\n",
      "  ipython.magic(\"autoreload 2\")\n"
     ]
    }
   ],
   "source": [
    "# Janky code to do different setup when run in a Colab notebook vs VSCode\n",
    "DEVELOPMENT_MODE = True\n",
    "try:\n",
    "    import google.colab\n",
    "    IN_COLAB = True\n",
    "    print(\"Running as a Colab notebook\")\n",
    "    %pip install https://github.com/SamAdamDay/mechanistic-interpretability-projects.git\n",
    "except:\n",
    "    IN_COLAB = False\n",
    "    print(\"Running as a Jupyter notebook - intended for development only!\")\n",
    "    from IPython import get_ipython\n",
    "\n",
    "    ipython = get_ipython()\n",
    "    # Code to automatically update the HookedTransformer code as its edited without restarting the kernel\n",
    "    ipython.magic(\"load_ext autoreload\")\n",
    "    ipython.magic(\"autoreload 2\")"
   ]
  },
  {
   "cell_type": "code",
   "execution_count": 3,
   "metadata": {},
   "outputs": [
    {
     "name": "stdout",
     "output_type": "stream",
     "text": [
      "Using renderer: notebook_connected\n"
     ]
    }
   ],
   "source": [
    "# Plotly needs a different renderer for VSCode/Notebooks vs Colab argh\n",
    "import plotly.io as pio\n",
    "\n",
    "if IN_COLAB or not DEVELOPMENT_MODE:\n",
    "    pio.renderers.default = \"colab\"\n",
    "else:\n",
    "    pio.renderers.default = \"notebook_connected\"\n",
    "print(f\"Using renderer: {pio.renderers.default}\")\n"
   ]
  },
  {
   "attachments": {},
   "cell_type": "markdown",
   "metadata": {},
   "source": [
    "Import things"
   ]
  },
  {
   "cell_type": "code",
   "execution_count": 105,
   "metadata": {},
   "outputs": [],
   "source": [
    "import random\n",
    "from pathlib import Path\n",
    "from typing import List, Union, Optional\n",
    "from functools import partial\n",
    "import copy\n",
    "import itertools\n",
    "import dataclasses\n",
    "from collections import OrderedDict\n",
    "\n",
    "import torch\n",
    "import torch.nn as nn\n",
    "import torch.nn.functional as F\n",
    "import torch.optim as optim\n",
    "from torch.utils.data import DataLoader\n",
    "\n",
    "import numpy as np\n",
    "\n",
    "import einops\n",
    "\n",
    "from fancy_einsum import einsum\n",
    "\n",
    "import tqdm.auto as tqdm\n",
    "\n",
    "import plotly.express as px\n",
    "\n",
    "from jaxtyping import Float, Int\n",
    "\n",
    "from transformers import AutoModelForCausalLM, AutoConfig, AutoTokenizer\n",
    "import datasets\n",
    "\n",
    "from IPython.display import HTML\n",
    "\n",
    "import circuitsvis as cv\n",
    "\n",
    "import transformer_lens\n",
    "import transformer_lens.utils as utils\n",
    "from transformer_lens.hook_points import (\n",
    "    HookedRootModule,\n",
    "    HookPoint,\n",
    ")  # Hooking utilities\n",
    "from transformer_lens import (\n",
    "    HookedTransformer,\n",
    "    HookedTransformerConfig,\n",
    "    FactoredMatrix,\n",
    "    ActivationCache,\n",
    ")\n"
   ]
  },
  {
   "attachments": {},
   "cell_type": "markdown",
   "metadata": {},
   "source": [
    "Turn automatic differentiation off"
   ]
  },
  {
   "cell_type": "code",
   "execution_count": 5,
   "metadata": {},
   "outputs": [
    {
     "data": {
      "text/plain": [
       "<torch.autograd.grad_mode.set_grad_enabled at 0x7fefe3bc2510>"
      ]
     },
     "execution_count": 5,
     "metadata": {},
     "output_type": "execute_result"
    }
   ],
   "source": [
    "torch.set_grad_enabled(False)\n"
   ]
  },
  {
   "attachments": {},
   "cell_type": "markdown",
   "metadata": {},
   "source": [
    "Torch device"
   ]
  },
  {
   "cell_type": "code",
   "execution_count": 6,
   "metadata": {},
   "outputs": [
    {
     "name": "stderr",
     "output_type": "stream",
     "text": [
      "/home/sam/.virtualenvs/mech-interp/lib/python3.11/site-packages/torch/cuda/__init__.py:88: UserWarning:\n",
      "\n",
      "CUDA initialization: CUDA unknown error - this may be due to an incorrectly set up environment, e.g. changing env variable CUDA_VISIBLE_DEVICES after program start. Setting the available devices to be zero. (Triggered internally at ../c10/cuda/CUDAFunctions.cpp:109.)\n",
      "\n"
     ]
    }
   ],
   "source": [
    "device = \"cuda\" if torch.cuda.is_available() else \"cpu\"\n"
   ]
  },
  {
   "attachments": {},
   "cell_type": "markdown",
   "metadata": {},
   "source": [
    "Plotting helpers"
   ]
  },
  {
   "cell_type": "code",
   "execution_count": 7,
   "metadata": {},
   "outputs": [],
   "source": [
    "def imshow(tensor, renderer=None, xaxis=\"\", yaxis=\"\", **kwargs):\n",
    "    px.imshow(\n",
    "        utils.to_numpy(tensor),\n",
    "        color_continuous_midpoint=0.0,\n",
    "        color_continuous_scale=\"RdBu\",\n",
    "        labels={\"x\": xaxis, \"y\": yaxis},\n",
    "        **kwargs\n",
    "    ).show(renderer)\n",
    "\n",
    "\n",
    "def line(tensor, renderer=None, xaxis=\"\", yaxis=\"\", **kwargs):\n",
    "    px.line(utils.to_numpy(tensor), labels={\"x\": xaxis, \"y\": yaxis}, **kwargs).show(\n",
    "        renderer\n",
    "    )\n",
    "\n",
    "\n",
    "def scatter(x, y, xaxis=\"\", yaxis=\"\", caxis=\"\", renderer=None, **kwargs):\n",
    "    x = utils.to_numpy(x)\n",
    "    y = utils.to_numpy(y)\n",
    "    px.scatter(\n",
    "        y=y, x=x, labels={\"x\": xaxis, \"y\": yaxis, \"color\": caxis}, **kwargs\n",
    "    ).show(renderer)\n"
   ]
  },
  {
   "attachments": {},
   "cell_type": "markdown",
   "metadata": {},
   "source": [
    "# Task specification\n",
    "\n",
    "The basic task is as follows.\n",
    "\n",
    "**Task.** Given a string $s$ containing some brackets, determine: (1) if an opening or closing bracket is more appropriate and (2) which type of bracket is most appropriate.\n",
    "\n",
    "We'll be using the GPT-Neo 125M model."
   ]
  },
  {
   "cell_type": "code",
   "execution_count": 8,
   "metadata": {},
   "outputs": [
    {
     "name": "stderr",
     "output_type": "stream",
     "text": [
      "Using pad_token, but it is not set yet.\n"
     ]
    },
    {
     "name": "stdout",
     "output_type": "stream",
     "text": [
      "Loaded pretrained model gpt-neo-125M into HookedTransformer\n"
     ]
    }
   ],
   "source": [
    "model = HookedTransformer.from_pretrained(\n",
    "    \"gpt-neo-125M\",\n",
    "    center_unembed=True,\n",
    "    center_writing_weights=True,\n",
    "    fold_ln=True,\n",
    "    refactor_factored_attn_matrices=True,\n",
    ")\n"
   ]
  },
  {
   "attachments": {},
   "cell_type": "markdown",
   "metadata": {},
   "source": [
    "We'll look at the brackets `([{<)]}>`. We want to match all tokens which either begin with a bracket, or a space followed by the bracket. We want to match for example the token ').' for the bracket `)`."
   ]
  },
  {
   "cell_type": "code",
   "execution_count": 133,
   "metadata": {},
   "outputs": [
    {
     "name": "stdout",
     "output_type": "stream",
     "text": [
      "brackets: (('(', '[', '{', '<'), (')', ']', '}', '>'))\n",
      "bracket_pairs: (('(', ')'), ('[', ']'), ('{', '}'), ('<', '>'))\n",
      "brackets_flat: ('(', '[', '{', '<', ')', ']', '}', '>')\n",
      "( tokens: ['(', ' (', '()', ' (@', ' (\"', ' ($', '(\"', ' ()', '();', \"('\", ' (+', ' (%)', ' (-', ' ();', ' ((', '({', '($', ' (#', \" ('\", '((', ' (.', ' (*', '().', ' (!', '(),', ' (£', '([', ' ().', '(_', '())', ' ([', ' (),', ' (~', '(-', ' (?,', ' ())', '():', '());', ' (&', ' (−', ' (%', ' ({', '(\\\\', ' (<', ' ());', '(&', '(){', ' (_', ' (>', ' ($)', ' (=', '(*', ' (/']\n",
      "[ tokens: ['[', ' [', '[/', ' [\"', '[\"', ' [[', ' []', \"['\", '[]', ' […]', ' [];', ' [-', ' [+', ' [...]', '[_', '[[', ' [*', ' [*]', \" ['\", ' [/', ' [+]', ' [(', ' [|', ' [&']\n",
      "{ tokens: ['{', ' {', '{\"', ' {\"', ' {{', ' {}', '{{', '{\\\\', ' {\\\\', ' {:', ' {*']\n",
      "< tokens: ['<', ' <', '</', ' </', ' <<', '<<', ' <=', ' <-', ' <[', ' <@', ' <!--', ' <+', '<?']\n",
      ") tokens: [')', ').', '),', ' )', ');', '):', '))', ' );', ')(', ' ).', ' ),', ')-', ')|', ' ):', ' ))', ')]', ')\"', '));', ')\\\\', ')?', '){', ')/', ').\"', ')))', ')].', ')...', '),\"', ')*', ')—', ' ));', ')).', ')!', \")'\", '))))', ')=(', ')</', ')),', ')}', ')[', ')\",', ').[', ')--', ' )))', ')=', ')+', ' )]']\n",
      "] tokens: [']', ' ]', '].', '],', ']:', '][', '];', ']]', '])', '](', ' ],', '],\"', ' ].', ']=', ' ];', '].\"', ']\"', ' ])', ']).', ']);', '],[', ' ][', '][/', ']-', ']),', ']+', ']}', \"]'\"]\n",
      "} tokens: ['}', ' }', '},', '},{\"', ' },', '},\"', '}}', ' });', ' };', '}{', '};', '});', '}.', '})', ' })', '}\\\\', ' }}', '}\"', '}:', '}}}']\n",
      "> tokens: ['>', ' >', '>>', '><', ' >>', '></', ' >>>', '>>>>', ' >=', '>,', '>\"', '>.', ' ><', '>:', '>>>', '>>>>>>>>', '>(', '>>\\\\', '>[', '>]', '>)']\n",
      "bracket_tokens_flat: torch.Size([216])\n",
      "open_bracket_tokens: torch.Size([101])\n",
      "closed_bracket_tokens: torch.Size([115])\n",
      "bracket_tokens_sizes: [53, 24, 11, 13, 46, 28, 20, 21]\n"
     ]
    }
   ],
   "source": [
    "brackets = (tuple(\"([{<\"), tuple(\")]}>\"))\n",
    "bracket_pairs = tuple(zip(*brackets))\n",
    "brackets_flat = brackets[0] + brackets[1]\n",
    "num_brackets = len(brackets_flat)\n",
    "\n",
    "# Get all (non-endoftext tokens) tokens which either start with a bracket or a\n",
    "# space followed by a bracket\n",
    "bracket_tokens = OrderedDict([(bracket, []) for bracket in brackets_flat])\n",
    "bracket_token_strs = OrderedDict([(bracket, []) for bracket in brackets_flat])\n",
    "all_tokens = model.to_str_tokens(np.arange(model.cfg.d_vocab - 1), prepend_bos=False)\n",
    "for i, token_str in enumerate(all_tokens):\n",
    "    for bracket in brackets_flat:\n",
    "        if token_str.startswith(bracket) or token_str.startswith(\" \" + bracket):\n",
    "            bracket_tokens[bracket].append(i)\n",
    "            bracket_token_strs[bracket].append(token_str)\n",
    "for bracket, tokens in bracket_tokens.items():\n",
    "    bracket_tokens[bracket] = torch.tensor(tokens)\n",
    "\n",
    "# Flatten the dict of tokens, and record the sizes of each list\n",
    "bracket_tokens_flat = torch.cat(list(bracket_tokens.values()))\n",
    "bracket_tokens_sizes = [tokens.shape[0] for tokens in bracket_tokens.values()]\n",
    "\n",
    "# Select the open and closed bracket tokens\n",
    "num_open_bracket_tokens = sum(bracket_tokens_sizes[:num_brackets // 2])\n",
    "open_bracket_tokens = bracket_tokens_flat[:num_open_bracket_tokens]\n",
    "closed_bracket_tokens = bracket_tokens_flat[num_open_bracket_tokens:]\n",
    "\n",
    "print(\"brackets:\", brackets)\n",
    "print(\"bracket_pairs:\", bracket_pairs)\n",
    "print(\"brackets_flat:\", brackets_flat)\n",
    "for bracket, token_strs in bracket_token_strs.items():\n",
    "    print(f\"{bracket} tokens:\", token_strs)\n",
    "print(\"bracket_tokens_flat:\", bracket_tokens_flat.shape)\n",
    "print(\"open_bracket_tokens:\", open_bracket_tokens.shape)\n",
    "print(\"closed_bracket_tokens:\", closed_bracket_tokens.shape)\n",
    "print(\"bracket_tokens_sizes:\", bracket_tokens_sizes)\n"
   ]
  },
  {
   "attachments": {},
   "cell_type": "markdown",
   "metadata": {},
   "source": [
    "# Exploring model capability\n",
    "\n",
    "How good is GPT-Neo at closing brackets? In this section I explore its capabilities and try to break it. "
   ]
  },
  {
   "attachments": {},
   "cell_type": "markdown",
   "metadata": {},
   "source": [
    "I will explore the following variations on the string $s$.\n",
    "- Whether the brackets are balanced or not.\n",
    "- The type of brackets used.\n",
    "- Whether we mix different types.\n",
    "- The complexity of the bracket structure. This can be thought of as a tree, and we can consider varying both its depth and breadth.\n",
    "- The complexity of the rest of the string.\n",
    "- Whether $s$ looks like real code. I'll look at the following ways this could fail.\n",
    "    * It's actually natural language.\n",
    "    * It's like a programming language but has syntax errors.\n",
    "    * It's valid syntax but the symbol names are gibberish/unnatural.\n",
    "    * It consists only of brackets."
   ]
  },
  {
   "attachments": {},
   "cell_type": "markdown",
   "metadata": {},
   "source": [
    "## Exploratory prompts\n",
    "\n",
    "I will test the following prompts, to see what the model does."
   ]
  },
  {
   "cell_type": "code",
   "execution_count": 25,
   "metadata": {},
   "outputs": [
    {
     "name": "stdout",
     "output_type": "stream",
     "text": [
      "num_exploratory_prompts: 72\n"
     ]
    }
   ],
   "source": [
    "exploratory_prompts = [\n",
    "    \"def line(tensor, renderer=None\",\n",
    "    \"def line(tensor, renderer=None)\",\n",
    "    \"exploratory_prompts = ['test'\",\n",
    "    \"exploratory_prompts = ['test']\",\n",
    "    \"array[0\",\n",
    "    \"array[0]\",\n",
    "    \"exploratory_dict = {'test': 'four'\",\n",
    "    \"exploratory_dict = {'test': 'four'}\",\n",
    "    \"<template\",\n",
    "    \"<template>\",\n",
    "    \"def sieve(num, prime_list = [2, 3]\",\n",
    "    \"def sieve(num, prime_list = [2, 3])\",\n",
    "    \"exploratory_dict = {'test': [3, 5]\",\n",
    "    \"exploratory_dict = {'test': [3, 5]}\",\n",
    "    \"exploratory_dict = {'test': get_test()\",\n",
    "    \"exploratory_dict = {'test': get_test()}\",\n",
    "    \"html_to_markdown('<s>'\",\n",
    "    \"html_to_markdown('<s>')\",\n",
    "    \"<table id='name()'\",\n",
    "    \"<table id='name()'>\",\n",
    "    \"load_model(build_structure()\",\n",
    "    \"load_model(build_structure())\",\n",
    "    \"load_model(build_structure(), get_hyperparameters()\",\n",
    "    \"load_model(build_structure(), get_hyperparameters())\",\n",
    "    \"load_model(build_structure(), get_hyperparameters(), (True, False)\",\n",
    "    \"load_model(build_structure(), get_hyperparameters(), (True, False))\",\n",
    "    \"load_model(build_structure(), get_hyperparameters(True), (True, False), get_extra_config(x)\",\n",
    "    \"load_model(build_structure(), get_hyperparameters(True), (True, False), get_extra_config(x))\",\n",
    "    \"x.detach().cpu().to_numpy(\",\n",
    "    \"x.detach().cpu().to_numpy()\",\n",
    "    \"enumerate(list(zip([1,3,65], [1, 2, 3])\",\n",
    "    \"enumerate(list(zip([1,3,65], [1, 2, 3]\",\n",
    "    \"enumerate(list(zip([1,3,65], [1, 2, 3\",\n",
    "    \"enumerate(list(zip([1,3,65], [1, 2, 3]))\",\n",
    "    \"enumerate(list(zip([1,3,65], [1, 2, 3], [4, 3], [1], list(np.zeros(4))\",\n",
    "    \"enumerate(list(zip([1,3,65], [1, 2, 3], [4, 3], [1], list(np.zeros(4)))\",\n",
    "    \"zip(enumerate(list(zip([1,3,65], [1, 2, 3], [4, 3], [1], list(np.zeros(4)))), [3, 4]\",\n",
    "    \"zip(enumerate(list(zip([1,3,65], [1, 2, 3], [4, 3], [1], list(np.zeros(4)))), [3, 4])\",\n",
    "    \"zip(enumerate(list(zip([1,3,65], list(np.zeros(4)))), [3, 4], {1: 2}.items()\",\n",
    "    \"zip(enumerate(list(zip([1,3,65], list(np.zeros(4)))), [3, 4], {1: 2}.items())\",\n",
    "    \"list())))).append(x\",\n",
    "    \"list())))).append(x)\",\n",
    "    \"px.imshow(to_numpy(tensor), ccm=0.0, ccs='RdBu', labels={'x':xaxis, 'y':yaxis}, **kwargs\",\n",
    "    \"px.imshow(to_numpy(tensor), ccm=0.0, ccs='RdBu', labels={'x':xaxis, 'y':yaxis}, **kwargs)\",\n",
    "    \"In the course our our analysis (which was long\",\n",
    "    \"In the course our our analysis (which was long)\",\n",
    "    \"He was eating a apple [sic\",\n",
    "    \"He was eating a apple [sic]\",\n",
    "    \"In the course our our analysis (which was long (though not too long\",\n",
    "    \"In the course our our analysis (which was long (though not too long))\",\n",
    "    \"def sieve(,num prime_list = 2[, 3]\",\n",
    "    \"def sieve(,num prime_list = 2[, 3])\",\n",
    "    \"defn line(tensor, renderer===None\",\n",
    "    \"defn line(tensor, renderer===None)\",\n",
    "    \"exploratory_dict = {'test': [3,} 5]\",\n",
    "    \"exploratory_dict = {'test': [3,} 5\",\n",
    "    \"exploratory_prompts = ['test'(]\",\n",
    "    \"exploratory_prompts = ['test'(])\",\n",
    "    \"def safasfd(oubefwef, vcewfec=afuasvfs\",\n",
    "    \"def safasfd(oubefwef, vcewfec=afuasvfs)\",\n",
    "    \"asdjhvauyrfsac = ['asdasdasd'\",\n",
    "    \"asdjhvauyrfsac = ['asdasdasd']\",\n",
    "    \"dfc = {'sdasd': 'casdasd'\",\n",
    "    \"dfc = {'sdasd': 'casdasd'}\",\n",
    "    \"<bwevzcxc\",\n",
    "    \"<bwevzcxc>\",\n",
    "    \"([]\",\n",
    "    \"([])\",\n",
    "    \"([({},[{()}])])\",\n",
    "    \"([({},[{()}])]\",\n",
    "    \"([({},[{()}])\",\n",
    "    \"([({},[{()}]\",\n",
    "]\n",
    "num_exploratory_prompts = len(exploratory_prompts)\n",
    "print(\"num_exploratory_prompts:\", num_exploratory_prompts)"
   ]
  },
  {
   "attachments": {},
   "cell_type": "markdown",
   "metadata": {},
   "source": [
    "Let's convert the prompts to padded tokens, keeping track of each unpadded length, so we can find the next predicted token for each one."
   ]
  },
  {
   "cell_type": "code",
   "execution_count": 30,
   "metadata": {},
   "outputs": [
    {
     "name": "stdout",
     "output_type": "stream",
     "text": [
      "exp_prompt_tokens: torch.Size([72, 47])\n"
     ]
    }
   ],
   "source": [
    "# Compute the token length of each prompt, so we know where the next-token\n",
    "# prediction will be\n",
    "exp_prompt_token_lengths = []\n",
    "for prompt in exploratory_prompts:\n",
    "    prompt_tokens = model.to_tokens(prompt)\n",
    "    exp_prompt_token_lengths.append(prompt_tokens.shape[1])\n",
    "\n",
    "# Convert all the prompts to tokens, padding to make them the same length\n",
    "exp_prompt_tokens = model.to_tokens(exploratory_prompts)\n",
    "exp_prompt_tokens.to(device)\n",
    "\n",
    "print(\"exp_prompt_tokens:\", exp_prompt_tokens.shape)\n"
   ]
  },
  {
   "attachments": {},
   "cell_type": "markdown",
   "metadata": {},
   "source": [
    "## Investigating performance\n",
    "\n",
    "The following function computes runs the model, looks at the predictions for the next tokens for each prompt, and computes the probability that it each possible bracket (including spaces), conditioned on that it actually is a bracket."
   ]
  },
  {
   "cell_type": "code",
   "execution_count": 111,
   "metadata": {},
   "outputs": [],
   "source": [
    "def compute_bracket_scores(\n",
    "    prompt_tokens: Float[torch.Tensor, \"batch pos\"],\n",
    "    prompt_token_lengths: Optional[list[int]] = None,\n",
    ") -> Float[torch.Tensor, \"batch n_brackets\"]:\n",
    "    \"\"\"Computes the conditional prob that the next token is each bracket\n",
    "\n",
    "    Conditioned on the next token actually being a bracket\n",
    "    \"\"\"\n",
    "\n",
    "    num_prompts = prompt_tokens.shape[0]\n",
    "\n",
    "    all_logits = model(prompt_tokens, return_type=\"logits\")  # batch pos d_vocab\n",
    "\n",
    "    d_vocab = all_logits.shape[2]\n",
    "\n",
    "    # Select the last token from each\n",
    "    if prompt_token_lengths is None:\n",
    "        logits = all_logits[:, prompt_tokens.shape[1] - 1, :]  # batch d_vocab\n",
    "    else:\n",
    "        indices = torch.tensor(prompt_token_lengths, device=device) - 1  # batch\n",
    "        indices = indices.reshape((num_prompts, 1, 1))  # batch 1 1\n",
    "        indices = indices.repeat((1, 1, d_vocab))  # batch 1 d_vocab\n",
    "        logits = torch.gather(all_logits, 1, indices).squeeze()  # batch d_vocab\n",
    "\n",
    "    probs = F.softmax(logits, dim=1)  # batch d_vocab\n",
    "\n",
    "    # Compute the probability for each bracket and spaced bracket, conditioned\n",
    "    # on the fact that it is a bracket\n",
    "    cond_probs = probs[:, bracket_tokens_flat]  # batch (2 n_bracket_tokens)\n",
    "    cond_probs = F.normalize(cond_probs, p=1.0, dim=1)\n",
    "\n",
    "    # Combine the conditional probabilities for each bracket\n",
    "    cond_probs_combined = torch.zeros((num_prompts, num_brackets))\n",
    "    index = 0\n",
    "    for i, size in enumerate(bracket_tokens_sizes):\n",
    "        cond_probs_combined[:, i] = cond_probs[:, index : index + size].sum(dim=1)\n",
    "        index += size\n",
    "\n",
    "    return cond_probs_combined\n",
    "\n",
    "\n",
    "bracket_scores = compute_bracket_scores(exp_prompt_tokens, exp_prompt_token_lengths)\n"
   ]
  },
  {
   "attachments": {},
   "cell_type": "markdown",
   "metadata": {},
   "source": [
    "Let's display these in a nice chart. I break it up into two since there are a lot of prompts."
   ]
  },
  {
   "cell_type": "code",
   "execution_count": 59,
   "metadata": {},
   "outputs": [],
   "source": [
    "def display_bracket_scores(\n",
    "    prompts: list[str],\n",
    "    bracket_scores: Float[torch.Tensor, \"batch n_brackets\"],\n",
    "    height_scale: int = 30,\n",
    "):\n",
    "    \"\"\"Display the bracket scores nicely\"\"\"\n",
    "    num_prompts = len(prompts)\n",
    "    fig = px.imshow(\n",
    "        utils.to_numpy(bracket_scores),\n",
    "        color_continuous_scale=\"blues\",\n",
    "        labels=dict(x=\"Bracket\", color=\"Conditional Probability\"),\n",
    "        x=brackets_flat,\n",
    "        y=prompts,\n",
    "        height=height_scale * num_prompts,\n",
    "    )\n",
    "    for ix, bracket in enumerate(brackets_flat):\n",
    "        for iy in range(num_prompts):\n",
    "            fig.add_annotation(\n",
    "                x=ix,\n",
    "                y=iy,\n",
    "                text=bracket,\n",
    "                showarrow=False,\n",
    "                font_color=\"orange\",\n",
    "            )\n",
    "    fig.show()\n"
   ]
  },
  {
   "cell_type": "code",
   "execution_count": 112,
   "metadata": {},
   "outputs": [
    {
     "data": {
      "text/html": [
       "<div>                            <div id=\"75586fb9-3c1c-4179-a10d-be7e72e8d9ee\" class=\"plotly-graph-div\" style=\"height:1080px; width:100%;\"></div>            <script type=\"text/javascript\">                require([\"plotly\"], function(Plotly) {                    window.PLOTLYENV=window.PLOTLYENV || {};                                    if (document.getElementById(\"75586fb9-3c1c-4179-a10d-be7e72e8d9ee\")) {                    Plotly.newPlot(                        \"75586fb9-3c1c-4179-a10d-be7e72e8d9ee\",                        [{\"coloraxis\":\"coloraxis\",\"name\":\"0\",\"x\":[\"(\",\"[\",\"{\",\"<\",\")\",\"]\",\"}\",\">\"],\"y\":[\"def line(tensor, renderer=None\",\"def line(tensor, renderer=None)\",\"exploratory_prompts = ['test'\",\"exploratory_prompts = ['test']\",\"array[0\",\"array[0]\",\"exploratory_dict = {'test': 'four'\",\"exploratory_dict = {'test': 'four'}\",\"<template\",\"<template>\",\"def sieve(num, prime_list = [2, 3]\",\"def sieve(num, prime_list = [2, 3])\",\"exploratory_dict = {'test': [3, 5]\",\"exploratory_dict = {'test': [3, 5]}\",\"exploratory_dict = {'test': get_test()\",\"exploratory_dict = {'test': get_test()}\",\"html_to_markdown('<s>'\",\"html_to_markdown('<s>')\",\"<table id='name()'\",\"<table id='name()'>\",\"load_model(build_structure()\",\"load_model(build_structure())\",\"load_model(build_structure(), get_hyperparameters()\",\"load_model(build_structure(), get_hyperparameters())\",\"load_model(build_structure(), get_hyperparameters(), (True, False)\",\"load_model(build_structure(), get_hyperparameters(), (True, False))\",\"load_model(build_structure(), get_hyperparameters(True), (True, False), get_extra_config(x)\",\"load_model(build_structure(), get_hyperparameters(True), (True, False), get_extra_config(x))\",\"x.detach().cpu().to_numpy(\",\"x.detach().cpu().to_numpy()\",\"enumerate(list(zip([1,3,65], [1, 2, 3])\",\"enumerate(list(zip([1,3,65], [1, 2, 3]\",\"enumerate(list(zip([1,3,65], [1, 2, 3\",\"enumerate(list(zip([1,3,65], [1, 2, 3]))\",\"enumerate(list(zip([1,3,65], [1, 2, 3], [4, 3], [1], list(np.zeros(4))\",\"enumerate(list(zip([1,3,65], [1, 2, 3], [4, 3], [1], list(np.zeros(4)))\"],\"z\":[[1.609617356734816e-05,3.3054224331863225e-05,1.992840594766676e-07,2.785497201784892e-07,0.9999461770057678,1.3260228115541395e-06,2.568428271843004e-06,7.152826242418087e-07],[0.3173849582672119,0.34839096665382385,0.22829656302928925,0.008658126927912235,0.08334029465913773,0.0021563128102570772,5.715771476388909e-05,0.01171552762389183],[5.701024201698601e-05,8.528495527571067e-05,1.4170408348945784e-06,0.00010017160093411803,3.256875788792968e-05,0.9981484413146973,0.0013124402612447739,0.00026260322192683816],[0.06506045162677765,0.06276267766952515,0.0041067167185246944,0.01613546721637249,0.47414323687553406,0.25735458731651306,0.10328751057386398,0.01714983582496643],[7.933303277241066e-05,0.00012013951345579699,1.8481894585420378e-05,0.00019387408974580467,0.00020359770860522985,0.9987819790840149,0.0004479825438465923,0.0001547060237498954],[0.04054002836346626,0.0996202751994133,0.09309915453195572,0.1915598064661026,0.229003444314003,0.2099682241678238,0.032061509788036346,0.10414756834506989],[7.024689693935215e-05,9.727911674417555e-05,9.942711585608777e-06,4.211832128930837e-05,4.4795464759772585e-07,7.518713391618803e-05,0.9996981620788574,6.701509391859872e-06],[0.03930394724011421,0.5143156051635742,0.026576373726129532,0.010578923858702183,0.21011267602443695,0.1617252230644226,0.031852636486291885,0.005534815602004528],[6.201586074894294e-05,3.1350384233519435e-05,4.58669592262595e-06,3.2986961741698906e-05,1.0613031236061943e-06,2.1040624176293932e-07,2.2042199177008115e-08,0.999867856502533],[0.003987165633589029,0.0003280879172962159,0.32636889815330505,0.663361132144928,0.0021191260311752558,0.00011482479749247432,0.0021040833089500666,0.0016169665614143014],[0.0003370226768311113,0.00044635715312324464,5.43029818800278e-05,1.3440484281090903e-06,0.9991406798362732,9.687974852568004e-06,9.131572937803867e-07,9.590323315933347e-06],[0.03845832869410515,0.2305075079202652,0.6141166687011719,0.0030709197744727135,0.10273788869380951,0.004210366867482662,0.00012686557602137327,0.006771921180188656],[0.00017551102791912854,0.000326345965731889,0.00013521083747036755,7.793560507707298e-05,4.511602583079366e-06,0.00018504710169509053,0.9990638494491577,3.189227936672978e-05],[0.022005023434758186,0.09190785884857178,0.005961531773209572,0.02382291853427887,0.20523318648338318,0.35139229893684387,0.29584819078445435,0.0038288270588964224],[0.0006291572353802621,0.007054484449326992,5.253767085378058e-05,0.0001529658038634807,6.04801016379497e-06,8.591034566052258e-05,0.9920012354850769,1.763384534569923e-05],[0.046468764543533325,0.386040061712265,0.018732581287622452,0.006070784758776426,0.3840903043746948,0.1094626635313034,0.04558943212032318,0.003545647719874978],[0.00863292533904314,0.026185426861047745,0.05960044637322426,0.02563023567199707,0.8597300052642822,0.009833105839788914,0.0050544473342597485,0.005333516281098127],[0.00745142949745059,0.22554203867912292,0.4050668478012085,0.07125060260295868,0.23563911020755768,0.02786274626851082,0.0151916379109025,0.011995525099337101],[0.0003436957485973835,0.0017240454908460379,0.0004237227258272469,0.004584697540849447,0.00022299525153357536,0.000546713883522898,0.00011198189167771488,0.9920421838760376],[0.0020694041159003973,0.004159319680184126,0.05741678550839424,0.9188671112060547,0.005957946181297302,0.0008211928652599454,0.010118766687810421,0.0005898329545743763],[0.011611465364694595,0.04259537160396576,0.0920693427324295,0.08050640672445297,0.7701142430305481,2.899942046497017e-05,3.718504012795165e-05,0.003037415212020278],[0.0008271806873381138,0.010552724823355675,0.9398097991943359,0.023127006366848946,0.012579532340168953,0.002497964771464467,0.0032037030905485153,0.007402563001960516],[0.00959315150976181,0.20443037152290344,0.007975746877491474,0.007019079755991697,0.7678603529930115,2.105999374180101e-05,9.49143577599898e-05,0.0030053460504859686],[0.002306845737621188,0.0952053964138031,0.6377246975898743,0.035850707441568375,0.12021268159151077,0.03836676850914955,0.04752829298377037,0.02280428633093834],[0.1416509598493576,0.08432875573635101,0.2721467614173889,0.023991448804736137,0.4356921315193176,0.0022873838897794485,0.0022391004022210836,0.03766360878944397],[0.06479150801897049,0.04926690831780434,0.16305406391620636,0.026185180991888046,0.6122965812683105,0.027922168374061584,0.012721704319119453,0.04376155510544777],[0.02259320765733719,0.06590501219034195,0.07726345211267471,0.014713450334966183,0.7394962310791016,0.010649065487086773,0.024793215095996857,0.044586002826690674],[0.01581173576414585,0.06648525595664978,0.19624970853328705,0.03211677446961403,0.5858823657035828,0.052803441882133484,0.00741581991314888,0.04323483631014824],[0.06164143979549408,0.7988715171813965,0.05018547177314758,0.014927104115486145,0.0549805574119091,0.0037797843106091022,0.00688927061855793,0.008724731393158436],[0.04242953658103943,0.22278039157390594,0.0026780515909194946,0.02065380848944187,0.6336902976036072,0.025079194456338882,0.0239628404378891,0.028725886717438698],[0.00025303184520453215,0.013660309836268425,0.0006482136668637395,0.0002263985079480335,0.9685782194137573,0.016530495136976242,2.914366814366076e-05,7.431350968545303e-05],[6.615332677029073e-05,6.781219417462125e-05,1.5903136954875663e-05,1.122779940487817e-05,0.9994860291481018,0.00034838810097426176,1.1610555930019473e-06,3.5140078580297995e-06],[2.929209040303249e-05,0.0001359581801807508,2.0037684862472815e-06,3.505746917653596e-06,0.00029827607795596123,0.9992111325263977,9.633033187128603e-05,0.00022338244889397174],[0.0015211787540465593,0.031201614066958427,0.0010750481160357594,0.0004477985785342753,0.9641165733337402,0.0011762977810576558,8.912254270398989e-05,0.0003722446854226291],[0.00027245012461207807,0.022021664306521416,2.7592808692133985e-05,0.00024337841023225337,0.965874433517456,0.011371328495442867,4.840717156184837e-05,0.00014080012624617666],[0.00019971512665506452,0.015324669890105724,1.8489130525267683e-05,0.00027502820012159646,0.9801182746887207,0.0035331544931977987,0.0002563177840784192,0.00027446672902442515]],\"type\":\"heatmap\",\"xaxis\":\"x\",\"yaxis\":\"y\",\"hovertemplate\":\"Bracket: %{x}<br>y: %{y}<br>Conditional Probability: %{z}<extra></extra>\"}],                        {\"template\":{\"data\":{\"histogram2dcontour\":[{\"type\":\"histogram2dcontour\",\"colorbar\":{\"outlinewidth\":0,\"ticks\":\"\"},\"colorscale\":[[0.0,\"#0d0887\"],[0.1111111111111111,\"#46039f\"],[0.2222222222222222,\"#7201a8\"],[0.3333333333333333,\"#9c179e\"],[0.4444444444444444,\"#bd3786\"],[0.5555555555555556,\"#d8576b\"],[0.6666666666666666,\"#ed7953\"],[0.7777777777777778,\"#fb9f3a\"],[0.8888888888888888,\"#fdca26\"],[1.0,\"#f0f921\"]]}],\"choropleth\":[{\"type\":\"choropleth\",\"colorbar\":{\"outlinewidth\":0,\"ticks\":\"\"}}],\"histogram2d\":[{\"type\":\"histogram2d\",\"colorbar\":{\"outlinewidth\":0,\"ticks\":\"\"},\"colorscale\":[[0.0,\"#0d0887\"],[0.1111111111111111,\"#46039f\"],[0.2222222222222222,\"#7201a8\"],[0.3333333333333333,\"#9c179e\"],[0.4444444444444444,\"#bd3786\"],[0.5555555555555556,\"#d8576b\"],[0.6666666666666666,\"#ed7953\"],[0.7777777777777778,\"#fb9f3a\"],[0.8888888888888888,\"#fdca26\"],[1.0,\"#f0f921\"]]}],\"heatmap\":[{\"type\":\"heatmap\",\"colorbar\":{\"outlinewidth\":0,\"ticks\":\"\"},\"colorscale\":[[0.0,\"#0d0887\"],[0.1111111111111111,\"#46039f\"],[0.2222222222222222,\"#7201a8\"],[0.3333333333333333,\"#9c179e\"],[0.4444444444444444,\"#bd3786\"],[0.5555555555555556,\"#d8576b\"],[0.6666666666666666,\"#ed7953\"],[0.7777777777777778,\"#fb9f3a\"],[0.8888888888888888,\"#fdca26\"],[1.0,\"#f0f921\"]]}],\"heatmapgl\":[{\"type\":\"heatmapgl\",\"colorbar\":{\"outlinewidth\":0,\"ticks\":\"\"},\"colorscale\":[[0.0,\"#0d0887\"],[0.1111111111111111,\"#46039f\"],[0.2222222222222222,\"#7201a8\"],[0.3333333333333333,\"#9c179e\"],[0.4444444444444444,\"#bd3786\"],[0.5555555555555556,\"#d8576b\"],[0.6666666666666666,\"#ed7953\"],[0.7777777777777778,\"#fb9f3a\"],[0.8888888888888888,\"#fdca26\"],[1.0,\"#f0f921\"]]}],\"contourcarpet\":[{\"type\":\"contourcarpet\",\"colorbar\":{\"outlinewidth\":0,\"ticks\":\"\"}}],\"contour\":[{\"type\":\"contour\",\"colorbar\":{\"outlinewidth\":0,\"ticks\":\"\"},\"colorscale\":[[0.0,\"#0d0887\"],[0.1111111111111111,\"#46039f\"],[0.2222222222222222,\"#7201a8\"],[0.3333333333333333,\"#9c179e\"],[0.4444444444444444,\"#bd3786\"],[0.5555555555555556,\"#d8576b\"],[0.6666666666666666,\"#ed7953\"],[0.7777777777777778,\"#fb9f3a\"],[0.8888888888888888,\"#fdca26\"],[1.0,\"#f0f921\"]]}],\"surface\":[{\"type\":\"surface\",\"colorbar\":{\"outlinewidth\":0,\"ticks\":\"\"},\"colorscale\":[[0.0,\"#0d0887\"],[0.1111111111111111,\"#46039f\"],[0.2222222222222222,\"#7201a8\"],[0.3333333333333333,\"#9c179e\"],[0.4444444444444444,\"#bd3786\"],[0.5555555555555556,\"#d8576b\"],[0.6666666666666666,\"#ed7953\"],[0.7777777777777778,\"#fb9f3a\"],[0.8888888888888888,\"#fdca26\"],[1.0,\"#f0f921\"]]}],\"mesh3d\":[{\"type\":\"mesh3d\",\"colorbar\":{\"outlinewidth\":0,\"ticks\":\"\"}}],\"scatter\":[{\"fillpattern\":{\"fillmode\":\"overlay\",\"size\":10,\"solidity\":0.2},\"type\":\"scatter\"}],\"parcoords\":[{\"type\":\"parcoords\",\"line\":{\"colorbar\":{\"outlinewidth\":0,\"ticks\":\"\"}}}],\"scatterpolargl\":[{\"type\":\"scatterpolargl\",\"marker\":{\"colorbar\":{\"outlinewidth\":0,\"ticks\":\"\"}}}],\"bar\":[{\"error_x\":{\"color\":\"#2a3f5f\"},\"error_y\":{\"color\":\"#2a3f5f\"},\"marker\":{\"line\":{\"color\":\"#E5ECF6\",\"width\":0.5},\"pattern\":{\"fillmode\":\"overlay\",\"size\":10,\"solidity\":0.2}},\"type\":\"bar\"}],\"scattergeo\":[{\"type\":\"scattergeo\",\"marker\":{\"colorbar\":{\"outlinewidth\":0,\"ticks\":\"\"}}}],\"scatterpolar\":[{\"type\":\"scatterpolar\",\"marker\":{\"colorbar\":{\"outlinewidth\":0,\"ticks\":\"\"}}}],\"histogram\":[{\"marker\":{\"pattern\":{\"fillmode\":\"overlay\",\"size\":10,\"solidity\":0.2}},\"type\":\"histogram\"}],\"scattergl\":[{\"type\":\"scattergl\",\"marker\":{\"colorbar\":{\"outlinewidth\":0,\"ticks\":\"\"}}}],\"scatter3d\":[{\"type\":\"scatter3d\",\"line\":{\"colorbar\":{\"outlinewidth\":0,\"ticks\":\"\"}},\"marker\":{\"colorbar\":{\"outlinewidth\":0,\"ticks\":\"\"}}}],\"scattermapbox\":[{\"type\":\"scattermapbox\",\"marker\":{\"colorbar\":{\"outlinewidth\":0,\"ticks\":\"\"}}}],\"scatterternary\":[{\"type\":\"scatterternary\",\"marker\":{\"colorbar\":{\"outlinewidth\":0,\"ticks\":\"\"}}}],\"scattercarpet\":[{\"type\":\"scattercarpet\",\"marker\":{\"colorbar\":{\"outlinewidth\":0,\"ticks\":\"\"}}}],\"carpet\":[{\"aaxis\":{\"endlinecolor\":\"#2a3f5f\",\"gridcolor\":\"white\",\"linecolor\":\"white\",\"minorgridcolor\":\"white\",\"startlinecolor\":\"#2a3f5f\"},\"baxis\":{\"endlinecolor\":\"#2a3f5f\",\"gridcolor\":\"white\",\"linecolor\":\"white\",\"minorgridcolor\":\"white\",\"startlinecolor\":\"#2a3f5f\"},\"type\":\"carpet\"}],\"table\":[{\"cells\":{\"fill\":{\"color\":\"#EBF0F8\"},\"line\":{\"color\":\"white\"}},\"header\":{\"fill\":{\"color\":\"#C8D4E3\"},\"line\":{\"color\":\"white\"}},\"type\":\"table\"}],\"barpolar\":[{\"marker\":{\"line\":{\"color\":\"#E5ECF6\",\"width\":0.5},\"pattern\":{\"fillmode\":\"overlay\",\"size\":10,\"solidity\":0.2}},\"type\":\"barpolar\"}],\"pie\":[{\"automargin\":true,\"type\":\"pie\"}]},\"layout\":{\"autotypenumbers\":\"strict\",\"colorway\":[\"#636efa\",\"#EF553B\",\"#00cc96\",\"#ab63fa\",\"#FFA15A\",\"#19d3f3\",\"#FF6692\",\"#B6E880\",\"#FF97FF\",\"#FECB52\"],\"font\":{\"color\":\"#2a3f5f\"},\"hovermode\":\"closest\",\"hoverlabel\":{\"align\":\"left\"},\"paper_bgcolor\":\"white\",\"plot_bgcolor\":\"#E5ECF6\",\"polar\":{\"bgcolor\":\"#E5ECF6\",\"angularaxis\":{\"gridcolor\":\"white\",\"linecolor\":\"white\",\"ticks\":\"\"},\"radialaxis\":{\"gridcolor\":\"white\",\"linecolor\":\"white\",\"ticks\":\"\"}},\"ternary\":{\"bgcolor\":\"#E5ECF6\",\"aaxis\":{\"gridcolor\":\"white\",\"linecolor\":\"white\",\"ticks\":\"\"},\"baxis\":{\"gridcolor\":\"white\",\"linecolor\":\"white\",\"ticks\":\"\"},\"caxis\":{\"gridcolor\":\"white\",\"linecolor\":\"white\",\"ticks\":\"\"}},\"coloraxis\":{\"colorbar\":{\"outlinewidth\":0,\"ticks\":\"\"}},\"colorscale\":{\"sequential\":[[0.0,\"#0d0887\"],[0.1111111111111111,\"#46039f\"],[0.2222222222222222,\"#7201a8\"],[0.3333333333333333,\"#9c179e\"],[0.4444444444444444,\"#bd3786\"],[0.5555555555555556,\"#d8576b\"],[0.6666666666666666,\"#ed7953\"],[0.7777777777777778,\"#fb9f3a\"],[0.8888888888888888,\"#fdca26\"],[1.0,\"#f0f921\"]],\"sequentialminus\":[[0.0,\"#0d0887\"],[0.1111111111111111,\"#46039f\"],[0.2222222222222222,\"#7201a8\"],[0.3333333333333333,\"#9c179e\"],[0.4444444444444444,\"#bd3786\"],[0.5555555555555556,\"#d8576b\"],[0.6666666666666666,\"#ed7953\"],[0.7777777777777778,\"#fb9f3a\"],[0.8888888888888888,\"#fdca26\"],[1.0,\"#f0f921\"]],\"diverging\":[[0,\"#8e0152\"],[0.1,\"#c51b7d\"],[0.2,\"#de77ae\"],[0.3,\"#f1b6da\"],[0.4,\"#fde0ef\"],[0.5,\"#f7f7f7\"],[0.6,\"#e6f5d0\"],[0.7,\"#b8e186\"],[0.8,\"#7fbc41\"],[0.9,\"#4d9221\"],[1,\"#276419\"]]},\"xaxis\":{\"gridcolor\":\"white\",\"linecolor\":\"white\",\"ticks\":\"\",\"title\":{\"standoff\":15},\"zerolinecolor\":\"white\",\"automargin\":true,\"zerolinewidth\":2},\"yaxis\":{\"gridcolor\":\"white\",\"linecolor\":\"white\",\"ticks\":\"\",\"title\":{\"standoff\":15},\"zerolinecolor\":\"white\",\"automargin\":true,\"zerolinewidth\":2},\"scene\":{\"xaxis\":{\"backgroundcolor\":\"#E5ECF6\",\"gridcolor\":\"white\",\"linecolor\":\"white\",\"showbackground\":true,\"ticks\":\"\",\"zerolinecolor\":\"white\",\"gridwidth\":2},\"yaxis\":{\"backgroundcolor\":\"#E5ECF6\",\"gridcolor\":\"white\",\"linecolor\":\"white\",\"showbackground\":true,\"ticks\":\"\",\"zerolinecolor\":\"white\",\"gridwidth\":2},\"zaxis\":{\"backgroundcolor\":\"#E5ECF6\",\"gridcolor\":\"white\",\"linecolor\":\"white\",\"showbackground\":true,\"ticks\":\"\",\"zerolinecolor\":\"white\",\"gridwidth\":2}},\"shapedefaults\":{\"line\":{\"color\":\"#2a3f5f\"}},\"annotationdefaults\":{\"arrowcolor\":\"#2a3f5f\",\"arrowhead\":0,\"arrowwidth\":1},\"geo\":{\"bgcolor\":\"white\",\"landcolor\":\"#E5ECF6\",\"subunitcolor\":\"white\",\"showland\":true,\"showlakes\":true,\"lakecolor\":\"white\"},\"title\":{\"x\":0.05},\"mapbox\":{\"style\":\"light\"}}},\"xaxis\":{\"anchor\":\"y\",\"domain\":[0.0,1.0],\"scaleanchor\":\"y\",\"constrain\":\"domain\",\"title\":{\"text\":\"Bracket\"}},\"yaxis\":{\"anchor\":\"x\",\"domain\":[0.0,1.0],\"autorange\":\"reversed\",\"constrain\":\"domain\"},\"coloraxis\":{\"colorbar\":{\"title\":{\"text\":\"Conditional Probability\"}},\"colorscale\":[[0.0,\"rgb(247,251,255)\"],[0.125,\"rgb(222,235,247)\"],[0.25,\"rgb(198,219,239)\"],[0.375,\"rgb(158,202,225)\"],[0.5,\"rgb(107,174,214)\"],[0.625,\"rgb(66,146,198)\"],[0.75,\"rgb(33,113,181)\"],[0.875,\"rgb(8,81,156)\"],[1.0,\"rgb(8,48,107)\"]]},\"margin\":{\"t\":60},\"height\":1080,\"annotations\":[{\"font\":{\"color\":\"orange\"},\"showarrow\":false,\"text\":\"(\",\"x\":0,\"y\":0},{\"font\":{\"color\":\"orange\"},\"showarrow\":false,\"text\":\"(\",\"x\":0,\"y\":1},{\"font\":{\"color\":\"orange\"},\"showarrow\":false,\"text\":\"(\",\"x\":0,\"y\":2},{\"font\":{\"color\":\"orange\"},\"showarrow\":false,\"text\":\"(\",\"x\":0,\"y\":3},{\"font\":{\"color\":\"orange\"},\"showarrow\":false,\"text\":\"(\",\"x\":0,\"y\":4},{\"font\":{\"color\":\"orange\"},\"showarrow\":false,\"text\":\"(\",\"x\":0,\"y\":5},{\"font\":{\"color\":\"orange\"},\"showarrow\":false,\"text\":\"(\",\"x\":0,\"y\":6},{\"font\":{\"color\":\"orange\"},\"showarrow\":false,\"text\":\"(\",\"x\":0,\"y\":7},{\"font\":{\"color\":\"orange\"},\"showarrow\":false,\"text\":\"(\",\"x\":0,\"y\":8},{\"font\":{\"color\":\"orange\"},\"showarrow\":false,\"text\":\"(\",\"x\":0,\"y\":9},{\"font\":{\"color\":\"orange\"},\"showarrow\":false,\"text\":\"(\",\"x\":0,\"y\":10},{\"font\":{\"color\":\"orange\"},\"showarrow\":false,\"text\":\"(\",\"x\":0,\"y\":11},{\"font\":{\"color\":\"orange\"},\"showarrow\":false,\"text\":\"(\",\"x\":0,\"y\":12},{\"font\":{\"color\":\"orange\"},\"showarrow\":false,\"text\":\"(\",\"x\":0,\"y\":13},{\"font\":{\"color\":\"orange\"},\"showarrow\":false,\"text\":\"(\",\"x\":0,\"y\":14},{\"font\":{\"color\":\"orange\"},\"showarrow\":false,\"text\":\"(\",\"x\":0,\"y\":15},{\"font\":{\"color\":\"orange\"},\"showarrow\":false,\"text\":\"(\",\"x\":0,\"y\":16},{\"font\":{\"color\":\"orange\"},\"showarrow\":false,\"text\":\"(\",\"x\":0,\"y\":17},{\"font\":{\"color\":\"orange\"},\"showarrow\":false,\"text\":\"(\",\"x\":0,\"y\":18},{\"font\":{\"color\":\"orange\"},\"showarrow\":false,\"text\":\"(\",\"x\":0,\"y\":19},{\"font\":{\"color\":\"orange\"},\"showarrow\":false,\"text\":\"(\",\"x\":0,\"y\":20},{\"font\":{\"color\":\"orange\"},\"showarrow\":false,\"text\":\"(\",\"x\":0,\"y\":21},{\"font\":{\"color\":\"orange\"},\"showarrow\":false,\"text\":\"(\",\"x\":0,\"y\":22},{\"font\":{\"color\":\"orange\"},\"showarrow\":false,\"text\":\"(\",\"x\":0,\"y\":23},{\"font\":{\"color\":\"orange\"},\"showarrow\":false,\"text\":\"(\",\"x\":0,\"y\":24},{\"font\":{\"color\":\"orange\"},\"showarrow\":false,\"text\":\"(\",\"x\":0,\"y\":25},{\"font\":{\"color\":\"orange\"},\"showarrow\":false,\"text\":\"(\",\"x\":0,\"y\":26},{\"font\":{\"color\":\"orange\"},\"showarrow\":false,\"text\":\"(\",\"x\":0,\"y\":27},{\"font\":{\"color\":\"orange\"},\"showarrow\":false,\"text\":\"(\",\"x\":0,\"y\":28},{\"font\":{\"color\":\"orange\"},\"showarrow\":false,\"text\":\"(\",\"x\":0,\"y\":29},{\"font\":{\"color\":\"orange\"},\"showarrow\":false,\"text\":\"(\",\"x\":0,\"y\":30},{\"font\":{\"color\":\"orange\"},\"showarrow\":false,\"text\":\"(\",\"x\":0,\"y\":31},{\"font\":{\"color\":\"orange\"},\"showarrow\":false,\"text\":\"(\",\"x\":0,\"y\":32},{\"font\":{\"color\":\"orange\"},\"showarrow\":false,\"text\":\"(\",\"x\":0,\"y\":33},{\"font\":{\"color\":\"orange\"},\"showarrow\":false,\"text\":\"(\",\"x\":0,\"y\":34},{\"font\":{\"color\":\"orange\"},\"showarrow\":false,\"text\":\"(\",\"x\":0,\"y\":35},{\"font\":{\"color\":\"orange\"},\"showarrow\":false,\"text\":\"[\",\"x\":1,\"y\":0},{\"font\":{\"color\":\"orange\"},\"showarrow\":false,\"text\":\"[\",\"x\":1,\"y\":1},{\"font\":{\"color\":\"orange\"},\"showarrow\":false,\"text\":\"[\",\"x\":1,\"y\":2},{\"font\":{\"color\":\"orange\"},\"showarrow\":false,\"text\":\"[\",\"x\":1,\"y\":3},{\"font\":{\"color\":\"orange\"},\"showarrow\":false,\"text\":\"[\",\"x\":1,\"y\":4},{\"font\":{\"color\":\"orange\"},\"showarrow\":false,\"text\":\"[\",\"x\":1,\"y\":5},{\"font\":{\"color\":\"orange\"},\"showarrow\":false,\"text\":\"[\",\"x\":1,\"y\":6},{\"font\":{\"color\":\"orange\"},\"showarrow\":false,\"text\":\"[\",\"x\":1,\"y\":7},{\"font\":{\"color\":\"orange\"},\"showarrow\":false,\"text\":\"[\",\"x\":1,\"y\":8},{\"font\":{\"color\":\"orange\"},\"showarrow\":false,\"text\":\"[\",\"x\":1,\"y\":9},{\"font\":{\"color\":\"orange\"},\"showarrow\":false,\"text\":\"[\",\"x\":1,\"y\":10},{\"font\":{\"color\":\"orange\"},\"showarrow\":false,\"text\":\"[\",\"x\":1,\"y\":11},{\"font\":{\"color\":\"orange\"},\"showarrow\":false,\"text\":\"[\",\"x\":1,\"y\":12},{\"font\":{\"color\":\"orange\"},\"showarrow\":false,\"text\":\"[\",\"x\":1,\"y\":13},{\"font\":{\"color\":\"orange\"},\"showarrow\":false,\"text\":\"[\",\"x\":1,\"y\":14},{\"font\":{\"color\":\"orange\"},\"showarrow\":false,\"text\":\"[\",\"x\":1,\"y\":15},{\"font\":{\"color\":\"orange\"},\"showarrow\":false,\"text\":\"[\",\"x\":1,\"y\":16},{\"font\":{\"color\":\"orange\"},\"showarrow\":false,\"text\":\"[\",\"x\":1,\"y\":17},{\"font\":{\"color\":\"orange\"},\"showarrow\":false,\"text\":\"[\",\"x\":1,\"y\":18},{\"font\":{\"color\":\"orange\"},\"showarrow\":false,\"text\":\"[\",\"x\":1,\"y\":19},{\"font\":{\"color\":\"orange\"},\"showarrow\":false,\"text\":\"[\",\"x\":1,\"y\":20},{\"font\":{\"color\":\"orange\"},\"showarrow\":false,\"text\":\"[\",\"x\":1,\"y\":21},{\"font\":{\"color\":\"orange\"},\"showarrow\":false,\"text\":\"[\",\"x\":1,\"y\":22},{\"font\":{\"color\":\"orange\"},\"showarrow\":false,\"text\":\"[\",\"x\":1,\"y\":23},{\"font\":{\"color\":\"orange\"},\"showarrow\":false,\"text\":\"[\",\"x\":1,\"y\":24},{\"font\":{\"color\":\"orange\"},\"showarrow\":false,\"text\":\"[\",\"x\":1,\"y\":25},{\"font\":{\"color\":\"orange\"},\"showarrow\":false,\"text\":\"[\",\"x\":1,\"y\":26},{\"font\":{\"color\":\"orange\"},\"showarrow\":false,\"text\":\"[\",\"x\":1,\"y\":27},{\"font\":{\"color\":\"orange\"},\"showarrow\":false,\"text\":\"[\",\"x\":1,\"y\":28},{\"font\":{\"color\":\"orange\"},\"showarrow\":false,\"text\":\"[\",\"x\":1,\"y\":29},{\"font\":{\"color\":\"orange\"},\"showarrow\":false,\"text\":\"[\",\"x\":1,\"y\":30},{\"font\":{\"color\":\"orange\"},\"showarrow\":false,\"text\":\"[\",\"x\":1,\"y\":31},{\"font\":{\"color\":\"orange\"},\"showarrow\":false,\"text\":\"[\",\"x\":1,\"y\":32},{\"font\":{\"color\":\"orange\"},\"showarrow\":false,\"text\":\"[\",\"x\":1,\"y\":33},{\"font\":{\"color\":\"orange\"},\"showarrow\":false,\"text\":\"[\",\"x\":1,\"y\":34},{\"font\":{\"color\":\"orange\"},\"showarrow\":false,\"text\":\"[\",\"x\":1,\"y\":35},{\"font\":{\"color\":\"orange\"},\"showarrow\":false,\"text\":\"{\",\"x\":2,\"y\":0},{\"font\":{\"color\":\"orange\"},\"showarrow\":false,\"text\":\"{\",\"x\":2,\"y\":1},{\"font\":{\"color\":\"orange\"},\"showarrow\":false,\"text\":\"{\",\"x\":2,\"y\":2},{\"font\":{\"color\":\"orange\"},\"showarrow\":false,\"text\":\"{\",\"x\":2,\"y\":3},{\"font\":{\"color\":\"orange\"},\"showarrow\":false,\"text\":\"{\",\"x\":2,\"y\":4},{\"font\":{\"color\":\"orange\"},\"showarrow\":false,\"text\":\"{\",\"x\":2,\"y\":5},{\"font\":{\"color\":\"orange\"},\"showarrow\":false,\"text\":\"{\",\"x\":2,\"y\":6},{\"font\":{\"color\":\"orange\"},\"showarrow\":false,\"text\":\"{\",\"x\":2,\"y\":7},{\"font\":{\"color\":\"orange\"},\"showarrow\":false,\"text\":\"{\",\"x\":2,\"y\":8},{\"font\":{\"color\":\"orange\"},\"showarrow\":false,\"text\":\"{\",\"x\":2,\"y\":9},{\"font\":{\"color\":\"orange\"},\"showarrow\":false,\"text\":\"{\",\"x\":2,\"y\":10},{\"font\":{\"color\":\"orange\"},\"showarrow\":false,\"text\":\"{\",\"x\":2,\"y\":11},{\"font\":{\"color\":\"orange\"},\"showarrow\":false,\"text\":\"{\",\"x\":2,\"y\":12},{\"font\":{\"color\":\"orange\"},\"showarrow\":false,\"text\":\"{\",\"x\":2,\"y\":13},{\"font\":{\"color\":\"orange\"},\"showarrow\":false,\"text\":\"{\",\"x\":2,\"y\":14},{\"font\":{\"color\":\"orange\"},\"showarrow\":false,\"text\":\"{\",\"x\":2,\"y\":15},{\"font\":{\"color\":\"orange\"},\"showarrow\":false,\"text\":\"{\",\"x\":2,\"y\":16},{\"font\":{\"color\":\"orange\"},\"showarrow\":false,\"text\":\"{\",\"x\":2,\"y\":17},{\"font\":{\"color\":\"orange\"},\"showarrow\":false,\"text\":\"{\",\"x\":2,\"y\":18},{\"font\":{\"color\":\"orange\"},\"showarrow\":false,\"text\":\"{\",\"x\":2,\"y\":19},{\"font\":{\"color\":\"orange\"},\"showarrow\":false,\"text\":\"{\",\"x\":2,\"y\":20},{\"font\":{\"color\":\"orange\"},\"showarrow\":false,\"text\":\"{\",\"x\":2,\"y\":21},{\"font\":{\"color\":\"orange\"},\"showarrow\":false,\"text\":\"{\",\"x\":2,\"y\":22},{\"font\":{\"color\":\"orange\"},\"showarrow\":false,\"text\":\"{\",\"x\":2,\"y\":23},{\"font\":{\"color\":\"orange\"},\"showarrow\":false,\"text\":\"{\",\"x\":2,\"y\":24},{\"font\":{\"color\":\"orange\"},\"showarrow\":false,\"text\":\"{\",\"x\":2,\"y\":25},{\"font\":{\"color\":\"orange\"},\"showarrow\":false,\"text\":\"{\",\"x\":2,\"y\":26},{\"font\":{\"color\":\"orange\"},\"showarrow\":false,\"text\":\"{\",\"x\":2,\"y\":27},{\"font\":{\"color\":\"orange\"},\"showarrow\":false,\"text\":\"{\",\"x\":2,\"y\":28},{\"font\":{\"color\":\"orange\"},\"showarrow\":false,\"text\":\"{\",\"x\":2,\"y\":29},{\"font\":{\"color\":\"orange\"},\"showarrow\":false,\"text\":\"{\",\"x\":2,\"y\":30},{\"font\":{\"color\":\"orange\"},\"showarrow\":false,\"text\":\"{\",\"x\":2,\"y\":31},{\"font\":{\"color\":\"orange\"},\"showarrow\":false,\"text\":\"{\",\"x\":2,\"y\":32},{\"font\":{\"color\":\"orange\"},\"showarrow\":false,\"text\":\"{\",\"x\":2,\"y\":33},{\"font\":{\"color\":\"orange\"},\"showarrow\":false,\"text\":\"{\",\"x\":2,\"y\":34},{\"font\":{\"color\":\"orange\"},\"showarrow\":false,\"text\":\"{\",\"x\":2,\"y\":35},{\"font\":{\"color\":\"orange\"},\"showarrow\":false,\"text\":\"<\",\"x\":3,\"y\":0},{\"font\":{\"color\":\"orange\"},\"showarrow\":false,\"text\":\"<\",\"x\":3,\"y\":1},{\"font\":{\"color\":\"orange\"},\"showarrow\":false,\"text\":\"<\",\"x\":3,\"y\":2},{\"font\":{\"color\":\"orange\"},\"showarrow\":false,\"text\":\"<\",\"x\":3,\"y\":3},{\"font\":{\"color\":\"orange\"},\"showarrow\":false,\"text\":\"<\",\"x\":3,\"y\":4},{\"font\":{\"color\":\"orange\"},\"showarrow\":false,\"text\":\"<\",\"x\":3,\"y\":5},{\"font\":{\"color\":\"orange\"},\"showarrow\":false,\"text\":\"<\",\"x\":3,\"y\":6},{\"font\":{\"color\":\"orange\"},\"showarrow\":false,\"text\":\"<\",\"x\":3,\"y\":7},{\"font\":{\"color\":\"orange\"},\"showarrow\":false,\"text\":\"<\",\"x\":3,\"y\":8},{\"font\":{\"color\":\"orange\"},\"showarrow\":false,\"text\":\"<\",\"x\":3,\"y\":9},{\"font\":{\"color\":\"orange\"},\"showarrow\":false,\"text\":\"<\",\"x\":3,\"y\":10},{\"font\":{\"color\":\"orange\"},\"showarrow\":false,\"text\":\"<\",\"x\":3,\"y\":11},{\"font\":{\"color\":\"orange\"},\"showarrow\":false,\"text\":\"<\",\"x\":3,\"y\":12},{\"font\":{\"color\":\"orange\"},\"showarrow\":false,\"text\":\"<\",\"x\":3,\"y\":13},{\"font\":{\"color\":\"orange\"},\"showarrow\":false,\"text\":\"<\",\"x\":3,\"y\":14},{\"font\":{\"color\":\"orange\"},\"showarrow\":false,\"text\":\"<\",\"x\":3,\"y\":15},{\"font\":{\"color\":\"orange\"},\"showarrow\":false,\"text\":\"<\",\"x\":3,\"y\":16},{\"font\":{\"color\":\"orange\"},\"showarrow\":false,\"text\":\"<\",\"x\":3,\"y\":17},{\"font\":{\"color\":\"orange\"},\"showarrow\":false,\"text\":\"<\",\"x\":3,\"y\":18},{\"font\":{\"color\":\"orange\"},\"showarrow\":false,\"text\":\"<\",\"x\":3,\"y\":19},{\"font\":{\"color\":\"orange\"},\"showarrow\":false,\"text\":\"<\",\"x\":3,\"y\":20},{\"font\":{\"color\":\"orange\"},\"showarrow\":false,\"text\":\"<\",\"x\":3,\"y\":21},{\"font\":{\"color\":\"orange\"},\"showarrow\":false,\"text\":\"<\",\"x\":3,\"y\":22},{\"font\":{\"color\":\"orange\"},\"showarrow\":false,\"text\":\"<\",\"x\":3,\"y\":23},{\"font\":{\"color\":\"orange\"},\"showarrow\":false,\"text\":\"<\",\"x\":3,\"y\":24},{\"font\":{\"color\":\"orange\"},\"showarrow\":false,\"text\":\"<\",\"x\":3,\"y\":25},{\"font\":{\"color\":\"orange\"},\"showarrow\":false,\"text\":\"<\",\"x\":3,\"y\":26},{\"font\":{\"color\":\"orange\"},\"showarrow\":false,\"text\":\"<\",\"x\":3,\"y\":27},{\"font\":{\"color\":\"orange\"},\"showarrow\":false,\"text\":\"<\",\"x\":3,\"y\":28},{\"font\":{\"color\":\"orange\"},\"showarrow\":false,\"text\":\"<\",\"x\":3,\"y\":29},{\"font\":{\"color\":\"orange\"},\"showarrow\":false,\"text\":\"<\",\"x\":3,\"y\":30},{\"font\":{\"color\":\"orange\"},\"showarrow\":false,\"text\":\"<\",\"x\":3,\"y\":31},{\"font\":{\"color\":\"orange\"},\"showarrow\":false,\"text\":\"<\",\"x\":3,\"y\":32},{\"font\":{\"color\":\"orange\"},\"showarrow\":false,\"text\":\"<\",\"x\":3,\"y\":33},{\"font\":{\"color\":\"orange\"},\"showarrow\":false,\"text\":\"<\",\"x\":3,\"y\":34},{\"font\":{\"color\":\"orange\"},\"showarrow\":false,\"text\":\"<\",\"x\":3,\"y\":35},{\"font\":{\"color\":\"orange\"},\"showarrow\":false,\"text\":\")\",\"x\":4,\"y\":0},{\"font\":{\"color\":\"orange\"},\"showarrow\":false,\"text\":\")\",\"x\":4,\"y\":1},{\"font\":{\"color\":\"orange\"},\"showarrow\":false,\"text\":\")\",\"x\":4,\"y\":2},{\"font\":{\"color\":\"orange\"},\"showarrow\":false,\"text\":\")\",\"x\":4,\"y\":3},{\"font\":{\"color\":\"orange\"},\"showarrow\":false,\"text\":\")\",\"x\":4,\"y\":4},{\"font\":{\"color\":\"orange\"},\"showarrow\":false,\"text\":\")\",\"x\":4,\"y\":5},{\"font\":{\"color\":\"orange\"},\"showarrow\":false,\"text\":\")\",\"x\":4,\"y\":6},{\"font\":{\"color\":\"orange\"},\"showarrow\":false,\"text\":\")\",\"x\":4,\"y\":7},{\"font\":{\"color\":\"orange\"},\"showarrow\":false,\"text\":\")\",\"x\":4,\"y\":8},{\"font\":{\"color\":\"orange\"},\"showarrow\":false,\"text\":\")\",\"x\":4,\"y\":9},{\"font\":{\"color\":\"orange\"},\"showarrow\":false,\"text\":\")\",\"x\":4,\"y\":10},{\"font\":{\"color\":\"orange\"},\"showarrow\":false,\"text\":\")\",\"x\":4,\"y\":11},{\"font\":{\"color\":\"orange\"},\"showarrow\":false,\"text\":\")\",\"x\":4,\"y\":12},{\"font\":{\"color\":\"orange\"},\"showarrow\":false,\"text\":\")\",\"x\":4,\"y\":13},{\"font\":{\"color\":\"orange\"},\"showarrow\":false,\"text\":\")\",\"x\":4,\"y\":14},{\"font\":{\"color\":\"orange\"},\"showarrow\":false,\"text\":\")\",\"x\":4,\"y\":15},{\"font\":{\"color\":\"orange\"},\"showarrow\":false,\"text\":\")\",\"x\":4,\"y\":16},{\"font\":{\"color\":\"orange\"},\"showarrow\":false,\"text\":\")\",\"x\":4,\"y\":17},{\"font\":{\"color\":\"orange\"},\"showarrow\":false,\"text\":\")\",\"x\":4,\"y\":18},{\"font\":{\"color\":\"orange\"},\"showarrow\":false,\"text\":\")\",\"x\":4,\"y\":19},{\"font\":{\"color\":\"orange\"},\"showarrow\":false,\"text\":\")\",\"x\":4,\"y\":20},{\"font\":{\"color\":\"orange\"},\"showarrow\":false,\"text\":\")\",\"x\":4,\"y\":21},{\"font\":{\"color\":\"orange\"},\"showarrow\":false,\"text\":\")\",\"x\":4,\"y\":22},{\"font\":{\"color\":\"orange\"},\"showarrow\":false,\"text\":\")\",\"x\":4,\"y\":23},{\"font\":{\"color\":\"orange\"},\"showarrow\":false,\"text\":\")\",\"x\":4,\"y\":24},{\"font\":{\"color\":\"orange\"},\"showarrow\":false,\"text\":\")\",\"x\":4,\"y\":25},{\"font\":{\"color\":\"orange\"},\"showarrow\":false,\"text\":\")\",\"x\":4,\"y\":26},{\"font\":{\"color\":\"orange\"},\"showarrow\":false,\"text\":\")\",\"x\":4,\"y\":27},{\"font\":{\"color\":\"orange\"},\"showarrow\":false,\"text\":\")\",\"x\":4,\"y\":28},{\"font\":{\"color\":\"orange\"},\"showarrow\":false,\"text\":\")\",\"x\":4,\"y\":29},{\"font\":{\"color\":\"orange\"},\"showarrow\":false,\"text\":\")\",\"x\":4,\"y\":30},{\"font\":{\"color\":\"orange\"},\"showarrow\":false,\"text\":\")\",\"x\":4,\"y\":31},{\"font\":{\"color\":\"orange\"},\"showarrow\":false,\"text\":\")\",\"x\":4,\"y\":32},{\"font\":{\"color\":\"orange\"},\"showarrow\":false,\"text\":\")\",\"x\":4,\"y\":33},{\"font\":{\"color\":\"orange\"},\"showarrow\":false,\"text\":\")\",\"x\":4,\"y\":34},{\"font\":{\"color\":\"orange\"},\"showarrow\":false,\"text\":\")\",\"x\":4,\"y\":35},{\"font\":{\"color\":\"orange\"},\"showarrow\":false,\"text\":\"]\",\"x\":5,\"y\":0},{\"font\":{\"color\":\"orange\"},\"showarrow\":false,\"text\":\"]\",\"x\":5,\"y\":1},{\"font\":{\"color\":\"orange\"},\"showarrow\":false,\"text\":\"]\",\"x\":5,\"y\":2},{\"font\":{\"color\":\"orange\"},\"showarrow\":false,\"text\":\"]\",\"x\":5,\"y\":3},{\"font\":{\"color\":\"orange\"},\"showarrow\":false,\"text\":\"]\",\"x\":5,\"y\":4},{\"font\":{\"color\":\"orange\"},\"showarrow\":false,\"text\":\"]\",\"x\":5,\"y\":5},{\"font\":{\"color\":\"orange\"},\"showarrow\":false,\"text\":\"]\",\"x\":5,\"y\":6},{\"font\":{\"color\":\"orange\"},\"showarrow\":false,\"text\":\"]\",\"x\":5,\"y\":7},{\"font\":{\"color\":\"orange\"},\"showarrow\":false,\"text\":\"]\",\"x\":5,\"y\":8},{\"font\":{\"color\":\"orange\"},\"showarrow\":false,\"text\":\"]\",\"x\":5,\"y\":9},{\"font\":{\"color\":\"orange\"},\"showarrow\":false,\"text\":\"]\",\"x\":5,\"y\":10},{\"font\":{\"color\":\"orange\"},\"showarrow\":false,\"text\":\"]\",\"x\":5,\"y\":11},{\"font\":{\"color\":\"orange\"},\"showarrow\":false,\"text\":\"]\",\"x\":5,\"y\":12},{\"font\":{\"color\":\"orange\"},\"showarrow\":false,\"text\":\"]\",\"x\":5,\"y\":13},{\"font\":{\"color\":\"orange\"},\"showarrow\":false,\"text\":\"]\",\"x\":5,\"y\":14},{\"font\":{\"color\":\"orange\"},\"showarrow\":false,\"text\":\"]\",\"x\":5,\"y\":15},{\"font\":{\"color\":\"orange\"},\"showarrow\":false,\"text\":\"]\",\"x\":5,\"y\":16},{\"font\":{\"color\":\"orange\"},\"showarrow\":false,\"text\":\"]\",\"x\":5,\"y\":17},{\"font\":{\"color\":\"orange\"},\"showarrow\":false,\"text\":\"]\",\"x\":5,\"y\":18},{\"font\":{\"color\":\"orange\"},\"showarrow\":false,\"text\":\"]\",\"x\":5,\"y\":19},{\"font\":{\"color\":\"orange\"},\"showarrow\":false,\"text\":\"]\",\"x\":5,\"y\":20},{\"font\":{\"color\":\"orange\"},\"showarrow\":false,\"text\":\"]\",\"x\":5,\"y\":21},{\"font\":{\"color\":\"orange\"},\"showarrow\":false,\"text\":\"]\",\"x\":5,\"y\":22},{\"font\":{\"color\":\"orange\"},\"showarrow\":false,\"text\":\"]\",\"x\":5,\"y\":23},{\"font\":{\"color\":\"orange\"},\"showarrow\":false,\"text\":\"]\",\"x\":5,\"y\":24},{\"font\":{\"color\":\"orange\"},\"showarrow\":false,\"text\":\"]\",\"x\":5,\"y\":25},{\"font\":{\"color\":\"orange\"},\"showarrow\":false,\"text\":\"]\",\"x\":5,\"y\":26},{\"font\":{\"color\":\"orange\"},\"showarrow\":false,\"text\":\"]\",\"x\":5,\"y\":27},{\"font\":{\"color\":\"orange\"},\"showarrow\":false,\"text\":\"]\",\"x\":5,\"y\":28},{\"font\":{\"color\":\"orange\"},\"showarrow\":false,\"text\":\"]\",\"x\":5,\"y\":29},{\"font\":{\"color\":\"orange\"},\"showarrow\":false,\"text\":\"]\",\"x\":5,\"y\":30},{\"font\":{\"color\":\"orange\"},\"showarrow\":false,\"text\":\"]\",\"x\":5,\"y\":31},{\"font\":{\"color\":\"orange\"},\"showarrow\":false,\"text\":\"]\",\"x\":5,\"y\":32},{\"font\":{\"color\":\"orange\"},\"showarrow\":false,\"text\":\"]\",\"x\":5,\"y\":33},{\"font\":{\"color\":\"orange\"},\"showarrow\":false,\"text\":\"]\",\"x\":5,\"y\":34},{\"font\":{\"color\":\"orange\"},\"showarrow\":false,\"text\":\"]\",\"x\":5,\"y\":35},{\"font\":{\"color\":\"orange\"},\"showarrow\":false,\"text\":\"}\",\"x\":6,\"y\":0},{\"font\":{\"color\":\"orange\"},\"showarrow\":false,\"text\":\"}\",\"x\":6,\"y\":1},{\"font\":{\"color\":\"orange\"},\"showarrow\":false,\"text\":\"}\",\"x\":6,\"y\":2},{\"font\":{\"color\":\"orange\"},\"showarrow\":false,\"text\":\"}\",\"x\":6,\"y\":3},{\"font\":{\"color\":\"orange\"},\"showarrow\":false,\"text\":\"}\",\"x\":6,\"y\":4},{\"font\":{\"color\":\"orange\"},\"showarrow\":false,\"text\":\"}\",\"x\":6,\"y\":5},{\"font\":{\"color\":\"orange\"},\"showarrow\":false,\"text\":\"}\",\"x\":6,\"y\":6},{\"font\":{\"color\":\"orange\"},\"showarrow\":false,\"text\":\"}\",\"x\":6,\"y\":7},{\"font\":{\"color\":\"orange\"},\"showarrow\":false,\"text\":\"}\",\"x\":6,\"y\":8},{\"font\":{\"color\":\"orange\"},\"showarrow\":false,\"text\":\"}\",\"x\":6,\"y\":9},{\"font\":{\"color\":\"orange\"},\"showarrow\":false,\"text\":\"}\",\"x\":6,\"y\":10},{\"font\":{\"color\":\"orange\"},\"showarrow\":false,\"text\":\"}\",\"x\":6,\"y\":11},{\"font\":{\"color\":\"orange\"},\"showarrow\":false,\"text\":\"}\",\"x\":6,\"y\":12},{\"font\":{\"color\":\"orange\"},\"showarrow\":false,\"text\":\"}\",\"x\":6,\"y\":13},{\"font\":{\"color\":\"orange\"},\"showarrow\":false,\"text\":\"}\",\"x\":6,\"y\":14},{\"font\":{\"color\":\"orange\"},\"showarrow\":false,\"text\":\"}\",\"x\":6,\"y\":15},{\"font\":{\"color\":\"orange\"},\"showarrow\":false,\"text\":\"}\",\"x\":6,\"y\":16},{\"font\":{\"color\":\"orange\"},\"showarrow\":false,\"text\":\"}\",\"x\":6,\"y\":17},{\"font\":{\"color\":\"orange\"},\"showarrow\":false,\"text\":\"}\",\"x\":6,\"y\":18},{\"font\":{\"color\":\"orange\"},\"showarrow\":false,\"text\":\"}\",\"x\":6,\"y\":19},{\"font\":{\"color\":\"orange\"},\"showarrow\":false,\"text\":\"}\",\"x\":6,\"y\":20},{\"font\":{\"color\":\"orange\"},\"showarrow\":false,\"text\":\"}\",\"x\":6,\"y\":21},{\"font\":{\"color\":\"orange\"},\"showarrow\":false,\"text\":\"}\",\"x\":6,\"y\":22},{\"font\":{\"color\":\"orange\"},\"showarrow\":false,\"text\":\"}\",\"x\":6,\"y\":23},{\"font\":{\"color\":\"orange\"},\"showarrow\":false,\"text\":\"}\",\"x\":6,\"y\":24},{\"font\":{\"color\":\"orange\"},\"showarrow\":false,\"text\":\"}\",\"x\":6,\"y\":25},{\"font\":{\"color\":\"orange\"},\"showarrow\":false,\"text\":\"}\",\"x\":6,\"y\":26},{\"font\":{\"color\":\"orange\"},\"showarrow\":false,\"text\":\"}\",\"x\":6,\"y\":27},{\"font\":{\"color\":\"orange\"},\"showarrow\":false,\"text\":\"}\",\"x\":6,\"y\":28},{\"font\":{\"color\":\"orange\"},\"showarrow\":false,\"text\":\"}\",\"x\":6,\"y\":29},{\"font\":{\"color\":\"orange\"},\"showarrow\":false,\"text\":\"}\",\"x\":6,\"y\":30},{\"font\":{\"color\":\"orange\"},\"showarrow\":false,\"text\":\"}\",\"x\":6,\"y\":31},{\"font\":{\"color\":\"orange\"},\"showarrow\":false,\"text\":\"}\",\"x\":6,\"y\":32},{\"font\":{\"color\":\"orange\"},\"showarrow\":false,\"text\":\"}\",\"x\":6,\"y\":33},{\"font\":{\"color\":\"orange\"},\"showarrow\":false,\"text\":\"}\",\"x\":6,\"y\":34},{\"font\":{\"color\":\"orange\"},\"showarrow\":false,\"text\":\"}\",\"x\":6,\"y\":35},{\"font\":{\"color\":\"orange\"},\"showarrow\":false,\"text\":\">\",\"x\":7,\"y\":0},{\"font\":{\"color\":\"orange\"},\"showarrow\":false,\"text\":\">\",\"x\":7,\"y\":1},{\"font\":{\"color\":\"orange\"},\"showarrow\":false,\"text\":\">\",\"x\":7,\"y\":2},{\"font\":{\"color\":\"orange\"},\"showarrow\":false,\"text\":\">\",\"x\":7,\"y\":3},{\"font\":{\"color\":\"orange\"},\"showarrow\":false,\"text\":\">\",\"x\":7,\"y\":4},{\"font\":{\"color\":\"orange\"},\"showarrow\":false,\"text\":\">\",\"x\":7,\"y\":5},{\"font\":{\"color\":\"orange\"},\"showarrow\":false,\"text\":\">\",\"x\":7,\"y\":6},{\"font\":{\"color\":\"orange\"},\"showarrow\":false,\"text\":\">\",\"x\":7,\"y\":7},{\"font\":{\"color\":\"orange\"},\"showarrow\":false,\"text\":\">\",\"x\":7,\"y\":8},{\"font\":{\"color\":\"orange\"},\"showarrow\":false,\"text\":\">\",\"x\":7,\"y\":9},{\"font\":{\"color\":\"orange\"},\"showarrow\":false,\"text\":\">\",\"x\":7,\"y\":10},{\"font\":{\"color\":\"orange\"},\"showarrow\":false,\"text\":\">\",\"x\":7,\"y\":11},{\"font\":{\"color\":\"orange\"},\"showarrow\":false,\"text\":\">\",\"x\":7,\"y\":12},{\"font\":{\"color\":\"orange\"},\"showarrow\":false,\"text\":\">\",\"x\":7,\"y\":13},{\"font\":{\"color\":\"orange\"},\"showarrow\":false,\"text\":\">\",\"x\":7,\"y\":14},{\"font\":{\"color\":\"orange\"},\"showarrow\":false,\"text\":\">\",\"x\":7,\"y\":15},{\"font\":{\"color\":\"orange\"},\"showarrow\":false,\"text\":\">\",\"x\":7,\"y\":16},{\"font\":{\"color\":\"orange\"},\"showarrow\":false,\"text\":\">\",\"x\":7,\"y\":17},{\"font\":{\"color\":\"orange\"},\"showarrow\":false,\"text\":\">\",\"x\":7,\"y\":18},{\"font\":{\"color\":\"orange\"},\"showarrow\":false,\"text\":\">\",\"x\":7,\"y\":19},{\"font\":{\"color\":\"orange\"},\"showarrow\":false,\"text\":\">\",\"x\":7,\"y\":20},{\"font\":{\"color\":\"orange\"},\"showarrow\":false,\"text\":\">\",\"x\":7,\"y\":21},{\"font\":{\"color\":\"orange\"},\"showarrow\":false,\"text\":\">\",\"x\":7,\"y\":22},{\"font\":{\"color\":\"orange\"},\"showarrow\":false,\"text\":\">\",\"x\":7,\"y\":23},{\"font\":{\"color\":\"orange\"},\"showarrow\":false,\"text\":\">\",\"x\":7,\"y\":24},{\"font\":{\"color\":\"orange\"},\"showarrow\":false,\"text\":\">\",\"x\":7,\"y\":25},{\"font\":{\"color\":\"orange\"},\"showarrow\":false,\"text\":\">\",\"x\":7,\"y\":26},{\"font\":{\"color\":\"orange\"},\"showarrow\":false,\"text\":\">\",\"x\":7,\"y\":27},{\"font\":{\"color\":\"orange\"},\"showarrow\":false,\"text\":\">\",\"x\":7,\"y\":28},{\"font\":{\"color\":\"orange\"},\"showarrow\":false,\"text\":\">\",\"x\":7,\"y\":29},{\"font\":{\"color\":\"orange\"},\"showarrow\":false,\"text\":\">\",\"x\":7,\"y\":30},{\"font\":{\"color\":\"orange\"},\"showarrow\":false,\"text\":\">\",\"x\":7,\"y\":31},{\"font\":{\"color\":\"orange\"},\"showarrow\":false,\"text\":\">\",\"x\":7,\"y\":32},{\"font\":{\"color\":\"orange\"},\"showarrow\":false,\"text\":\">\",\"x\":7,\"y\":33},{\"font\":{\"color\":\"orange\"},\"showarrow\":false,\"text\":\">\",\"x\":7,\"y\":34},{\"font\":{\"color\":\"orange\"},\"showarrow\":false,\"text\":\">\",\"x\":7,\"y\":35}]},                        {\"responsive\": true}                    ).then(function(){\n",
       "                            \n",
       "var gd = document.getElementById('75586fb9-3c1c-4179-a10d-be7e72e8d9ee');\n",
       "var x = new MutationObserver(function (mutations, observer) {{\n",
       "        var display = window.getComputedStyle(gd).display;\n",
       "        if (!display || display === 'none') {{\n",
       "            console.log([gd, 'removed!']);\n",
       "            Plotly.purge(gd);\n",
       "            observer.disconnect();\n",
       "        }}\n",
       "}});\n",
       "\n",
       "// Listen for the removal of the full notebook cells\n",
       "var notebookContainer = gd.closest('#notebook-container');\n",
       "if (notebookContainer) {{\n",
       "    x.observe(notebookContainer, {childList: true});\n",
       "}}\n",
       "\n",
       "// Listen for the clearing of the current output cell\n",
       "var outputEl = gd.closest('.output');\n",
       "if (outputEl) {{\n",
       "    x.observe(outputEl, {childList: true});\n",
       "}}\n",
       "\n",
       "                        })                };                });            </script>        </div>"
      ]
     },
     "metadata": {},
     "output_type": "display_data"
    }
   ],
   "source": [
    "display_bracket_scores(exploratory_prompts[:num_exploratory_prompts // 2], bracket_scores[:num_exploratory_prompts // 2, :])"
   ]
  },
  {
   "cell_type": "code",
   "execution_count": 113,
   "metadata": {},
   "outputs": [
    {
     "data": {
      "text/html": [
       "<div>                            <div id=\"bfbf8bed-16de-4bd8-9dfd-650534a6793e\" class=\"plotly-graph-div\" style=\"height:1080px; width:100%;\"></div>            <script type=\"text/javascript\">                require([\"plotly\"], function(Plotly) {                    window.PLOTLYENV=window.PLOTLYENV || {};                                    if (document.getElementById(\"bfbf8bed-16de-4bd8-9dfd-650534a6793e\")) {                    Plotly.newPlot(                        \"bfbf8bed-16de-4bd8-9dfd-650534a6793e\",                        [{\"coloraxis\":\"coloraxis\",\"name\":\"0\",\"x\":[\"(\",\"[\",\"{\",\"<\",\")\",\"]\",\"}\",\">\"],\"y\":[\"zip(enumerate(list(zip([1,3,65], [1, 2, 3], [4, 3], [1], list(np.zeros(4)))), [3, 4]\",\"zip(enumerate(list(zip([1,3,65], [1, 2, 3], [4, 3], [1], list(np.zeros(4)))), [3, 4])\",\"zip(enumerate(list(zip([1,3,65], list(np.zeros(4)))), [3, 4], {1: 2}.items()\",\"zip(enumerate(list(zip([1,3,65], list(np.zeros(4)))), [3, 4], {1: 2}.items())\",\"list())))).append(x\",\"list())))).append(x)\",\"px.imshow(to_numpy(tensor), ccm=0.0, ccs='RdBu', labels={'x':xaxis, 'y':yaxis}, **kwargs\",\"px.imshow(to_numpy(tensor), ccm=0.0, ccs='RdBu', labels={'x':xaxis, 'y':yaxis}, **kwargs)\",\"In the course our our analysis (which was long\",\"In the course our our analysis (which was long)\",\"He was eating a apple [sic\",\"He was eating a apple [sic]\",\"In the course our our analysis (which was long (though not too long\",\"In the course our our analysis (which was long (though not too long))\",\"def sieve(,num prime_list = 2[, 3]\",\"def sieve(,num prime_list = 2[, 3])\",\"defn line(tensor, renderer===None\",\"defn line(tensor, renderer===None)\",\"exploratory_dict = {'test': [3,} 5]\",\"exploratory_dict = {'test': [3,} 5\",\"exploratory_prompts = ['test'(]\",\"exploratory_prompts = ['test'(])\",\"def safasfd(oubefwef, vcewfec=afuasvfs\",\"def safasfd(oubefwef, vcewfec=afuasvfs)\",\"asdjhvauyrfsac = ['asdasdasd'\",\"asdjhvauyrfsac = ['asdasdasd']\",\"dfc = {'sdasd': 'casdasd'\",\"dfc = {'sdasd': 'casdasd'}\",\"<bwevzcxc\",\"<bwevzcxc>\",\"([]\",\"([])\",\"([({},[{()}])])\",\"([({},[{()}])]\",\"([({},[{()}])\",\"([({},[{()}]\"],\"z\":[[3.783132342505269e-05,5.1831357268383726e-05,3.6239005112292944e-06,1.3839829989592545e-05,0.9997289180755615,0.00014232848479878157,4.293161509849597e-06,1.7146552636404522e-05],[0.00012034500105073676,0.006113966461271048,0.0001571957691339776,0.00028586047119461,0.9904594421386719,0.0018653444712981582,0.00024657801259309053,0.0007510727737098932],[0.00011730697588063776,0.01523576769977808,1.5473602616111748e-05,5.639057053485885e-05,0.9842443466186523,0.00015284647815860808,0.00015316430653911084,2.4948129066615365e-05],[0.00015281829109881073,0.1519942283630371,0.0007371343090198934,0.0008431801106780767,0.8418084383010864,0.001006837235763669,0.0017511456971988082,0.0017064801650121808],[0.014876144006848335,0.07230646908283234,9.023873280966654e-05,0.00043510922114364803,0.9108191132545471,0.0009662336087785661,0.00014890721649862826,0.0003581260098144412],[0.0051384675316512585,0.012794174253940582,0.03802643343806267,0.039977528154850006,0.1775882989168167,0.4542897343635559,0.24731911718845367,0.024866294115781784],[0.00038896402111276984,0.002319883555173874,0.00012180537305539474,3.3715277822921053e-06,0.9966431856155396,9.020037396112457e-05,0.00041413403232581913,1.8808779714163393e-05],[0.010102849453687668,0.2312985062599182,0.012104828841984272,0.019382573664188385,0.12173610180616379,0.24417459964752197,0.3023645281791687,0.058835748583078384],[0.0065517486073076725,0.0008548697805963457,1.844005601014942e-05,1.8493101379135624e-05,0.9919562339782715,0.00011712627747328952,0.000348947593010962,0.00013441653572954237],[0.6288301348686218,0.312997043132782,0.002632362535223365,0.0043196901679039,0.023539774119853973,0.017418742179870605,0.007827507331967354,0.0024350425228476524],[6.686874257866293e-05,3.308882878627628e-05,2.900109166148468e-07,3.884119905706029e-06,0.0015944107435643673,0.9982820153236389,1.1906608051504008e-05,7.566005479020532e-06],[0.25786975026130676,0.6813380122184753,0.011278100311756134,0.006678693927824497,0.009518916718661785,0.02544407732784748,0.00020725687500089407,0.007665226701647043],[0.0008377173799090087,0.00018905229808297008,3.536929398251232e-07,1.1715917935362086e-05,0.9989267587661743,1.564390186103992e-05,2.6314271508454112e-06,1.6034118743846193e-05],[0.43765321373939514,0.3432966470718384,0.005631020292639732,0.006646838039159775,0.1296047866344452,0.05732715129852295,0.014347088523209095,0.005493395496159792],[0.0010961915832012892,0.0008884978014975786,0.0014319627080112696,0.00014321375056169927,0.9958769679069519,7.854343130020425e-05,1.7474278138251975e-05,0.0004673725343309343],[0.04543733596801758,0.18676896393299103,0.6103681325912476,0.002208962570875883,0.14834395051002502,0.0028436484280973673,8.011127647478133e-05,0.003949080128222704],[0.000407856801757589,0.00012212026922497898,2.238086744910106e-05,2.8089953048038296e-05,0.9993014931678772,3.0249711926444434e-05,5.189376315684058e-05,3.591752101783641e-05],[0.020307833328843117,0.0180380679666996,0.946365475654602,0.0024651954881846905,0.00954336579889059,0.00018066668417304754,0.00018273454043082893,0.002917018486186862],[0.000651473761536181,0.00218518846668303,0.0007920117932371795,0.0004919193452224135,0.00036502169677987695,0.0014075201470404863,0.993802011013031,0.0003049311926588416],[0.00040118215838447213,0.001543401274830103,0.0003487435169517994,6.373901851475239e-05,0.0019522365182638168,0.9482523202896118,0.04738938808441162,4.917227488476783e-05],[0.019063137471675873,0.02085445262491703,0.004997895564883947,0.01302140299230814,0.8924995064735413,0.021639592945575714,0.004554110113531351,0.023370057344436646],[0.03222385793924332,0.2542784810066223,0.12594890594482422,0.01861872524023056,0.09022998064756393,0.4255065619945526,0.04021997004747391,0.01297358050942421],[0.10262304544448853,0.009719982743263245,0.005174960941076279,0.00107120955362916,0.8768436312675476,0.0006661756779067218,0.0023837503977119923,0.0015173490392044187],[0.3586027920246124,0.10367269068956375,0.4815979599952698,0.009928400628268719,0.03084094077348709,0.0017966675804927945,0.0004982450045645237,0.013063127174973488],[0.0005793988239020109,0.0002459466049913317,0.0002185478515457362,0.000270027230726555,0.0013606586726382375,0.9937530755996704,0.002253646496683359,0.0013188573066145182],[0.04938633367419243,0.02634953148663044,0.018402474001049995,0.01031226385384798,0.7248654961585999,0.03882462903857231,0.11274494975805283,0.019114237278699875],[0.0002476288937032223,0.00014439245569519699,9.689645958133042e-05,5.863437763764523e-05,2.6521552172198426e-06,0.0002103250881191343,0.9992278218269348,1.1652907232928555e-05],[0.03885957598686218,0.2546241879463196,0.04334506019949913,0.04490484297275543,0.2025327831506729,0.3134497106075287,0.09001661092042923,0.012267201207578182],[0.004141136072576046,0.004385257605463266,0.010346543043851852,0.06446536630392075,0.0029017720371484756,0.007811599411070347,0.007348623126745224,0.8985996842384338],[0.04773643985390663,0.09959903359413147,0.10708749294281006,0.704691469669342,0.0067106555216014385,0.003139645094051957,0.011323846876621246,0.019711676985025406],[0.4754627048969269,0.02873150072991848,0.06368735432624817,0.032147862017154694,0.3862423598766327,0.0028335172683000565,0.002544278046116233,0.008349926210939884],[0.19811204075813293,0.15874968469142914,0.16583722829818726,0.03626523166894913,0.1950610876083374,0.12608762085437775,0.09477539360523224,0.025111518800258636],[0.04672913998365402,0.0735243707895279,0.057244788855314255,0.015802543610334396,0.31973886489868164,0.26840636134147644,0.19851729273796082,0.020036181434988976],[0.0169257503002882,0.0010254014050588012,0.010664409026503563,0.0015906929038465023,0.9408483505249023,0.010732650756835938,0.010102471336722374,0.00811032485216856],[0.004795885179191828,0.013731338083744049,0.008551940321922302,0.0017096914816647768,0.049973804503679276,0.9123013019561768,0.008360871113836765,0.0005751546705141664],[0.007474340032786131,0.0005488938186317682,0.00526469387114048,0.00045276148011907935,0.9615497589111328,0.0156177943572402,0.008211473003029823,0.0008801835356280208]],\"type\":\"heatmap\",\"xaxis\":\"x\",\"yaxis\":\"y\",\"hovertemplate\":\"Bracket: %{x}<br>y: %{y}<br>Conditional Probability: %{z}<extra></extra>\"}],                        {\"template\":{\"data\":{\"histogram2dcontour\":[{\"type\":\"histogram2dcontour\",\"colorbar\":{\"outlinewidth\":0,\"ticks\":\"\"},\"colorscale\":[[0.0,\"#0d0887\"],[0.1111111111111111,\"#46039f\"],[0.2222222222222222,\"#7201a8\"],[0.3333333333333333,\"#9c179e\"],[0.4444444444444444,\"#bd3786\"],[0.5555555555555556,\"#d8576b\"],[0.6666666666666666,\"#ed7953\"],[0.7777777777777778,\"#fb9f3a\"],[0.8888888888888888,\"#fdca26\"],[1.0,\"#f0f921\"]]}],\"choropleth\":[{\"type\":\"choropleth\",\"colorbar\":{\"outlinewidth\":0,\"ticks\":\"\"}}],\"histogram2d\":[{\"type\":\"histogram2d\",\"colorbar\":{\"outlinewidth\":0,\"ticks\":\"\"},\"colorscale\":[[0.0,\"#0d0887\"],[0.1111111111111111,\"#46039f\"],[0.2222222222222222,\"#7201a8\"],[0.3333333333333333,\"#9c179e\"],[0.4444444444444444,\"#bd3786\"],[0.5555555555555556,\"#d8576b\"],[0.6666666666666666,\"#ed7953\"],[0.7777777777777778,\"#fb9f3a\"],[0.8888888888888888,\"#fdca26\"],[1.0,\"#f0f921\"]]}],\"heatmap\":[{\"type\":\"heatmap\",\"colorbar\":{\"outlinewidth\":0,\"ticks\":\"\"},\"colorscale\":[[0.0,\"#0d0887\"],[0.1111111111111111,\"#46039f\"],[0.2222222222222222,\"#7201a8\"],[0.3333333333333333,\"#9c179e\"],[0.4444444444444444,\"#bd3786\"],[0.5555555555555556,\"#d8576b\"],[0.6666666666666666,\"#ed7953\"],[0.7777777777777778,\"#fb9f3a\"],[0.8888888888888888,\"#fdca26\"],[1.0,\"#f0f921\"]]}],\"heatmapgl\":[{\"type\":\"heatmapgl\",\"colorbar\":{\"outlinewidth\":0,\"ticks\":\"\"},\"colorscale\":[[0.0,\"#0d0887\"],[0.1111111111111111,\"#46039f\"],[0.2222222222222222,\"#7201a8\"],[0.3333333333333333,\"#9c179e\"],[0.4444444444444444,\"#bd3786\"],[0.5555555555555556,\"#d8576b\"],[0.6666666666666666,\"#ed7953\"],[0.7777777777777778,\"#fb9f3a\"],[0.8888888888888888,\"#fdca26\"],[1.0,\"#f0f921\"]]}],\"contourcarpet\":[{\"type\":\"contourcarpet\",\"colorbar\":{\"outlinewidth\":0,\"ticks\":\"\"}}],\"contour\":[{\"type\":\"contour\",\"colorbar\":{\"outlinewidth\":0,\"ticks\":\"\"},\"colorscale\":[[0.0,\"#0d0887\"],[0.1111111111111111,\"#46039f\"],[0.2222222222222222,\"#7201a8\"],[0.3333333333333333,\"#9c179e\"],[0.4444444444444444,\"#bd3786\"],[0.5555555555555556,\"#d8576b\"],[0.6666666666666666,\"#ed7953\"],[0.7777777777777778,\"#fb9f3a\"],[0.8888888888888888,\"#fdca26\"],[1.0,\"#f0f921\"]]}],\"surface\":[{\"type\":\"surface\",\"colorbar\":{\"outlinewidth\":0,\"ticks\":\"\"},\"colorscale\":[[0.0,\"#0d0887\"],[0.1111111111111111,\"#46039f\"],[0.2222222222222222,\"#7201a8\"],[0.3333333333333333,\"#9c179e\"],[0.4444444444444444,\"#bd3786\"],[0.5555555555555556,\"#d8576b\"],[0.6666666666666666,\"#ed7953\"],[0.7777777777777778,\"#fb9f3a\"],[0.8888888888888888,\"#fdca26\"],[1.0,\"#f0f921\"]]}],\"mesh3d\":[{\"type\":\"mesh3d\",\"colorbar\":{\"outlinewidth\":0,\"ticks\":\"\"}}],\"scatter\":[{\"fillpattern\":{\"fillmode\":\"overlay\",\"size\":10,\"solidity\":0.2},\"type\":\"scatter\"}],\"parcoords\":[{\"type\":\"parcoords\",\"line\":{\"colorbar\":{\"outlinewidth\":0,\"ticks\":\"\"}}}],\"scatterpolargl\":[{\"type\":\"scatterpolargl\",\"marker\":{\"colorbar\":{\"outlinewidth\":0,\"ticks\":\"\"}}}],\"bar\":[{\"error_x\":{\"color\":\"#2a3f5f\"},\"error_y\":{\"color\":\"#2a3f5f\"},\"marker\":{\"line\":{\"color\":\"#E5ECF6\",\"width\":0.5},\"pattern\":{\"fillmode\":\"overlay\",\"size\":10,\"solidity\":0.2}},\"type\":\"bar\"}],\"scattergeo\":[{\"type\":\"scattergeo\",\"marker\":{\"colorbar\":{\"outlinewidth\":0,\"ticks\":\"\"}}}],\"scatterpolar\":[{\"type\":\"scatterpolar\",\"marker\":{\"colorbar\":{\"outlinewidth\":0,\"ticks\":\"\"}}}],\"histogram\":[{\"marker\":{\"pattern\":{\"fillmode\":\"overlay\",\"size\":10,\"solidity\":0.2}},\"type\":\"histogram\"}],\"scattergl\":[{\"type\":\"scattergl\",\"marker\":{\"colorbar\":{\"outlinewidth\":0,\"ticks\":\"\"}}}],\"scatter3d\":[{\"type\":\"scatter3d\",\"line\":{\"colorbar\":{\"outlinewidth\":0,\"ticks\":\"\"}},\"marker\":{\"colorbar\":{\"outlinewidth\":0,\"ticks\":\"\"}}}],\"scattermapbox\":[{\"type\":\"scattermapbox\",\"marker\":{\"colorbar\":{\"outlinewidth\":0,\"ticks\":\"\"}}}],\"scatterternary\":[{\"type\":\"scatterternary\",\"marker\":{\"colorbar\":{\"outlinewidth\":0,\"ticks\":\"\"}}}],\"scattercarpet\":[{\"type\":\"scattercarpet\",\"marker\":{\"colorbar\":{\"outlinewidth\":0,\"ticks\":\"\"}}}],\"carpet\":[{\"aaxis\":{\"endlinecolor\":\"#2a3f5f\",\"gridcolor\":\"white\",\"linecolor\":\"white\",\"minorgridcolor\":\"white\",\"startlinecolor\":\"#2a3f5f\"},\"baxis\":{\"endlinecolor\":\"#2a3f5f\",\"gridcolor\":\"white\",\"linecolor\":\"white\",\"minorgridcolor\":\"white\",\"startlinecolor\":\"#2a3f5f\"},\"type\":\"carpet\"}],\"table\":[{\"cells\":{\"fill\":{\"color\":\"#EBF0F8\"},\"line\":{\"color\":\"white\"}},\"header\":{\"fill\":{\"color\":\"#C8D4E3\"},\"line\":{\"color\":\"white\"}},\"type\":\"table\"}],\"barpolar\":[{\"marker\":{\"line\":{\"color\":\"#E5ECF6\",\"width\":0.5},\"pattern\":{\"fillmode\":\"overlay\",\"size\":10,\"solidity\":0.2}},\"type\":\"barpolar\"}],\"pie\":[{\"automargin\":true,\"type\":\"pie\"}]},\"layout\":{\"autotypenumbers\":\"strict\",\"colorway\":[\"#636efa\",\"#EF553B\",\"#00cc96\",\"#ab63fa\",\"#FFA15A\",\"#19d3f3\",\"#FF6692\",\"#B6E880\",\"#FF97FF\",\"#FECB52\"],\"font\":{\"color\":\"#2a3f5f\"},\"hovermode\":\"closest\",\"hoverlabel\":{\"align\":\"left\"},\"paper_bgcolor\":\"white\",\"plot_bgcolor\":\"#E5ECF6\",\"polar\":{\"bgcolor\":\"#E5ECF6\",\"angularaxis\":{\"gridcolor\":\"white\",\"linecolor\":\"white\",\"ticks\":\"\"},\"radialaxis\":{\"gridcolor\":\"white\",\"linecolor\":\"white\",\"ticks\":\"\"}},\"ternary\":{\"bgcolor\":\"#E5ECF6\",\"aaxis\":{\"gridcolor\":\"white\",\"linecolor\":\"white\",\"ticks\":\"\"},\"baxis\":{\"gridcolor\":\"white\",\"linecolor\":\"white\",\"ticks\":\"\"},\"caxis\":{\"gridcolor\":\"white\",\"linecolor\":\"white\",\"ticks\":\"\"}},\"coloraxis\":{\"colorbar\":{\"outlinewidth\":0,\"ticks\":\"\"}},\"colorscale\":{\"sequential\":[[0.0,\"#0d0887\"],[0.1111111111111111,\"#46039f\"],[0.2222222222222222,\"#7201a8\"],[0.3333333333333333,\"#9c179e\"],[0.4444444444444444,\"#bd3786\"],[0.5555555555555556,\"#d8576b\"],[0.6666666666666666,\"#ed7953\"],[0.7777777777777778,\"#fb9f3a\"],[0.8888888888888888,\"#fdca26\"],[1.0,\"#f0f921\"]],\"sequentialminus\":[[0.0,\"#0d0887\"],[0.1111111111111111,\"#46039f\"],[0.2222222222222222,\"#7201a8\"],[0.3333333333333333,\"#9c179e\"],[0.4444444444444444,\"#bd3786\"],[0.5555555555555556,\"#d8576b\"],[0.6666666666666666,\"#ed7953\"],[0.7777777777777778,\"#fb9f3a\"],[0.8888888888888888,\"#fdca26\"],[1.0,\"#f0f921\"]],\"diverging\":[[0,\"#8e0152\"],[0.1,\"#c51b7d\"],[0.2,\"#de77ae\"],[0.3,\"#f1b6da\"],[0.4,\"#fde0ef\"],[0.5,\"#f7f7f7\"],[0.6,\"#e6f5d0\"],[0.7,\"#b8e186\"],[0.8,\"#7fbc41\"],[0.9,\"#4d9221\"],[1,\"#276419\"]]},\"xaxis\":{\"gridcolor\":\"white\",\"linecolor\":\"white\",\"ticks\":\"\",\"title\":{\"standoff\":15},\"zerolinecolor\":\"white\",\"automargin\":true,\"zerolinewidth\":2},\"yaxis\":{\"gridcolor\":\"white\",\"linecolor\":\"white\",\"ticks\":\"\",\"title\":{\"standoff\":15},\"zerolinecolor\":\"white\",\"automargin\":true,\"zerolinewidth\":2},\"scene\":{\"xaxis\":{\"backgroundcolor\":\"#E5ECF6\",\"gridcolor\":\"white\",\"linecolor\":\"white\",\"showbackground\":true,\"ticks\":\"\",\"zerolinecolor\":\"white\",\"gridwidth\":2},\"yaxis\":{\"backgroundcolor\":\"#E5ECF6\",\"gridcolor\":\"white\",\"linecolor\":\"white\",\"showbackground\":true,\"ticks\":\"\",\"zerolinecolor\":\"white\",\"gridwidth\":2},\"zaxis\":{\"backgroundcolor\":\"#E5ECF6\",\"gridcolor\":\"white\",\"linecolor\":\"white\",\"showbackground\":true,\"ticks\":\"\",\"zerolinecolor\":\"white\",\"gridwidth\":2}},\"shapedefaults\":{\"line\":{\"color\":\"#2a3f5f\"}},\"annotationdefaults\":{\"arrowcolor\":\"#2a3f5f\",\"arrowhead\":0,\"arrowwidth\":1},\"geo\":{\"bgcolor\":\"white\",\"landcolor\":\"#E5ECF6\",\"subunitcolor\":\"white\",\"showland\":true,\"showlakes\":true,\"lakecolor\":\"white\"},\"title\":{\"x\":0.05},\"mapbox\":{\"style\":\"light\"}}},\"xaxis\":{\"anchor\":\"y\",\"domain\":[0.0,1.0],\"scaleanchor\":\"y\",\"constrain\":\"domain\",\"title\":{\"text\":\"Bracket\"}},\"yaxis\":{\"anchor\":\"x\",\"domain\":[0.0,1.0],\"autorange\":\"reversed\",\"constrain\":\"domain\"},\"coloraxis\":{\"colorbar\":{\"title\":{\"text\":\"Conditional Probability\"}},\"colorscale\":[[0.0,\"rgb(247,251,255)\"],[0.125,\"rgb(222,235,247)\"],[0.25,\"rgb(198,219,239)\"],[0.375,\"rgb(158,202,225)\"],[0.5,\"rgb(107,174,214)\"],[0.625,\"rgb(66,146,198)\"],[0.75,\"rgb(33,113,181)\"],[0.875,\"rgb(8,81,156)\"],[1.0,\"rgb(8,48,107)\"]]},\"margin\":{\"t\":60},\"height\":1080,\"annotations\":[{\"font\":{\"color\":\"orange\"},\"showarrow\":false,\"text\":\"(\",\"x\":0,\"y\":0},{\"font\":{\"color\":\"orange\"},\"showarrow\":false,\"text\":\"(\",\"x\":0,\"y\":1},{\"font\":{\"color\":\"orange\"},\"showarrow\":false,\"text\":\"(\",\"x\":0,\"y\":2},{\"font\":{\"color\":\"orange\"},\"showarrow\":false,\"text\":\"(\",\"x\":0,\"y\":3},{\"font\":{\"color\":\"orange\"},\"showarrow\":false,\"text\":\"(\",\"x\":0,\"y\":4},{\"font\":{\"color\":\"orange\"},\"showarrow\":false,\"text\":\"(\",\"x\":0,\"y\":5},{\"font\":{\"color\":\"orange\"},\"showarrow\":false,\"text\":\"(\",\"x\":0,\"y\":6},{\"font\":{\"color\":\"orange\"},\"showarrow\":false,\"text\":\"(\",\"x\":0,\"y\":7},{\"font\":{\"color\":\"orange\"},\"showarrow\":false,\"text\":\"(\",\"x\":0,\"y\":8},{\"font\":{\"color\":\"orange\"},\"showarrow\":false,\"text\":\"(\",\"x\":0,\"y\":9},{\"font\":{\"color\":\"orange\"},\"showarrow\":false,\"text\":\"(\",\"x\":0,\"y\":10},{\"font\":{\"color\":\"orange\"},\"showarrow\":false,\"text\":\"(\",\"x\":0,\"y\":11},{\"font\":{\"color\":\"orange\"},\"showarrow\":false,\"text\":\"(\",\"x\":0,\"y\":12},{\"font\":{\"color\":\"orange\"},\"showarrow\":false,\"text\":\"(\",\"x\":0,\"y\":13},{\"font\":{\"color\":\"orange\"},\"showarrow\":false,\"text\":\"(\",\"x\":0,\"y\":14},{\"font\":{\"color\":\"orange\"},\"showarrow\":false,\"text\":\"(\",\"x\":0,\"y\":15},{\"font\":{\"color\":\"orange\"},\"showarrow\":false,\"text\":\"(\",\"x\":0,\"y\":16},{\"font\":{\"color\":\"orange\"},\"showarrow\":false,\"text\":\"(\",\"x\":0,\"y\":17},{\"font\":{\"color\":\"orange\"},\"showarrow\":false,\"text\":\"(\",\"x\":0,\"y\":18},{\"font\":{\"color\":\"orange\"},\"showarrow\":false,\"text\":\"(\",\"x\":0,\"y\":19},{\"font\":{\"color\":\"orange\"},\"showarrow\":false,\"text\":\"(\",\"x\":0,\"y\":20},{\"font\":{\"color\":\"orange\"},\"showarrow\":false,\"text\":\"(\",\"x\":0,\"y\":21},{\"font\":{\"color\":\"orange\"},\"showarrow\":false,\"text\":\"(\",\"x\":0,\"y\":22},{\"font\":{\"color\":\"orange\"},\"showarrow\":false,\"text\":\"(\",\"x\":0,\"y\":23},{\"font\":{\"color\":\"orange\"},\"showarrow\":false,\"text\":\"(\",\"x\":0,\"y\":24},{\"font\":{\"color\":\"orange\"},\"showarrow\":false,\"text\":\"(\",\"x\":0,\"y\":25},{\"font\":{\"color\":\"orange\"},\"showarrow\":false,\"text\":\"(\",\"x\":0,\"y\":26},{\"font\":{\"color\":\"orange\"},\"showarrow\":false,\"text\":\"(\",\"x\":0,\"y\":27},{\"font\":{\"color\":\"orange\"},\"showarrow\":false,\"text\":\"(\",\"x\":0,\"y\":28},{\"font\":{\"color\":\"orange\"},\"showarrow\":false,\"text\":\"(\",\"x\":0,\"y\":29},{\"font\":{\"color\":\"orange\"},\"showarrow\":false,\"text\":\"(\",\"x\":0,\"y\":30},{\"font\":{\"color\":\"orange\"},\"showarrow\":false,\"text\":\"(\",\"x\":0,\"y\":31},{\"font\":{\"color\":\"orange\"},\"showarrow\":false,\"text\":\"(\",\"x\":0,\"y\":32},{\"font\":{\"color\":\"orange\"},\"showarrow\":false,\"text\":\"(\",\"x\":0,\"y\":33},{\"font\":{\"color\":\"orange\"},\"showarrow\":false,\"text\":\"(\",\"x\":0,\"y\":34},{\"font\":{\"color\":\"orange\"},\"showarrow\":false,\"text\":\"(\",\"x\":0,\"y\":35},{\"font\":{\"color\":\"orange\"},\"showarrow\":false,\"text\":\"[\",\"x\":1,\"y\":0},{\"font\":{\"color\":\"orange\"},\"showarrow\":false,\"text\":\"[\",\"x\":1,\"y\":1},{\"font\":{\"color\":\"orange\"},\"showarrow\":false,\"text\":\"[\",\"x\":1,\"y\":2},{\"font\":{\"color\":\"orange\"},\"showarrow\":false,\"text\":\"[\",\"x\":1,\"y\":3},{\"font\":{\"color\":\"orange\"},\"showarrow\":false,\"text\":\"[\",\"x\":1,\"y\":4},{\"font\":{\"color\":\"orange\"},\"showarrow\":false,\"text\":\"[\",\"x\":1,\"y\":5},{\"font\":{\"color\":\"orange\"},\"showarrow\":false,\"text\":\"[\",\"x\":1,\"y\":6},{\"font\":{\"color\":\"orange\"},\"showarrow\":false,\"text\":\"[\",\"x\":1,\"y\":7},{\"font\":{\"color\":\"orange\"},\"showarrow\":false,\"text\":\"[\",\"x\":1,\"y\":8},{\"font\":{\"color\":\"orange\"},\"showarrow\":false,\"text\":\"[\",\"x\":1,\"y\":9},{\"font\":{\"color\":\"orange\"},\"showarrow\":false,\"text\":\"[\",\"x\":1,\"y\":10},{\"font\":{\"color\":\"orange\"},\"showarrow\":false,\"text\":\"[\",\"x\":1,\"y\":11},{\"font\":{\"color\":\"orange\"},\"showarrow\":false,\"text\":\"[\",\"x\":1,\"y\":12},{\"font\":{\"color\":\"orange\"},\"showarrow\":false,\"text\":\"[\",\"x\":1,\"y\":13},{\"font\":{\"color\":\"orange\"},\"showarrow\":false,\"text\":\"[\",\"x\":1,\"y\":14},{\"font\":{\"color\":\"orange\"},\"showarrow\":false,\"text\":\"[\",\"x\":1,\"y\":15},{\"font\":{\"color\":\"orange\"},\"showarrow\":false,\"text\":\"[\",\"x\":1,\"y\":16},{\"font\":{\"color\":\"orange\"},\"showarrow\":false,\"text\":\"[\",\"x\":1,\"y\":17},{\"font\":{\"color\":\"orange\"},\"showarrow\":false,\"text\":\"[\",\"x\":1,\"y\":18},{\"font\":{\"color\":\"orange\"},\"showarrow\":false,\"text\":\"[\",\"x\":1,\"y\":19},{\"font\":{\"color\":\"orange\"},\"showarrow\":false,\"text\":\"[\",\"x\":1,\"y\":20},{\"font\":{\"color\":\"orange\"},\"showarrow\":false,\"text\":\"[\",\"x\":1,\"y\":21},{\"font\":{\"color\":\"orange\"},\"showarrow\":false,\"text\":\"[\",\"x\":1,\"y\":22},{\"font\":{\"color\":\"orange\"},\"showarrow\":false,\"text\":\"[\",\"x\":1,\"y\":23},{\"font\":{\"color\":\"orange\"},\"showarrow\":false,\"text\":\"[\",\"x\":1,\"y\":24},{\"font\":{\"color\":\"orange\"},\"showarrow\":false,\"text\":\"[\",\"x\":1,\"y\":25},{\"font\":{\"color\":\"orange\"},\"showarrow\":false,\"text\":\"[\",\"x\":1,\"y\":26},{\"font\":{\"color\":\"orange\"},\"showarrow\":false,\"text\":\"[\",\"x\":1,\"y\":27},{\"font\":{\"color\":\"orange\"},\"showarrow\":false,\"text\":\"[\",\"x\":1,\"y\":28},{\"font\":{\"color\":\"orange\"},\"showarrow\":false,\"text\":\"[\",\"x\":1,\"y\":29},{\"font\":{\"color\":\"orange\"},\"showarrow\":false,\"text\":\"[\",\"x\":1,\"y\":30},{\"font\":{\"color\":\"orange\"},\"showarrow\":false,\"text\":\"[\",\"x\":1,\"y\":31},{\"font\":{\"color\":\"orange\"},\"showarrow\":false,\"text\":\"[\",\"x\":1,\"y\":32},{\"font\":{\"color\":\"orange\"},\"showarrow\":false,\"text\":\"[\",\"x\":1,\"y\":33},{\"font\":{\"color\":\"orange\"},\"showarrow\":false,\"text\":\"[\",\"x\":1,\"y\":34},{\"font\":{\"color\":\"orange\"},\"showarrow\":false,\"text\":\"[\",\"x\":1,\"y\":35},{\"font\":{\"color\":\"orange\"},\"showarrow\":false,\"text\":\"{\",\"x\":2,\"y\":0},{\"font\":{\"color\":\"orange\"},\"showarrow\":false,\"text\":\"{\",\"x\":2,\"y\":1},{\"font\":{\"color\":\"orange\"},\"showarrow\":false,\"text\":\"{\",\"x\":2,\"y\":2},{\"font\":{\"color\":\"orange\"},\"showarrow\":false,\"text\":\"{\",\"x\":2,\"y\":3},{\"font\":{\"color\":\"orange\"},\"showarrow\":false,\"text\":\"{\",\"x\":2,\"y\":4},{\"font\":{\"color\":\"orange\"},\"showarrow\":false,\"text\":\"{\",\"x\":2,\"y\":5},{\"font\":{\"color\":\"orange\"},\"showarrow\":false,\"text\":\"{\",\"x\":2,\"y\":6},{\"font\":{\"color\":\"orange\"},\"showarrow\":false,\"text\":\"{\",\"x\":2,\"y\":7},{\"font\":{\"color\":\"orange\"},\"showarrow\":false,\"text\":\"{\",\"x\":2,\"y\":8},{\"font\":{\"color\":\"orange\"},\"showarrow\":false,\"text\":\"{\",\"x\":2,\"y\":9},{\"font\":{\"color\":\"orange\"},\"showarrow\":false,\"text\":\"{\",\"x\":2,\"y\":10},{\"font\":{\"color\":\"orange\"},\"showarrow\":false,\"text\":\"{\",\"x\":2,\"y\":11},{\"font\":{\"color\":\"orange\"},\"showarrow\":false,\"text\":\"{\",\"x\":2,\"y\":12},{\"font\":{\"color\":\"orange\"},\"showarrow\":false,\"text\":\"{\",\"x\":2,\"y\":13},{\"font\":{\"color\":\"orange\"},\"showarrow\":false,\"text\":\"{\",\"x\":2,\"y\":14},{\"font\":{\"color\":\"orange\"},\"showarrow\":false,\"text\":\"{\",\"x\":2,\"y\":15},{\"font\":{\"color\":\"orange\"},\"showarrow\":false,\"text\":\"{\",\"x\":2,\"y\":16},{\"font\":{\"color\":\"orange\"},\"showarrow\":false,\"text\":\"{\",\"x\":2,\"y\":17},{\"font\":{\"color\":\"orange\"},\"showarrow\":false,\"text\":\"{\",\"x\":2,\"y\":18},{\"font\":{\"color\":\"orange\"},\"showarrow\":false,\"text\":\"{\",\"x\":2,\"y\":19},{\"font\":{\"color\":\"orange\"},\"showarrow\":false,\"text\":\"{\",\"x\":2,\"y\":20},{\"font\":{\"color\":\"orange\"},\"showarrow\":false,\"text\":\"{\",\"x\":2,\"y\":21},{\"font\":{\"color\":\"orange\"},\"showarrow\":false,\"text\":\"{\",\"x\":2,\"y\":22},{\"font\":{\"color\":\"orange\"},\"showarrow\":false,\"text\":\"{\",\"x\":2,\"y\":23},{\"font\":{\"color\":\"orange\"},\"showarrow\":false,\"text\":\"{\",\"x\":2,\"y\":24},{\"font\":{\"color\":\"orange\"},\"showarrow\":false,\"text\":\"{\",\"x\":2,\"y\":25},{\"font\":{\"color\":\"orange\"},\"showarrow\":false,\"text\":\"{\",\"x\":2,\"y\":26},{\"font\":{\"color\":\"orange\"},\"showarrow\":false,\"text\":\"{\",\"x\":2,\"y\":27},{\"font\":{\"color\":\"orange\"},\"showarrow\":false,\"text\":\"{\",\"x\":2,\"y\":28},{\"font\":{\"color\":\"orange\"},\"showarrow\":false,\"text\":\"{\",\"x\":2,\"y\":29},{\"font\":{\"color\":\"orange\"},\"showarrow\":false,\"text\":\"{\",\"x\":2,\"y\":30},{\"font\":{\"color\":\"orange\"},\"showarrow\":false,\"text\":\"{\",\"x\":2,\"y\":31},{\"font\":{\"color\":\"orange\"},\"showarrow\":false,\"text\":\"{\",\"x\":2,\"y\":32},{\"font\":{\"color\":\"orange\"},\"showarrow\":false,\"text\":\"{\",\"x\":2,\"y\":33},{\"font\":{\"color\":\"orange\"},\"showarrow\":false,\"text\":\"{\",\"x\":2,\"y\":34},{\"font\":{\"color\":\"orange\"},\"showarrow\":false,\"text\":\"{\",\"x\":2,\"y\":35},{\"font\":{\"color\":\"orange\"},\"showarrow\":false,\"text\":\"<\",\"x\":3,\"y\":0},{\"font\":{\"color\":\"orange\"},\"showarrow\":false,\"text\":\"<\",\"x\":3,\"y\":1},{\"font\":{\"color\":\"orange\"},\"showarrow\":false,\"text\":\"<\",\"x\":3,\"y\":2},{\"font\":{\"color\":\"orange\"},\"showarrow\":false,\"text\":\"<\",\"x\":3,\"y\":3},{\"font\":{\"color\":\"orange\"},\"showarrow\":false,\"text\":\"<\",\"x\":3,\"y\":4},{\"font\":{\"color\":\"orange\"},\"showarrow\":false,\"text\":\"<\",\"x\":3,\"y\":5},{\"font\":{\"color\":\"orange\"},\"showarrow\":false,\"text\":\"<\",\"x\":3,\"y\":6},{\"font\":{\"color\":\"orange\"},\"showarrow\":false,\"text\":\"<\",\"x\":3,\"y\":7},{\"font\":{\"color\":\"orange\"},\"showarrow\":false,\"text\":\"<\",\"x\":3,\"y\":8},{\"font\":{\"color\":\"orange\"},\"showarrow\":false,\"text\":\"<\",\"x\":3,\"y\":9},{\"font\":{\"color\":\"orange\"},\"showarrow\":false,\"text\":\"<\",\"x\":3,\"y\":10},{\"font\":{\"color\":\"orange\"},\"showarrow\":false,\"text\":\"<\",\"x\":3,\"y\":11},{\"font\":{\"color\":\"orange\"},\"showarrow\":false,\"text\":\"<\",\"x\":3,\"y\":12},{\"font\":{\"color\":\"orange\"},\"showarrow\":false,\"text\":\"<\",\"x\":3,\"y\":13},{\"font\":{\"color\":\"orange\"},\"showarrow\":false,\"text\":\"<\",\"x\":3,\"y\":14},{\"font\":{\"color\":\"orange\"},\"showarrow\":false,\"text\":\"<\",\"x\":3,\"y\":15},{\"font\":{\"color\":\"orange\"},\"showarrow\":false,\"text\":\"<\",\"x\":3,\"y\":16},{\"font\":{\"color\":\"orange\"},\"showarrow\":false,\"text\":\"<\",\"x\":3,\"y\":17},{\"font\":{\"color\":\"orange\"},\"showarrow\":false,\"text\":\"<\",\"x\":3,\"y\":18},{\"font\":{\"color\":\"orange\"},\"showarrow\":false,\"text\":\"<\",\"x\":3,\"y\":19},{\"font\":{\"color\":\"orange\"},\"showarrow\":false,\"text\":\"<\",\"x\":3,\"y\":20},{\"font\":{\"color\":\"orange\"},\"showarrow\":false,\"text\":\"<\",\"x\":3,\"y\":21},{\"font\":{\"color\":\"orange\"},\"showarrow\":false,\"text\":\"<\",\"x\":3,\"y\":22},{\"font\":{\"color\":\"orange\"},\"showarrow\":false,\"text\":\"<\",\"x\":3,\"y\":23},{\"font\":{\"color\":\"orange\"},\"showarrow\":false,\"text\":\"<\",\"x\":3,\"y\":24},{\"font\":{\"color\":\"orange\"},\"showarrow\":false,\"text\":\"<\",\"x\":3,\"y\":25},{\"font\":{\"color\":\"orange\"},\"showarrow\":false,\"text\":\"<\",\"x\":3,\"y\":26},{\"font\":{\"color\":\"orange\"},\"showarrow\":false,\"text\":\"<\",\"x\":3,\"y\":27},{\"font\":{\"color\":\"orange\"},\"showarrow\":false,\"text\":\"<\",\"x\":3,\"y\":28},{\"font\":{\"color\":\"orange\"},\"showarrow\":false,\"text\":\"<\",\"x\":3,\"y\":29},{\"font\":{\"color\":\"orange\"},\"showarrow\":false,\"text\":\"<\",\"x\":3,\"y\":30},{\"font\":{\"color\":\"orange\"},\"showarrow\":false,\"text\":\"<\",\"x\":3,\"y\":31},{\"font\":{\"color\":\"orange\"},\"showarrow\":false,\"text\":\"<\",\"x\":3,\"y\":32},{\"font\":{\"color\":\"orange\"},\"showarrow\":false,\"text\":\"<\",\"x\":3,\"y\":33},{\"font\":{\"color\":\"orange\"},\"showarrow\":false,\"text\":\"<\",\"x\":3,\"y\":34},{\"font\":{\"color\":\"orange\"},\"showarrow\":false,\"text\":\"<\",\"x\":3,\"y\":35},{\"font\":{\"color\":\"orange\"},\"showarrow\":false,\"text\":\")\",\"x\":4,\"y\":0},{\"font\":{\"color\":\"orange\"},\"showarrow\":false,\"text\":\")\",\"x\":4,\"y\":1},{\"font\":{\"color\":\"orange\"},\"showarrow\":false,\"text\":\")\",\"x\":4,\"y\":2},{\"font\":{\"color\":\"orange\"},\"showarrow\":false,\"text\":\")\",\"x\":4,\"y\":3},{\"font\":{\"color\":\"orange\"},\"showarrow\":false,\"text\":\")\",\"x\":4,\"y\":4},{\"font\":{\"color\":\"orange\"},\"showarrow\":false,\"text\":\")\",\"x\":4,\"y\":5},{\"font\":{\"color\":\"orange\"},\"showarrow\":false,\"text\":\")\",\"x\":4,\"y\":6},{\"font\":{\"color\":\"orange\"},\"showarrow\":false,\"text\":\")\",\"x\":4,\"y\":7},{\"font\":{\"color\":\"orange\"},\"showarrow\":false,\"text\":\")\",\"x\":4,\"y\":8},{\"font\":{\"color\":\"orange\"},\"showarrow\":false,\"text\":\")\",\"x\":4,\"y\":9},{\"font\":{\"color\":\"orange\"},\"showarrow\":false,\"text\":\")\",\"x\":4,\"y\":10},{\"font\":{\"color\":\"orange\"},\"showarrow\":false,\"text\":\")\",\"x\":4,\"y\":11},{\"font\":{\"color\":\"orange\"},\"showarrow\":false,\"text\":\")\",\"x\":4,\"y\":12},{\"font\":{\"color\":\"orange\"},\"showarrow\":false,\"text\":\")\",\"x\":4,\"y\":13},{\"font\":{\"color\":\"orange\"},\"showarrow\":false,\"text\":\")\",\"x\":4,\"y\":14},{\"font\":{\"color\":\"orange\"},\"showarrow\":false,\"text\":\")\",\"x\":4,\"y\":15},{\"font\":{\"color\":\"orange\"},\"showarrow\":false,\"text\":\")\",\"x\":4,\"y\":16},{\"font\":{\"color\":\"orange\"},\"showarrow\":false,\"text\":\")\",\"x\":4,\"y\":17},{\"font\":{\"color\":\"orange\"},\"showarrow\":false,\"text\":\")\",\"x\":4,\"y\":18},{\"font\":{\"color\":\"orange\"},\"showarrow\":false,\"text\":\")\",\"x\":4,\"y\":19},{\"font\":{\"color\":\"orange\"},\"showarrow\":false,\"text\":\")\",\"x\":4,\"y\":20},{\"font\":{\"color\":\"orange\"},\"showarrow\":false,\"text\":\")\",\"x\":4,\"y\":21},{\"font\":{\"color\":\"orange\"},\"showarrow\":false,\"text\":\")\",\"x\":4,\"y\":22},{\"font\":{\"color\":\"orange\"},\"showarrow\":false,\"text\":\")\",\"x\":4,\"y\":23},{\"font\":{\"color\":\"orange\"},\"showarrow\":false,\"text\":\")\",\"x\":4,\"y\":24},{\"font\":{\"color\":\"orange\"},\"showarrow\":false,\"text\":\")\",\"x\":4,\"y\":25},{\"font\":{\"color\":\"orange\"},\"showarrow\":false,\"text\":\")\",\"x\":4,\"y\":26},{\"font\":{\"color\":\"orange\"},\"showarrow\":false,\"text\":\")\",\"x\":4,\"y\":27},{\"font\":{\"color\":\"orange\"},\"showarrow\":false,\"text\":\")\",\"x\":4,\"y\":28},{\"font\":{\"color\":\"orange\"},\"showarrow\":false,\"text\":\")\",\"x\":4,\"y\":29},{\"font\":{\"color\":\"orange\"},\"showarrow\":false,\"text\":\")\",\"x\":4,\"y\":30},{\"font\":{\"color\":\"orange\"},\"showarrow\":false,\"text\":\")\",\"x\":4,\"y\":31},{\"font\":{\"color\":\"orange\"},\"showarrow\":false,\"text\":\")\",\"x\":4,\"y\":32},{\"font\":{\"color\":\"orange\"},\"showarrow\":false,\"text\":\")\",\"x\":4,\"y\":33},{\"font\":{\"color\":\"orange\"},\"showarrow\":false,\"text\":\")\",\"x\":4,\"y\":34},{\"font\":{\"color\":\"orange\"},\"showarrow\":false,\"text\":\")\",\"x\":4,\"y\":35},{\"font\":{\"color\":\"orange\"},\"showarrow\":false,\"text\":\"]\",\"x\":5,\"y\":0},{\"font\":{\"color\":\"orange\"},\"showarrow\":false,\"text\":\"]\",\"x\":5,\"y\":1},{\"font\":{\"color\":\"orange\"},\"showarrow\":false,\"text\":\"]\",\"x\":5,\"y\":2},{\"font\":{\"color\":\"orange\"},\"showarrow\":false,\"text\":\"]\",\"x\":5,\"y\":3},{\"font\":{\"color\":\"orange\"},\"showarrow\":false,\"text\":\"]\",\"x\":5,\"y\":4},{\"font\":{\"color\":\"orange\"},\"showarrow\":false,\"text\":\"]\",\"x\":5,\"y\":5},{\"font\":{\"color\":\"orange\"},\"showarrow\":false,\"text\":\"]\",\"x\":5,\"y\":6},{\"font\":{\"color\":\"orange\"},\"showarrow\":false,\"text\":\"]\",\"x\":5,\"y\":7},{\"font\":{\"color\":\"orange\"},\"showarrow\":false,\"text\":\"]\",\"x\":5,\"y\":8},{\"font\":{\"color\":\"orange\"},\"showarrow\":false,\"text\":\"]\",\"x\":5,\"y\":9},{\"font\":{\"color\":\"orange\"},\"showarrow\":false,\"text\":\"]\",\"x\":5,\"y\":10},{\"font\":{\"color\":\"orange\"},\"showarrow\":false,\"text\":\"]\",\"x\":5,\"y\":11},{\"font\":{\"color\":\"orange\"},\"showarrow\":false,\"text\":\"]\",\"x\":5,\"y\":12},{\"font\":{\"color\":\"orange\"},\"showarrow\":false,\"text\":\"]\",\"x\":5,\"y\":13},{\"font\":{\"color\":\"orange\"},\"showarrow\":false,\"text\":\"]\",\"x\":5,\"y\":14},{\"font\":{\"color\":\"orange\"},\"showarrow\":false,\"text\":\"]\",\"x\":5,\"y\":15},{\"font\":{\"color\":\"orange\"},\"showarrow\":false,\"text\":\"]\",\"x\":5,\"y\":16},{\"font\":{\"color\":\"orange\"},\"showarrow\":false,\"text\":\"]\",\"x\":5,\"y\":17},{\"font\":{\"color\":\"orange\"},\"showarrow\":false,\"text\":\"]\",\"x\":5,\"y\":18},{\"font\":{\"color\":\"orange\"},\"showarrow\":false,\"text\":\"]\",\"x\":5,\"y\":19},{\"font\":{\"color\":\"orange\"},\"showarrow\":false,\"text\":\"]\",\"x\":5,\"y\":20},{\"font\":{\"color\":\"orange\"},\"showarrow\":false,\"text\":\"]\",\"x\":5,\"y\":21},{\"font\":{\"color\":\"orange\"},\"showarrow\":false,\"text\":\"]\",\"x\":5,\"y\":22},{\"font\":{\"color\":\"orange\"},\"showarrow\":false,\"text\":\"]\",\"x\":5,\"y\":23},{\"font\":{\"color\":\"orange\"},\"showarrow\":false,\"text\":\"]\",\"x\":5,\"y\":24},{\"font\":{\"color\":\"orange\"},\"showarrow\":false,\"text\":\"]\",\"x\":5,\"y\":25},{\"font\":{\"color\":\"orange\"},\"showarrow\":false,\"text\":\"]\",\"x\":5,\"y\":26},{\"font\":{\"color\":\"orange\"},\"showarrow\":false,\"text\":\"]\",\"x\":5,\"y\":27},{\"font\":{\"color\":\"orange\"},\"showarrow\":false,\"text\":\"]\",\"x\":5,\"y\":28},{\"font\":{\"color\":\"orange\"},\"showarrow\":false,\"text\":\"]\",\"x\":5,\"y\":29},{\"font\":{\"color\":\"orange\"},\"showarrow\":false,\"text\":\"]\",\"x\":5,\"y\":30},{\"font\":{\"color\":\"orange\"},\"showarrow\":false,\"text\":\"]\",\"x\":5,\"y\":31},{\"font\":{\"color\":\"orange\"},\"showarrow\":false,\"text\":\"]\",\"x\":5,\"y\":32},{\"font\":{\"color\":\"orange\"},\"showarrow\":false,\"text\":\"]\",\"x\":5,\"y\":33},{\"font\":{\"color\":\"orange\"},\"showarrow\":false,\"text\":\"]\",\"x\":5,\"y\":34},{\"font\":{\"color\":\"orange\"},\"showarrow\":false,\"text\":\"]\",\"x\":5,\"y\":35},{\"font\":{\"color\":\"orange\"},\"showarrow\":false,\"text\":\"}\",\"x\":6,\"y\":0},{\"font\":{\"color\":\"orange\"},\"showarrow\":false,\"text\":\"}\",\"x\":6,\"y\":1},{\"font\":{\"color\":\"orange\"},\"showarrow\":false,\"text\":\"}\",\"x\":6,\"y\":2},{\"font\":{\"color\":\"orange\"},\"showarrow\":false,\"text\":\"}\",\"x\":6,\"y\":3},{\"font\":{\"color\":\"orange\"},\"showarrow\":false,\"text\":\"}\",\"x\":6,\"y\":4},{\"font\":{\"color\":\"orange\"},\"showarrow\":false,\"text\":\"}\",\"x\":6,\"y\":5},{\"font\":{\"color\":\"orange\"},\"showarrow\":false,\"text\":\"}\",\"x\":6,\"y\":6},{\"font\":{\"color\":\"orange\"},\"showarrow\":false,\"text\":\"}\",\"x\":6,\"y\":7},{\"font\":{\"color\":\"orange\"},\"showarrow\":false,\"text\":\"}\",\"x\":6,\"y\":8},{\"font\":{\"color\":\"orange\"},\"showarrow\":false,\"text\":\"}\",\"x\":6,\"y\":9},{\"font\":{\"color\":\"orange\"},\"showarrow\":false,\"text\":\"}\",\"x\":6,\"y\":10},{\"font\":{\"color\":\"orange\"},\"showarrow\":false,\"text\":\"}\",\"x\":6,\"y\":11},{\"font\":{\"color\":\"orange\"},\"showarrow\":false,\"text\":\"}\",\"x\":6,\"y\":12},{\"font\":{\"color\":\"orange\"},\"showarrow\":false,\"text\":\"}\",\"x\":6,\"y\":13},{\"font\":{\"color\":\"orange\"},\"showarrow\":false,\"text\":\"}\",\"x\":6,\"y\":14},{\"font\":{\"color\":\"orange\"},\"showarrow\":false,\"text\":\"}\",\"x\":6,\"y\":15},{\"font\":{\"color\":\"orange\"},\"showarrow\":false,\"text\":\"}\",\"x\":6,\"y\":16},{\"font\":{\"color\":\"orange\"},\"showarrow\":false,\"text\":\"}\",\"x\":6,\"y\":17},{\"font\":{\"color\":\"orange\"},\"showarrow\":false,\"text\":\"}\",\"x\":6,\"y\":18},{\"font\":{\"color\":\"orange\"},\"showarrow\":false,\"text\":\"}\",\"x\":6,\"y\":19},{\"font\":{\"color\":\"orange\"},\"showarrow\":false,\"text\":\"}\",\"x\":6,\"y\":20},{\"font\":{\"color\":\"orange\"},\"showarrow\":false,\"text\":\"}\",\"x\":6,\"y\":21},{\"font\":{\"color\":\"orange\"},\"showarrow\":false,\"text\":\"}\",\"x\":6,\"y\":22},{\"font\":{\"color\":\"orange\"},\"showarrow\":false,\"text\":\"}\",\"x\":6,\"y\":23},{\"font\":{\"color\":\"orange\"},\"showarrow\":false,\"text\":\"}\",\"x\":6,\"y\":24},{\"font\":{\"color\":\"orange\"},\"showarrow\":false,\"text\":\"}\",\"x\":6,\"y\":25},{\"font\":{\"color\":\"orange\"},\"showarrow\":false,\"text\":\"}\",\"x\":6,\"y\":26},{\"font\":{\"color\":\"orange\"},\"showarrow\":false,\"text\":\"}\",\"x\":6,\"y\":27},{\"font\":{\"color\":\"orange\"},\"showarrow\":false,\"text\":\"}\",\"x\":6,\"y\":28},{\"font\":{\"color\":\"orange\"},\"showarrow\":false,\"text\":\"}\",\"x\":6,\"y\":29},{\"font\":{\"color\":\"orange\"},\"showarrow\":false,\"text\":\"}\",\"x\":6,\"y\":30},{\"font\":{\"color\":\"orange\"},\"showarrow\":false,\"text\":\"}\",\"x\":6,\"y\":31},{\"font\":{\"color\":\"orange\"},\"showarrow\":false,\"text\":\"}\",\"x\":6,\"y\":32},{\"font\":{\"color\":\"orange\"},\"showarrow\":false,\"text\":\"}\",\"x\":6,\"y\":33},{\"font\":{\"color\":\"orange\"},\"showarrow\":false,\"text\":\"}\",\"x\":6,\"y\":34},{\"font\":{\"color\":\"orange\"},\"showarrow\":false,\"text\":\"}\",\"x\":6,\"y\":35},{\"font\":{\"color\":\"orange\"},\"showarrow\":false,\"text\":\">\",\"x\":7,\"y\":0},{\"font\":{\"color\":\"orange\"},\"showarrow\":false,\"text\":\">\",\"x\":7,\"y\":1},{\"font\":{\"color\":\"orange\"},\"showarrow\":false,\"text\":\">\",\"x\":7,\"y\":2},{\"font\":{\"color\":\"orange\"},\"showarrow\":false,\"text\":\">\",\"x\":7,\"y\":3},{\"font\":{\"color\":\"orange\"},\"showarrow\":false,\"text\":\">\",\"x\":7,\"y\":4},{\"font\":{\"color\":\"orange\"},\"showarrow\":false,\"text\":\">\",\"x\":7,\"y\":5},{\"font\":{\"color\":\"orange\"},\"showarrow\":false,\"text\":\">\",\"x\":7,\"y\":6},{\"font\":{\"color\":\"orange\"},\"showarrow\":false,\"text\":\">\",\"x\":7,\"y\":7},{\"font\":{\"color\":\"orange\"},\"showarrow\":false,\"text\":\">\",\"x\":7,\"y\":8},{\"font\":{\"color\":\"orange\"},\"showarrow\":false,\"text\":\">\",\"x\":7,\"y\":9},{\"font\":{\"color\":\"orange\"},\"showarrow\":false,\"text\":\">\",\"x\":7,\"y\":10},{\"font\":{\"color\":\"orange\"},\"showarrow\":false,\"text\":\">\",\"x\":7,\"y\":11},{\"font\":{\"color\":\"orange\"},\"showarrow\":false,\"text\":\">\",\"x\":7,\"y\":12},{\"font\":{\"color\":\"orange\"},\"showarrow\":false,\"text\":\">\",\"x\":7,\"y\":13},{\"font\":{\"color\":\"orange\"},\"showarrow\":false,\"text\":\">\",\"x\":7,\"y\":14},{\"font\":{\"color\":\"orange\"},\"showarrow\":false,\"text\":\">\",\"x\":7,\"y\":15},{\"font\":{\"color\":\"orange\"},\"showarrow\":false,\"text\":\">\",\"x\":7,\"y\":16},{\"font\":{\"color\":\"orange\"},\"showarrow\":false,\"text\":\">\",\"x\":7,\"y\":17},{\"font\":{\"color\":\"orange\"},\"showarrow\":false,\"text\":\">\",\"x\":7,\"y\":18},{\"font\":{\"color\":\"orange\"},\"showarrow\":false,\"text\":\">\",\"x\":7,\"y\":19},{\"font\":{\"color\":\"orange\"},\"showarrow\":false,\"text\":\">\",\"x\":7,\"y\":20},{\"font\":{\"color\":\"orange\"},\"showarrow\":false,\"text\":\">\",\"x\":7,\"y\":21},{\"font\":{\"color\":\"orange\"},\"showarrow\":false,\"text\":\">\",\"x\":7,\"y\":22},{\"font\":{\"color\":\"orange\"},\"showarrow\":false,\"text\":\">\",\"x\":7,\"y\":23},{\"font\":{\"color\":\"orange\"},\"showarrow\":false,\"text\":\">\",\"x\":7,\"y\":24},{\"font\":{\"color\":\"orange\"},\"showarrow\":false,\"text\":\">\",\"x\":7,\"y\":25},{\"font\":{\"color\":\"orange\"},\"showarrow\":false,\"text\":\">\",\"x\":7,\"y\":26},{\"font\":{\"color\":\"orange\"},\"showarrow\":false,\"text\":\">\",\"x\":7,\"y\":27},{\"font\":{\"color\":\"orange\"},\"showarrow\":false,\"text\":\">\",\"x\":7,\"y\":28},{\"font\":{\"color\":\"orange\"},\"showarrow\":false,\"text\":\">\",\"x\":7,\"y\":29},{\"font\":{\"color\":\"orange\"},\"showarrow\":false,\"text\":\">\",\"x\":7,\"y\":30},{\"font\":{\"color\":\"orange\"},\"showarrow\":false,\"text\":\">\",\"x\":7,\"y\":31},{\"font\":{\"color\":\"orange\"},\"showarrow\":false,\"text\":\">\",\"x\":7,\"y\":32},{\"font\":{\"color\":\"orange\"},\"showarrow\":false,\"text\":\">\",\"x\":7,\"y\":33},{\"font\":{\"color\":\"orange\"},\"showarrow\":false,\"text\":\">\",\"x\":7,\"y\":34},{\"font\":{\"color\":\"orange\"},\"showarrow\":false,\"text\":\">\",\"x\":7,\"y\":35}]},                        {\"responsive\": true}                    ).then(function(){\n",
       "                            \n",
       "var gd = document.getElementById('bfbf8bed-16de-4bd8-9dfd-650534a6793e');\n",
       "var x = new MutationObserver(function (mutations, observer) {{\n",
       "        var display = window.getComputedStyle(gd).display;\n",
       "        if (!display || display === 'none') {{\n",
       "            console.log([gd, 'removed!']);\n",
       "            Plotly.purge(gd);\n",
       "            observer.disconnect();\n",
       "        }}\n",
       "}});\n",
       "\n",
       "// Listen for the removal of the full notebook cells\n",
       "var notebookContainer = gd.closest('#notebook-container');\n",
       "if (notebookContainer) {{\n",
       "    x.observe(notebookContainer, {childList: true});\n",
       "}}\n",
       "\n",
       "// Listen for the clearing of the current output cell\n",
       "var outputEl = gd.closest('.output');\n",
       "if (outputEl) {{\n",
       "    x.observe(outputEl, {childList: true});\n",
       "}}\n",
       "\n",
       "                        })                };                });            </script>        </div>"
      ]
     },
     "metadata": {},
     "output_type": "display_data"
    }
   ],
   "source": [
    "display_bracket_scores(exploratory_prompts[num_exploratory_prompts // 2:], bracket_scores[num_exploratory_prompts // 2:, :])"
   ]
  },
  {
   "attachments": {},
   "cell_type": "markdown",
   "metadata": {},
   "source": [
    "## Discussion\n",
    "\n",
    "- The model seems to do well at predicting the correct closing bracket, and is robust to many things I've thrown at it.\n",
    "- One important case which occurs a few times though is when I'm looking to have the model predict `)` but it actually predicts `[`, with `)` being the second-most likely next bracket. I investigate this a little more below.\n",
    "- The fact that the model predicts `(` on `list())))).append(x` indicated that it is not confused by lots of closing brackets.\n",
    "- The model struggles a bit on the last prompts made purely of brackets and commas.\n",
    "- When the brackets are balanced, the model outputs vary a lot. Usually it predicts an opening bracket, though often spreading the probability over several types. Other times the probability is spread over both opening and closing brackets. And sometimes it predicts a closing bracket. \n",
    "    * It's not entirely clear what the model *should* predict in these cases. Oftentimes any kind of bracket would be inappropriate."
   ]
  },
  {
   "attachments": {},
   "cell_type": "markdown",
   "metadata": {},
   "source": [
    "Let's think about the case where the model predicts `[` instead of `)`. This happens more frequently with more complex prompts. I wouldn't say this is always wrong: it would be plausible to see a `[` in most of these cases, as a way of indexing some object, though usually this would be a bit weird. There are some cases where `[` is definitely not what we'd want, for example:\n",
    "```python\n",
    "zip(enumerate(list(zip([1,3,65], list(np.zeros(4)))), [3, 4], {1: 2}.items()\n",
    "```\n",
    "(The object returned by `items()` is not subscriptable.)\n",
    "\n",
    "I would say that this observation raises a larger question about what exactly the task *is* and what the metric should be. The intuition is that a good model should be able to keep track of the open and closed brackets, and should prefer generating text which is *eventually* is bracket-balanced. However, in the shorter term this may involve opening new brackets (after all, we wouldn't want to the model to be biased towards immediately closing all brackets in the prompt). I can think of the following ways of approaching this.\n",
    "1. The most direct way is to simply let the model continue to generate tokens, with the aim of seeing if the whole generated text is bracket-balanced and from there trying to understand how the model has done this. This would be a substantial undertaking, and beyond the scope of this small exploration.\n",
    "2. Another option is to focus only on the bracket type we care about. In this case, we'd only compare the prediction for `(` with `)`, and ignore the comparison with `[` and `]`. Of course there may still be instances where opening with `(` is a reasonable choice for the model to make so this doesn't completely eliminate the problem.\n",
    "3. The simplest way is to focus on clear-cut examples, where the only reasonable bracket is a closing one. I will go with this direction here, since it isolates more cleanly exactly what we want to investigate, which hopefully also makes the model behaviour more evident."
   ]
  },
  {
   "attachments": {},
   "cell_type": "markdown",
   "metadata": {},
   "source": [
    "# Hypotheses\n",
    "\n",
    "How is GPT-Neo able to determine whether to close a bracket? Before I get my hands dirty with the model weights, I'm going briefly elaborate my thoughts for what might be going on."
   ]
  },
  {
   "attachments": {},
   "cell_type": "markdown",
   "metadata": {},
   "source": [
    "- A basic component for this capability might be a 'bracket-counting' head. In this head certain tokens (perhaps those where some kind of bracket is likely as the next token, or just all tokens) attend to all the previous brackets. The opening bracket value vectors lie in an opposite direction to the closing bracket value vectors. This way, when we take the weighted sum, its projection onto the line determined by these opposing directions counts the value:\n",
    "```\n",
    "    (Number of opening brackets) - (Number of closing brackets)\n",
    "```\n",
    "- A simple way the transformer could use a bracket-counting head is by predicting an closing bracket if this number is positive and it is likely that the next token is some kind of bracket.\n",
    "- Such a simple head doesn't explain:\n",
    "    1. Why the model doesn't get confused by `list())))).append(x` (note that at `x` this count will be negative).\n",
    "    2. How the model can determine *which* bracket is appropriate.\n",
    "- Intuitively, in order to the deal with the first problem, the model needs some way of 'resetting' the count when it encounters the second `(`.\n",
    "- Here is one way this could be accomplished. There is a second bracket-counting head on a later layer, which works the same way except for the following modification. Any opening bracket which has a negative count from the first bracket-counting head gets the value vector which is the normal opening-bracket vector multiplied by the negative of the bracket count, plus one. This means that opening brackets appearing after a negatively balanced string reset the count, and counting can proceed as normal.\n",
    "- I can't think of a way to simplify this to a single head. Intuitively, the head which determines the final count already needs to have access to the bracket count computation, in order to determine when to reset. Perhaps there's a way to do it which doesn't involve counting."
   ]
  },
  {
   "attachments": {},
   "cell_type": "markdown",
   "metadata": {},
   "source": [
    "# Experimental setup\n",
    "\n",
    "Here I define the prompts which I will be testing, and the metric used to quantify model performance on them. "
   ]
  },
  {
   "attachments": {},
   "cell_type": "markdown",
   "metadata": {},
   "source": [
    "## Reference prompts\n",
    "\n",
    "I choose the prompts according to following criteria.\n",
    "1. They should have the same number of tokens.\n",
    "2. The next token, if it is a bracket, should be clearly a closing one.\n",
    "3. Each should have a corrupted version, which has the same number of tokens, differs only slightly, but after which the model predicts an opening bracket.\n",
    "4. There should be a variety of kinds of prompt."
   ]
  },
  {
   "attachments": {},
   "cell_type": "markdown",
   "metadata": {},
   "source": [
    "The motivations for these are as follows.\n",
    "1. This makes working with the next predicted token across all prompts simultaneously easier.\n",
    "2. Cases where there are more opening than closing brackets are more clear-cut.\n",
    "3. Later I would like to use activation patching as an interpretability tool. This requires a corrupted version.\n",
    "4. We want to find a mechanism by which the model robustly accomplishes the task, rather than one which might be specific to one kind of prompt."
   ]
  },
  {
   "cell_type": "code",
   "execution_count": 136,
   "metadata": {},
   "outputs": [
    {
     "name": "stdout",
     "output_type": "stream",
     "text": [
      "Prompts\n",
      "14 <|endoftext|>#def# line#(#data#_#t#ensor#,# rend#erer#='#four#'\n",
      "14 <|endoftext|>#model#.#dat#as#et#.#data# =# table#['#respond#er#'\n",
      "14 <|endoftext|>#{#b#(),# c#(),# d#(),# e#(),# f#(#x#)\n",
      "14 <|endoftext|>#<#template# id#='#named#_#car#riage#'# name#='#time#'\n",
      "14 <|endoftext|>#s#ieve#(#77#77#,# [#2#],# '#rec#urse#'\n",
      "\n",
      "Corrupted prompts\n",
      "14 <|endoftext|>#def# line#(#data#_#t#ensor#,# rend#erer#='#four#')\n",
      "14 <|endoftext|>#model#.#dat#as#et#.#data# =# table#['#respond#er#']\n",
      "14 <|endoftext|>#{#b#(),# c#(),# d#(),# e#(),# f#(#x#)}\n",
      "14 <|endoftext|>#<#template# id#='#named#_#car#riage#'# name#='#time#'>\n",
      "14 <|endoftext|>#s#ieve#(#77#77#,# [#2#],# '#rec#urse#')\n"
     ]
    }
   ],
   "source": [
    "# The regular prompts and their answers\n",
    "prompts = [\n",
    "    \"def line(data_tensor, renderer='four'\",\n",
    "    \"model.dataset.data = table['responder'\",\n",
    "    \"{b(), c(), d(), e(), f(x)\",\n",
    "    \"<template id='named_carriage' name='time'\",\n",
    "    \"sieve(7777, [2], 'recurse'\",\n",
    "]\n",
    "answers_openness = [0] * len(prompts) # 1 if opening bracket\n",
    "answer_symbols = list(\")]}>)\")\n",
    "\n",
    "# The corrupted prompts and their answers\n",
    "# Note: there aren't clear answers to what the exact symbol should be\n",
    "corrupted_prompts = [\n",
    "    \"def line(data_tensor, renderer='four')\",\n",
    "    \"model.dataset.data = table['responder']\",\n",
    "    \"{b(), c(), d(), e(), f(x)}\",\n",
    "    \"<template id='named_carriage' name='time'>\",\n",
    "    \"sieve(7777, [2], 'recurse')\",\n",
    "]\n",
    "corrupted_answers_openness = [1] * len(corrupted_prompts) # 1 if opening bracket\n",
    "\n",
    "# Combine the non-corrupted and corrupted\n",
    "all_prompts = prompts + corrupted_prompts\n",
    "all_answers_openness = answers_openness + corrupted_answers_openness\n",
    "\n",
    "print (\"Prompts\")\n",
    "for prompt in prompts:\n",
    "    prompt_as_tokens = model.to_str_tokens(prompt)\n",
    "    print(len(prompt_as_tokens), \"#\".join(prompt_as_tokens))\n",
    "\n",
    "print()\n",
    "print (\"Corrupted prompts\")\n",
    "for prompt in corrupted_prompts:\n",
    "    prompt_as_tokens = model.to_str_tokens(prompt)\n",
    "    print(len(prompt_as_tokens), \"#\".join(prompt_as_tokens))"
   ]
  },
  {
   "cell_type": "code",
   "execution_count": 65,
   "metadata": {},
   "outputs": [
    {
     "name": "stdout",
     "output_type": "stream",
     "text": [
      "prompt_tokens: torch.Size([5, 14])\n",
      "corrupted_prompt_tokens: torch.Size([5, 14])\n",
      "all_prompt_tokens: torch.Size([10, 14])\n"
     ]
    }
   ],
   "source": [
    "# Convert all the prompts to tokens, padding to make them the same length\n",
    "all_prompt_tokens = model.to_tokens(all_prompts).to(device)\n",
    "prompt_tokens = all_prompt_tokens[:len(prompts), :]\n",
    "corrupted_prompt_tokens = all_prompt_tokens[len(prompts):, :]\n",
    "\n",
    "print(\"prompt_tokens:\", prompt_tokens.shape)\n",
    "print(\"corrupted_prompt_tokens:\", corrupted_prompt_tokens.shape)\n",
    "print(\"all_prompt_tokens:\", all_prompt_tokens.shape)"
   ]
  },
  {
   "attachments": {},
   "cell_type": "markdown",
   "metadata": {},
   "source": [
    "Let's visualise the model performance on the prompts"
   ]
  },
  {
   "cell_type": "code",
   "execution_count": 114,
   "metadata": {},
   "outputs": [
    {
     "data": {
      "text/html": [
       "<div>                            <div id=\"751be1c7-e1f9-48b4-87c4-6fc92b07b3f1\" class=\"plotly-graph-div\" style=\"height:400px; width:100%;\"></div>            <script type=\"text/javascript\">                require([\"plotly\"], function(Plotly) {                    window.PLOTLYENV=window.PLOTLYENV || {};                                    if (document.getElementById(\"751be1c7-e1f9-48b4-87c4-6fc92b07b3f1\")) {                    Plotly.newPlot(                        \"751be1c7-e1f9-48b4-87c4-6fc92b07b3f1\",                        [{\"coloraxis\":\"coloraxis\",\"name\":\"0\",\"x\":[\"(\",\"[\",\"{\",\"<\",\")\",\"]\",\"}\",\">\"],\"y\":[\"def line(data_tensor, renderer='four'\",\"model.dataset.data = table['responder'\",\"{b(), c(), d(), e(), f(x)\",\"<template id='named_carriage' name='time'\",\"sieve(7777, [2], 'recurse'\",\"def line(data_tensor, renderer='four')\",\"model.dataset.data = table['responder']\",\"{b(), c(), d(), e(), f(x)}\",\"<template id='named_carriage' name='time'>\",\"sieve(7777, [2], 'recurse')\"],\"z\":[[4.0845909097697586e-05,0.000583446875680238,1.2041942682117224e-05,8.239389899244998e-06,0.9991393089294434,2.1074263258924475e-06,3.2315720090991817e-06,0.00021068696514703333],[1.1182406524312682e-05,1.666917887632735e-05,1.987549467230565e-06,2.4422617570962757e-05,1.9106637410004623e-06,0.9997236132621765,0.00019499321933835745,2.5355433535878547e-05],[0.0021389215253293514,0.0007399998721666634,0.005475359968841076,0.019647644832730293,0.00027858064277097583,0.0003157324099447578,0.9585428833961487,0.01286104042083025],[0.0010331079829484224,0.004348312970250845,0.004267917014658451,0.0045164539478719234,0.0006564196082763374,0.00045295903692021966,0.00025719363475218415,0.9844675660133362],[0.02850094996392727,0.02776508405804634,0.0014509288594126701,0.001418011961504817,0.9344992637634277,0.002380334073677659,0.0015714390901848674,0.0024142800830304623],[0.022926656529307365,0.30472084879875183,0.6372865438461304,0.0005036945804022253,0.03238413482904434,0.0003615817113313824,7.97961256466806e-05,0.0017372358124703169],[0.10054823756217957,0.4974626898765564,0.03891024738550186,0.044712670147418976,0.19859518110752106,0.04664278030395508,0.06460927426815033,0.00851866602897644],[0.1256422996520996,0.09267669171094894,0.1947379857301712,0.12798239290714264,0.2357824742794037,0.08953503519296646,0.055467039346694946,0.07817559689283371],[0.0032398817129433155,0.005509475711733103,0.7559103965759277,0.2336033135652542,0.0004652700445149094,0.00020665857300627977,0.0007190946489572525,0.00034606835106387734],[0.035245832055807114,0.11538448929786682,0.1519433856010437,0.021084971725940704,0.38430100679397583,0.18767186999320984,0.07668153941631317,0.027686571702361107]],\"type\":\"heatmap\",\"xaxis\":\"x\",\"yaxis\":\"y\",\"hovertemplate\":\"Bracket: %{x}<br>y: %{y}<br>Conditional Probability: %{z}<extra></extra>\"}],                        {\"template\":{\"data\":{\"histogram2dcontour\":[{\"type\":\"histogram2dcontour\",\"colorbar\":{\"outlinewidth\":0,\"ticks\":\"\"},\"colorscale\":[[0.0,\"#0d0887\"],[0.1111111111111111,\"#46039f\"],[0.2222222222222222,\"#7201a8\"],[0.3333333333333333,\"#9c179e\"],[0.4444444444444444,\"#bd3786\"],[0.5555555555555556,\"#d8576b\"],[0.6666666666666666,\"#ed7953\"],[0.7777777777777778,\"#fb9f3a\"],[0.8888888888888888,\"#fdca26\"],[1.0,\"#f0f921\"]]}],\"choropleth\":[{\"type\":\"choropleth\",\"colorbar\":{\"outlinewidth\":0,\"ticks\":\"\"}}],\"histogram2d\":[{\"type\":\"histogram2d\",\"colorbar\":{\"outlinewidth\":0,\"ticks\":\"\"},\"colorscale\":[[0.0,\"#0d0887\"],[0.1111111111111111,\"#46039f\"],[0.2222222222222222,\"#7201a8\"],[0.3333333333333333,\"#9c179e\"],[0.4444444444444444,\"#bd3786\"],[0.5555555555555556,\"#d8576b\"],[0.6666666666666666,\"#ed7953\"],[0.7777777777777778,\"#fb9f3a\"],[0.8888888888888888,\"#fdca26\"],[1.0,\"#f0f921\"]]}],\"heatmap\":[{\"type\":\"heatmap\",\"colorbar\":{\"outlinewidth\":0,\"ticks\":\"\"},\"colorscale\":[[0.0,\"#0d0887\"],[0.1111111111111111,\"#46039f\"],[0.2222222222222222,\"#7201a8\"],[0.3333333333333333,\"#9c179e\"],[0.4444444444444444,\"#bd3786\"],[0.5555555555555556,\"#d8576b\"],[0.6666666666666666,\"#ed7953\"],[0.7777777777777778,\"#fb9f3a\"],[0.8888888888888888,\"#fdca26\"],[1.0,\"#f0f921\"]]}],\"heatmapgl\":[{\"type\":\"heatmapgl\",\"colorbar\":{\"outlinewidth\":0,\"ticks\":\"\"},\"colorscale\":[[0.0,\"#0d0887\"],[0.1111111111111111,\"#46039f\"],[0.2222222222222222,\"#7201a8\"],[0.3333333333333333,\"#9c179e\"],[0.4444444444444444,\"#bd3786\"],[0.5555555555555556,\"#d8576b\"],[0.6666666666666666,\"#ed7953\"],[0.7777777777777778,\"#fb9f3a\"],[0.8888888888888888,\"#fdca26\"],[1.0,\"#f0f921\"]]}],\"contourcarpet\":[{\"type\":\"contourcarpet\",\"colorbar\":{\"outlinewidth\":0,\"ticks\":\"\"}}],\"contour\":[{\"type\":\"contour\",\"colorbar\":{\"outlinewidth\":0,\"ticks\":\"\"},\"colorscale\":[[0.0,\"#0d0887\"],[0.1111111111111111,\"#46039f\"],[0.2222222222222222,\"#7201a8\"],[0.3333333333333333,\"#9c179e\"],[0.4444444444444444,\"#bd3786\"],[0.5555555555555556,\"#d8576b\"],[0.6666666666666666,\"#ed7953\"],[0.7777777777777778,\"#fb9f3a\"],[0.8888888888888888,\"#fdca26\"],[1.0,\"#f0f921\"]]}],\"surface\":[{\"type\":\"surface\",\"colorbar\":{\"outlinewidth\":0,\"ticks\":\"\"},\"colorscale\":[[0.0,\"#0d0887\"],[0.1111111111111111,\"#46039f\"],[0.2222222222222222,\"#7201a8\"],[0.3333333333333333,\"#9c179e\"],[0.4444444444444444,\"#bd3786\"],[0.5555555555555556,\"#d8576b\"],[0.6666666666666666,\"#ed7953\"],[0.7777777777777778,\"#fb9f3a\"],[0.8888888888888888,\"#fdca26\"],[1.0,\"#f0f921\"]]}],\"mesh3d\":[{\"type\":\"mesh3d\",\"colorbar\":{\"outlinewidth\":0,\"ticks\":\"\"}}],\"scatter\":[{\"fillpattern\":{\"fillmode\":\"overlay\",\"size\":10,\"solidity\":0.2},\"type\":\"scatter\"}],\"parcoords\":[{\"type\":\"parcoords\",\"line\":{\"colorbar\":{\"outlinewidth\":0,\"ticks\":\"\"}}}],\"scatterpolargl\":[{\"type\":\"scatterpolargl\",\"marker\":{\"colorbar\":{\"outlinewidth\":0,\"ticks\":\"\"}}}],\"bar\":[{\"error_x\":{\"color\":\"#2a3f5f\"},\"error_y\":{\"color\":\"#2a3f5f\"},\"marker\":{\"line\":{\"color\":\"#E5ECF6\",\"width\":0.5},\"pattern\":{\"fillmode\":\"overlay\",\"size\":10,\"solidity\":0.2}},\"type\":\"bar\"}],\"scattergeo\":[{\"type\":\"scattergeo\",\"marker\":{\"colorbar\":{\"outlinewidth\":0,\"ticks\":\"\"}}}],\"scatterpolar\":[{\"type\":\"scatterpolar\",\"marker\":{\"colorbar\":{\"outlinewidth\":0,\"ticks\":\"\"}}}],\"histogram\":[{\"marker\":{\"pattern\":{\"fillmode\":\"overlay\",\"size\":10,\"solidity\":0.2}},\"type\":\"histogram\"}],\"scattergl\":[{\"type\":\"scattergl\",\"marker\":{\"colorbar\":{\"outlinewidth\":0,\"ticks\":\"\"}}}],\"scatter3d\":[{\"type\":\"scatter3d\",\"line\":{\"colorbar\":{\"outlinewidth\":0,\"ticks\":\"\"}},\"marker\":{\"colorbar\":{\"outlinewidth\":0,\"ticks\":\"\"}}}],\"scattermapbox\":[{\"type\":\"scattermapbox\",\"marker\":{\"colorbar\":{\"outlinewidth\":0,\"ticks\":\"\"}}}],\"scatterternary\":[{\"type\":\"scatterternary\",\"marker\":{\"colorbar\":{\"outlinewidth\":0,\"ticks\":\"\"}}}],\"scattercarpet\":[{\"type\":\"scattercarpet\",\"marker\":{\"colorbar\":{\"outlinewidth\":0,\"ticks\":\"\"}}}],\"carpet\":[{\"aaxis\":{\"endlinecolor\":\"#2a3f5f\",\"gridcolor\":\"white\",\"linecolor\":\"white\",\"minorgridcolor\":\"white\",\"startlinecolor\":\"#2a3f5f\"},\"baxis\":{\"endlinecolor\":\"#2a3f5f\",\"gridcolor\":\"white\",\"linecolor\":\"white\",\"minorgridcolor\":\"white\",\"startlinecolor\":\"#2a3f5f\"},\"type\":\"carpet\"}],\"table\":[{\"cells\":{\"fill\":{\"color\":\"#EBF0F8\"},\"line\":{\"color\":\"white\"}},\"header\":{\"fill\":{\"color\":\"#C8D4E3\"},\"line\":{\"color\":\"white\"}},\"type\":\"table\"}],\"barpolar\":[{\"marker\":{\"line\":{\"color\":\"#E5ECF6\",\"width\":0.5},\"pattern\":{\"fillmode\":\"overlay\",\"size\":10,\"solidity\":0.2}},\"type\":\"barpolar\"}],\"pie\":[{\"automargin\":true,\"type\":\"pie\"}]},\"layout\":{\"autotypenumbers\":\"strict\",\"colorway\":[\"#636efa\",\"#EF553B\",\"#00cc96\",\"#ab63fa\",\"#FFA15A\",\"#19d3f3\",\"#FF6692\",\"#B6E880\",\"#FF97FF\",\"#FECB52\"],\"font\":{\"color\":\"#2a3f5f\"},\"hovermode\":\"closest\",\"hoverlabel\":{\"align\":\"left\"},\"paper_bgcolor\":\"white\",\"plot_bgcolor\":\"#E5ECF6\",\"polar\":{\"bgcolor\":\"#E5ECF6\",\"angularaxis\":{\"gridcolor\":\"white\",\"linecolor\":\"white\",\"ticks\":\"\"},\"radialaxis\":{\"gridcolor\":\"white\",\"linecolor\":\"white\",\"ticks\":\"\"}},\"ternary\":{\"bgcolor\":\"#E5ECF6\",\"aaxis\":{\"gridcolor\":\"white\",\"linecolor\":\"white\",\"ticks\":\"\"},\"baxis\":{\"gridcolor\":\"white\",\"linecolor\":\"white\",\"ticks\":\"\"},\"caxis\":{\"gridcolor\":\"white\",\"linecolor\":\"white\",\"ticks\":\"\"}},\"coloraxis\":{\"colorbar\":{\"outlinewidth\":0,\"ticks\":\"\"}},\"colorscale\":{\"sequential\":[[0.0,\"#0d0887\"],[0.1111111111111111,\"#46039f\"],[0.2222222222222222,\"#7201a8\"],[0.3333333333333333,\"#9c179e\"],[0.4444444444444444,\"#bd3786\"],[0.5555555555555556,\"#d8576b\"],[0.6666666666666666,\"#ed7953\"],[0.7777777777777778,\"#fb9f3a\"],[0.8888888888888888,\"#fdca26\"],[1.0,\"#f0f921\"]],\"sequentialminus\":[[0.0,\"#0d0887\"],[0.1111111111111111,\"#46039f\"],[0.2222222222222222,\"#7201a8\"],[0.3333333333333333,\"#9c179e\"],[0.4444444444444444,\"#bd3786\"],[0.5555555555555556,\"#d8576b\"],[0.6666666666666666,\"#ed7953\"],[0.7777777777777778,\"#fb9f3a\"],[0.8888888888888888,\"#fdca26\"],[1.0,\"#f0f921\"]],\"diverging\":[[0,\"#8e0152\"],[0.1,\"#c51b7d\"],[0.2,\"#de77ae\"],[0.3,\"#f1b6da\"],[0.4,\"#fde0ef\"],[0.5,\"#f7f7f7\"],[0.6,\"#e6f5d0\"],[0.7,\"#b8e186\"],[0.8,\"#7fbc41\"],[0.9,\"#4d9221\"],[1,\"#276419\"]]},\"xaxis\":{\"gridcolor\":\"white\",\"linecolor\":\"white\",\"ticks\":\"\",\"title\":{\"standoff\":15},\"zerolinecolor\":\"white\",\"automargin\":true,\"zerolinewidth\":2},\"yaxis\":{\"gridcolor\":\"white\",\"linecolor\":\"white\",\"ticks\":\"\",\"title\":{\"standoff\":15},\"zerolinecolor\":\"white\",\"automargin\":true,\"zerolinewidth\":2},\"scene\":{\"xaxis\":{\"backgroundcolor\":\"#E5ECF6\",\"gridcolor\":\"white\",\"linecolor\":\"white\",\"showbackground\":true,\"ticks\":\"\",\"zerolinecolor\":\"white\",\"gridwidth\":2},\"yaxis\":{\"backgroundcolor\":\"#E5ECF6\",\"gridcolor\":\"white\",\"linecolor\":\"white\",\"showbackground\":true,\"ticks\":\"\",\"zerolinecolor\":\"white\",\"gridwidth\":2},\"zaxis\":{\"backgroundcolor\":\"#E5ECF6\",\"gridcolor\":\"white\",\"linecolor\":\"white\",\"showbackground\":true,\"ticks\":\"\",\"zerolinecolor\":\"white\",\"gridwidth\":2}},\"shapedefaults\":{\"line\":{\"color\":\"#2a3f5f\"}},\"annotationdefaults\":{\"arrowcolor\":\"#2a3f5f\",\"arrowhead\":0,\"arrowwidth\":1},\"geo\":{\"bgcolor\":\"white\",\"landcolor\":\"#E5ECF6\",\"subunitcolor\":\"white\",\"showland\":true,\"showlakes\":true,\"lakecolor\":\"white\"},\"title\":{\"x\":0.05},\"mapbox\":{\"style\":\"light\"}}},\"xaxis\":{\"anchor\":\"y\",\"domain\":[0.0,1.0],\"scaleanchor\":\"y\",\"constrain\":\"domain\",\"title\":{\"text\":\"Bracket\"}},\"yaxis\":{\"anchor\":\"x\",\"domain\":[0.0,1.0],\"autorange\":\"reversed\",\"constrain\":\"domain\"},\"coloraxis\":{\"colorbar\":{\"title\":{\"text\":\"Conditional Probability\"}},\"colorscale\":[[0.0,\"rgb(247,251,255)\"],[0.125,\"rgb(222,235,247)\"],[0.25,\"rgb(198,219,239)\"],[0.375,\"rgb(158,202,225)\"],[0.5,\"rgb(107,174,214)\"],[0.625,\"rgb(66,146,198)\"],[0.75,\"rgb(33,113,181)\"],[0.875,\"rgb(8,81,156)\"],[1.0,\"rgb(8,48,107)\"]]},\"margin\":{\"t\":60},\"height\":400,\"annotations\":[{\"font\":{\"color\":\"orange\"},\"showarrow\":false,\"text\":\"(\",\"x\":0,\"y\":0},{\"font\":{\"color\":\"orange\"},\"showarrow\":false,\"text\":\"(\",\"x\":0,\"y\":1},{\"font\":{\"color\":\"orange\"},\"showarrow\":false,\"text\":\"(\",\"x\":0,\"y\":2},{\"font\":{\"color\":\"orange\"},\"showarrow\":false,\"text\":\"(\",\"x\":0,\"y\":3},{\"font\":{\"color\":\"orange\"},\"showarrow\":false,\"text\":\"(\",\"x\":0,\"y\":4},{\"font\":{\"color\":\"orange\"},\"showarrow\":false,\"text\":\"(\",\"x\":0,\"y\":5},{\"font\":{\"color\":\"orange\"},\"showarrow\":false,\"text\":\"(\",\"x\":0,\"y\":6},{\"font\":{\"color\":\"orange\"},\"showarrow\":false,\"text\":\"(\",\"x\":0,\"y\":7},{\"font\":{\"color\":\"orange\"},\"showarrow\":false,\"text\":\"(\",\"x\":0,\"y\":8},{\"font\":{\"color\":\"orange\"},\"showarrow\":false,\"text\":\"(\",\"x\":0,\"y\":9},{\"font\":{\"color\":\"orange\"},\"showarrow\":false,\"text\":\"[\",\"x\":1,\"y\":0},{\"font\":{\"color\":\"orange\"},\"showarrow\":false,\"text\":\"[\",\"x\":1,\"y\":1},{\"font\":{\"color\":\"orange\"},\"showarrow\":false,\"text\":\"[\",\"x\":1,\"y\":2},{\"font\":{\"color\":\"orange\"},\"showarrow\":false,\"text\":\"[\",\"x\":1,\"y\":3},{\"font\":{\"color\":\"orange\"},\"showarrow\":false,\"text\":\"[\",\"x\":1,\"y\":4},{\"font\":{\"color\":\"orange\"},\"showarrow\":false,\"text\":\"[\",\"x\":1,\"y\":5},{\"font\":{\"color\":\"orange\"},\"showarrow\":false,\"text\":\"[\",\"x\":1,\"y\":6},{\"font\":{\"color\":\"orange\"},\"showarrow\":false,\"text\":\"[\",\"x\":1,\"y\":7},{\"font\":{\"color\":\"orange\"},\"showarrow\":false,\"text\":\"[\",\"x\":1,\"y\":8},{\"font\":{\"color\":\"orange\"},\"showarrow\":false,\"text\":\"[\",\"x\":1,\"y\":9},{\"font\":{\"color\":\"orange\"},\"showarrow\":false,\"text\":\"{\",\"x\":2,\"y\":0},{\"font\":{\"color\":\"orange\"},\"showarrow\":false,\"text\":\"{\",\"x\":2,\"y\":1},{\"font\":{\"color\":\"orange\"},\"showarrow\":false,\"text\":\"{\",\"x\":2,\"y\":2},{\"font\":{\"color\":\"orange\"},\"showarrow\":false,\"text\":\"{\",\"x\":2,\"y\":3},{\"font\":{\"color\":\"orange\"},\"showarrow\":false,\"text\":\"{\",\"x\":2,\"y\":4},{\"font\":{\"color\":\"orange\"},\"showarrow\":false,\"text\":\"{\",\"x\":2,\"y\":5},{\"font\":{\"color\":\"orange\"},\"showarrow\":false,\"text\":\"{\",\"x\":2,\"y\":6},{\"font\":{\"color\":\"orange\"},\"showarrow\":false,\"text\":\"{\",\"x\":2,\"y\":7},{\"font\":{\"color\":\"orange\"},\"showarrow\":false,\"text\":\"{\",\"x\":2,\"y\":8},{\"font\":{\"color\":\"orange\"},\"showarrow\":false,\"text\":\"{\",\"x\":2,\"y\":9},{\"font\":{\"color\":\"orange\"},\"showarrow\":false,\"text\":\"<\",\"x\":3,\"y\":0},{\"font\":{\"color\":\"orange\"},\"showarrow\":false,\"text\":\"<\",\"x\":3,\"y\":1},{\"font\":{\"color\":\"orange\"},\"showarrow\":false,\"text\":\"<\",\"x\":3,\"y\":2},{\"font\":{\"color\":\"orange\"},\"showarrow\":false,\"text\":\"<\",\"x\":3,\"y\":3},{\"font\":{\"color\":\"orange\"},\"showarrow\":false,\"text\":\"<\",\"x\":3,\"y\":4},{\"font\":{\"color\":\"orange\"},\"showarrow\":false,\"text\":\"<\",\"x\":3,\"y\":5},{\"font\":{\"color\":\"orange\"},\"showarrow\":false,\"text\":\"<\",\"x\":3,\"y\":6},{\"font\":{\"color\":\"orange\"},\"showarrow\":false,\"text\":\"<\",\"x\":3,\"y\":7},{\"font\":{\"color\":\"orange\"},\"showarrow\":false,\"text\":\"<\",\"x\":3,\"y\":8},{\"font\":{\"color\":\"orange\"},\"showarrow\":false,\"text\":\"<\",\"x\":3,\"y\":9},{\"font\":{\"color\":\"orange\"},\"showarrow\":false,\"text\":\")\",\"x\":4,\"y\":0},{\"font\":{\"color\":\"orange\"},\"showarrow\":false,\"text\":\")\",\"x\":4,\"y\":1},{\"font\":{\"color\":\"orange\"},\"showarrow\":false,\"text\":\")\",\"x\":4,\"y\":2},{\"font\":{\"color\":\"orange\"},\"showarrow\":false,\"text\":\")\",\"x\":4,\"y\":3},{\"font\":{\"color\":\"orange\"},\"showarrow\":false,\"text\":\")\",\"x\":4,\"y\":4},{\"font\":{\"color\":\"orange\"},\"showarrow\":false,\"text\":\")\",\"x\":4,\"y\":5},{\"font\":{\"color\":\"orange\"},\"showarrow\":false,\"text\":\")\",\"x\":4,\"y\":6},{\"font\":{\"color\":\"orange\"},\"showarrow\":false,\"text\":\")\",\"x\":4,\"y\":7},{\"font\":{\"color\":\"orange\"},\"showarrow\":false,\"text\":\")\",\"x\":4,\"y\":8},{\"font\":{\"color\":\"orange\"},\"showarrow\":false,\"text\":\")\",\"x\":4,\"y\":9},{\"font\":{\"color\":\"orange\"},\"showarrow\":false,\"text\":\"]\",\"x\":5,\"y\":0},{\"font\":{\"color\":\"orange\"},\"showarrow\":false,\"text\":\"]\",\"x\":5,\"y\":1},{\"font\":{\"color\":\"orange\"},\"showarrow\":false,\"text\":\"]\",\"x\":5,\"y\":2},{\"font\":{\"color\":\"orange\"},\"showarrow\":false,\"text\":\"]\",\"x\":5,\"y\":3},{\"font\":{\"color\":\"orange\"},\"showarrow\":false,\"text\":\"]\",\"x\":5,\"y\":4},{\"font\":{\"color\":\"orange\"},\"showarrow\":false,\"text\":\"]\",\"x\":5,\"y\":5},{\"font\":{\"color\":\"orange\"},\"showarrow\":false,\"text\":\"]\",\"x\":5,\"y\":6},{\"font\":{\"color\":\"orange\"},\"showarrow\":false,\"text\":\"]\",\"x\":5,\"y\":7},{\"font\":{\"color\":\"orange\"},\"showarrow\":false,\"text\":\"]\",\"x\":5,\"y\":8},{\"font\":{\"color\":\"orange\"},\"showarrow\":false,\"text\":\"]\",\"x\":5,\"y\":9},{\"font\":{\"color\":\"orange\"},\"showarrow\":false,\"text\":\"}\",\"x\":6,\"y\":0},{\"font\":{\"color\":\"orange\"},\"showarrow\":false,\"text\":\"}\",\"x\":6,\"y\":1},{\"font\":{\"color\":\"orange\"},\"showarrow\":false,\"text\":\"}\",\"x\":6,\"y\":2},{\"font\":{\"color\":\"orange\"},\"showarrow\":false,\"text\":\"}\",\"x\":6,\"y\":3},{\"font\":{\"color\":\"orange\"},\"showarrow\":false,\"text\":\"}\",\"x\":6,\"y\":4},{\"font\":{\"color\":\"orange\"},\"showarrow\":false,\"text\":\"}\",\"x\":6,\"y\":5},{\"font\":{\"color\":\"orange\"},\"showarrow\":false,\"text\":\"}\",\"x\":6,\"y\":6},{\"font\":{\"color\":\"orange\"},\"showarrow\":false,\"text\":\"}\",\"x\":6,\"y\":7},{\"font\":{\"color\":\"orange\"},\"showarrow\":false,\"text\":\"}\",\"x\":6,\"y\":8},{\"font\":{\"color\":\"orange\"},\"showarrow\":false,\"text\":\"}\",\"x\":6,\"y\":9},{\"font\":{\"color\":\"orange\"},\"showarrow\":false,\"text\":\">\",\"x\":7,\"y\":0},{\"font\":{\"color\":\"orange\"},\"showarrow\":false,\"text\":\">\",\"x\":7,\"y\":1},{\"font\":{\"color\":\"orange\"},\"showarrow\":false,\"text\":\">\",\"x\":7,\"y\":2},{\"font\":{\"color\":\"orange\"},\"showarrow\":false,\"text\":\">\",\"x\":7,\"y\":3},{\"font\":{\"color\":\"orange\"},\"showarrow\":false,\"text\":\">\",\"x\":7,\"y\":4},{\"font\":{\"color\":\"orange\"},\"showarrow\":false,\"text\":\">\",\"x\":7,\"y\":5},{\"font\":{\"color\":\"orange\"},\"showarrow\":false,\"text\":\">\",\"x\":7,\"y\":6},{\"font\":{\"color\":\"orange\"},\"showarrow\":false,\"text\":\">\",\"x\":7,\"y\":7},{\"font\":{\"color\":\"orange\"},\"showarrow\":false,\"text\":\">\",\"x\":7,\"y\":8},{\"font\":{\"color\":\"orange\"},\"showarrow\":false,\"text\":\">\",\"x\":7,\"y\":9}]},                        {\"responsive\": true}                    ).then(function(){\n",
       "                            \n",
       "var gd = document.getElementById('751be1c7-e1f9-48b4-87c4-6fc92b07b3f1');\n",
       "var x = new MutationObserver(function (mutations, observer) {{\n",
       "        var display = window.getComputedStyle(gd).display;\n",
       "        if (!display || display === 'none') {{\n",
       "            console.log([gd, 'removed!']);\n",
       "            Plotly.purge(gd);\n",
       "            observer.disconnect();\n",
       "        }}\n",
       "}});\n",
       "\n",
       "// Listen for the removal of the full notebook cells\n",
       "var notebookContainer = gd.closest('#notebook-container');\n",
       "if (notebookContainer) {{\n",
       "    x.observe(notebookContainer, {childList: true});\n",
       "}}\n",
       "\n",
       "// Listen for the clearing of the current output cell\n",
       "var outputEl = gd.closest('.output');\n",
       "if (outputEl) {{\n",
       "    x.observe(outputEl, {childList: true});\n",
       "}}\n",
       "\n",
       "                        })                };                });            </script>        </div>"
      ]
     },
     "metadata": {},
     "output_type": "display_data"
    }
   ],
   "source": [
    "bracket_scores = compute_bracket_scores(all_prompt_tokens)\n",
    "display_bracket_scores(all_prompts, bracket_scores, height_scale=40)"
   ]
  },
  {
   "attachments": {},
   "cell_type": "markdown",
   "metadata": {},
   "source": [
    "## Metrics\n",
    "\n",
    "I now define the metrics used to evaluate the model performance. The first metric measures the success at predicting openness or closedness of the bracket. The second measures in addition how well the model predicts the actual token. Both use average logit difference."
   ]
  },
  {
   "attachments": {},
   "cell_type": "markdown",
   "metadata": {},
   "source": [
    "For the first metric, we take the sum of the logits for open bracket tokens and find the difference with the sum of the logits for closed bracket tokens. When we expect the answer to be an open bracket, the metric is the first of these quantities take away the second. When we expect a closed bracket, it's the other way around."
   ]
  },
  {
   "cell_type": "code",
   "execution_count": 122,
   "metadata": {},
   "outputs": [],
   "source": [
    "def openness_metric(\n",
    "    logits: torch.Tensor, answers_openness: list, per_prompt=False\n",
    ") -> torch.Tensor:\n",
    "    \"\"\"Computes the average difference between the open and closed logits\"\"\"\n",
    "\n",
    "    # Turn the answer openness into a sign tensor\n",
    "    answers_openness = torch.tensor(answers_openness)\n",
    "    answers_openness_sign = torch.sign(2 * answers_openness - 1)\n",
    "\n",
    "    # Select the final open and closed bracket logits\n",
    "    open_bracket_logits = logits[:, -1, open_bracket_tokens]\n",
    "    closed_bracket_logits = logits[:, -1, closed_bracket_tokens]\n",
    "\n",
    "    # Sum up the logits for open and closed brackets\n",
    "    open_bracket_logits_sum = open_bracket_logits.sum(dim=-1)\n",
    "    closed_bracket_logits_sum = closed_bracket_logits.sum(dim=-1)\n",
    "\n",
    "    # Compute the difference signed by the answer openness\n",
    "    bracket_logit_diff = open_bracket_logits_sum - closed_bracket_logits_sum\n",
    "    bracket_logit_diff = bracket_logit_diff * answers_openness_sign\n",
    "\n",
    "    if per_prompt:\n",
    "        return bracket_logit_diff\n",
    "    else:\n",
    "        return bracket_logit_diff.mean()"
   ]
  },
  {
   "attachments": {},
   "cell_type": "markdown",
   "metadata": {},
   "source": [
    "Let's test on the reference prompts."
   ]
  },
  {
   "cell_type": "code",
   "execution_count": 144,
   "metadata": {},
   "outputs": [
    {
     "name": "stdout",
     "output_type": "stream",
     "text": [
      "tensor([101.9118, 332.5992,   6.9850, 223.4595, 176.2416])\n"
     ]
    }
   ],
   "source": [
    "logits = model(prompt_tokens, return_type=\"logits\")\n",
    "openness_metrics = openness_metric(logits, answers_openness, per_prompt=True)\n",
    "\n",
    "print(openness_metrics)"
   ]
  },
  {
   "attachments": {},
   "cell_type": "markdown",
   "metadata": {},
   "source": [
    "There's a fair bit of variance in the metric for the reference prompts, even though the conditional probabilities all clearly favour one option. This is because:\n",
    "1. We're looking at logits not probabilities (i.e. they are not 'normalised' by the softmax).\n",
    "2. Earlier we consider the conditional probability, which has to sum to one over all brackets. It could be that the model predicts a non-bracket higher than any bracket."
   ]
  },
  {
   "attachments": {},
   "cell_type": "markdown",
   "metadata": {},
   "source": [
    "Next I define the metric for how well the model predicts the correct bracket. There are several ways of doing this. Here I take the sum of the logits corresponding to the correct bracket, and take away the mean of the sum of the logits for the rest of the brackets.\n",
    "\n",
    "The motivation for this is as follows. We want the metric to be linear in the logits, because this makes later analysis easier. During training the optimiser tries to minimise the cross entropy loss of the softmax of the logits. If $\\{x_i\\}$ is the set of all logits, and $x_{\\text{true}}$ is the logit for the true next token, this corresponds to maximising:\n",
    "$$\n",
    "    x_{\\text{true}} - \\log \\left(\\sum_i \\exp(x_i) \\right)\n",
    "$$\n",
    "If we want to focus on just getting the correct bracket, we can see this as maximising:\n",
    "$$\n",
    "    x_{\\text{true}} - \\log \\left(\\sum_{i \\in B} \\exp(x_i) \\right)\n",
    "$$\n",
    "where $B$ is the set of logits corresponding to brackets.\n",
    "\n",
    "How do approximate this with a linear function? In general, logsumexp is not very linear, but approximating it with the mean seems ok for the purposes of making a metric.\n",
    "\n",
    "Now the above is a bit of a simplification, since there isn't a 'true' next bracket token, because there are many tokens whose string representation starts with the same token. So instead we combine all logits whose tokens begin with the same bracket, and thus arrive at our metric."
   ]
  },
  {
   "cell_type": "code",
   "execution_count": 148,
   "metadata": {},
   "outputs": [],
   "source": [
    "def bracket_symbol_metric(\n",
    "    logits: torch.Tensor, answer_symbols: list, per_prompt=False\n",
    ") -> torch.Tensor:\n",
    "    \"\"\"Compute the difference from the answer bracket logit to all others\"\"\"\n",
    "\n",
    "    batch_size = logits.shape[0]\n",
    "\n",
    "    # Sum the logits corresponding to each bracket\n",
    "    sum_per_bracket = torch.zeros((batch_size, num_brackets))\n",
    "    for i, tokens in enumerate(bracket_tokens.values()):\n",
    "        sum_per_bracket[:, i] = logits[:, -1, tokens].sum(dim=-1)\n",
    "\n",
    "    # Turn the answers_symbol list into a tensor for indexing `sum_per_bracket`\n",
    "    answer_symbol_indices = [brackets_flat.index(bracket) for bracket in answer_symbols]\n",
    "    answer_symbol_indices = torch.tensor(answer_symbol_indices)\n",
    "    answer_symbol_indices = answer_symbol_indices.reshape((batch_size, 1))\n",
    "\n",
    "    # Compute the logits difference from the answer to the sum of the other\n",
    "    # brackets\n",
    "    answer_logits = sum_per_bracket.gather(dim=-1, index=answer_symbol_indices)\n",
    "    answer_logits = answer_logits.squeeze()\n",
    "    logit_diff = 2 * answer_logits - sum_per_bracket.mean(dim=-1)\n",
    "\n",
    "    if per_prompt:\n",
    "        return logit_diff\n",
    "    else:\n",
    "        return logit_diff.mean()\n"
   ]
  },
  {
   "attachments": {},
   "cell_type": "markdown",
   "metadata": {},
   "source": [
    "Let's check this metric with reference prompts."
   ]
  },
  {
   "cell_type": "code",
   "execution_count": 150,
   "metadata": {},
   "outputs": [
    {
     "data": {
      "text/plain": [
       "tensor([585.3561, 648.4344, 364.9975, 245.7553, 733.8472])"
      ]
     },
     "execution_count": 150,
     "metadata": {},
     "output_type": "execute_result"
    }
   ],
   "source": [
    "bracket_symbol_metric(logits, answer_symbols, per_prompt=True)"
   ]
  },
  {
   "attachments": {},
   "cell_type": "markdown",
   "metadata": {},
   "source": [
    "Let's compare with some incorrect answers, to make sure the metric is doing what we want."
   ]
  },
  {
   "cell_type": "code",
   "execution_count": 151,
   "metadata": {},
   "outputs": [
    {
     "data": {
      "text/plain": [
       "tensor([-36.8596,  89.3942, 149.0051, 199.3244, -48.8808])"
      ]
     },
     "execution_count": 151,
     "metadata": {},
     "output_type": "execute_result"
    }
   ],
   "source": [
    "bracket_symbol_metric(logits, list(\"<[>){\"), per_prompt=True)"
   ]
  }
 ],
 "metadata": {
  "kernelspec": {
   "display_name": "mech-interp",
   "language": "python",
   "name": "python3"
  },
  "language_info": {
   "codemirror_mode": {
    "name": "ipython",
    "version": 3
   },
   "file_extension": ".py",
   "mimetype": "text/x-python",
   "name": "python",
   "nbconvert_exporter": "python",
   "pygments_lexer": "ipython3",
   "version": "3.11.2"
  },
  "orig_nbformat": 4
 },
 "nbformat": 4,
 "nbformat_minor": 2
}
