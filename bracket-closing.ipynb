{
 "cells": [
  {
   "attachments": {},
   "cell_type": "markdown",
   "metadata": {},
   "source": [
    "# Understanding bracket closing in GPT-Neo\n",
    "\n",
    "The goal of this notebook is to explore the phenomenon of bracket closing in the [GPT-Neo 125M model](https://www.eleuther.ai/artifacts/gpt-neo), whereby it can correctly match open parentheses `([{<` with their corresponding closing versions `)]}>`.\n",
    "\n",
    "This is [Problem 2.13](https://www.alignmentforum.org/s/yivyHaCAmMJ3CqSyj/p/XNjRwEX9kxbpzWFWd#block71) in Neel Nanda's [200 Concrete Open Problems in Mechanistic Interpretability](https://www.alignmentforum.org/posts/LbrPTJ4fmABEdEnLf/200-concrete-open-problems-in-mechanistic-interpretability). The first goal is to figure out how the model determines whether an opening or closing bracket is more appropriate, and the second is to figure out how it knows the correct kind: `(`, `[`, `{` or `<`.\n",
    "\n",
    "I'm using the [TransformerLens library](https://github.com/neelnanda-io/TransformerLens), and a lot of this notebook is copied from Neel's [Exploratory Analysis notebook](https://neelnanda.io/exploratory-analysis-demo).\n",
    "\n",
    "This notebook lives in my [mechanistic interpretability GitHub repository](https://github.com/SamAdamDay/mechanistic-interpretability-projects), which also has some common utilities which I import below."
   ]
  },
  {
   "attachments": {},
   "cell_type": "markdown",
   "metadata": {},
   "source": [
    "# Setup"
   ]
  },
  {
   "cell_type": "code",
   "execution_count": 1,
   "metadata": {},
   "outputs": [],
   "source": [
    "# @title Config options\n",
    "\n",
    "DEVELOPMENT_MODE = False  # @param {type:\"boolean\"}\n"
   ]
  },
  {
   "cell_type": "code",
   "execution_count": 2,
   "metadata": {},
   "outputs": [
    {
     "name": "stdout",
     "output_type": "stream",
     "text": [
      "Running as a Jupyter notebook - intended for development only!\n",
      "The autoreload extension is already loaded. To reload it, use:\n",
      "  %reload_ext autoreload\n"
     ]
    },
    {
     "name": "stderr",
     "output_type": "stream",
     "text": [
      "/tmp/ipykernel_18293/3471797719.py:15: DeprecationWarning: `magic(...)` is deprecated since IPython 0.13 (warning added in 8.1), use run_line_magic(magic_name, parameter_s).\n",
      "  ipython.magic(\"load_ext autoreload\")\n",
      "/tmp/ipykernel_18293/3471797719.py:16: DeprecationWarning: `magic(...)` is deprecated since IPython 0.13 (warning added in 8.1), use run_line_magic(magic_name, parameter_s).\n",
      "  ipython.magic(\"autoreload 2\")\n"
     ]
    }
   ],
   "source": [
    "# Janky code to do different setup when run in a Colab notebook vs VSCode\n",
    "DEVELOPMENT_MODE = True\n",
    "try:\n",
    "    import google.colab\n",
    "    IN_COLAB = True\n",
    "    print(\"Running as a Colab notebook\")\n",
    "    %pip install https://github.com/SamAdamDay/mechanistic-interpretability-projects.git\n",
    "except:\n",
    "    IN_COLAB = False\n",
    "    print(\"Running as a Jupyter notebook - intended for development only!\")\n",
    "    from IPython import get_ipython\n",
    "\n",
    "    ipython = get_ipython()\n",
    "    # Code to automatically update the HookedTransformer code as its edited without restarting the kernel\n",
    "    ipython.magic(\"load_ext autoreload\")\n",
    "    ipython.magic(\"autoreload 2\")"
   ]
  },
  {
   "cell_type": "code",
   "execution_count": 3,
   "metadata": {},
   "outputs": [
    {
     "name": "stdout",
     "output_type": "stream",
     "text": [
      "Using renderer: notebook_connected\n"
     ]
    }
   ],
   "source": [
    "# Plotly needs a different renderer for VSCode/Notebooks vs Colab argh\n",
    "import plotly.io as pio\n",
    "\n",
    "if IN_COLAB or not DEVELOPMENT_MODE:\n",
    "    pio.renderers.default = \"colab\"\n",
    "else:\n",
    "    pio.renderers.default = \"notebook_connected\"\n",
    "print(f\"Using renderer: {pio.renderers.default}\")\n"
   ]
  },
  {
   "attachments": {},
   "cell_type": "markdown",
   "metadata": {},
   "source": [
    "Import things"
   ]
  },
  {
   "cell_type": "code",
   "execution_count": 4,
   "metadata": {},
   "outputs": [],
   "source": [
    "import random\n",
    "from pathlib import Path\n",
    "from typing import List, Union, Optional\n",
    "from functools import partial\n",
    "import copy\n",
    "import itertools\n",
    "import dataclasses\n",
    "\n",
    "import torch\n",
    "import torch.nn as nn\n",
    "import torch.nn.functional as F\n",
    "import torch.optim as optim\n",
    "from torch.utils.data import DataLoader\n",
    "\n",
    "import numpy as np\n",
    "\n",
    "import einops\n",
    "\n",
    "from fancy_einsum import einsum\n",
    "\n",
    "import tqdm.auto as tqdm\n",
    "\n",
    "import plotly.express as px\n",
    "\n",
    "from jaxtyping import Float, Int\n",
    "\n",
    "from transformers import AutoModelForCausalLM, AutoConfig, AutoTokenizer\n",
    "import datasets\n",
    "\n",
    "from IPython.display import HTML\n",
    "\n",
    "import circuitsvis as cv\n",
    "\n",
    "import transformer_lens\n",
    "import transformer_lens.utils as utils\n",
    "from transformer_lens.hook_points import (\n",
    "    HookedRootModule,\n",
    "    HookPoint,\n",
    ")  # Hooking utilities\n",
    "from transformer_lens import (\n",
    "    HookedTransformer,\n",
    "    HookedTransformerConfig,\n",
    "    FactoredMatrix,\n",
    "    ActivationCache,\n",
    ")\n"
   ]
  },
  {
   "attachments": {},
   "cell_type": "markdown",
   "metadata": {},
   "source": [
    "Turn automatic differentiation off"
   ]
  },
  {
   "cell_type": "code",
   "execution_count": 5,
   "metadata": {},
   "outputs": [
    {
     "data": {
      "text/plain": [
       "<torch.autograd.grad_mode.set_grad_enabled at 0x7fefe3bc2510>"
      ]
     },
     "execution_count": 5,
     "metadata": {},
     "output_type": "execute_result"
    }
   ],
   "source": [
    "torch.set_grad_enabled(False)\n"
   ]
  },
  {
   "attachments": {},
   "cell_type": "markdown",
   "metadata": {},
   "source": [
    "Torch device"
   ]
  },
  {
   "cell_type": "code",
   "execution_count": 6,
   "metadata": {},
   "outputs": [
    {
     "name": "stderr",
     "output_type": "stream",
     "text": [
      "/home/sam/.virtualenvs/mech-interp/lib/python3.11/site-packages/torch/cuda/__init__.py:88: UserWarning:\n",
      "\n",
      "CUDA initialization: CUDA unknown error - this may be due to an incorrectly set up environment, e.g. changing env variable CUDA_VISIBLE_DEVICES after program start. Setting the available devices to be zero. (Triggered internally at ../c10/cuda/CUDAFunctions.cpp:109.)\n",
      "\n"
     ]
    }
   ],
   "source": [
    "device = \"cuda\" if torch.cuda.is_available() else \"cpu\"\n"
   ]
  },
  {
   "attachments": {},
   "cell_type": "markdown",
   "metadata": {},
   "source": [
    "Plotting helpers"
   ]
  },
  {
   "cell_type": "code",
   "execution_count": 7,
   "metadata": {},
   "outputs": [],
   "source": [
    "def imshow(tensor, renderer=None, xaxis=\"\", yaxis=\"\", **kwargs):\n",
    "    px.imshow(\n",
    "        utils.to_numpy(tensor),\n",
    "        color_continuous_midpoint=0.0,\n",
    "        color_continuous_scale=\"RdBu\",\n",
    "        labels={\"x\": xaxis, \"y\": yaxis},\n",
    "        **kwargs\n",
    "    ).show(renderer)\n",
    "\n",
    "\n",
    "def line(tensor, renderer=None, xaxis=\"\", yaxis=\"\", **kwargs):\n",
    "    px.line(utils.to_numpy(tensor), labels={\"x\": xaxis, \"y\": yaxis}, **kwargs).show(\n",
    "        renderer\n",
    "    )\n",
    "\n",
    "\n",
    "def scatter(x, y, xaxis=\"\", yaxis=\"\", caxis=\"\", renderer=None, **kwargs):\n",
    "    x = utils.to_numpy(x)\n",
    "    y = utils.to_numpy(y)\n",
    "    px.scatter(\n",
    "        y=y, x=x, labels={\"x\": xaxis, \"y\": yaxis, \"color\": caxis}, **kwargs\n",
    "    ).show(renderer)\n"
   ]
  },
  {
   "attachments": {},
   "cell_type": "markdown",
   "metadata": {},
   "source": [
    "# Task specification\n",
    "\n",
    "The basic task is as follows.\n",
    "\n",
    "**Task.** Given a string $s$ containing some brackets, determine: (1) if an opening or closing bracket is more appropriate and (2) which type of bracket is most appropriate.\n",
    "\n",
    "We'll be using the GPT-Neo 125M model."
   ]
  },
  {
   "cell_type": "code",
   "execution_count": 8,
   "metadata": {},
   "outputs": [
    {
     "name": "stderr",
     "output_type": "stream",
     "text": [
      "Using pad_token, but it is not set yet.\n"
     ]
    },
    {
     "name": "stdout",
     "output_type": "stream",
     "text": [
      "Loaded pretrained model gpt-neo-125M into HookedTransformer\n"
     ]
    }
   ],
   "source": [
    "model = HookedTransformer.from_pretrained(\n",
    "    \"gpt-neo-125M\",\n",
    "    center_unembed=True,\n",
    "    center_writing_weights=True,\n",
    "    fold_ln=True,\n",
    "    refactor_factored_attn_matrices=True,\n",
    ")\n"
   ]
  },
  {
   "attachments": {},
   "cell_type": "markdown",
   "metadata": {},
   "source": [
    "We'll look at the brackets `([{<)]}>`."
   ]
  },
  {
   "cell_type": "code",
   "execution_count": 9,
   "metadata": {},
   "outputs": [
    {
     "name": "stdout",
     "output_type": "stream",
     "text": [
      "brackets: (('(', '[', '{', '<'), (')', ']', '}', '>'))\n",
      "bracket_pairs: (('(', ')'), ('[', ']'), ('{', '}'), ('<', '>'))\n",
      "brackets_flat: ('(', '[', '{', '<', ')', ']', '}', '>')\n",
      "brackets_tokens: tensor([ 7, 58, 90, 27,  8, 60, 92, 29])\n",
      "brackets_space_tokens: tensor([ 357,  685, 1391, 1279, 1267, 2361, 1782, 1875])\n",
      "brackets_all_tokens: tensor([   7,   58,   90,   27,    8,   60,   92,   29,  357,  685, 1391, 1279,\n",
      "        1267, 2361, 1782, 1875])\n"
     ]
    }
   ],
   "source": [
    "brackets = (tuple(\"([{<\"), tuple(\")]}>\"))\n",
    "bracket_pairs = tuple(zip(*brackets))\n",
    "brackets_flat = brackets[0] + brackets[1]\n",
    "\n",
    "# Get the tokens both for the brackets on their own and with a space before\n",
    "brackets_tokens = model.to_tokens(brackets_flat, prepend_bos=False).squeeze()\n",
    "brackets_space_tokens = model.to_tokens(\n",
    "    [\" \" + b for b in brackets_flat], prepend_bos=False\n",
    ").squeeze()\n",
    "brackets_all_tokens = torch.cat((brackets_tokens, brackets_space_tokens))\n",
    "\n",
    "print(\"brackets:\", brackets)\n",
    "print(\"bracket_pairs:\", bracket_pairs)\n",
    "print(\"brackets_flat:\", brackets_flat)\n",
    "print(\"brackets_tokens:\", brackets_tokens)\n",
    "print(\"brackets_space_tokens:\", brackets_space_tokens)\n",
    "print(\"brackets_all_tokens:\", brackets_all_tokens)\n"
   ]
  },
  {
   "attachments": {},
   "cell_type": "markdown",
   "metadata": {},
   "source": [
    "# Exploring model capability\n",
    "\n",
    "How good is GPT-Neo at closing brackets? In this section I explore its capabilities and try to break it. "
   ]
  },
  {
   "attachments": {},
   "cell_type": "markdown",
   "metadata": {},
   "source": [
    "I will explore the following variations on the string $s$.\n",
    "- Whether the brackets are balanced or not.\n",
    "- The type of brackets used.\n",
    "- Whether we mix different types.\n",
    "- The complexity of the bracket structure. This can be thought of as a tree, and we can consider varying both its depth and breadth.\n",
    "- The complexity of the rest of the string.\n",
    "- Whether $s$ looks like real code. I'll look at the following ways this could fail.\n",
    "    * It's actually natural language.\n",
    "    * It's like a programming language but has syntax errors.\n",
    "    * It's valid syntax but the symbol names are gibberish/unnatural.\n",
    "    * It consists only of brackets."
   ]
  },
  {
   "attachments": {},
   "cell_type": "markdown",
   "metadata": {},
   "source": [
    "## Exploratory prompts\n",
    "\n",
    "I will test the following prompts, to see what the model does."
   ]
  },
  {
   "cell_type": "code",
   "execution_count": 25,
   "metadata": {},
   "outputs": [
    {
     "name": "stdout",
     "output_type": "stream",
     "text": [
      "num_exploratory_prompts: 72\n"
     ]
    }
   ],
   "source": [
    "exploratory_prompts = [\n",
    "    \"def line(tensor, renderer=None\",\n",
    "    \"def line(tensor, renderer=None)\",\n",
    "    \"exploratory_prompts = ['test'\",\n",
    "    \"exploratory_prompts = ['test']\",\n",
    "    \"array[0\",\n",
    "    \"array[0]\",\n",
    "    \"exploratory_dict = {'test': 'four'\",\n",
    "    \"exploratory_dict = {'test': 'four'}\",\n",
    "    \"<template\",\n",
    "    \"<template>\",\n",
    "    \"def sieve(num, prime_list = [2, 3]\",\n",
    "    \"def sieve(num, prime_list = [2, 3])\",\n",
    "    \"exploratory_dict = {'test': [3, 5]\",\n",
    "    \"exploratory_dict = {'test': [3, 5]}\",\n",
    "    \"exploratory_dict = {'test': get_test()\",\n",
    "    \"exploratory_dict = {'test': get_test()}\",\n",
    "    \"html_to_markdown('<s>'\",\n",
    "    \"html_to_markdown('<s>')\",\n",
    "    \"<table id='name()'\",\n",
    "    \"<table id='name()'>\",\n",
    "    \"load_model(build_structure()\",\n",
    "    \"load_model(build_structure())\",\n",
    "    \"load_model(build_structure(), get_hyperparameters()\",\n",
    "    \"load_model(build_structure(), get_hyperparameters())\",\n",
    "    \"load_model(build_structure(), get_hyperparameters(), (True, False)\",\n",
    "    \"load_model(build_structure(), get_hyperparameters(), (True, False))\",\n",
    "    \"load_model(build_structure(), get_hyperparameters(True), (True, False), get_extra_config(x)\",\n",
    "    \"load_model(build_structure(), get_hyperparameters(True), (True, False), get_extra_config(x))\",\n",
    "    \"x.detach().cpu().to_numpy(\",\n",
    "    \"x.detach().cpu().to_numpy()\",\n",
    "    \"enumerate(list(zip([1,3,65], [1, 2, 3])\",\n",
    "    \"enumerate(list(zip([1,3,65], [1, 2, 3]\",\n",
    "    \"enumerate(list(zip([1,3,65], [1, 2, 3\",\n",
    "    \"enumerate(list(zip([1,3,65], [1, 2, 3]))\",\n",
    "    \"enumerate(list(zip([1,3,65], [1, 2, 3], [4, 3], [1], list(np.zeros(4))\",\n",
    "    \"enumerate(list(zip([1,3,65], [1, 2, 3], [4, 3], [1], list(np.zeros(4)))\",\n",
    "    \"zip(enumerate(list(zip([1,3,65], [1, 2, 3], [4, 3], [1], list(np.zeros(4)))), [3, 4]\",\n",
    "    \"zip(enumerate(list(zip([1,3,65], [1, 2, 3], [4, 3], [1], list(np.zeros(4)))), [3, 4])\",\n",
    "    \"zip(enumerate(list(zip([1,3,65], list(np.zeros(4)))), [3, 4], {1: 2}.items()\",\n",
    "    \"zip(enumerate(list(zip([1,3,65], list(np.zeros(4)))), [3, 4], {1: 2}.items())\",\n",
    "    \"list())))).append(x\",\n",
    "    \"list())))).append(x)\",\n",
    "    \"px.imshow(to_numpy(tensor), ccm=0.0, ccs='RdBu', labels={'x':xaxis, 'y':yaxis}, **kwargs\",\n",
    "    \"px.imshow(to_numpy(tensor), ccm=0.0, ccs='RdBu', labels={'x':xaxis, 'y':yaxis}, **kwargs)\",\n",
    "    \"In the course our our analysis (which was long\",\n",
    "    \"In the course our our analysis (which was long)\",\n",
    "    \"He was eating a apple [sic\",\n",
    "    \"He was eating a apple [sic]\",\n",
    "    \"In the course our our analysis (which was long (though not too long\",\n",
    "    \"In the course our our analysis (which was long (though not too long))\",\n",
    "    \"def sieve(,num prime_list = 2[, 3]\",\n",
    "    \"def sieve(,num prime_list = 2[, 3])\",\n",
    "    \"defn line(tensor, renderer===None\",\n",
    "    \"defn line(tensor, renderer===None)\",\n",
    "    \"exploratory_dict = {'test': [3,} 5]\",\n",
    "    \"exploratory_dict = {'test': [3,} 5\",\n",
    "    \"exploratory_prompts = ['test'(]\",\n",
    "    \"exploratory_prompts = ['test'(])\",\n",
    "    \"def safasfd(oubefwef, vcewfec=afuasvfs\",\n",
    "    \"def safasfd(oubefwef, vcewfec=afuasvfs)\",\n",
    "    \"asdjhvauyrfsac = ['asdasdasd'\",\n",
    "    \"asdjhvauyrfsac = ['asdasdasd']\",\n",
    "    \"dfc = {'sdasd': 'casdasd'\",\n",
    "    \"dfc = {'sdasd': 'casdasd'}\",\n",
    "    \"<bwevzcxc\",\n",
    "    \"<bwevzcxc>\",\n",
    "    \"([]\",\n",
    "    \"([])\",\n",
    "    \"([({},[{()}])])\",\n",
    "    \"([({},[{()}])]\",\n",
    "    \"([({},[{()}])\",\n",
    "    \"([({},[{()}]\",\n",
    "]\n",
    "num_exploratory_prompts = len(exploratory_prompts)\n",
    "print(\"num_exploratory_prompts:\", num_exploratory_prompts)"
   ]
  },
  {
   "attachments": {},
   "cell_type": "markdown",
   "metadata": {},
   "source": [
    "Let's convert the prompts to padded tokens, keeping track of each unpadded length, so we can find the next predicted token for each one."
   ]
  },
  {
   "cell_type": "code",
   "execution_count": 30,
   "metadata": {},
   "outputs": [
    {
     "name": "stdout",
     "output_type": "stream",
     "text": [
      "exp_prompt_tokens: torch.Size([72, 47])\n"
     ]
    }
   ],
   "source": [
    "# Compute the token length of each prompt, so we know where the next-token\n",
    "# prediction will be\n",
    "exp_prompt_token_lengths = []\n",
    "for prompt in exploratory_prompts:\n",
    "    prompt_tokens = model.to_tokens(prompt)\n",
    "    exp_prompt_token_lengths.append(prompt_tokens.shape[1])\n",
    "\n",
    "# Convert all the prompts to tokens, padding to make them the same length\n",
    "exp_prompt_tokens = model.to_tokens(exploratory_prompts)\n",
    "exp_prompt_tokens.to(device)\n",
    "\n",
    "print(\"exp_prompt_tokens:\", exp_prompt_tokens.shape)\n"
   ]
  },
  {
   "attachments": {},
   "cell_type": "markdown",
   "metadata": {},
   "source": [
    "## Investigating performance\n",
    "\n",
    "The following function computes runs the model, looks at the predictions for the next tokens for each prompt, and computes the probability that it each possible bracket (including spaces), conditioned on that it actually is a bracket."
   ]
  },
  {
   "cell_type": "code",
   "execution_count": 31,
   "metadata": {},
   "outputs": [],
   "source": [
    "def compute_bracket_scores(\n",
    "    prompt_tokens: Float[torch.Tensor, \"batch pos\"],\n",
    "    prompt_token_lengths: Optional[list[int]] = None,\n",
    ") -> Float[torch.Tensor, \"batch n_brackets\"]:\n",
    "    \"\"\"Computes the conditional prob that the next token is each bracket\n",
    "\n",
    "    Conditioned on the next token actually being a bracket\n",
    "    \"\"\"\n",
    "\n",
    "    num_prompts = prompt_tokens.shape[0]\n",
    "    num_brackets = len(brackets_flat)\n",
    "\n",
    "    all_logits = model(prompt_tokens, return_type=\"logits\")  # batch pos d_vocab\n",
    "\n",
    "    d_vocab = all_logits.shape[2]\n",
    "\n",
    "    # Select the last token from each\n",
    "    if prompt_token_lengths is None:\n",
    "        logits = all_logits[:, prompt_tokens.shape[1] - 1, :]  # batch d_vocab\n",
    "    else:\n",
    "        indices = torch.tensor(prompt_token_lengths, device=device) - 1  # batch\n",
    "        indices = indices.reshape((num_prompts, 1, 1))  # batch 1 1\n",
    "        indices = indices.repeat((1, 1, d_vocab))  # batch 1 d_vocab\n",
    "        logits = torch.gather(all_logits, 1, indices).squeeze()  # batch d_vocab\n",
    "\n",
    "    probs = F.softmax(logits, dim=1)  # batch d_vocab\n",
    "\n",
    "    # Compute the probability for each bracket and spaced bracket, conditioned\n",
    "    # on the fact that it is a bracket\n",
    "    cond_probs = probs[:, brackets_all_tokens]  # batch (2 n_brackets)\n",
    "    cond_probs = F.normalize(cond_probs, p=1.0, dim=1)\n",
    "\n",
    "    # Combine the conditional probabilities for each bracket with its spaced\n",
    "    # version\n",
    "    cond_probs = cond_probs[:, :num_brackets] + cond_probs[:, num_brackets:]\n",
    "\n",
    "    return cond_probs\n",
    "\n",
    "\n",
    "bracket_scores = compute_bracket_scores(exp_prompt_tokens, exp_prompt_token_lengths)\n"
   ]
  },
  {
   "attachments": {},
   "cell_type": "markdown",
   "metadata": {},
   "source": [
    "Let's display these in a nice chart. I break it up into two since there are a lot of prompts."
   ]
  },
  {
   "cell_type": "code",
   "execution_count": 59,
   "metadata": {},
   "outputs": [],
   "source": [
    "def display_bracket_scores(\n",
    "    prompts: list[str],\n",
    "    bracket_scores: Float[torch.Tensor, \"batch n_brackets\"],\n",
    "    height_scale: int = 30,\n",
    "):\n",
    "    \"\"\"Display the bracket scores nicely\"\"\"\n",
    "    num_prompts = len(prompts)\n",
    "    fig = px.imshow(\n",
    "        utils.to_numpy(bracket_scores),\n",
    "        color_continuous_scale=\"blues\",\n",
    "        labels=dict(x=\"Bracket\", color=\"Conditional Probability\"),\n",
    "        x=brackets_flat,\n",
    "        y=prompts,\n",
    "        height=height_scale * num_prompts,\n",
    "    )\n",
    "    for ix, bracket in enumerate(brackets_flat):\n",
    "        for iy in range(num_prompts):\n",
    "            fig.add_annotation(\n",
    "                x=ix,\n",
    "                y=iy,\n",
    "                text=bracket,\n",
    "                showarrow=False,\n",
    "                font_color=\"orange\",\n",
    "            )\n",
    "    fig.show()\n"
   ]
  },
  {
   "cell_type": "code",
   "execution_count": 32,
   "metadata": {},
   "outputs": [
    {
     "data": {
      "text/html": [
       "<div>                            <div id=\"0fe79d4b-4bfc-4ce5-884e-23ec84ede2be\" class=\"plotly-graph-div\" style=\"height:1080px; width:100%;\"></div>            <script type=\"text/javascript\">                require([\"plotly\"], function(Plotly) {                    window.PLOTLYENV=window.PLOTLYENV || {};                                    if (document.getElementById(\"0fe79d4b-4bfc-4ce5-884e-23ec84ede2be\")) {                    Plotly.newPlot(                        \"0fe79d4b-4bfc-4ce5-884e-23ec84ede2be\",                        [{\"coloraxis\":\"coloraxis\",\"name\":\"0\",\"x\":[\"(\",\"[\",\"{\",\"<\",\")\",\"]\",\"}\",\">\"],\"y\":[\"def line(tensor, renderer=None\",\"def line(tensor, renderer=None)\",\"exploratory_prompts = ['test'\",\"exploratory_prompts = ['test']\",\"array[0\",\"array[0]\",\"exploratory_dict = {'test': 'four'\",\"exploratory_dict = {'test': 'four'}\",\"<template\",\"<template>\",\"def sieve(num, prime_list = [2, 3]\",\"def sieve(num, prime_list = [2, 3])\",\"exploratory_dict = {'test': [3, 5]\",\"exploratory_dict = {'test': [3, 5]}\",\"exploratory_dict = {'test': get_test()\",\"exploratory_dict = {'test': get_test()}\",\"html_to_markdown('<s>'\",\"html_to_markdown('<s>')\",\"<table id='name()'\",\"<table id='name()'>\",\"load_model(build_structure()\",\"load_model(build_structure())\",\"load_model(build_structure(), get_hyperparameters()\",\"load_model(build_structure(), get_hyperparameters())\",\"load_model(build_structure(), get_hyperparameters(), (True, False)\",\"load_model(build_structure(), get_hyperparameters(), (True, False))\",\"load_model(build_structure(), get_hyperparameters(True), (True, False), get_extra_config(x)\",\"load_model(build_structure(), get_hyperparameters(True), (True, False), get_extra_config(x))\",\"x.detach().cpu().to_numpy(\",\"x.detach().cpu().to_numpy()\",\"enumerate(list(zip([1,3,65], [1, 2, 3])\",\"enumerate(list(zip([1,3,65], [1, 2, 3]\",\"enumerate(list(zip([1,3,65], [1, 2, 3\",\"enumerate(list(zip([1,3,65], [1, 2, 3]))\",\"enumerate(list(zip([1,3,65], [1, 2, 3], [4, 3], [1], list(np.zeros(4))\",\"enumerate(list(zip([1,3,65], [1, 2, 3], [4, 3], [1], list(np.zeros(4)))\"],\"z\":[[2.3534194042440504e-05,0.000751104555092752,2.777497911665705e-06,4.603311026585288e-06,0.999188244342804,5.109478934173239e-06,8.985211024992168e-06,1.5771674952702597e-05],[0.3705611824989319,0.36388665437698364,0.24981240928173065,0.005321923177689314,0.00048635408165864646,0.00014426511188503355,3.5996803489979357e-05,0.009751217439770699],[0.013368403539061546,0.02034972608089447,0.00045353209134191275,0.017483899369835854,0.0007865566294640303,0.9020395874977112,0.009666704572737217,0.0358516089618206],[0.0487721785902977,0.06424890458583832,0.007540993392467499,0.0038977176882326603,0.3459755480289459,0.342340350151062,0.1719832718372345,0.015240993350744247],[0.0001885890815174207,0.00030661289929412305,3.374453081050888e-05,0.00021217911853455007,8.552037616027519e-05,0.9986633062362671,0.0004106063861399889,9.952216350939125e-05],[0.08280982077121735,0.12776875495910645,0.2922670841217041,0.3314276337623596,0.01737602986395359,0.007291052956134081,0.004591775126755238,0.13646776974201202],[1.127464565797709e-05,2.203029907832388e-05,9.798197424970567e-06,4.130273009650409e-05,8.65616023304483e-09,1.5389784948638408e-06,0.9999110698699951,2.9876650842197705e-06],[0.043498214334249496,0.39925095438957214,0.05223226919770241,0.005994095467031002,0.12395937740802765,0.31242138147354126,0.055460501462221146,0.0071833087131381035],[4.924935637973249e-05,2.6327774321543984e-05,7.115672246982285e-07,2.3265331037691794e-05,4.689528338985838e-07,1.1157316492926839e-07,1.6206795905304716e-08,0.9998998641967773],[0.0016192211769521236,0.0003510566311888397,0.17261473834514618,0.8205009698867798,1.3388889783527702e-05,1.119917487812927e-05,0.0020407699048519135,0.0028485655784606934],[0.005326451268047094,0.3578747808933258,0.0817149356007576,0.0018818239914253354,0.5359707474708557,1.9747101760003716e-05,3.806100721703842e-05,0.01717349700629711],[0.02434566617012024,0.2686701714992523,0.6984623074531555,0.000828698044642806,0.0009105261997319758,0.0022110450081527233,4.690245259553194e-05,0.004524740390479565],[6.112125447543804e-06,0.00011835475015686825,0.00028976163594052196,0.00014084381109569222,3.272685262345476e-06,1.0464174010849092e-05,0.9994149804115295,1.6207057342398912e-05],[0.017365915700793266,0.07267212867736816,0.006860939785838127,0.00494375778362155,0.1480494737625122,0.4186879098415375,0.32805299758911133,0.0033668335527181625],[0.00030004026484675705,0.002495286986231804,4.352187170297839e-05,0.0001469399139750749,7.9678397923999e-07,3.6193458072375506e-05,0.9969679713249207,9.332878107670695e-06],[0.05248679965734482,0.2998161017894745,0.03892318904399872,0.002532262820750475,0.3066183924674988,0.2057293951511383,0.08827640116214752,0.00561751052737236],[0.035465922206640244,0.1324656903743744,0.3544868528842926,0.07469627261161804,0.38015028834342957,0.0009100319584831595,0.0023334366269409657,0.0194915309548378],[0.0043662297539412975,0.29186782240867615,0.6057822704315186,0.017100343480706215,0.03143136948347092,0.02439955621957779,0.011036152951419353,0.014016278088092804],[0.0011219767620787024,0.00519763445481658,0.0006584881921298802,0.0044309520162642,3.4976721508428454e-05,0.0006312547484412789,0.00015580626495648175,0.9877688884735107],[0.0018348295707255602,0.006512897089123726,0.06038971245288849,0.9266201257705688,0.00010732557711889967,4.5889093598816544e-05,0.0036621151957660913,0.000827095820568502],[0.057571083307266235,0.22363612055778503,0.5602807402610779,0.08244212716817856,0.06149072200059891,2.4694856620044447e-05,5.4236639698501676e-05,0.01450035348534584],[0.0005936450907029212,0.007804426830261946,0.9743531942367554,0.008609992451965809,0.001145102083683014,0.00024807927547954023,0.0011992586078122258,0.0060462960973382],[0.030238354578614235,0.7795913219451904,0.023403258994221687,0.005021772813051939,0.1502024084329605,1.4503048078040592e-05,7.44133212720044e-05,0.011453934013843536],[0.0017230629455298185,0.10792195796966553,0.8060173392295837,0.020301591604948044,0.01574813947081566,0.005232219584286213,0.01619759388267994,0.02685810811817646],[0.05891294777393341,0.103886678814888,0.4504428505897522,0.059552766382694244,0.24699725210666656,8.965680899564177e-05,0.0002332196745555848,0.07988455891609192],[0.09498710185289383,0.12927789986133575,0.43035227060317993,0.047339823096990585,0.11925098299980164,0.040539540350437164,0.0228738896548748,0.11537843942642212],[0.018725523725152016,0.07399634271860123,0.11049651354551315,0.026019137352705002,0.6628103852272034,0.0006893241079524159,0.004554616753011942,0.10270814597606659],[0.01962563395500183,0.14026957750320435,0.44144484400749207,0.049258626997470856,0.17284023761749268,0.07605591416358948,0.007217723876237869,0.09328743070363998],[0.045994777232408524,0.47567814588546753,0.053316134959459305,0.23279166221618652,0.0991024598479271,0.0026191044598817825,0.011389903724193573,0.07910779118537903],[0.10495425760746002,0.6417272686958313,0.007427428383380175,0.02339288592338562,0.08841293305158615,0.03670547157526016,0.03914621099829674,0.05823343247175217],[0.0041989777237176895,0.6819349527359009,0.03444870188832283,0.007651261519640684,0.22270990908145905,0.04572981223464012,0.00017088929598685354,0.0031555641908198595],[0.0025278094690293074,0.32928943634033203,0.101015105843544,0.04245070368051529,0.5109279751777649,0.0028155683539807796,0.00010538347123656422,0.010868008248507977],[0.00010569600271992385,0.0004896955797448754,8.804794561001472e-06,1.2289677215449046e-05,9.399910049978644e-05,0.9992153644561768,6.78381256875582e-05,6.31856619293103e-06],[0.022637851536273956,0.7204288840293884,0.025532614439725876,0.006268418859690428,0.21338365972042084,0.004174882546067238,0.00027504097670316696,0.007298383396118879],[0.008052723482251167,0.8443952798843384,0.0010414067655801773,0.009913072921335697,0.09255474805831909,0.04096810147166252,0.000267031486146152,0.002807599026709795],[0.008624942973256111,0.8762132525444031,0.0006376439123414457,0.015651820227503777,0.081041119992733,0.0020381056237965822,0.0011732680723071098,0.014619987457990646]],\"type\":\"heatmap\",\"xaxis\":\"x\",\"yaxis\":\"y\",\"hovertemplate\":\"Bracket: %{x}<br>y: %{y}<br>Conditional Probability: %{z}<extra></extra>\"}],                        {\"template\":{\"data\":{\"histogram2dcontour\":[{\"type\":\"histogram2dcontour\",\"colorbar\":{\"outlinewidth\":0,\"ticks\":\"\"},\"colorscale\":[[0.0,\"#0d0887\"],[0.1111111111111111,\"#46039f\"],[0.2222222222222222,\"#7201a8\"],[0.3333333333333333,\"#9c179e\"],[0.4444444444444444,\"#bd3786\"],[0.5555555555555556,\"#d8576b\"],[0.6666666666666666,\"#ed7953\"],[0.7777777777777778,\"#fb9f3a\"],[0.8888888888888888,\"#fdca26\"],[1.0,\"#f0f921\"]]}],\"choropleth\":[{\"type\":\"choropleth\",\"colorbar\":{\"outlinewidth\":0,\"ticks\":\"\"}}],\"histogram2d\":[{\"type\":\"histogram2d\",\"colorbar\":{\"outlinewidth\":0,\"ticks\":\"\"},\"colorscale\":[[0.0,\"#0d0887\"],[0.1111111111111111,\"#46039f\"],[0.2222222222222222,\"#7201a8\"],[0.3333333333333333,\"#9c179e\"],[0.4444444444444444,\"#bd3786\"],[0.5555555555555556,\"#d8576b\"],[0.6666666666666666,\"#ed7953\"],[0.7777777777777778,\"#fb9f3a\"],[0.8888888888888888,\"#fdca26\"],[1.0,\"#f0f921\"]]}],\"heatmap\":[{\"type\":\"heatmap\",\"colorbar\":{\"outlinewidth\":0,\"ticks\":\"\"},\"colorscale\":[[0.0,\"#0d0887\"],[0.1111111111111111,\"#46039f\"],[0.2222222222222222,\"#7201a8\"],[0.3333333333333333,\"#9c179e\"],[0.4444444444444444,\"#bd3786\"],[0.5555555555555556,\"#d8576b\"],[0.6666666666666666,\"#ed7953\"],[0.7777777777777778,\"#fb9f3a\"],[0.8888888888888888,\"#fdca26\"],[1.0,\"#f0f921\"]]}],\"heatmapgl\":[{\"type\":\"heatmapgl\",\"colorbar\":{\"outlinewidth\":0,\"ticks\":\"\"},\"colorscale\":[[0.0,\"#0d0887\"],[0.1111111111111111,\"#46039f\"],[0.2222222222222222,\"#7201a8\"],[0.3333333333333333,\"#9c179e\"],[0.4444444444444444,\"#bd3786\"],[0.5555555555555556,\"#d8576b\"],[0.6666666666666666,\"#ed7953\"],[0.7777777777777778,\"#fb9f3a\"],[0.8888888888888888,\"#fdca26\"],[1.0,\"#f0f921\"]]}],\"contourcarpet\":[{\"type\":\"contourcarpet\",\"colorbar\":{\"outlinewidth\":0,\"ticks\":\"\"}}],\"contour\":[{\"type\":\"contour\",\"colorbar\":{\"outlinewidth\":0,\"ticks\":\"\"},\"colorscale\":[[0.0,\"#0d0887\"],[0.1111111111111111,\"#46039f\"],[0.2222222222222222,\"#7201a8\"],[0.3333333333333333,\"#9c179e\"],[0.4444444444444444,\"#bd3786\"],[0.5555555555555556,\"#d8576b\"],[0.6666666666666666,\"#ed7953\"],[0.7777777777777778,\"#fb9f3a\"],[0.8888888888888888,\"#fdca26\"],[1.0,\"#f0f921\"]]}],\"surface\":[{\"type\":\"surface\",\"colorbar\":{\"outlinewidth\":0,\"ticks\":\"\"},\"colorscale\":[[0.0,\"#0d0887\"],[0.1111111111111111,\"#46039f\"],[0.2222222222222222,\"#7201a8\"],[0.3333333333333333,\"#9c179e\"],[0.4444444444444444,\"#bd3786\"],[0.5555555555555556,\"#d8576b\"],[0.6666666666666666,\"#ed7953\"],[0.7777777777777778,\"#fb9f3a\"],[0.8888888888888888,\"#fdca26\"],[1.0,\"#f0f921\"]]}],\"mesh3d\":[{\"type\":\"mesh3d\",\"colorbar\":{\"outlinewidth\":0,\"ticks\":\"\"}}],\"scatter\":[{\"fillpattern\":{\"fillmode\":\"overlay\",\"size\":10,\"solidity\":0.2},\"type\":\"scatter\"}],\"parcoords\":[{\"type\":\"parcoords\",\"line\":{\"colorbar\":{\"outlinewidth\":0,\"ticks\":\"\"}}}],\"scatterpolargl\":[{\"type\":\"scatterpolargl\",\"marker\":{\"colorbar\":{\"outlinewidth\":0,\"ticks\":\"\"}}}],\"bar\":[{\"error_x\":{\"color\":\"#2a3f5f\"},\"error_y\":{\"color\":\"#2a3f5f\"},\"marker\":{\"line\":{\"color\":\"#E5ECF6\",\"width\":0.5},\"pattern\":{\"fillmode\":\"overlay\",\"size\":10,\"solidity\":0.2}},\"type\":\"bar\"}],\"scattergeo\":[{\"type\":\"scattergeo\",\"marker\":{\"colorbar\":{\"outlinewidth\":0,\"ticks\":\"\"}}}],\"scatterpolar\":[{\"type\":\"scatterpolar\",\"marker\":{\"colorbar\":{\"outlinewidth\":0,\"ticks\":\"\"}}}],\"histogram\":[{\"marker\":{\"pattern\":{\"fillmode\":\"overlay\",\"size\":10,\"solidity\":0.2}},\"type\":\"histogram\"}],\"scattergl\":[{\"type\":\"scattergl\",\"marker\":{\"colorbar\":{\"outlinewidth\":0,\"ticks\":\"\"}}}],\"scatter3d\":[{\"type\":\"scatter3d\",\"line\":{\"colorbar\":{\"outlinewidth\":0,\"ticks\":\"\"}},\"marker\":{\"colorbar\":{\"outlinewidth\":0,\"ticks\":\"\"}}}],\"scattermapbox\":[{\"type\":\"scattermapbox\",\"marker\":{\"colorbar\":{\"outlinewidth\":0,\"ticks\":\"\"}}}],\"scatterternary\":[{\"type\":\"scatterternary\",\"marker\":{\"colorbar\":{\"outlinewidth\":0,\"ticks\":\"\"}}}],\"scattercarpet\":[{\"type\":\"scattercarpet\",\"marker\":{\"colorbar\":{\"outlinewidth\":0,\"ticks\":\"\"}}}],\"carpet\":[{\"aaxis\":{\"endlinecolor\":\"#2a3f5f\",\"gridcolor\":\"white\",\"linecolor\":\"white\",\"minorgridcolor\":\"white\",\"startlinecolor\":\"#2a3f5f\"},\"baxis\":{\"endlinecolor\":\"#2a3f5f\",\"gridcolor\":\"white\",\"linecolor\":\"white\",\"minorgridcolor\":\"white\",\"startlinecolor\":\"#2a3f5f\"},\"type\":\"carpet\"}],\"table\":[{\"cells\":{\"fill\":{\"color\":\"#EBF0F8\"},\"line\":{\"color\":\"white\"}},\"header\":{\"fill\":{\"color\":\"#C8D4E3\"},\"line\":{\"color\":\"white\"}},\"type\":\"table\"}],\"barpolar\":[{\"marker\":{\"line\":{\"color\":\"#E5ECF6\",\"width\":0.5},\"pattern\":{\"fillmode\":\"overlay\",\"size\":10,\"solidity\":0.2}},\"type\":\"barpolar\"}],\"pie\":[{\"automargin\":true,\"type\":\"pie\"}]},\"layout\":{\"autotypenumbers\":\"strict\",\"colorway\":[\"#636efa\",\"#EF553B\",\"#00cc96\",\"#ab63fa\",\"#FFA15A\",\"#19d3f3\",\"#FF6692\",\"#B6E880\",\"#FF97FF\",\"#FECB52\"],\"font\":{\"color\":\"#2a3f5f\"},\"hovermode\":\"closest\",\"hoverlabel\":{\"align\":\"left\"},\"paper_bgcolor\":\"white\",\"plot_bgcolor\":\"#E5ECF6\",\"polar\":{\"bgcolor\":\"#E5ECF6\",\"angularaxis\":{\"gridcolor\":\"white\",\"linecolor\":\"white\",\"ticks\":\"\"},\"radialaxis\":{\"gridcolor\":\"white\",\"linecolor\":\"white\",\"ticks\":\"\"}},\"ternary\":{\"bgcolor\":\"#E5ECF6\",\"aaxis\":{\"gridcolor\":\"white\",\"linecolor\":\"white\",\"ticks\":\"\"},\"baxis\":{\"gridcolor\":\"white\",\"linecolor\":\"white\",\"ticks\":\"\"},\"caxis\":{\"gridcolor\":\"white\",\"linecolor\":\"white\",\"ticks\":\"\"}},\"coloraxis\":{\"colorbar\":{\"outlinewidth\":0,\"ticks\":\"\"}},\"colorscale\":{\"sequential\":[[0.0,\"#0d0887\"],[0.1111111111111111,\"#46039f\"],[0.2222222222222222,\"#7201a8\"],[0.3333333333333333,\"#9c179e\"],[0.4444444444444444,\"#bd3786\"],[0.5555555555555556,\"#d8576b\"],[0.6666666666666666,\"#ed7953\"],[0.7777777777777778,\"#fb9f3a\"],[0.8888888888888888,\"#fdca26\"],[1.0,\"#f0f921\"]],\"sequentialminus\":[[0.0,\"#0d0887\"],[0.1111111111111111,\"#46039f\"],[0.2222222222222222,\"#7201a8\"],[0.3333333333333333,\"#9c179e\"],[0.4444444444444444,\"#bd3786\"],[0.5555555555555556,\"#d8576b\"],[0.6666666666666666,\"#ed7953\"],[0.7777777777777778,\"#fb9f3a\"],[0.8888888888888888,\"#fdca26\"],[1.0,\"#f0f921\"]],\"diverging\":[[0,\"#8e0152\"],[0.1,\"#c51b7d\"],[0.2,\"#de77ae\"],[0.3,\"#f1b6da\"],[0.4,\"#fde0ef\"],[0.5,\"#f7f7f7\"],[0.6,\"#e6f5d0\"],[0.7,\"#b8e186\"],[0.8,\"#7fbc41\"],[0.9,\"#4d9221\"],[1,\"#276419\"]]},\"xaxis\":{\"gridcolor\":\"white\",\"linecolor\":\"white\",\"ticks\":\"\",\"title\":{\"standoff\":15},\"zerolinecolor\":\"white\",\"automargin\":true,\"zerolinewidth\":2},\"yaxis\":{\"gridcolor\":\"white\",\"linecolor\":\"white\",\"ticks\":\"\",\"title\":{\"standoff\":15},\"zerolinecolor\":\"white\",\"automargin\":true,\"zerolinewidth\":2},\"scene\":{\"xaxis\":{\"backgroundcolor\":\"#E5ECF6\",\"gridcolor\":\"white\",\"linecolor\":\"white\",\"showbackground\":true,\"ticks\":\"\",\"zerolinecolor\":\"white\",\"gridwidth\":2},\"yaxis\":{\"backgroundcolor\":\"#E5ECF6\",\"gridcolor\":\"white\",\"linecolor\":\"white\",\"showbackground\":true,\"ticks\":\"\",\"zerolinecolor\":\"white\",\"gridwidth\":2},\"zaxis\":{\"backgroundcolor\":\"#E5ECF6\",\"gridcolor\":\"white\",\"linecolor\":\"white\",\"showbackground\":true,\"ticks\":\"\",\"zerolinecolor\":\"white\",\"gridwidth\":2}},\"shapedefaults\":{\"line\":{\"color\":\"#2a3f5f\"}},\"annotationdefaults\":{\"arrowcolor\":\"#2a3f5f\",\"arrowhead\":0,\"arrowwidth\":1},\"geo\":{\"bgcolor\":\"white\",\"landcolor\":\"#E5ECF6\",\"subunitcolor\":\"white\",\"showland\":true,\"showlakes\":true,\"lakecolor\":\"white\"},\"title\":{\"x\":0.05},\"mapbox\":{\"style\":\"light\"}}},\"xaxis\":{\"anchor\":\"y\",\"domain\":[0.0,1.0],\"scaleanchor\":\"y\",\"constrain\":\"domain\",\"title\":{\"text\":\"Bracket\"}},\"yaxis\":{\"anchor\":\"x\",\"domain\":[0.0,1.0],\"autorange\":\"reversed\",\"constrain\":\"domain\"},\"coloraxis\":{\"colorbar\":{\"title\":{\"text\":\"Conditional Probability\"}},\"colorscale\":[[0.0,\"rgb(247,251,255)\"],[0.125,\"rgb(222,235,247)\"],[0.25,\"rgb(198,219,239)\"],[0.375,\"rgb(158,202,225)\"],[0.5,\"rgb(107,174,214)\"],[0.625,\"rgb(66,146,198)\"],[0.75,\"rgb(33,113,181)\"],[0.875,\"rgb(8,81,156)\"],[1.0,\"rgb(8,48,107)\"]]},\"margin\":{\"t\":60},\"height\":1080,\"annotations\":[{\"font\":{\"color\":\"orange\"},\"showarrow\":false,\"text\":\"(\",\"x\":0,\"y\":0},{\"font\":{\"color\":\"orange\"},\"showarrow\":false,\"text\":\"(\",\"x\":0,\"y\":1},{\"font\":{\"color\":\"orange\"},\"showarrow\":false,\"text\":\"(\",\"x\":0,\"y\":2},{\"font\":{\"color\":\"orange\"},\"showarrow\":false,\"text\":\"(\",\"x\":0,\"y\":3},{\"font\":{\"color\":\"orange\"},\"showarrow\":false,\"text\":\"(\",\"x\":0,\"y\":4},{\"font\":{\"color\":\"orange\"},\"showarrow\":false,\"text\":\"(\",\"x\":0,\"y\":5},{\"font\":{\"color\":\"orange\"},\"showarrow\":false,\"text\":\"(\",\"x\":0,\"y\":6},{\"font\":{\"color\":\"orange\"},\"showarrow\":false,\"text\":\"(\",\"x\":0,\"y\":7},{\"font\":{\"color\":\"orange\"},\"showarrow\":false,\"text\":\"(\",\"x\":0,\"y\":8},{\"font\":{\"color\":\"orange\"},\"showarrow\":false,\"text\":\"(\",\"x\":0,\"y\":9},{\"font\":{\"color\":\"orange\"},\"showarrow\":false,\"text\":\"(\",\"x\":0,\"y\":10},{\"font\":{\"color\":\"orange\"},\"showarrow\":false,\"text\":\"(\",\"x\":0,\"y\":11},{\"font\":{\"color\":\"orange\"},\"showarrow\":false,\"text\":\"(\",\"x\":0,\"y\":12},{\"font\":{\"color\":\"orange\"},\"showarrow\":false,\"text\":\"(\",\"x\":0,\"y\":13},{\"font\":{\"color\":\"orange\"},\"showarrow\":false,\"text\":\"(\",\"x\":0,\"y\":14},{\"font\":{\"color\":\"orange\"},\"showarrow\":false,\"text\":\"(\",\"x\":0,\"y\":15},{\"font\":{\"color\":\"orange\"},\"showarrow\":false,\"text\":\"(\",\"x\":0,\"y\":16},{\"font\":{\"color\":\"orange\"},\"showarrow\":false,\"text\":\"(\",\"x\":0,\"y\":17},{\"font\":{\"color\":\"orange\"},\"showarrow\":false,\"text\":\"(\",\"x\":0,\"y\":18},{\"font\":{\"color\":\"orange\"},\"showarrow\":false,\"text\":\"(\",\"x\":0,\"y\":19},{\"font\":{\"color\":\"orange\"},\"showarrow\":false,\"text\":\"(\",\"x\":0,\"y\":20},{\"font\":{\"color\":\"orange\"},\"showarrow\":false,\"text\":\"(\",\"x\":0,\"y\":21},{\"font\":{\"color\":\"orange\"},\"showarrow\":false,\"text\":\"(\",\"x\":0,\"y\":22},{\"font\":{\"color\":\"orange\"},\"showarrow\":false,\"text\":\"(\",\"x\":0,\"y\":23},{\"font\":{\"color\":\"orange\"},\"showarrow\":false,\"text\":\"(\",\"x\":0,\"y\":24},{\"font\":{\"color\":\"orange\"},\"showarrow\":false,\"text\":\"(\",\"x\":0,\"y\":25},{\"font\":{\"color\":\"orange\"},\"showarrow\":false,\"text\":\"(\",\"x\":0,\"y\":26},{\"font\":{\"color\":\"orange\"},\"showarrow\":false,\"text\":\"(\",\"x\":0,\"y\":27},{\"font\":{\"color\":\"orange\"},\"showarrow\":false,\"text\":\"(\",\"x\":0,\"y\":28},{\"font\":{\"color\":\"orange\"},\"showarrow\":false,\"text\":\"(\",\"x\":0,\"y\":29},{\"font\":{\"color\":\"orange\"},\"showarrow\":false,\"text\":\"(\",\"x\":0,\"y\":30},{\"font\":{\"color\":\"orange\"},\"showarrow\":false,\"text\":\"(\",\"x\":0,\"y\":31},{\"font\":{\"color\":\"orange\"},\"showarrow\":false,\"text\":\"(\",\"x\":0,\"y\":32},{\"font\":{\"color\":\"orange\"},\"showarrow\":false,\"text\":\"(\",\"x\":0,\"y\":33},{\"font\":{\"color\":\"orange\"},\"showarrow\":false,\"text\":\"(\",\"x\":0,\"y\":34},{\"font\":{\"color\":\"orange\"},\"showarrow\":false,\"text\":\"(\",\"x\":0,\"y\":35},{\"font\":{\"color\":\"orange\"},\"showarrow\":false,\"text\":\"[\",\"x\":1,\"y\":0},{\"font\":{\"color\":\"orange\"},\"showarrow\":false,\"text\":\"[\",\"x\":1,\"y\":1},{\"font\":{\"color\":\"orange\"},\"showarrow\":false,\"text\":\"[\",\"x\":1,\"y\":2},{\"font\":{\"color\":\"orange\"},\"showarrow\":false,\"text\":\"[\",\"x\":1,\"y\":3},{\"font\":{\"color\":\"orange\"},\"showarrow\":false,\"text\":\"[\",\"x\":1,\"y\":4},{\"font\":{\"color\":\"orange\"},\"showarrow\":false,\"text\":\"[\",\"x\":1,\"y\":5},{\"font\":{\"color\":\"orange\"},\"showarrow\":false,\"text\":\"[\",\"x\":1,\"y\":6},{\"font\":{\"color\":\"orange\"},\"showarrow\":false,\"text\":\"[\",\"x\":1,\"y\":7},{\"font\":{\"color\":\"orange\"},\"showarrow\":false,\"text\":\"[\",\"x\":1,\"y\":8},{\"font\":{\"color\":\"orange\"},\"showarrow\":false,\"text\":\"[\",\"x\":1,\"y\":9},{\"font\":{\"color\":\"orange\"},\"showarrow\":false,\"text\":\"[\",\"x\":1,\"y\":10},{\"font\":{\"color\":\"orange\"},\"showarrow\":false,\"text\":\"[\",\"x\":1,\"y\":11},{\"font\":{\"color\":\"orange\"},\"showarrow\":false,\"text\":\"[\",\"x\":1,\"y\":12},{\"font\":{\"color\":\"orange\"},\"showarrow\":false,\"text\":\"[\",\"x\":1,\"y\":13},{\"font\":{\"color\":\"orange\"},\"showarrow\":false,\"text\":\"[\",\"x\":1,\"y\":14},{\"font\":{\"color\":\"orange\"},\"showarrow\":false,\"text\":\"[\",\"x\":1,\"y\":15},{\"font\":{\"color\":\"orange\"},\"showarrow\":false,\"text\":\"[\",\"x\":1,\"y\":16},{\"font\":{\"color\":\"orange\"},\"showarrow\":false,\"text\":\"[\",\"x\":1,\"y\":17},{\"font\":{\"color\":\"orange\"},\"showarrow\":false,\"text\":\"[\",\"x\":1,\"y\":18},{\"font\":{\"color\":\"orange\"},\"showarrow\":false,\"text\":\"[\",\"x\":1,\"y\":19},{\"font\":{\"color\":\"orange\"},\"showarrow\":false,\"text\":\"[\",\"x\":1,\"y\":20},{\"font\":{\"color\":\"orange\"},\"showarrow\":false,\"text\":\"[\",\"x\":1,\"y\":21},{\"font\":{\"color\":\"orange\"},\"showarrow\":false,\"text\":\"[\",\"x\":1,\"y\":22},{\"font\":{\"color\":\"orange\"},\"showarrow\":false,\"text\":\"[\",\"x\":1,\"y\":23},{\"font\":{\"color\":\"orange\"},\"showarrow\":false,\"text\":\"[\",\"x\":1,\"y\":24},{\"font\":{\"color\":\"orange\"},\"showarrow\":false,\"text\":\"[\",\"x\":1,\"y\":25},{\"font\":{\"color\":\"orange\"},\"showarrow\":false,\"text\":\"[\",\"x\":1,\"y\":26},{\"font\":{\"color\":\"orange\"},\"showarrow\":false,\"text\":\"[\",\"x\":1,\"y\":27},{\"font\":{\"color\":\"orange\"},\"showarrow\":false,\"text\":\"[\",\"x\":1,\"y\":28},{\"font\":{\"color\":\"orange\"},\"showarrow\":false,\"text\":\"[\",\"x\":1,\"y\":29},{\"font\":{\"color\":\"orange\"},\"showarrow\":false,\"text\":\"[\",\"x\":1,\"y\":30},{\"font\":{\"color\":\"orange\"},\"showarrow\":false,\"text\":\"[\",\"x\":1,\"y\":31},{\"font\":{\"color\":\"orange\"},\"showarrow\":false,\"text\":\"[\",\"x\":1,\"y\":32},{\"font\":{\"color\":\"orange\"},\"showarrow\":false,\"text\":\"[\",\"x\":1,\"y\":33},{\"font\":{\"color\":\"orange\"},\"showarrow\":false,\"text\":\"[\",\"x\":1,\"y\":34},{\"font\":{\"color\":\"orange\"},\"showarrow\":false,\"text\":\"[\",\"x\":1,\"y\":35},{\"font\":{\"color\":\"orange\"},\"showarrow\":false,\"text\":\"{\",\"x\":2,\"y\":0},{\"font\":{\"color\":\"orange\"},\"showarrow\":false,\"text\":\"{\",\"x\":2,\"y\":1},{\"font\":{\"color\":\"orange\"},\"showarrow\":false,\"text\":\"{\",\"x\":2,\"y\":2},{\"font\":{\"color\":\"orange\"},\"showarrow\":false,\"text\":\"{\",\"x\":2,\"y\":3},{\"font\":{\"color\":\"orange\"},\"showarrow\":false,\"text\":\"{\",\"x\":2,\"y\":4},{\"font\":{\"color\":\"orange\"},\"showarrow\":false,\"text\":\"{\",\"x\":2,\"y\":5},{\"font\":{\"color\":\"orange\"},\"showarrow\":false,\"text\":\"{\",\"x\":2,\"y\":6},{\"font\":{\"color\":\"orange\"},\"showarrow\":false,\"text\":\"{\",\"x\":2,\"y\":7},{\"font\":{\"color\":\"orange\"},\"showarrow\":false,\"text\":\"{\",\"x\":2,\"y\":8},{\"font\":{\"color\":\"orange\"},\"showarrow\":false,\"text\":\"{\",\"x\":2,\"y\":9},{\"font\":{\"color\":\"orange\"},\"showarrow\":false,\"text\":\"{\",\"x\":2,\"y\":10},{\"font\":{\"color\":\"orange\"},\"showarrow\":false,\"text\":\"{\",\"x\":2,\"y\":11},{\"font\":{\"color\":\"orange\"},\"showarrow\":false,\"text\":\"{\",\"x\":2,\"y\":12},{\"font\":{\"color\":\"orange\"},\"showarrow\":false,\"text\":\"{\",\"x\":2,\"y\":13},{\"font\":{\"color\":\"orange\"},\"showarrow\":false,\"text\":\"{\",\"x\":2,\"y\":14},{\"font\":{\"color\":\"orange\"},\"showarrow\":false,\"text\":\"{\",\"x\":2,\"y\":15},{\"font\":{\"color\":\"orange\"},\"showarrow\":false,\"text\":\"{\",\"x\":2,\"y\":16},{\"font\":{\"color\":\"orange\"},\"showarrow\":false,\"text\":\"{\",\"x\":2,\"y\":17},{\"font\":{\"color\":\"orange\"},\"showarrow\":false,\"text\":\"{\",\"x\":2,\"y\":18},{\"font\":{\"color\":\"orange\"},\"showarrow\":false,\"text\":\"{\",\"x\":2,\"y\":19},{\"font\":{\"color\":\"orange\"},\"showarrow\":false,\"text\":\"{\",\"x\":2,\"y\":20},{\"font\":{\"color\":\"orange\"},\"showarrow\":false,\"text\":\"{\",\"x\":2,\"y\":21},{\"font\":{\"color\":\"orange\"},\"showarrow\":false,\"text\":\"{\",\"x\":2,\"y\":22},{\"font\":{\"color\":\"orange\"},\"showarrow\":false,\"text\":\"{\",\"x\":2,\"y\":23},{\"font\":{\"color\":\"orange\"},\"showarrow\":false,\"text\":\"{\",\"x\":2,\"y\":24},{\"font\":{\"color\":\"orange\"},\"showarrow\":false,\"text\":\"{\",\"x\":2,\"y\":25},{\"font\":{\"color\":\"orange\"},\"showarrow\":false,\"text\":\"{\",\"x\":2,\"y\":26},{\"font\":{\"color\":\"orange\"},\"showarrow\":false,\"text\":\"{\",\"x\":2,\"y\":27},{\"font\":{\"color\":\"orange\"},\"showarrow\":false,\"text\":\"{\",\"x\":2,\"y\":28},{\"font\":{\"color\":\"orange\"},\"showarrow\":false,\"text\":\"{\",\"x\":2,\"y\":29},{\"font\":{\"color\":\"orange\"},\"showarrow\":false,\"text\":\"{\",\"x\":2,\"y\":30},{\"font\":{\"color\":\"orange\"},\"showarrow\":false,\"text\":\"{\",\"x\":2,\"y\":31},{\"font\":{\"color\":\"orange\"},\"showarrow\":false,\"text\":\"{\",\"x\":2,\"y\":32},{\"font\":{\"color\":\"orange\"},\"showarrow\":false,\"text\":\"{\",\"x\":2,\"y\":33},{\"font\":{\"color\":\"orange\"},\"showarrow\":false,\"text\":\"{\",\"x\":2,\"y\":34},{\"font\":{\"color\":\"orange\"},\"showarrow\":false,\"text\":\"{\",\"x\":2,\"y\":35},{\"font\":{\"color\":\"orange\"},\"showarrow\":false,\"text\":\"<\",\"x\":3,\"y\":0},{\"font\":{\"color\":\"orange\"},\"showarrow\":false,\"text\":\"<\",\"x\":3,\"y\":1},{\"font\":{\"color\":\"orange\"},\"showarrow\":false,\"text\":\"<\",\"x\":3,\"y\":2},{\"font\":{\"color\":\"orange\"},\"showarrow\":false,\"text\":\"<\",\"x\":3,\"y\":3},{\"font\":{\"color\":\"orange\"},\"showarrow\":false,\"text\":\"<\",\"x\":3,\"y\":4},{\"font\":{\"color\":\"orange\"},\"showarrow\":false,\"text\":\"<\",\"x\":3,\"y\":5},{\"font\":{\"color\":\"orange\"},\"showarrow\":false,\"text\":\"<\",\"x\":3,\"y\":6},{\"font\":{\"color\":\"orange\"},\"showarrow\":false,\"text\":\"<\",\"x\":3,\"y\":7},{\"font\":{\"color\":\"orange\"},\"showarrow\":false,\"text\":\"<\",\"x\":3,\"y\":8},{\"font\":{\"color\":\"orange\"},\"showarrow\":false,\"text\":\"<\",\"x\":3,\"y\":9},{\"font\":{\"color\":\"orange\"},\"showarrow\":false,\"text\":\"<\",\"x\":3,\"y\":10},{\"font\":{\"color\":\"orange\"},\"showarrow\":false,\"text\":\"<\",\"x\":3,\"y\":11},{\"font\":{\"color\":\"orange\"},\"showarrow\":false,\"text\":\"<\",\"x\":3,\"y\":12},{\"font\":{\"color\":\"orange\"},\"showarrow\":false,\"text\":\"<\",\"x\":3,\"y\":13},{\"font\":{\"color\":\"orange\"},\"showarrow\":false,\"text\":\"<\",\"x\":3,\"y\":14},{\"font\":{\"color\":\"orange\"},\"showarrow\":false,\"text\":\"<\",\"x\":3,\"y\":15},{\"font\":{\"color\":\"orange\"},\"showarrow\":false,\"text\":\"<\",\"x\":3,\"y\":16},{\"font\":{\"color\":\"orange\"},\"showarrow\":false,\"text\":\"<\",\"x\":3,\"y\":17},{\"font\":{\"color\":\"orange\"},\"showarrow\":false,\"text\":\"<\",\"x\":3,\"y\":18},{\"font\":{\"color\":\"orange\"},\"showarrow\":false,\"text\":\"<\",\"x\":3,\"y\":19},{\"font\":{\"color\":\"orange\"},\"showarrow\":false,\"text\":\"<\",\"x\":3,\"y\":20},{\"font\":{\"color\":\"orange\"},\"showarrow\":false,\"text\":\"<\",\"x\":3,\"y\":21},{\"font\":{\"color\":\"orange\"},\"showarrow\":false,\"text\":\"<\",\"x\":3,\"y\":22},{\"font\":{\"color\":\"orange\"},\"showarrow\":false,\"text\":\"<\",\"x\":3,\"y\":23},{\"font\":{\"color\":\"orange\"},\"showarrow\":false,\"text\":\"<\",\"x\":3,\"y\":24},{\"font\":{\"color\":\"orange\"},\"showarrow\":false,\"text\":\"<\",\"x\":3,\"y\":25},{\"font\":{\"color\":\"orange\"},\"showarrow\":false,\"text\":\"<\",\"x\":3,\"y\":26},{\"font\":{\"color\":\"orange\"},\"showarrow\":false,\"text\":\"<\",\"x\":3,\"y\":27},{\"font\":{\"color\":\"orange\"},\"showarrow\":false,\"text\":\"<\",\"x\":3,\"y\":28},{\"font\":{\"color\":\"orange\"},\"showarrow\":false,\"text\":\"<\",\"x\":3,\"y\":29},{\"font\":{\"color\":\"orange\"},\"showarrow\":false,\"text\":\"<\",\"x\":3,\"y\":30},{\"font\":{\"color\":\"orange\"},\"showarrow\":false,\"text\":\"<\",\"x\":3,\"y\":31},{\"font\":{\"color\":\"orange\"},\"showarrow\":false,\"text\":\"<\",\"x\":3,\"y\":32},{\"font\":{\"color\":\"orange\"},\"showarrow\":false,\"text\":\"<\",\"x\":3,\"y\":33},{\"font\":{\"color\":\"orange\"},\"showarrow\":false,\"text\":\"<\",\"x\":3,\"y\":34},{\"font\":{\"color\":\"orange\"},\"showarrow\":false,\"text\":\"<\",\"x\":3,\"y\":35},{\"font\":{\"color\":\"orange\"},\"showarrow\":false,\"text\":\")\",\"x\":4,\"y\":0},{\"font\":{\"color\":\"orange\"},\"showarrow\":false,\"text\":\")\",\"x\":4,\"y\":1},{\"font\":{\"color\":\"orange\"},\"showarrow\":false,\"text\":\")\",\"x\":4,\"y\":2},{\"font\":{\"color\":\"orange\"},\"showarrow\":false,\"text\":\")\",\"x\":4,\"y\":3},{\"font\":{\"color\":\"orange\"},\"showarrow\":false,\"text\":\")\",\"x\":4,\"y\":4},{\"font\":{\"color\":\"orange\"},\"showarrow\":false,\"text\":\")\",\"x\":4,\"y\":5},{\"font\":{\"color\":\"orange\"},\"showarrow\":false,\"text\":\")\",\"x\":4,\"y\":6},{\"font\":{\"color\":\"orange\"},\"showarrow\":false,\"text\":\")\",\"x\":4,\"y\":7},{\"font\":{\"color\":\"orange\"},\"showarrow\":false,\"text\":\")\",\"x\":4,\"y\":8},{\"font\":{\"color\":\"orange\"},\"showarrow\":false,\"text\":\")\",\"x\":4,\"y\":9},{\"font\":{\"color\":\"orange\"},\"showarrow\":false,\"text\":\")\",\"x\":4,\"y\":10},{\"font\":{\"color\":\"orange\"},\"showarrow\":false,\"text\":\")\",\"x\":4,\"y\":11},{\"font\":{\"color\":\"orange\"},\"showarrow\":false,\"text\":\")\",\"x\":4,\"y\":12},{\"font\":{\"color\":\"orange\"},\"showarrow\":false,\"text\":\")\",\"x\":4,\"y\":13},{\"font\":{\"color\":\"orange\"},\"showarrow\":false,\"text\":\")\",\"x\":4,\"y\":14},{\"font\":{\"color\":\"orange\"},\"showarrow\":false,\"text\":\")\",\"x\":4,\"y\":15},{\"font\":{\"color\":\"orange\"},\"showarrow\":false,\"text\":\")\",\"x\":4,\"y\":16},{\"font\":{\"color\":\"orange\"},\"showarrow\":false,\"text\":\")\",\"x\":4,\"y\":17},{\"font\":{\"color\":\"orange\"},\"showarrow\":false,\"text\":\")\",\"x\":4,\"y\":18},{\"font\":{\"color\":\"orange\"},\"showarrow\":false,\"text\":\")\",\"x\":4,\"y\":19},{\"font\":{\"color\":\"orange\"},\"showarrow\":false,\"text\":\")\",\"x\":4,\"y\":20},{\"font\":{\"color\":\"orange\"},\"showarrow\":false,\"text\":\")\",\"x\":4,\"y\":21},{\"font\":{\"color\":\"orange\"},\"showarrow\":false,\"text\":\")\",\"x\":4,\"y\":22},{\"font\":{\"color\":\"orange\"},\"showarrow\":false,\"text\":\")\",\"x\":4,\"y\":23},{\"font\":{\"color\":\"orange\"},\"showarrow\":false,\"text\":\")\",\"x\":4,\"y\":24},{\"font\":{\"color\":\"orange\"},\"showarrow\":false,\"text\":\")\",\"x\":4,\"y\":25},{\"font\":{\"color\":\"orange\"},\"showarrow\":false,\"text\":\")\",\"x\":4,\"y\":26},{\"font\":{\"color\":\"orange\"},\"showarrow\":false,\"text\":\")\",\"x\":4,\"y\":27},{\"font\":{\"color\":\"orange\"},\"showarrow\":false,\"text\":\")\",\"x\":4,\"y\":28},{\"font\":{\"color\":\"orange\"},\"showarrow\":false,\"text\":\")\",\"x\":4,\"y\":29},{\"font\":{\"color\":\"orange\"},\"showarrow\":false,\"text\":\")\",\"x\":4,\"y\":30},{\"font\":{\"color\":\"orange\"},\"showarrow\":false,\"text\":\")\",\"x\":4,\"y\":31},{\"font\":{\"color\":\"orange\"},\"showarrow\":false,\"text\":\")\",\"x\":4,\"y\":32},{\"font\":{\"color\":\"orange\"},\"showarrow\":false,\"text\":\")\",\"x\":4,\"y\":33},{\"font\":{\"color\":\"orange\"},\"showarrow\":false,\"text\":\")\",\"x\":4,\"y\":34},{\"font\":{\"color\":\"orange\"},\"showarrow\":false,\"text\":\")\",\"x\":4,\"y\":35},{\"font\":{\"color\":\"orange\"},\"showarrow\":false,\"text\":\"]\",\"x\":5,\"y\":0},{\"font\":{\"color\":\"orange\"},\"showarrow\":false,\"text\":\"]\",\"x\":5,\"y\":1},{\"font\":{\"color\":\"orange\"},\"showarrow\":false,\"text\":\"]\",\"x\":5,\"y\":2},{\"font\":{\"color\":\"orange\"},\"showarrow\":false,\"text\":\"]\",\"x\":5,\"y\":3},{\"font\":{\"color\":\"orange\"},\"showarrow\":false,\"text\":\"]\",\"x\":5,\"y\":4},{\"font\":{\"color\":\"orange\"},\"showarrow\":false,\"text\":\"]\",\"x\":5,\"y\":5},{\"font\":{\"color\":\"orange\"},\"showarrow\":false,\"text\":\"]\",\"x\":5,\"y\":6},{\"font\":{\"color\":\"orange\"},\"showarrow\":false,\"text\":\"]\",\"x\":5,\"y\":7},{\"font\":{\"color\":\"orange\"},\"showarrow\":false,\"text\":\"]\",\"x\":5,\"y\":8},{\"font\":{\"color\":\"orange\"},\"showarrow\":false,\"text\":\"]\",\"x\":5,\"y\":9},{\"font\":{\"color\":\"orange\"},\"showarrow\":false,\"text\":\"]\",\"x\":5,\"y\":10},{\"font\":{\"color\":\"orange\"},\"showarrow\":false,\"text\":\"]\",\"x\":5,\"y\":11},{\"font\":{\"color\":\"orange\"},\"showarrow\":false,\"text\":\"]\",\"x\":5,\"y\":12},{\"font\":{\"color\":\"orange\"},\"showarrow\":false,\"text\":\"]\",\"x\":5,\"y\":13},{\"font\":{\"color\":\"orange\"},\"showarrow\":false,\"text\":\"]\",\"x\":5,\"y\":14},{\"font\":{\"color\":\"orange\"},\"showarrow\":false,\"text\":\"]\",\"x\":5,\"y\":15},{\"font\":{\"color\":\"orange\"},\"showarrow\":false,\"text\":\"]\",\"x\":5,\"y\":16},{\"font\":{\"color\":\"orange\"},\"showarrow\":false,\"text\":\"]\",\"x\":5,\"y\":17},{\"font\":{\"color\":\"orange\"},\"showarrow\":false,\"text\":\"]\",\"x\":5,\"y\":18},{\"font\":{\"color\":\"orange\"},\"showarrow\":false,\"text\":\"]\",\"x\":5,\"y\":19},{\"font\":{\"color\":\"orange\"},\"showarrow\":false,\"text\":\"]\",\"x\":5,\"y\":20},{\"font\":{\"color\":\"orange\"},\"showarrow\":false,\"text\":\"]\",\"x\":5,\"y\":21},{\"font\":{\"color\":\"orange\"},\"showarrow\":false,\"text\":\"]\",\"x\":5,\"y\":22},{\"font\":{\"color\":\"orange\"},\"showarrow\":false,\"text\":\"]\",\"x\":5,\"y\":23},{\"font\":{\"color\":\"orange\"},\"showarrow\":false,\"text\":\"]\",\"x\":5,\"y\":24},{\"font\":{\"color\":\"orange\"},\"showarrow\":false,\"text\":\"]\",\"x\":5,\"y\":25},{\"font\":{\"color\":\"orange\"},\"showarrow\":false,\"text\":\"]\",\"x\":5,\"y\":26},{\"font\":{\"color\":\"orange\"},\"showarrow\":false,\"text\":\"]\",\"x\":5,\"y\":27},{\"font\":{\"color\":\"orange\"},\"showarrow\":false,\"text\":\"]\",\"x\":5,\"y\":28},{\"font\":{\"color\":\"orange\"},\"showarrow\":false,\"text\":\"]\",\"x\":5,\"y\":29},{\"font\":{\"color\":\"orange\"},\"showarrow\":false,\"text\":\"]\",\"x\":5,\"y\":30},{\"font\":{\"color\":\"orange\"},\"showarrow\":false,\"text\":\"]\",\"x\":5,\"y\":31},{\"font\":{\"color\":\"orange\"},\"showarrow\":false,\"text\":\"]\",\"x\":5,\"y\":32},{\"font\":{\"color\":\"orange\"},\"showarrow\":false,\"text\":\"]\",\"x\":5,\"y\":33},{\"font\":{\"color\":\"orange\"},\"showarrow\":false,\"text\":\"]\",\"x\":5,\"y\":34},{\"font\":{\"color\":\"orange\"},\"showarrow\":false,\"text\":\"]\",\"x\":5,\"y\":35},{\"font\":{\"color\":\"orange\"},\"showarrow\":false,\"text\":\"}\",\"x\":6,\"y\":0},{\"font\":{\"color\":\"orange\"},\"showarrow\":false,\"text\":\"}\",\"x\":6,\"y\":1},{\"font\":{\"color\":\"orange\"},\"showarrow\":false,\"text\":\"}\",\"x\":6,\"y\":2},{\"font\":{\"color\":\"orange\"},\"showarrow\":false,\"text\":\"}\",\"x\":6,\"y\":3},{\"font\":{\"color\":\"orange\"},\"showarrow\":false,\"text\":\"}\",\"x\":6,\"y\":4},{\"font\":{\"color\":\"orange\"},\"showarrow\":false,\"text\":\"}\",\"x\":6,\"y\":5},{\"font\":{\"color\":\"orange\"},\"showarrow\":false,\"text\":\"}\",\"x\":6,\"y\":6},{\"font\":{\"color\":\"orange\"},\"showarrow\":false,\"text\":\"}\",\"x\":6,\"y\":7},{\"font\":{\"color\":\"orange\"},\"showarrow\":false,\"text\":\"}\",\"x\":6,\"y\":8},{\"font\":{\"color\":\"orange\"},\"showarrow\":false,\"text\":\"}\",\"x\":6,\"y\":9},{\"font\":{\"color\":\"orange\"},\"showarrow\":false,\"text\":\"}\",\"x\":6,\"y\":10},{\"font\":{\"color\":\"orange\"},\"showarrow\":false,\"text\":\"}\",\"x\":6,\"y\":11},{\"font\":{\"color\":\"orange\"},\"showarrow\":false,\"text\":\"}\",\"x\":6,\"y\":12},{\"font\":{\"color\":\"orange\"},\"showarrow\":false,\"text\":\"}\",\"x\":6,\"y\":13},{\"font\":{\"color\":\"orange\"},\"showarrow\":false,\"text\":\"}\",\"x\":6,\"y\":14},{\"font\":{\"color\":\"orange\"},\"showarrow\":false,\"text\":\"}\",\"x\":6,\"y\":15},{\"font\":{\"color\":\"orange\"},\"showarrow\":false,\"text\":\"}\",\"x\":6,\"y\":16},{\"font\":{\"color\":\"orange\"},\"showarrow\":false,\"text\":\"}\",\"x\":6,\"y\":17},{\"font\":{\"color\":\"orange\"},\"showarrow\":false,\"text\":\"}\",\"x\":6,\"y\":18},{\"font\":{\"color\":\"orange\"},\"showarrow\":false,\"text\":\"}\",\"x\":6,\"y\":19},{\"font\":{\"color\":\"orange\"},\"showarrow\":false,\"text\":\"}\",\"x\":6,\"y\":20},{\"font\":{\"color\":\"orange\"},\"showarrow\":false,\"text\":\"}\",\"x\":6,\"y\":21},{\"font\":{\"color\":\"orange\"},\"showarrow\":false,\"text\":\"}\",\"x\":6,\"y\":22},{\"font\":{\"color\":\"orange\"},\"showarrow\":false,\"text\":\"}\",\"x\":6,\"y\":23},{\"font\":{\"color\":\"orange\"},\"showarrow\":false,\"text\":\"}\",\"x\":6,\"y\":24},{\"font\":{\"color\":\"orange\"},\"showarrow\":false,\"text\":\"}\",\"x\":6,\"y\":25},{\"font\":{\"color\":\"orange\"},\"showarrow\":false,\"text\":\"}\",\"x\":6,\"y\":26},{\"font\":{\"color\":\"orange\"},\"showarrow\":false,\"text\":\"}\",\"x\":6,\"y\":27},{\"font\":{\"color\":\"orange\"},\"showarrow\":false,\"text\":\"}\",\"x\":6,\"y\":28},{\"font\":{\"color\":\"orange\"},\"showarrow\":false,\"text\":\"}\",\"x\":6,\"y\":29},{\"font\":{\"color\":\"orange\"},\"showarrow\":false,\"text\":\"}\",\"x\":6,\"y\":30},{\"font\":{\"color\":\"orange\"},\"showarrow\":false,\"text\":\"}\",\"x\":6,\"y\":31},{\"font\":{\"color\":\"orange\"},\"showarrow\":false,\"text\":\"}\",\"x\":6,\"y\":32},{\"font\":{\"color\":\"orange\"},\"showarrow\":false,\"text\":\"}\",\"x\":6,\"y\":33},{\"font\":{\"color\":\"orange\"},\"showarrow\":false,\"text\":\"}\",\"x\":6,\"y\":34},{\"font\":{\"color\":\"orange\"},\"showarrow\":false,\"text\":\"}\",\"x\":6,\"y\":35},{\"font\":{\"color\":\"orange\"},\"showarrow\":false,\"text\":\">\",\"x\":7,\"y\":0},{\"font\":{\"color\":\"orange\"},\"showarrow\":false,\"text\":\">\",\"x\":7,\"y\":1},{\"font\":{\"color\":\"orange\"},\"showarrow\":false,\"text\":\">\",\"x\":7,\"y\":2},{\"font\":{\"color\":\"orange\"},\"showarrow\":false,\"text\":\">\",\"x\":7,\"y\":3},{\"font\":{\"color\":\"orange\"},\"showarrow\":false,\"text\":\">\",\"x\":7,\"y\":4},{\"font\":{\"color\":\"orange\"},\"showarrow\":false,\"text\":\">\",\"x\":7,\"y\":5},{\"font\":{\"color\":\"orange\"},\"showarrow\":false,\"text\":\">\",\"x\":7,\"y\":6},{\"font\":{\"color\":\"orange\"},\"showarrow\":false,\"text\":\">\",\"x\":7,\"y\":7},{\"font\":{\"color\":\"orange\"},\"showarrow\":false,\"text\":\">\",\"x\":7,\"y\":8},{\"font\":{\"color\":\"orange\"},\"showarrow\":false,\"text\":\">\",\"x\":7,\"y\":9},{\"font\":{\"color\":\"orange\"},\"showarrow\":false,\"text\":\">\",\"x\":7,\"y\":10},{\"font\":{\"color\":\"orange\"},\"showarrow\":false,\"text\":\">\",\"x\":7,\"y\":11},{\"font\":{\"color\":\"orange\"},\"showarrow\":false,\"text\":\">\",\"x\":7,\"y\":12},{\"font\":{\"color\":\"orange\"},\"showarrow\":false,\"text\":\">\",\"x\":7,\"y\":13},{\"font\":{\"color\":\"orange\"},\"showarrow\":false,\"text\":\">\",\"x\":7,\"y\":14},{\"font\":{\"color\":\"orange\"},\"showarrow\":false,\"text\":\">\",\"x\":7,\"y\":15},{\"font\":{\"color\":\"orange\"},\"showarrow\":false,\"text\":\">\",\"x\":7,\"y\":16},{\"font\":{\"color\":\"orange\"},\"showarrow\":false,\"text\":\">\",\"x\":7,\"y\":17},{\"font\":{\"color\":\"orange\"},\"showarrow\":false,\"text\":\">\",\"x\":7,\"y\":18},{\"font\":{\"color\":\"orange\"},\"showarrow\":false,\"text\":\">\",\"x\":7,\"y\":19},{\"font\":{\"color\":\"orange\"},\"showarrow\":false,\"text\":\">\",\"x\":7,\"y\":20},{\"font\":{\"color\":\"orange\"},\"showarrow\":false,\"text\":\">\",\"x\":7,\"y\":21},{\"font\":{\"color\":\"orange\"},\"showarrow\":false,\"text\":\">\",\"x\":7,\"y\":22},{\"font\":{\"color\":\"orange\"},\"showarrow\":false,\"text\":\">\",\"x\":7,\"y\":23},{\"font\":{\"color\":\"orange\"},\"showarrow\":false,\"text\":\">\",\"x\":7,\"y\":24},{\"font\":{\"color\":\"orange\"},\"showarrow\":false,\"text\":\">\",\"x\":7,\"y\":25},{\"font\":{\"color\":\"orange\"},\"showarrow\":false,\"text\":\">\",\"x\":7,\"y\":26},{\"font\":{\"color\":\"orange\"},\"showarrow\":false,\"text\":\">\",\"x\":7,\"y\":27},{\"font\":{\"color\":\"orange\"},\"showarrow\":false,\"text\":\">\",\"x\":7,\"y\":28},{\"font\":{\"color\":\"orange\"},\"showarrow\":false,\"text\":\">\",\"x\":7,\"y\":29},{\"font\":{\"color\":\"orange\"},\"showarrow\":false,\"text\":\">\",\"x\":7,\"y\":30},{\"font\":{\"color\":\"orange\"},\"showarrow\":false,\"text\":\">\",\"x\":7,\"y\":31},{\"font\":{\"color\":\"orange\"},\"showarrow\":false,\"text\":\">\",\"x\":7,\"y\":32},{\"font\":{\"color\":\"orange\"},\"showarrow\":false,\"text\":\">\",\"x\":7,\"y\":33},{\"font\":{\"color\":\"orange\"},\"showarrow\":false,\"text\":\">\",\"x\":7,\"y\":34},{\"font\":{\"color\":\"orange\"},\"showarrow\":false,\"text\":\">\",\"x\":7,\"y\":35}]},                        {\"responsive\": true}                    ).then(function(){\n",
       "                            \n",
       "var gd = document.getElementById('0fe79d4b-4bfc-4ce5-884e-23ec84ede2be');\n",
       "var x = new MutationObserver(function (mutations, observer) {{\n",
       "        var display = window.getComputedStyle(gd).display;\n",
       "        if (!display || display === 'none') {{\n",
       "            console.log([gd, 'removed!']);\n",
       "            Plotly.purge(gd);\n",
       "            observer.disconnect();\n",
       "        }}\n",
       "}});\n",
       "\n",
       "// Listen for the removal of the full notebook cells\n",
       "var notebookContainer = gd.closest('#notebook-container');\n",
       "if (notebookContainer) {{\n",
       "    x.observe(notebookContainer, {childList: true});\n",
       "}}\n",
       "\n",
       "// Listen for the clearing of the current output cell\n",
       "var outputEl = gd.closest('.output');\n",
       "if (outputEl) {{\n",
       "    x.observe(outputEl, {childList: true});\n",
       "}}\n",
       "\n",
       "                        })                };                });            </script>        </div>"
      ]
     },
     "metadata": {},
     "output_type": "display_data"
    }
   ],
   "source": [
    "display_bracket_scores(exploratory_prompts[:num_exploratory_prompts // 2], bracket_scores[:num_exploratory_prompts // 2, :])"
   ]
  },
  {
   "cell_type": "code",
   "execution_count": 15,
   "metadata": {},
   "outputs": [
    {
     "data": {
      "text/html": [
       "<div>                            <div id=\"78a104c5-3688-4558-af4a-0abf3ce0a8f0\" class=\"plotly-graph-div\" style=\"height:1050px; width:100%;\"></div>            <script type=\"text/javascript\">                require([\"plotly\"], function(Plotly) {                    window.PLOTLYENV=window.PLOTLYENV || {};                                    if (document.getElementById(\"78a104c5-3688-4558-af4a-0abf3ce0a8f0\")) {                    Plotly.newPlot(                        \"78a104c5-3688-4558-af4a-0abf3ce0a8f0\",                        [{\"coloraxis\":\"coloraxis\",\"name\":\"0\",\"x\":[\"(\",\"[\",\"{\",\"<\",\")\",\"]\",\"}\",\">\"],\"y\":[\"zip(enumerate(list(zip([1,3,65], [1, 2, 3], [4, 3], [1], list(np.zeros(4)))), [3, 4])\",\"zip(enumerate(list(zip([1,3,65], list(np.zeros(4)))), [3, 4], {1: 2}.items()\",\"zip(enumerate(list(zip([1,3,65], list(np.zeros(4)))), [3, 4], {1: 2}.items())\",\"list())))).append(x\",\"list())))).append(x)\",\"px.imshow(to_numpy(tensor), ccm=0.0, ccs='RdBu', labels={'x':xaxis, 'y':yaxis}, **kwargs\",\"px.imshow(to_numpy(tensor), ccm=0.0, ccs='RdBu', labels={'x':xaxis, 'y':yaxis}, **kwargs)\",\"In the course our our analysis (which was long\",\"In the course our our analysis (which was long)\",\"He was eating a apple [sic\",\"He was eating a apple [sic]\",\"In the course our our analysis (which was long (though not too long\",\"In the course our our analysis (which was long (though not too long))\",\"def sieve(,num prime_list = 2[, 3]\",\"def sieve(,num prime_list = 2[, 3])\",\"defn line(tensor, renderer===None\",\"defn line(tensor, renderer===None)\",\"exploratory_dict = {'test': [3,} 5]\",\"exploratory_dict = {'test': [3,} 5\",\"exploratory_prompts = ['test'(]\",\"exploratory_prompts = ['test'(])\",\"def safasfd(oubefwef, vcewfec=afuasvfs\",\"def safasfd(oubefwef, vcewfec=afuasvfs)\",\"asdjhvauyrfsac = ['asdasdasd'\",\"asdjhvauyrfsac = ['asdasdasd']\",\"dfc = {'sdasd': 'casdasd'\",\"dfc = {'sdasd': 'casdasd'}\",\"<bwevzcxc\",\"<bwevzcxc>\",\"([]\",\"([])\",\"([({},[{()}])])\",\"([({},[{()}])]\",\"([({},[{()}])\",\"([({},[{()}]\"],\"z\":[[0.0008856590720824897,0.1261480450630188,0.0034203871618956327,0.0036850112956017256,0.8340877890586853,0.0145123191177845,0.0011168429628014565,0.016143903136253357],[0.005512029863893986,0.9332660436630249,0.0006799900438636541,0.0019111214205622673,0.0543489009141922,0.00040155279566533864,0.0025003899354487658,0.0013798796571791172],[0.0004806510405614972,0.9122307896614075,0.0038047493435442448,0.002985534491017461,0.06824041157960892,0.0005586665938608348,0.0016917430330067873,0.010007431730628014],[0.016727391630411148,0.09462553262710571,0.00010596212086966261,0.0003639129863586277,0.8873704075813293,0.0003821771533694118,0.00010501105134608224,0.0003196070611011237],[0.011386689729988575,0.039761949330568314,0.2679152190685272,0.1783275008201599,0.1034104973077774,0.07242561876773834,0.19758012890815735,0.1291923224925995],[0.0002626115456223488,0.0009630626882426441,9.917206625686958e-05,1.3513590602087788e-06,0.9985937476158142,2.3730863176751882e-05,3.940511669497937e-05,1.690381577645894e-05],[0.013852148316800594,0.20098480582237244,0.03592443838715553,0.03565255552530289,0.30448147654533386,0.10654813051223755,0.13252456486225128,0.17003196477890015],[0.007334610912948847,0.0006677386118099093,1.3379311894823331e-05,1.2266231351532042e-05,0.9917603731155396,4.5534798118751496e-05,6.390114867826924e-05,0.00010209604806732386],[0.6758022904396057,0.30718764662742615,0.0021531409583985806,0.004088058602064848,0.005273623391985893,0.0023834400344640017,0.001218106597661972,0.0018936221022158861],[6.776538793928921e-05,2.520074849599041e-05,1.0327870825221908e-07,1.4855800145596731e-06,0.001198751269839704,0.9986916184425354,9.97743245534366e-06,5.162134129932383e-06],[0.2690035402774811,0.6959265470504761,0.011439907364547253,0.0018593580462038517,0.004252938088029623,0.01239021122455597,6.771826883777976e-05,0.005059828516095877],[0.0009071814711205661,0.0002076778037007898,2.497473587936838e-07,1.0754974937299266e-05,0.9988551139831543,5.975216481601819e-06,4.854574058299477e-07,1.2454597708710935e-05],[0.5235573649406433,0.38802409172058105,0.0058550345711410046,0.006324968300759792,0.04199538379907608,0.024086281657218933,0.004973275121301413,0.005183593835681677],[0.003731368575245142,0.04650735855102539,0.11427094042301178,0.0089664775878191,0.7906621098518372,0.000105810679087881,0.00013731408398598433,0.03561866283416748],[0.029923513531684875,0.2305353879928589,0.7318580150604248,0.0012115905992686749,0.0021645543165504932,0.0014289519749581814,3.150957127218135e-05,0.0028463909402489662],[0.00015979461022652686,0.000808188458904624,0.00010640361870173365,9.856113319983706e-05,0.9986118674278259,8.771826287556905e-06,5.665659045916982e-05,0.0001496499462518841],[0.016608044505119324,0.013223107904195786,0.9685447812080383,0.000609669485129416,0.0001566587743582204,1.1061789336963557e-05,7.211259071482345e-05,0.0007745149778202176],[0.00011609318607952446,0.000830160453915596,0.0009348270250484347,0.00023954504285939038,0.00016102084191516042,0.00018812663620337844,0.9973667860031128,0.00016345269978046417],[0.0006839699344709516,0.0031478663440793753,0.0007890800479799509,0.00011333894508425146,0.0008915897342376411,0.9269053339958191,0.0674271509051323,4.164261190453544e-05],[0.026888735592365265,0.1467200219631195,0.0663672462105751,0.16716504096984863,0.3354031443595886,0.0009571705013513565,0.0016149505972862244,0.25488367676734924],[0.009022737853229046,0.18849247694015503,0.16615402698516846,0.007279327139258385,0.10022475570440292,0.4849031865596771,0.033632662147283554,0.010290772654116154],[0.16068799793720245,0.015408208593726158,0.008168571628630161,0.001033505890518427,0.8110697269439697,0.0004657888493966311,0.001431210432201624,0.0017349289264529943],[0.3702167570590973,0.10400104522705078,0.5061469078063965,0.007929937914013863,0.0004877932369709015,8.95101620699279e-05,0.00031233648769557476,0.010815614834427834],[0.039546966552734375,0.020290495827794075,0.02244466170668602,0.011862358078360558,0.005898416042327881,0.8611589074134827,0.006660887040197849,0.0321374237537384],[0.05238054692745209,0.051531143486499786,0.046085186302661896,0.006303637288510799,0.5770630836486816,0.04366667941212654,0.20233897864818573,0.020630674436688423],[9.03200198081322e-05,3.963500785175711e-05,0.00017580758139956743,7.509085116907954e-05,8.072323964825046e-08,1.5636080661352025e-06,0.9996092915534973,8.125826752802823e-06],[0.04179157689213753,0.24442526698112488,0.07912620902061462,0.010800422169268131,0.04277823120355606,0.46916627883911133,0.0985177606344223,0.013394175097346306],[0.0029321517795324326,0.0034647048451006413,0.008122598752379417,0.03650880604982376,0.0002982599544338882,0.0020796707831323147,0.002684038830921054,0.9439098238945007],[0.044553376734256744,0.09036974608898163,0.09613300114870071,0.7421194911003113,0.0002471692278049886,0.00038007780676707625,0.005689961835741997,0.020507294684648514],[0.14541415870189667,0.09238433092832565,0.4729754626750946,0.19192247092723846,0.034285660833120346,0.0006722142570652068,0.010713976807892323,0.05163178592920303],[0.16234837472438812,0.24647057056427002,0.33160674571990967,0.025107955560088158,0.04386284947395325,0.08768029510974884,0.06893224269151688,0.03399093449115753],[0.0506863072514534,0.1911177933216095,0.17411403357982635,0.007832324132323265,0.05723562836647034,0.28981098532676697,0.19692833721637726,0.032274458557367325],[0.035414960235357285,0.029277918860316277,0.5253453254699707,0.05407573655247688,0.04456916078925133,0.002267655450850725,0.017354793846607208,0.2916944622993469],[0.0028566312976181507,0.04190631955862045,0.02950122579932213,0.0050781769677996635,0.017948536202311516,0.892166793346405,0.009339717216789722,0.0012026155600324273],[0.02151493914425373,0.03969678282737732,0.7209819555282593,0.06233929097652435,0.033483169972896576,0.009709591045975685,0.03636622428894043,0.07590802758932114]],\"type\":\"heatmap\",\"xaxis\":\"x\",\"yaxis\":\"y\",\"hovertemplate\":\"Bracket: %{x}<br>y: %{y}<br>Conditional Probability: %{z}<extra></extra>\"}],                        {\"template\":{\"data\":{\"histogram2dcontour\":[{\"type\":\"histogram2dcontour\",\"colorbar\":{\"outlinewidth\":0,\"ticks\":\"\"},\"colorscale\":[[0.0,\"#0d0887\"],[0.1111111111111111,\"#46039f\"],[0.2222222222222222,\"#7201a8\"],[0.3333333333333333,\"#9c179e\"],[0.4444444444444444,\"#bd3786\"],[0.5555555555555556,\"#d8576b\"],[0.6666666666666666,\"#ed7953\"],[0.7777777777777778,\"#fb9f3a\"],[0.8888888888888888,\"#fdca26\"],[1.0,\"#f0f921\"]]}],\"choropleth\":[{\"type\":\"choropleth\",\"colorbar\":{\"outlinewidth\":0,\"ticks\":\"\"}}],\"histogram2d\":[{\"type\":\"histogram2d\",\"colorbar\":{\"outlinewidth\":0,\"ticks\":\"\"},\"colorscale\":[[0.0,\"#0d0887\"],[0.1111111111111111,\"#46039f\"],[0.2222222222222222,\"#7201a8\"],[0.3333333333333333,\"#9c179e\"],[0.4444444444444444,\"#bd3786\"],[0.5555555555555556,\"#d8576b\"],[0.6666666666666666,\"#ed7953\"],[0.7777777777777778,\"#fb9f3a\"],[0.8888888888888888,\"#fdca26\"],[1.0,\"#f0f921\"]]}],\"heatmap\":[{\"type\":\"heatmap\",\"colorbar\":{\"outlinewidth\":0,\"ticks\":\"\"},\"colorscale\":[[0.0,\"#0d0887\"],[0.1111111111111111,\"#46039f\"],[0.2222222222222222,\"#7201a8\"],[0.3333333333333333,\"#9c179e\"],[0.4444444444444444,\"#bd3786\"],[0.5555555555555556,\"#d8576b\"],[0.6666666666666666,\"#ed7953\"],[0.7777777777777778,\"#fb9f3a\"],[0.8888888888888888,\"#fdca26\"],[1.0,\"#f0f921\"]]}],\"heatmapgl\":[{\"type\":\"heatmapgl\",\"colorbar\":{\"outlinewidth\":0,\"ticks\":\"\"},\"colorscale\":[[0.0,\"#0d0887\"],[0.1111111111111111,\"#46039f\"],[0.2222222222222222,\"#7201a8\"],[0.3333333333333333,\"#9c179e\"],[0.4444444444444444,\"#bd3786\"],[0.5555555555555556,\"#d8576b\"],[0.6666666666666666,\"#ed7953\"],[0.7777777777777778,\"#fb9f3a\"],[0.8888888888888888,\"#fdca26\"],[1.0,\"#f0f921\"]]}],\"contourcarpet\":[{\"type\":\"contourcarpet\",\"colorbar\":{\"outlinewidth\":0,\"ticks\":\"\"}}],\"contour\":[{\"type\":\"contour\",\"colorbar\":{\"outlinewidth\":0,\"ticks\":\"\"},\"colorscale\":[[0.0,\"#0d0887\"],[0.1111111111111111,\"#46039f\"],[0.2222222222222222,\"#7201a8\"],[0.3333333333333333,\"#9c179e\"],[0.4444444444444444,\"#bd3786\"],[0.5555555555555556,\"#d8576b\"],[0.6666666666666666,\"#ed7953\"],[0.7777777777777778,\"#fb9f3a\"],[0.8888888888888888,\"#fdca26\"],[1.0,\"#f0f921\"]]}],\"surface\":[{\"type\":\"surface\",\"colorbar\":{\"outlinewidth\":0,\"ticks\":\"\"},\"colorscale\":[[0.0,\"#0d0887\"],[0.1111111111111111,\"#46039f\"],[0.2222222222222222,\"#7201a8\"],[0.3333333333333333,\"#9c179e\"],[0.4444444444444444,\"#bd3786\"],[0.5555555555555556,\"#d8576b\"],[0.6666666666666666,\"#ed7953\"],[0.7777777777777778,\"#fb9f3a\"],[0.8888888888888888,\"#fdca26\"],[1.0,\"#f0f921\"]]}],\"mesh3d\":[{\"type\":\"mesh3d\",\"colorbar\":{\"outlinewidth\":0,\"ticks\":\"\"}}],\"scatter\":[{\"fillpattern\":{\"fillmode\":\"overlay\",\"size\":10,\"solidity\":0.2},\"type\":\"scatter\"}],\"parcoords\":[{\"type\":\"parcoords\",\"line\":{\"colorbar\":{\"outlinewidth\":0,\"ticks\":\"\"}}}],\"scatterpolargl\":[{\"type\":\"scatterpolargl\",\"marker\":{\"colorbar\":{\"outlinewidth\":0,\"ticks\":\"\"}}}],\"bar\":[{\"error_x\":{\"color\":\"#2a3f5f\"},\"error_y\":{\"color\":\"#2a3f5f\"},\"marker\":{\"line\":{\"color\":\"#E5ECF6\",\"width\":0.5},\"pattern\":{\"fillmode\":\"overlay\",\"size\":10,\"solidity\":0.2}},\"type\":\"bar\"}],\"scattergeo\":[{\"type\":\"scattergeo\",\"marker\":{\"colorbar\":{\"outlinewidth\":0,\"ticks\":\"\"}}}],\"scatterpolar\":[{\"type\":\"scatterpolar\",\"marker\":{\"colorbar\":{\"outlinewidth\":0,\"ticks\":\"\"}}}],\"histogram\":[{\"marker\":{\"pattern\":{\"fillmode\":\"overlay\",\"size\":10,\"solidity\":0.2}},\"type\":\"histogram\"}],\"scattergl\":[{\"type\":\"scattergl\",\"marker\":{\"colorbar\":{\"outlinewidth\":0,\"ticks\":\"\"}}}],\"scatter3d\":[{\"type\":\"scatter3d\",\"line\":{\"colorbar\":{\"outlinewidth\":0,\"ticks\":\"\"}},\"marker\":{\"colorbar\":{\"outlinewidth\":0,\"ticks\":\"\"}}}],\"scattermapbox\":[{\"type\":\"scattermapbox\",\"marker\":{\"colorbar\":{\"outlinewidth\":0,\"ticks\":\"\"}}}],\"scatterternary\":[{\"type\":\"scatterternary\",\"marker\":{\"colorbar\":{\"outlinewidth\":0,\"ticks\":\"\"}}}],\"scattercarpet\":[{\"type\":\"scattercarpet\",\"marker\":{\"colorbar\":{\"outlinewidth\":0,\"ticks\":\"\"}}}],\"carpet\":[{\"aaxis\":{\"endlinecolor\":\"#2a3f5f\",\"gridcolor\":\"white\",\"linecolor\":\"white\",\"minorgridcolor\":\"white\",\"startlinecolor\":\"#2a3f5f\"},\"baxis\":{\"endlinecolor\":\"#2a3f5f\",\"gridcolor\":\"white\",\"linecolor\":\"white\",\"minorgridcolor\":\"white\",\"startlinecolor\":\"#2a3f5f\"},\"type\":\"carpet\"}],\"table\":[{\"cells\":{\"fill\":{\"color\":\"#EBF0F8\"},\"line\":{\"color\":\"white\"}},\"header\":{\"fill\":{\"color\":\"#C8D4E3\"},\"line\":{\"color\":\"white\"}},\"type\":\"table\"}],\"barpolar\":[{\"marker\":{\"line\":{\"color\":\"#E5ECF6\",\"width\":0.5},\"pattern\":{\"fillmode\":\"overlay\",\"size\":10,\"solidity\":0.2}},\"type\":\"barpolar\"}],\"pie\":[{\"automargin\":true,\"type\":\"pie\"}]},\"layout\":{\"autotypenumbers\":\"strict\",\"colorway\":[\"#636efa\",\"#EF553B\",\"#00cc96\",\"#ab63fa\",\"#FFA15A\",\"#19d3f3\",\"#FF6692\",\"#B6E880\",\"#FF97FF\",\"#FECB52\"],\"font\":{\"color\":\"#2a3f5f\"},\"hovermode\":\"closest\",\"hoverlabel\":{\"align\":\"left\"},\"paper_bgcolor\":\"white\",\"plot_bgcolor\":\"#E5ECF6\",\"polar\":{\"bgcolor\":\"#E5ECF6\",\"angularaxis\":{\"gridcolor\":\"white\",\"linecolor\":\"white\",\"ticks\":\"\"},\"radialaxis\":{\"gridcolor\":\"white\",\"linecolor\":\"white\",\"ticks\":\"\"}},\"ternary\":{\"bgcolor\":\"#E5ECF6\",\"aaxis\":{\"gridcolor\":\"white\",\"linecolor\":\"white\",\"ticks\":\"\"},\"baxis\":{\"gridcolor\":\"white\",\"linecolor\":\"white\",\"ticks\":\"\"},\"caxis\":{\"gridcolor\":\"white\",\"linecolor\":\"white\",\"ticks\":\"\"}},\"coloraxis\":{\"colorbar\":{\"outlinewidth\":0,\"ticks\":\"\"}},\"colorscale\":{\"sequential\":[[0.0,\"#0d0887\"],[0.1111111111111111,\"#46039f\"],[0.2222222222222222,\"#7201a8\"],[0.3333333333333333,\"#9c179e\"],[0.4444444444444444,\"#bd3786\"],[0.5555555555555556,\"#d8576b\"],[0.6666666666666666,\"#ed7953\"],[0.7777777777777778,\"#fb9f3a\"],[0.8888888888888888,\"#fdca26\"],[1.0,\"#f0f921\"]],\"sequentialminus\":[[0.0,\"#0d0887\"],[0.1111111111111111,\"#46039f\"],[0.2222222222222222,\"#7201a8\"],[0.3333333333333333,\"#9c179e\"],[0.4444444444444444,\"#bd3786\"],[0.5555555555555556,\"#d8576b\"],[0.6666666666666666,\"#ed7953\"],[0.7777777777777778,\"#fb9f3a\"],[0.8888888888888888,\"#fdca26\"],[1.0,\"#f0f921\"]],\"diverging\":[[0,\"#8e0152\"],[0.1,\"#c51b7d\"],[0.2,\"#de77ae\"],[0.3,\"#f1b6da\"],[0.4,\"#fde0ef\"],[0.5,\"#f7f7f7\"],[0.6,\"#e6f5d0\"],[0.7,\"#b8e186\"],[0.8,\"#7fbc41\"],[0.9,\"#4d9221\"],[1,\"#276419\"]]},\"xaxis\":{\"gridcolor\":\"white\",\"linecolor\":\"white\",\"ticks\":\"\",\"title\":{\"standoff\":15},\"zerolinecolor\":\"white\",\"automargin\":true,\"zerolinewidth\":2},\"yaxis\":{\"gridcolor\":\"white\",\"linecolor\":\"white\",\"ticks\":\"\",\"title\":{\"standoff\":15},\"zerolinecolor\":\"white\",\"automargin\":true,\"zerolinewidth\":2},\"scene\":{\"xaxis\":{\"backgroundcolor\":\"#E5ECF6\",\"gridcolor\":\"white\",\"linecolor\":\"white\",\"showbackground\":true,\"ticks\":\"\",\"zerolinecolor\":\"white\",\"gridwidth\":2},\"yaxis\":{\"backgroundcolor\":\"#E5ECF6\",\"gridcolor\":\"white\",\"linecolor\":\"white\",\"showbackground\":true,\"ticks\":\"\",\"zerolinecolor\":\"white\",\"gridwidth\":2},\"zaxis\":{\"backgroundcolor\":\"#E5ECF6\",\"gridcolor\":\"white\",\"linecolor\":\"white\",\"showbackground\":true,\"ticks\":\"\",\"zerolinecolor\":\"white\",\"gridwidth\":2}},\"shapedefaults\":{\"line\":{\"color\":\"#2a3f5f\"}},\"annotationdefaults\":{\"arrowcolor\":\"#2a3f5f\",\"arrowhead\":0,\"arrowwidth\":1},\"geo\":{\"bgcolor\":\"white\",\"landcolor\":\"#E5ECF6\",\"subunitcolor\":\"white\",\"showland\":true,\"showlakes\":true,\"lakecolor\":\"white\"},\"title\":{\"x\":0.05},\"mapbox\":{\"style\":\"light\"}}},\"xaxis\":{\"anchor\":\"y\",\"domain\":[0.0,1.0],\"scaleanchor\":\"y\",\"constrain\":\"domain\",\"title\":{\"text\":\"Bracket\"}},\"yaxis\":{\"anchor\":\"x\",\"domain\":[0.0,1.0],\"autorange\":\"reversed\",\"constrain\":\"domain\"},\"coloraxis\":{\"colorbar\":{\"title\":{\"text\":\"Conditional Probability\"}},\"colorscale\":[[0.0,\"rgb(247,251,255)\"],[0.125,\"rgb(222,235,247)\"],[0.25,\"rgb(198,219,239)\"],[0.375,\"rgb(158,202,225)\"],[0.5,\"rgb(107,174,214)\"],[0.625,\"rgb(66,146,198)\"],[0.75,\"rgb(33,113,181)\"],[0.875,\"rgb(8,81,156)\"],[1.0,\"rgb(8,48,107)\"]]},\"margin\":{\"t\":60},\"height\":1050,\"annotations\":[{\"font\":{\"color\":\"orange\"},\"showarrow\":false,\"text\":\"(\",\"x\":0,\"y\":0},{\"font\":{\"color\":\"orange\"},\"showarrow\":false,\"text\":\"(\",\"x\":0,\"y\":1},{\"font\":{\"color\":\"orange\"},\"showarrow\":false,\"text\":\"(\",\"x\":0,\"y\":2},{\"font\":{\"color\":\"orange\"},\"showarrow\":false,\"text\":\"(\",\"x\":0,\"y\":3},{\"font\":{\"color\":\"orange\"},\"showarrow\":false,\"text\":\"(\",\"x\":0,\"y\":4},{\"font\":{\"color\":\"orange\"},\"showarrow\":false,\"text\":\"(\",\"x\":0,\"y\":5},{\"font\":{\"color\":\"orange\"},\"showarrow\":false,\"text\":\"(\",\"x\":0,\"y\":6},{\"font\":{\"color\":\"orange\"},\"showarrow\":false,\"text\":\"(\",\"x\":0,\"y\":7},{\"font\":{\"color\":\"orange\"},\"showarrow\":false,\"text\":\"(\",\"x\":0,\"y\":8},{\"font\":{\"color\":\"orange\"},\"showarrow\":false,\"text\":\"(\",\"x\":0,\"y\":9},{\"font\":{\"color\":\"orange\"},\"showarrow\":false,\"text\":\"(\",\"x\":0,\"y\":10},{\"font\":{\"color\":\"orange\"},\"showarrow\":false,\"text\":\"(\",\"x\":0,\"y\":11},{\"font\":{\"color\":\"orange\"},\"showarrow\":false,\"text\":\"(\",\"x\":0,\"y\":12},{\"font\":{\"color\":\"orange\"},\"showarrow\":false,\"text\":\"(\",\"x\":0,\"y\":13},{\"font\":{\"color\":\"orange\"},\"showarrow\":false,\"text\":\"(\",\"x\":0,\"y\":14},{\"font\":{\"color\":\"orange\"},\"showarrow\":false,\"text\":\"(\",\"x\":0,\"y\":15},{\"font\":{\"color\":\"orange\"},\"showarrow\":false,\"text\":\"(\",\"x\":0,\"y\":16},{\"font\":{\"color\":\"orange\"},\"showarrow\":false,\"text\":\"(\",\"x\":0,\"y\":17},{\"font\":{\"color\":\"orange\"},\"showarrow\":false,\"text\":\"(\",\"x\":0,\"y\":18},{\"font\":{\"color\":\"orange\"},\"showarrow\":false,\"text\":\"(\",\"x\":0,\"y\":19},{\"font\":{\"color\":\"orange\"},\"showarrow\":false,\"text\":\"(\",\"x\":0,\"y\":20},{\"font\":{\"color\":\"orange\"},\"showarrow\":false,\"text\":\"(\",\"x\":0,\"y\":21},{\"font\":{\"color\":\"orange\"},\"showarrow\":false,\"text\":\"(\",\"x\":0,\"y\":22},{\"font\":{\"color\":\"orange\"},\"showarrow\":false,\"text\":\"(\",\"x\":0,\"y\":23},{\"font\":{\"color\":\"orange\"},\"showarrow\":false,\"text\":\"(\",\"x\":0,\"y\":24},{\"font\":{\"color\":\"orange\"},\"showarrow\":false,\"text\":\"(\",\"x\":0,\"y\":25},{\"font\":{\"color\":\"orange\"},\"showarrow\":false,\"text\":\"(\",\"x\":0,\"y\":26},{\"font\":{\"color\":\"orange\"},\"showarrow\":false,\"text\":\"(\",\"x\":0,\"y\":27},{\"font\":{\"color\":\"orange\"},\"showarrow\":false,\"text\":\"(\",\"x\":0,\"y\":28},{\"font\":{\"color\":\"orange\"},\"showarrow\":false,\"text\":\"(\",\"x\":0,\"y\":29},{\"font\":{\"color\":\"orange\"},\"showarrow\":false,\"text\":\"(\",\"x\":0,\"y\":30},{\"font\":{\"color\":\"orange\"},\"showarrow\":false,\"text\":\"(\",\"x\":0,\"y\":31},{\"font\":{\"color\":\"orange\"},\"showarrow\":false,\"text\":\"(\",\"x\":0,\"y\":32},{\"font\":{\"color\":\"orange\"},\"showarrow\":false,\"text\":\"(\",\"x\":0,\"y\":33},{\"font\":{\"color\":\"orange\"},\"showarrow\":false,\"text\":\"(\",\"x\":0,\"y\":34},{\"font\":{\"color\":\"orange\"},\"showarrow\":false,\"text\":\"[\",\"x\":1,\"y\":0},{\"font\":{\"color\":\"orange\"},\"showarrow\":false,\"text\":\"[\",\"x\":1,\"y\":1},{\"font\":{\"color\":\"orange\"},\"showarrow\":false,\"text\":\"[\",\"x\":1,\"y\":2},{\"font\":{\"color\":\"orange\"},\"showarrow\":false,\"text\":\"[\",\"x\":1,\"y\":3},{\"font\":{\"color\":\"orange\"},\"showarrow\":false,\"text\":\"[\",\"x\":1,\"y\":4},{\"font\":{\"color\":\"orange\"},\"showarrow\":false,\"text\":\"[\",\"x\":1,\"y\":5},{\"font\":{\"color\":\"orange\"},\"showarrow\":false,\"text\":\"[\",\"x\":1,\"y\":6},{\"font\":{\"color\":\"orange\"},\"showarrow\":false,\"text\":\"[\",\"x\":1,\"y\":7},{\"font\":{\"color\":\"orange\"},\"showarrow\":false,\"text\":\"[\",\"x\":1,\"y\":8},{\"font\":{\"color\":\"orange\"},\"showarrow\":false,\"text\":\"[\",\"x\":1,\"y\":9},{\"font\":{\"color\":\"orange\"},\"showarrow\":false,\"text\":\"[\",\"x\":1,\"y\":10},{\"font\":{\"color\":\"orange\"},\"showarrow\":false,\"text\":\"[\",\"x\":1,\"y\":11},{\"font\":{\"color\":\"orange\"},\"showarrow\":false,\"text\":\"[\",\"x\":1,\"y\":12},{\"font\":{\"color\":\"orange\"},\"showarrow\":false,\"text\":\"[\",\"x\":1,\"y\":13},{\"font\":{\"color\":\"orange\"},\"showarrow\":false,\"text\":\"[\",\"x\":1,\"y\":14},{\"font\":{\"color\":\"orange\"},\"showarrow\":false,\"text\":\"[\",\"x\":1,\"y\":15},{\"font\":{\"color\":\"orange\"},\"showarrow\":false,\"text\":\"[\",\"x\":1,\"y\":16},{\"font\":{\"color\":\"orange\"},\"showarrow\":false,\"text\":\"[\",\"x\":1,\"y\":17},{\"font\":{\"color\":\"orange\"},\"showarrow\":false,\"text\":\"[\",\"x\":1,\"y\":18},{\"font\":{\"color\":\"orange\"},\"showarrow\":false,\"text\":\"[\",\"x\":1,\"y\":19},{\"font\":{\"color\":\"orange\"},\"showarrow\":false,\"text\":\"[\",\"x\":1,\"y\":20},{\"font\":{\"color\":\"orange\"},\"showarrow\":false,\"text\":\"[\",\"x\":1,\"y\":21},{\"font\":{\"color\":\"orange\"},\"showarrow\":false,\"text\":\"[\",\"x\":1,\"y\":22},{\"font\":{\"color\":\"orange\"},\"showarrow\":false,\"text\":\"[\",\"x\":1,\"y\":23},{\"font\":{\"color\":\"orange\"},\"showarrow\":false,\"text\":\"[\",\"x\":1,\"y\":24},{\"font\":{\"color\":\"orange\"},\"showarrow\":false,\"text\":\"[\",\"x\":1,\"y\":25},{\"font\":{\"color\":\"orange\"},\"showarrow\":false,\"text\":\"[\",\"x\":1,\"y\":26},{\"font\":{\"color\":\"orange\"},\"showarrow\":false,\"text\":\"[\",\"x\":1,\"y\":27},{\"font\":{\"color\":\"orange\"},\"showarrow\":false,\"text\":\"[\",\"x\":1,\"y\":28},{\"font\":{\"color\":\"orange\"},\"showarrow\":false,\"text\":\"[\",\"x\":1,\"y\":29},{\"font\":{\"color\":\"orange\"},\"showarrow\":false,\"text\":\"[\",\"x\":1,\"y\":30},{\"font\":{\"color\":\"orange\"},\"showarrow\":false,\"text\":\"[\",\"x\":1,\"y\":31},{\"font\":{\"color\":\"orange\"},\"showarrow\":false,\"text\":\"[\",\"x\":1,\"y\":32},{\"font\":{\"color\":\"orange\"},\"showarrow\":false,\"text\":\"[\",\"x\":1,\"y\":33},{\"font\":{\"color\":\"orange\"},\"showarrow\":false,\"text\":\"[\",\"x\":1,\"y\":34},{\"font\":{\"color\":\"orange\"},\"showarrow\":false,\"text\":\"{\",\"x\":2,\"y\":0},{\"font\":{\"color\":\"orange\"},\"showarrow\":false,\"text\":\"{\",\"x\":2,\"y\":1},{\"font\":{\"color\":\"orange\"},\"showarrow\":false,\"text\":\"{\",\"x\":2,\"y\":2},{\"font\":{\"color\":\"orange\"},\"showarrow\":false,\"text\":\"{\",\"x\":2,\"y\":3},{\"font\":{\"color\":\"orange\"},\"showarrow\":false,\"text\":\"{\",\"x\":2,\"y\":4},{\"font\":{\"color\":\"orange\"},\"showarrow\":false,\"text\":\"{\",\"x\":2,\"y\":5},{\"font\":{\"color\":\"orange\"},\"showarrow\":false,\"text\":\"{\",\"x\":2,\"y\":6},{\"font\":{\"color\":\"orange\"},\"showarrow\":false,\"text\":\"{\",\"x\":2,\"y\":7},{\"font\":{\"color\":\"orange\"},\"showarrow\":false,\"text\":\"{\",\"x\":2,\"y\":8},{\"font\":{\"color\":\"orange\"},\"showarrow\":false,\"text\":\"{\",\"x\":2,\"y\":9},{\"font\":{\"color\":\"orange\"},\"showarrow\":false,\"text\":\"{\",\"x\":2,\"y\":10},{\"font\":{\"color\":\"orange\"},\"showarrow\":false,\"text\":\"{\",\"x\":2,\"y\":11},{\"font\":{\"color\":\"orange\"},\"showarrow\":false,\"text\":\"{\",\"x\":2,\"y\":12},{\"font\":{\"color\":\"orange\"},\"showarrow\":false,\"text\":\"{\",\"x\":2,\"y\":13},{\"font\":{\"color\":\"orange\"},\"showarrow\":false,\"text\":\"{\",\"x\":2,\"y\":14},{\"font\":{\"color\":\"orange\"},\"showarrow\":false,\"text\":\"{\",\"x\":2,\"y\":15},{\"font\":{\"color\":\"orange\"},\"showarrow\":false,\"text\":\"{\",\"x\":2,\"y\":16},{\"font\":{\"color\":\"orange\"},\"showarrow\":false,\"text\":\"{\",\"x\":2,\"y\":17},{\"font\":{\"color\":\"orange\"},\"showarrow\":false,\"text\":\"{\",\"x\":2,\"y\":18},{\"font\":{\"color\":\"orange\"},\"showarrow\":false,\"text\":\"{\",\"x\":2,\"y\":19},{\"font\":{\"color\":\"orange\"},\"showarrow\":false,\"text\":\"{\",\"x\":2,\"y\":20},{\"font\":{\"color\":\"orange\"},\"showarrow\":false,\"text\":\"{\",\"x\":2,\"y\":21},{\"font\":{\"color\":\"orange\"},\"showarrow\":false,\"text\":\"{\",\"x\":2,\"y\":22},{\"font\":{\"color\":\"orange\"},\"showarrow\":false,\"text\":\"{\",\"x\":2,\"y\":23},{\"font\":{\"color\":\"orange\"},\"showarrow\":false,\"text\":\"{\",\"x\":2,\"y\":24},{\"font\":{\"color\":\"orange\"},\"showarrow\":false,\"text\":\"{\",\"x\":2,\"y\":25},{\"font\":{\"color\":\"orange\"},\"showarrow\":false,\"text\":\"{\",\"x\":2,\"y\":26},{\"font\":{\"color\":\"orange\"},\"showarrow\":false,\"text\":\"{\",\"x\":2,\"y\":27},{\"font\":{\"color\":\"orange\"},\"showarrow\":false,\"text\":\"{\",\"x\":2,\"y\":28},{\"font\":{\"color\":\"orange\"},\"showarrow\":false,\"text\":\"{\",\"x\":2,\"y\":29},{\"font\":{\"color\":\"orange\"},\"showarrow\":false,\"text\":\"{\",\"x\":2,\"y\":30},{\"font\":{\"color\":\"orange\"},\"showarrow\":false,\"text\":\"{\",\"x\":2,\"y\":31},{\"font\":{\"color\":\"orange\"},\"showarrow\":false,\"text\":\"{\",\"x\":2,\"y\":32},{\"font\":{\"color\":\"orange\"},\"showarrow\":false,\"text\":\"{\",\"x\":2,\"y\":33},{\"font\":{\"color\":\"orange\"},\"showarrow\":false,\"text\":\"{\",\"x\":2,\"y\":34},{\"font\":{\"color\":\"orange\"},\"showarrow\":false,\"text\":\"<\",\"x\":3,\"y\":0},{\"font\":{\"color\":\"orange\"},\"showarrow\":false,\"text\":\"<\",\"x\":3,\"y\":1},{\"font\":{\"color\":\"orange\"},\"showarrow\":false,\"text\":\"<\",\"x\":3,\"y\":2},{\"font\":{\"color\":\"orange\"},\"showarrow\":false,\"text\":\"<\",\"x\":3,\"y\":3},{\"font\":{\"color\":\"orange\"},\"showarrow\":false,\"text\":\"<\",\"x\":3,\"y\":4},{\"font\":{\"color\":\"orange\"},\"showarrow\":false,\"text\":\"<\",\"x\":3,\"y\":5},{\"font\":{\"color\":\"orange\"},\"showarrow\":false,\"text\":\"<\",\"x\":3,\"y\":6},{\"font\":{\"color\":\"orange\"},\"showarrow\":false,\"text\":\"<\",\"x\":3,\"y\":7},{\"font\":{\"color\":\"orange\"},\"showarrow\":false,\"text\":\"<\",\"x\":3,\"y\":8},{\"font\":{\"color\":\"orange\"},\"showarrow\":false,\"text\":\"<\",\"x\":3,\"y\":9},{\"font\":{\"color\":\"orange\"},\"showarrow\":false,\"text\":\"<\",\"x\":3,\"y\":10},{\"font\":{\"color\":\"orange\"},\"showarrow\":false,\"text\":\"<\",\"x\":3,\"y\":11},{\"font\":{\"color\":\"orange\"},\"showarrow\":false,\"text\":\"<\",\"x\":3,\"y\":12},{\"font\":{\"color\":\"orange\"},\"showarrow\":false,\"text\":\"<\",\"x\":3,\"y\":13},{\"font\":{\"color\":\"orange\"},\"showarrow\":false,\"text\":\"<\",\"x\":3,\"y\":14},{\"font\":{\"color\":\"orange\"},\"showarrow\":false,\"text\":\"<\",\"x\":3,\"y\":15},{\"font\":{\"color\":\"orange\"},\"showarrow\":false,\"text\":\"<\",\"x\":3,\"y\":16},{\"font\":{\"color\":\"orange\"},\"showarrow\":false,\"text\":\"<\",\"x\":3,\"y\":17},{\"font\":{\"color\":\"orange\"},\"showarrow\":false,\"text\":\"<\",\"x\":3,\"y\":18},{\"font\":{\"color\":\"orange\"},\"showarrow\":false,\"text\":\"<\",\"x\":3,\"y\":19},{\"font\":{\"color\":\"orange\"},\"showarrow\":false,\"text\":\"<\",\"x\":3,\"y\":20},{\"font\":{\"color\":\"orange\"},\"showarrow\":false,\"text\":\"<\",\"x\":3,\"y\":21},{\"font\":{\"color\":\"orange\"},\"showarrow\":false,\"text\":\"<\",\"x\":3,\"y\":22},{\"font\":{\"color\":\"orange\"},\"showarrow\":false,\"text\":\"<\",\"x\":3,\"y\":23},{\"font\":{\"color\":\"orange\"},\"showarrow\":false,\"text\":\"<\",\"x\":3,\"y\":24},{\"font\":{\"color\":\"orange\"},\"showarrow\":false,\"text\":\"<\",\"x\":3,\"y\":25},{\"font\":{\"color\":\"orange\"},\"showarrow\":false,\"text\":\"<\",\"x\":3,\"y\":26},{\"font\":{\"color\":\"orange\"},\"showarrow\":false,\"text\":\"<\",\"x\":3,\"y\":27},{\"font\":{\"color\":\"orange\"},\"showarrow\":false,\"text\":\"<\",\"x\":3,\"y\":28},{\"font\":{\"color\":\"orange\"},\"showarrow\":false,\"text\":\"<\",\"x\":3,\"y\":29},{\"font\":{\"color\":\"orange\"},\"showarrow\":false,\"text\":\"<\",\"x\":3,\"y\":30},{\"font\":{\"color\":\"orange\"},\"showarrow\":false,\"text\":\"<\",\"x\":3,\"y\":31},{\"font\":{\"color\":\"orange\"},\"showarrow\":false,\"text\":\"<\",\"x\":3,\"y\":32},{\"font\":{\"color\":\"orange\"},\"showarrow\":false,\"text\":\"<\",\"x\":3,\"y\":33},{\"font\":{\"color\":\"orange\"},\"showarrow\":false,\"text\":\"<\",\"x\":3,\"y\":34},{\"font\":{\"color\":\"orange\"},\"showarrow\":false,\"text\":\")\",\"x\":4,\"y\":0},{\"font\":{\"color\":\"orange\"},\"showarrow\":false,\"text\":\")\",\"x\":4,\"y\":1},{\"font\":{\"color\":\"orange\"},\"showarrow\":false,\"text\":\")\",\"x\":4,\"y\":2},{\"font\":{\"color\":\"orange\"},\"showarrow\":false,\"text\":\")\",\"x\":4,\"y\":3},{\"font\":{\"color\":\"orange\"},\"showarrow\":false,\"text\":\")\",\"x\":4,\"y\":4},{\"font\":{\"color\":\"orange\"},\"showarrow\":false,\"text\":\")\",\"x\":4,\"y\":5},{\"font\":{\"color\":\"orange\"},\"showarrow\":false,\"text\":\")\",\"x\":4,\"y\":6},{\"font\":{\"color\":\"orange\"},\"showarrow\":false,\"text\":\")\",\"x\":4,\"y\":7},{\"font\":{\"color\":\"orange\"},\"showarrow\":false,\"text\":\")\",\"x\":4,\"y\":8},{\"font\":{\"color\":\"orange\"},\"showarrow\":false,\"text\":\")\",\"x\":4,\"y\":9},{\"font\":{\"color\":\"orange\"},\"showarrow\":false,\"text\":\")\",\"x\":4,\"y\":10},{\"font\":{\"color\":\"orange\"},\"showarrow\":false,\"text\":\")\",\"x\":4,\"y\":11},{\"font\":{\"color\":\"orange\"},\"showarrow\":false,\"text\":\")\",\"x\":4,\"y\":12},{\"font\":{\"color\":\"orange\"},\"showarrow\":false,\"text\":\")\",\"x\":4,\"y\":13},{\"font\":{\"color\":\"orange\"},\"showarrow\":false,\"text\":\")\",\"x\":4,\"y\":14},{\"font\":{\"color\":\"orange\"},\"showarrow\":false,\"text\":\")\",\"x\":4,\"y\":15},{\"font\":{\"color\":\"orange\"},\"showarrow\":false,\"text\":\")\",\"x\":4,\"y\":16},{\"font\":{\"color\":\"orange\"},\"showarrow\":false,\"text\":\")\",\"x\":4,\"y\":17},{\"font\":{\"color\":\"orange\"},\"showarrow\":false,\"text\":\")\",\"x\":4,\"y\":18},{\"font\":{\"color\":\"orange\"},\"showarrow\":false,\"text\":\")\",\"x\":4,\"y\":19},{\"font\":{\"color\":\"orange\"},\"showarrow\":false,\"text\":\")\",\"x\":4,\"y\":20},{\"font\":{\"color\":\"orange\"},\"showarrow\":false,\"text\":\")\",\"x\":4,\"y\":21},{\"font\":{\"color\":\"orange\"},\"showarrow\":false,\"text\":\")\",\"x\":4,\"y\":22},{\"font\":{\"color\":\"orange\"},\"showarrow\":false,\"text\":\")\",\"x\":4,\"y\":23},{\"font\":{\"color\":\"orange\"},\"showarrow\":false,\"text\":\")\",\"x\":4,\"y\":24},{\"font\":{\"color\":\"orange\"},\"showarrow\":false,\"text\":\")\",\"x\":4,\"y\":25},{\"font\":{\"color\":\"orange\"},\"showarrow\":false,\"text\":\")\",\"x\":4,\"y\":26},{\"font\":{\"color\":\"orange\"},\"showarrow\":false,\"text\":\")\",\"x\":4,\"y\":27},{\"font\":{\"color\":\"orange\"},\"showarrow\":false,\"text\":\")\",\"x\":4,\"y\":28},{\"font\":{\"color\":\"orange\"},\"showarrow\":false,\"text\":\")\",\"x\":4,\"y\":29},{\"font\":{\"color\":\"orange\"},\"showarrow\":false,\"text\":\")\",\"x\":4,\"y\":30},{\"font\":{\"color\":\"orange\"},\"showarrow\":false,\"text\":\")\",\"x\":4,\"y\":31},{\"font\":{\"color\":\"orange\"},\"showarrow\":false,\"text\":\")\",\"x\":4,\"y\":32},{\"font\":{\"color\":\"orange\"},\"showarrow\":false,\"text\":\")\",\"x\":4,\"y\":33},{\"font\":{\"color\":\"orange\"},\"showarrow\":false,\"text\":\")\",\"x\":4,\"y\":34},{\"font\":{\"color\":\"orange\"},\"showarrow\":false,\"text\":\"]\",\"x\":5,\"y\":0},{\"font\":{\"color\":\"orange\"},\"showarrow\":false,\"text\":\"]\",\"x\":5,\"y\":1},{\"font\":{\"color\":\"orange\"},\"showarrow\":false,\"text\":\"]\",\"x\":5,\"y\":2},{\"font\":{\"color\":\"orange\"},\"showarrow\":false,\"text\":\"]\",\"x\":5,\"y\":3},{\"font\":{\"color\":\"orange\"},\"showarrow\":false,\"text\":\"]\",\"x\":5,\"y\":4},{\"font\":{\"color\":\"orange\"},\"showarrow\":false,\"text\":\"]\",\"x\":5,\"y\":5},{\"font\":{\"color\":\"orange\"},\"showarrow\":false,\"text\":\"]\",\"x\":5,\"y\":6},{\"font\":{\"color\":\"orange\"},\"showarrow\":false,\"text\":\"]\",\"x\":5,\"y\":7},{\"font\":{\"color\":\"orange\"},\"showarrow\":false,\"text\":\"]\",\"x\":5,\"y\":8},{\"font\":{\"color\":\"orange\"},\"showarrow\":false,\"text\":\"]\",\"x\":5,\"y\":9},{\"font\":{\"color\":\"orange\"},\"showarrow\":false,\"text\":\"]\",\"x\":5,\"y\":10},{\"font\":{\"color\":\"orange\"},\"showarrow\":false,\"text\":\"]\",\"x\":5,\"y\":11},{\"font\":{\"color\":\"orange\"},\"showarrow\":false,\"text\":\"]\",\"x\":5,\"y\":12},{\"font\":{\"color\":\"orange\"},\"showarrow\":false,\"text\":\"]\",\"x\":5,\"y\":13},{\"font\":{\"color\":\"orange\"},\"showarrow\":false,\"text\":\"]\",\"x\":5,\"y\":14},{\"font\":{\"color\":\"orange\"},\"showarrow\":false,\"text\":\"]\",\"x\":5,\"y\":15},{\"font\":{\"color\":\"orange\"},\"showarrow\":false,\"text\":\"]\",\"x\":5,\"y\":16},{\"font\":{\"color\":\"orange\"},\"showarrow\":false,\"text\":\"]\",\"x\":5,\"y\":17},{\"font\":{\"color\":\"orange\"},\"showarrow\":false,\"text\":\"]\",\"x\":5,\"y\":18},{\"font\":{\"color\":\"orange\"},\"showarrow\":false,\"text\":\"]\",\"x\":5,\"y\":19},{\"font\":{\"color\":\"orange\"},\"showarrow\":false,\"text\":\"]\",\"x\":5,\"y\":20},{\"font\":{\"color\":\"orange\"},\"showarrow\":false,\"text\":\"]\",\"x\":5,\"y\":21},{\"font\":{\"color\":\"orange\"},\"showarrow\":false,\"text\":\"]\",\"x\":5,\"y\":22},{\"font\":{\"color\":\"orange\"},\"showarrow\":false,\"text\":\"]\",\"x\":5,\"y\":23},{\"font\":{\"color\":\"orange\"},\"showarrow\":false,\"text\":\"]\",\"x\":5,\"y\":24},{\"font\":{\"color\":\"orange\"},\"showarrow\":false,\"text\":\"]\",\"x\":5,\"y\":25},{\"font\":{\"color\":\"orange\"},\"showarrow\":false,\"text\":\"]\",\"x\":5,\"y\":26},{\"font\":{\"color\":\"orange\"},\"showarrow\":false,\"text\":\"]\",\"x\":5,\"y\":27},{\"font\":{\"color\":\"orange\"},\"showarrow\":false,\"text\":\"]\",\"x\":5,\"y\":28},{\"font\":{\"color\":\"orange\"},\"showarrow\":false,\"text\":\"]\",\"x\":5,\"y\":29},{\"font\":{\"color\":\"orange\"},\"showarrow\":false,\"text\":\"]\",\"x\":5,\"y\":30},{\"font\":{\"color\":\"orange\"},\"showarrow\":false,\"text\":\"]\",\"x\":5,\"y\":31},{\"font\":{\"color\":\"orange\"},\"showarrow\":false,\"text\":\"]\",\"x\":5,\"y\":32},{\"font\":{\"color\":\"orange\"},\"showarrow\":false,\"text\":\"]\",\"x\":5,\"y\":33},{\"font\":{\"color\":\"orange\"},\"showarrow\":false,\"text\":\"]\",\"x\":5,\"y\":34},{\"font\":{\"color\":\"orange\"},\"showarrow\":false,\"text\":\"}\",\"x\":6,\"y\":0},{\"font\":{\"color\":\"orange\"},\"showarrow\":false,\"text\":\"}\",\"x\":6,\"y\":1},{\"font\":{\"color\":\"orange\"},\"showarrow\":false,\"text\":\"}\",\"x\":6,\"y\":2},{\"font\":{\"color\":\"orange\"},\"showarrow\":false,\"text\":\"}\",\"x\":6,\"y\":3},{\"font\":{\"color\":\"orange\"},\"showarrow\":false,\"text\":\"}\",\"x\":6,\"y\":4},{\"font\":{\"color\":\"orange\"},\"showarrow\":false,\"text\":\"}\",\"x\":6,\"y\":5},{\"font\":{\"color\":\"orange\"},\"showarrow\":false,\"text\":\"}\",\"x\":6,\"y\":6},{\"font\":{\"color\":\"orange\"},\"showarrow\":false,\"text\":\"}\",\"x\":6,\"y\":7},{\"font\":{\"color\":\"orange\"},\"showarrow\":false,\"text\":\"}\",\"x\":6,\"y\":8},{\"font\":{\"color\":\"orange\"},\"showarrow\":false,\"text\":\"}\",\"x\":6,\"y\":9},{\"font\":{\"color\":\"orange\"},\"showarrow\":false,\"text\":\"}\",\"x\":6,\"y\":10},{\"font\":{\"color\":\"orange\"},\"showarrow\":false,\"text\":\"}\",\"x\":6,\"y\":11},{\"font\":{\"color\":\"orange\"},\"showarrow\":false,\"text\":\"}\",\"x\":6,\"y\":12},{\"font\":{\"color\":\"orange\"},\"showarrow\":false,\"text\":\"}\",\"x\":6,\"y\":13},{\"font\":{\"color\":\"orange\"},\"showarrow\":false,\"text\":\"}\",\"x\":6,\"y\":14},{\"font\":{\"color\":\"orange\"},\"showarrow\":false,\"text\":\"}\",\"x\":6,\"y\":15},{\"font\":{\"color\":\"orange\"},\"showarrow\":false,\"text\":\"}\",\"x\":6,\"y\":16},{\"font\":{\"color\":\"orange\"},\"showarrow\":false,\"text\":\"}\",\"x\":6,\"y\":17},{\"font\":{\"color\":\"orange\"},\"showarrow\":false,\"text\":\"}\",\"x\":6,\"y\":18},{\"font\":{\"color\":\"orange\"},\"showarrow\":false,\"text\":\"}\",\"x\":6,\"y\":19},{\"font\":{\"color\":\"orange\"},\"showarrow\":false,\"text\":\"}\",\"x\":6,\"y\":20},{\"font\":{\"color\":\"orange\"},\"showarrow\":false,\"text\":\"}\",\"x\":6,\"y\":21},{\"font\":{\"color\":\"orange\"},\"showarrow\":false,\"text\":\"}\",\"x\":6,\"y\":22},{\"font\":{\"color\":\"orange\"},\"showarrow\":false,\"text\":\"}\",\"x\":6,\"y\":23},{\"font\":{\"color\":\"orange\"},\"showarrow\":false,\"text\":\"}\",\"x\":6,\"y\":24},{\"font\":{\"color\":\"orange\"},\"showarrow\":false,\"text\":\"}\",\"x\":6,\"y\":25},{\"font\":{\"color\":\"orange\"},\"showarrow\":false,\"text\":\"}\",\"x\":6,\"y\":26},{\"font\":{\"color\":\"orange\"},\"showarrow\":false,\"text\":\"}\",\"x\":6,\"y\":27},{\"font\":{\"color\":\"orange\"},\"showarrow\":false,\"text\":\"}\",\"x\":6,\"y\":28},{\"font\":{\"color\":\"orange\"},\"showarrow\":false,\"text\":\"}\",\"x\":6,\"y\":29},{\"font\":{\"color\":\"orange\"},\"showarrow\":false,\"text\":\"}\",\"x\":6,\"y\":30},{\"font\":{\"color\":\"orange\"},\"showarrow\":false,\"text\":\"}\",\"x\":6,\"y\":31},{\"font\":{\"color\":\"orange\"},\"showarrow\":false,\"text\":\"}\",\"x\":6,\"y\":32},{\"font\":{\"color\":\"orange\"},\"showarrow\":false,\"text\":\"}\",\"x\":6,\"y\":33},{\"font\":{\"color\":\"orange\"},\"showarrow\":false,\"text\":\"}\",\"x\":6,\"y\":34},{\"font\":{\"color\":\"orange\"},\"showarrow\":false,\"text\":\">\",\"x\":7,\"y\":0},{\"font\":{\"color\":\"orange\"},\"showarrow\":false,\"text\":\">\",\"x\":7,\"y\":1},{\"font\":{\"color\":\"orange\"},\"showarrow\":false,\"text\":\">\",\"x\":7,\"y\":2},{\"font\":{\"color\":\"orange\"},\"showarrow\":false,\"text\":\">\",\"x\":7,\"y\":3},{\"font\":{\"color\":\"orange\"},\"showarrow\":false,\"text\":\">\",\"x\":7,\"y\":4},{\"font\":{\"color\":\"orange\"},\"showarrow\":false,\"text\":\">\",\"x\":7,\"y\":5},{\"font\":{\"color\":\"orange\"},\"showarrow\":false,\"text\":\">\",\"x\":7,\"y\":6},{\"font\":{\"color\":\"orange\"},\"showarrow\":false,\"text\":\">\",\"x\":7,\"y\":7},{\"font\":{\"color\":\"orange\"},\"showarrow\":false,\"text\":\">\",\"x\":7,\"y\":8},{\"font\":{\"color\":\"orange\"},\"showarrow\":false,\"text\":\">\",\"x\":7,\"y\":9},{\"font\":{\"color\":\"orange\"},\"showarrow\":false,\"text\":\">\",\"x\":7,\"y\":10},{\"font\":{\"color\":\"orange\"},\"showarrow\":false,\"text\":\">\",\"x\":7,\"y\":11},{\"font\":{\"color\":\"orange\"},\"showarrow\":false,\"text\":\">\",\"x\":7,\"y\":12},{\"font\":{\"color\":\"orange\"},\"showarrow\":false,\"text\":\">\",\"x\":7,\"y\":13},{\"font\":{\"color\":\"orange\"},\"showarrow\":false,\"text\":\">\",\"x\":7,\"y\":14},{\"font\":{\"color\":\"orange\"},\"showarrow\":false,\"text\":\">\",\"x\":7,\"y\":15},{\"font\":{\"color\":\"orange\"},\"showarrow\":false,\"text\":\">\",\"x\":7,\"y\":16},{\"font\":{\"color\":\"orange\"},\"showarrow\":false,\"text\":\">\",\"x\":7,\"y\":17},{\"font\":{\"color\":\"orange\"},\"showarrow\":false,\"text\":\">\",\"x\":7,\"y\":18},{\"font\":{\"color\":\"orange\"},\"showarrow\":false,\"text\":\">\",\"x\":7,\"y\":19},{\"font\":{\"color\":\"orange\"},\"showarrow\":false,\"text\":\">\",\"x\":7,\"y\":20},{\"font\":{\"color\":\"orange\"},\"showarrow\":false,\"text\":\">\",\"x\":7,\"y\":21},{\"font\":{\"color\":\"orange\"},\"showarrow\":false,\"text\":\">\",\"x\":7,\"y\":22},{\"font\":{\"color\":\"orange\"},\"showarrow\":false,\"text\":\">\",\"x\":7,\"y\":23},{\"font\":{\"color\":\"orange\"},\"showarrow\":false,\"text\":\">\",\"x\":7,\"y\":24},{\"font\":{\"color\":\"orange\"},\"showarrow\":false,\"text\":\">\",\"x\":7,\"y\":25},{\"font\":{\"color\":\"orange\"},\"showarrow\":false,\"text\":\">\",\"x\":7,\"y\":26},{\"font\":{\"color\":\"orange\"},\"showarrow\":false,\"text\":\">\",\"x\":7,\"y\":27},{\"font\":{\"color\":\"orange\"},\"showarrow\":false,\"text\":\">\",\"x\":7,\"y\":28},{\"font\":{\"color\":\"orange\"},\"showarrow\":false,\"text\":\">\",\"x\":7,\"y\":29},{\"font\":{\"color\":\"orange\"},\"showarrow\":false,\"text\":\">\",\"x\":7,\"y\":30},{\"font\":{\"color\":\"orange\"},\"showarrow\":false,\"text\":\">\",\"x\":7,\"y\":31},{\"font\":{\"color\":\"orange\"},\"showarrow\":false,\"text\":\">\",\"x\":7,\"y\":32},{\"font\":{\"color\":\"orange\"},\"showarrow\":false,\"text\":\">\",\"x\":7,\"y\":33},{\"font\":{\"color\":\"orange\"},\"showarrow\":false,\"text\":\">\",\"x\":7,\"y\":34}]},                        {\"responsive\": true}                    ).then(function(){\n",
       "                            \n",
       "var gd = document.getElementById('78a104c5-3688-4558-af4a-0abf3ce0a8f0');\n",
       "var x = new MutationObserver(function (mutations, observer) {{\n",
       "        var display = window.getComputedStyle(gd).display;\n",
       "        if (!display || display === 'none') {{\n",
       "            console.log([gd, 'removed!']);\n",
       "            Plotly.purge(gd);\n",
       "            observer.disconnect();\n",
       "        }}\n",
       "}});\n",
       "\n",
       "// Listen for the removal of the full notebook cells\n",
       "var notebookContainer = gd.closest('#notebook-container');\n",
       "if (notebookContainer) {{\n",
       "    x.observe(notebookContainer, {childList: true});\n",
       "}}\n",
       "\n",
       "// Listen for the clearing of the current output cell\n",
       "var outputEl = gd.closest('.output');\n",
       "if (outputEl) {{\n",
       "    x.observe(outputEl, {childList: true});\n",
       "}}\n",
       "\n",
       "                        })                };                });            </script>        </div>"
      ]
     },
     "metadata": {},
     "output_type": "display_data"
    }
   ],
   "source": [
    "display_bracket_scores(exploratory_prompts[num_exploratory_prompts // 2:], bracket_scores[num_exploratory_prompts // 2:, :])"
   ]
  },
  {
   "attachments": {},
   "cell_type": "markdown",
   "metadata": {},
   "source": [
    "## Discussion\n",
    "\n",
    "- The model seems to do well at predicting the correct closing bracket, and is robust to many things I've thrown at it.\n",
    "- One important case which occurs a few times though is when I'm looking to have the model predict `)` but it actually predicts `[`, with `)` being the second-most likely next bracket. I investigate this a little more below.\n",
    "- The fact that the model predicts `(` on `list())))).append(x` indicated that it is not confused by lots of closing brackets.\n",
    "- The model struggles a bit on the last prompts made purely of brackets and commas.\n",
    "- When the brackets are balanced, the model outputs vary a lot. Usually it predicts an opening bracket, though often spreading the probability over several types. Other times the probability is spread over both opening and closing brackets. And sometimes it predicts a closing bracket. \n",
    "    * It's not entirely clear what the model *should* predict in these cases. Oftentimes any kind of bracket would be inappropriate."
   ]
  },
  {
   "attachments": {},
   "cell_type": "markdown",
   "metadata": {},
   "source": [
    "Let's think about the case where the model predicts `[` instead of `)`. This happens more frequently with more complex prompts. I wouldn't say this is always wrong: it would be plausible to see a `[` in most of these cases, as a way of indexing some object, though usually this would be a bit weird. There are some cases where `[` is definitely not what we'd want, for example:\n",
    "```python\n",
    "zip(enumerate(list(zip([1,3,65], list(np.zeros(4)))), [3, 4], {1: 2}.items()\n",
    "```\n",
    "(The object returned by `items()` is not subscriptable.)\n",
    "\n",
    "I would say that this observation raises a larger question about what exactly the task *is* and what the metric should be. The intuition is that a good model should be able to keep track of the open and closed brackets, and should prefer generating text which is *eventually* is bracket-balanced. However, in the shorter term this may involve opening new brackets (after all, we wouldn't want to the model to be biased towards immediately closing all brackets in the prompt). I can think of the following ways of approaching this.\n",
    "1. The most direct way is to simply let the model continue to generate tokens, with the aim of seeing if the whole generated text is bracket-balanced and from there trying to understand how the model has done this. This would be a substantial undertaking, and beyond the scope of this small exploration.\n",
    "2. Another option is to focus only on the bracket type we care about. In this case, we'd only compare the prediction for `(` with `)`, and ignore the comparison with `[` and `]`. Of course there may still be instances where opening with `(` is a reasonable choice for the model to make so this doesn't completely eliminate the problem.\n",
    "3. The simplest way is to focus on clear-cut examples, where the only reasonable bracket is a closing one. I will go with this direction here, since it isolates more cleanly exactly what we want to investigate, which hopefully also makes the model behaviour more evident."
   ]
  },
  {
   "attachments": {},
   "cell_type": "markdown",
   "metadata": {},
   "source": [
    "# Hypotheses\n",
    "\n",
    "How is GPT-Neo able to determine whether to close a bracket? Before I get my hands dirty with the model weights, I'm going briefly elaborate my thoughts for what might be going on."
   ]
  },
  {
   "attachments": {},
   "cell_type": "markdown",
   "metadata": {},
   "source": [
    "- A basic component for this capability might be a 'bracket-counting' head. In this head certain tokens (perhaps those where some kind of bracket is likely as the next token, or just all tokens) attend to all the previous brackets. The opening bracket value vectors lie in an opposite direction to the closing bracket value vectors. This way, when we take the weighted sum, its projection onto the line determined by these opposing directions counts the value:\n",
    "```\n",
    "    (Number of opening brackets) - (Number of closing brackets)\n",
    "```\n",
    "- A simple way the transformer could use a bracket-counting head is by predicting an closing bracket if this number is positive and it is likely that the next token is some kind of bracket.\n",
    "- Such a simple head doesn't explain:\n",
    "    1. Why the model doesn't get confused by `list())))).append(x` (note that at `x` this count will be negative).\n",
    "    2. How the model can determine *which* bracket is appropriate.\n",
    "- Intuitively, in order to the deal with the first problem, the model needs some way of 'resetting' the count when it encounters the second `(`.\n",
    "- Here is one way this could be accomplished. There is a second bracket-counting head on a later layer, which works the same way except for the following modification. Any opening bracket which has a negative count from the first bracket-counting head gets the value vector which is the normal opening-bracket vector multiplied by the negative of the bracket count, plus one. This means that opening brackets appearing after a negatively balanced string reset the count, and counting can proceed as normal.\n",
    "- I can't think of a way to simplify this to a single head. Intuitively, the head which determines the final count already needs to have access to the bracket count computation, in order to determine when to reset. Perhaps there's a way to do it which doesn't involve counting."
   ]
  },
  {
   "attachments": {},
   "cell_type": "markdown",
   "metadata": {},
   "source": [
    "# Experimental setup\n",
    "\n",
    "Here I define the prompts which I will be testing, and the metric used to quantify model performance on them. "
   ]
  },
  {
   "attachments": {},
   "cell_type": "markdown",
   "metadata": {},
   "source": [
    "## Reference prompts\n",
    "\n",
    "I choose the prompts according to following criteria.\n",
    "1. They should have the same number of tokens.\n",
    "2. The next token, if it is a bracket, should be clearly a closing one.\n",
    "3. Each should have a corrupted version, which has the same number of tokens, differs only slightly, but after which the model predicts an opening bracket.\n",
    "4. There should be a variety of kinds of prompt."
   ]
  },
  {
   "attachments": {},
   "cell_type": "markdown",
   "metadata": {},
   "source": [
    "The motivations for these are as follows.\n",
    "1. This makes working with the next predicted token across all prompts simultaneously easier.\n",
    "2. Cases where there are more opening than closing brackets are more clear-cut.\n",
    "3. Later I would like to use activation patching as an interpretability tool. This requires a corrupted version.\n",
    "4. We want to find a mechanism by which the model robustly accomplishes the task, rather than one which might be specific to one kind of prompt."
   ]
  },
  {
   "cell_type": "code",
   "execution_count": 63,
   "metadata": {},
   "outputs": [
    {
     "name": "stdout",
     "output_type": "stream",
     "text": [
      "Prompts\n",
      "14 <|endoftext|>#def# line#(#data#_#t#ensor#,# rend#erer#='#four#'\n",
      "14 <|endoftext|>#model#.#dat#as#et#.#data# =# table#['#respond#er#'\n",
      "14 <|endoftext|>#{#b#(),# c#(),# d#(),# e#(),# f#(#x#)\n",
      "14 <|endoftext|>#<#template# id#='#named#_#car#riage#'# name#='#time#'\n",
      "14 <|endoftext|>#s#ieve#(#77#77#,# [#2#],# '#rec#urse#'\n",
      "\n",
      "Corrupted prompts\n",
      "14 <|endoftext|>#def# line#(#data#_#t#ensor#,# rend#erer#='#four#')\n",
      "14 <|endoftext|>#model#.#dat#as#et#.#data# =# table#['#respond#er#']\n",
      "14 <|endoftext|>#{#b#(),# c#(),# d#(),# e#(),# f#(#x#)}\n",
      "14 <|endoftext|>#<#template# id#='#named#_#car#riage#'# name#='#time#'>\n",
      "14 <|endoftext|>#s#ieve#(#77#77#,# [#2#],# '#rec#urse#')\n"
     ]
    }
   ],
   "source": [
    "# The regular prompts and their answers\n",
    "prompts = [\n",
    "    \"def line(data_tensor, renderer='four'\",\n",
    "    \"model.dataset.data = table['responder'\",\n",
    "    \"{b(), c(), d(), e(), f(x)\",\n",
    "    \"<template id='named_carriage' name='time'\",\n",
    "    \"sieve(7777, [2], 'recurse'\",\n",
    "]\n",
    "answers_opening = [0] * len(prompts) # 1 if opening bracket\n",
    "answers_symbol = list(\")]}>)\")\n",
    "\n",
    "# The corrupted prompts and their answers\n",
    "# Note: there aren't clear answers to what the exact symbol should be\n",
    "corrupted_prompts = [\n",
    "    \"def line(data_tensor, renderer='four')\",\n",
    "    \"model.dataset.data = table['responder']\",\n",
    "    \"{b(), c(), d(), e(), f(x)}\",\n",
    "    \"<template id='named_carriage' name='time'>\",\n",
    "    \"sieve(7777, [2], 'recurse')\",\n",
    "]\n",
    "corrupted_answers_opening = [1] * len(prompts) # 1 if opening bracket\n",
    "\n",
    "# Combine the non-corrupted and corrupted\n",
    "all_prompts = prompts + corrupted_prompts\n",
    "all_answers_opening = answers_opening + corrupted_answers_opening\n",
    "\n",
    "print (\"Prompts\")\n",
    "for prompt in prompts:\n",
    "    prompt_as_tokens = model.to_str_tokens(prompt)\n",
    "    print(len(prompt_as_tokens), \"#\".join(prompt_as_tokens))\n",
    "\n",
    "print()\n",
    "print (\"Corrupted prompts\")\n",
    "for prompt in corrupted_prompts:\n",
    "    prompt_as_tokens = model.to_str_tokens(prompt)\n",
    "    print(len(prompt_as_tokens), \"#\".join(prompt_as_tokens))"
   ]
  },
  {
   "cell_type": "code",
   "execution_count": 65,
   "metadata": {},
   "outputs": [
    {
     "name": "stdout",
     "output_type": "stream",
     "text": [
      "prompt_tokens: torch.Size([5, 14])\n",
      "corrupted_prompt_tokens: torch.Size([5, 14])\n",
      "all_prompt_tokens: torch.Size([10, 14])\n"
     ]
    }
   ],
   "source": [
    "# Convert all the prompts to tokens, padding to make them the same length\n",
    "all_prompt_tokens = model.to_tokens(all_prompts).to(device)\n",
    "prompt_tokens = all_prompt_tokens[:len(prompts), :]\n",
    "corrupted_prompt_tokens = all_prompt_tokens[len(prompts):, :]\n",
    "\n",
    "print(\"prompt_tokens:\", prompt_tokens.shape)\n",
    "print(\"corrupted_prompt_tokens:\", corrupted_prompt_tokens.shape)\n",
    "print(\"all_prompt_tokens:\", all_prompt_tokens.shape)"
   ]
  },
  {
   "attachments": {},
   "cell_type": "markdown",
   "metadata": {},
   "source": [
    "Let's visualise the model performance on the prompts"
   ]
  },
  {
   "cell_type": "code",
   "execution_count": 62,
   "metadata": {},
   "outputs": [
    {
     "data": {
      "text/html": [
       "<div>                            <div id=\"253fff5d-d676-40b4-9daf-7e944fd1420e\" class=\"plotly-graph-div\" style=\"height:400px; width:100%;\"></div>            <script type=\"text/javascript\">                require([\"plotly\"], function(Plotly) {                    window.PLOTLYENV=window.PLOTLYENV || {};                                    if (document.getElementById(\"253fff5d-d676-40b4-9daf-7e944fd1420e\")) {                    Plotly.newPlot(                        \"253fff5d-d676-40b4-9daf-7e944fd1420e\",                        [{\"coloraxis\":\"coloraxis\",\"name\":\"0\",\"x\":[\"(\",\"[\",\"{\",\"<\",\")\",\"]\",\"}\",\">\"],\"y\":[\"def line(data_tensor, renderer='four'\",\"model.dataset.data = table['responder'\",\"{b(), c(), d(), e(), f(x)\",\"<template id='named_carriage' name='time'\",\"sieve(7777, [2], 'recurse'\",\"def line(data_tensor, renderer='four')\",\"model.dataset.data = table['responder']\",\"{b(), c(), d(), e(), f(x)}\",\"<template id='named_carriage' name='time'>\",\"sieve(7777, [2], 'recurse')\"],\"z\":[[0.013852049596607685,0.28385889530181885,0.0026114676147699356,0.002849582117050886,0.6198038458824158,1.5503086615353823e-05,0.00012009983765892684,0.0768885612487793],[0.005869606509804726,0.006085644010454416,0.0023376576136797667,0.024342305958271027,0.0001059490314219147,0.9290082454681396,0.018733227625489235,0.013517368584871292],[0.015067316591739655,0.0077874683775007725,0.0634356439113617,0.27461281418800354,0.0013804849004372954,0.00011950558109674603,0.48486068844795227,0.15273602306842804],[0.006498989183455706,0.020600194111466408,0.0006496532005257905,0.004448853433132172,0.0002830407174769789,0.00048564645112492144,0.00024395532091148198,0.966789722442627],[0.10702317953109741,0.2476162612438202,0.015318040736019611,0.00467725470662117,0.6048446893692017,0.0012423500884324312,0.0020738434977829456,0.017204374074935913],[0.011289437301456928,0.3373797833919525,0.6497523784637451,0.0002184752665925771,0.00012175258598290384,0.00017261777247767895,1.7029424270731397e-05,0.0010485588572919369],[0.12936142086982727,0.45176300406455994,0.10302084684371948,0.03140800818800926,0.0745854526758194,0.05135240778326988,0.14306369423866272,0.015445194207131863],[0.1728605031967163,0.14189259707927704,0.2465401440858841,0.14993801712989807,0.03960774093866348,0.11189431697130203,0.031312230974435806,0.10595452785491943],[0.008775744587182999,0.024396566674113274,0.32762712240219116,0.6361286640167236,4.43227581854444e-05,2.6355046429671347e-05,0.0014879406662657857,0.0015132921980693936],[0.04688175767660141,0.2250613421201706,0.3108789622783661,0.015552354976534843,0.08583758026361465,0.18371336162090302,0.09468292444944382,0.03739171847701073]],\"type\":\"heatmap\",\"xaxis\":\"x\",\"yaxis\":\"y\",\"hovertemplate\":\"Bracket: %{x}<br>y: %{y}<br>Conditional Probability: %{z}<extra></extra>\"}],                        {\"template\":{\"data\":{\"histogram2dcontour\":[{\"type\":\"histogram2dcontour\",\"colorbar\":{\"outlinewidth\":0,\"ticks\":\"\"},\"colorscale\":[[0.0,\"#0d0887\"],[0.1111111111111111,\"#46039f\"],[0.2222222222222222,\"#7201a8\"],[0.3333333333333333,\"#9c179e\"],[0.4444444444444444,\"#bd3786\"],[0.5555555555555556,\"#d8576b\"],[0.6666666666666666,\"#ed7953\"],[0.7777777777777778,\"#fb9f3a\"],[0.8888888888888888,\"#fdca26\"],[1.0,\"#f0f921\"]]}],\"choropleth\":[{\"type\":\"choropleth\",\"colorbar\":{\"outlinewidth\":0,\"ticks\":\"\"}}],\"histogram2d\":[{\"type\":\"histogram2d\",\"colorbar\":{\"outlinewidth\":0,\"ticks\":\"\"},\"colorscale\":[[0.0,\"#0d0887\"],[0.1111111111111111,\"#46039f\"],[0.2222222222222222,\"#7201a8\"],[0.3333333333333333,\"#9c179e\"],[0.4444444444444444,\"#bd3786\"],[0.5555555555555556,\"#d8576b\"],[0.6666666666666666,\"#ed7953\"],[0.7777777777777778,\"#fb9f3a\"],[0.8888888888888888,\"#fdca26\"],[1.0,\"#f0f921\"]]}],\"heatmap\":[{\"type\":\"heatmap\",\"colorbar\":{\"outlinewidth\":0,\"ticks\":\"\"},\"colorscale\":[[0.0,\"#0d0887\"],[0.1111111111111111,\"#46039f\"],[0.2222222222222222,\"#7201a8\"],[0.3333333333333333,\"#9c179e\"],[0.4444444444444444,\"#bd3786\"],[0.5555555555555556,\"#d8576b\"],[0.6666666666666666,\"#ed7953\"],[0.7777777777777778,\"#fb9f3a\"],[0.8888888888888888,\"#fdca26\"],[1.0,\"#f0f921\"]]}],\"heatmapgl\":[{\"type\":\"heatmapgl\",\"colorbar\":{\"outlinewidth\":0,\"ticks\":\"\"},\"colorscale\":[[0.0,\"#0d0887\"],[0.1111111111111111,\"#46039f\"],[0.2222222222222222,\"#7201a8\"],[0.3333333333333333,\"#9c179e\"],[0.4444444444444444,\"#bd3786\"],[0.5555555555555556,\"#d8576b\"],[0.6666666666666666,\"#ed7953\"],[0.7777777777777778,\"#fb9f3a\"],[0.8888888888888888,\"#fdca26\"],[1.0,\"#f0f921\"]]}],\"contourcarpet\":[{\"type\":\"contourcarpet\",\"colorbar\":{\"outlinewidth\":0,\"ticks\":\"\"}}],\"contour\":[{\"type\":\"contour\",\"colorbar\":{\"outlinewidth\":0,\"ticks\":\"\"},\"colorscale\":[[0.0,\"#0d0887\"],[0.1111111111111111,\"#46039f\"],[0.2222222222222222,\"#7201a8\"],[0.3333333333333333,\"#9c179e\"],[0.4444444444444444,\"#bd3786\"],[0.5555555555555556,\"#d8576b\"],[0.6666666666666666,\"#ed7953\"],[0.7777777777777778,\"#fb9f3a\"],[0.8888888888888888,\"#fdca26\"],[1.0,\"#f0f921\"]]}],\"surface\":[{\"type\":\"surface\",\"colorbar\":{\"outlinewidth\":0,\"ticks\":\"\"},\"colorscale\":[[0.0,\"#0d0887\"],[0.1111111111111111,\"#46039f\"],[0.2222222222222222,\"#7201a8\"],[0.3333333333333333,\"#9c179e\"],[0.4444444444444444,\"#bd3786\"],[0.5555555555555556,\"#d8576b\"],[0.6666666666666666,\"#ed7953\"],[0.7777777777777778,\"#fb9f3a\"],[0.8888888888888888,\"#fdca26\"],[1.0,\"#f0f921\"]]}],\"mesh3d\":[{\"type\":\"mesh3d\",\"colorbar\":{\"outlinewidth\":0,\"ticks\":\"\"}}],\"scatter\":[{\"fillpattern\":{\"fillmode\":\"overlay\",\"size\":10,\"solidity\":0.2},\"type\":\"scatter\"}],\"parcoords\":[{\"type\":\"parcoords\",\"line\":{\"colorbar\":{\"outlinewidth\":0,\"ticks\":\"\"}}}],\"scatterpolargl\":[{\"type\":\"scatterpolargl\",\"marker\":{\"colorbar\":{\"outlinewidth\":0,\"ticks\":\"\"}}}],\"bar\":[{\"error_x\":{\"color\":\"#2a3f5f\"},\"error_y\":{\"color\":\"#2a3f5f\"},\"marker\":{\"line\":{\"color\":\"#E5ECF6\",\"width\":0.5},\"pattern\":{\"fillmode\":\"overlay\",\"size\":10,\"solidity\":0.2}},\"type\":\"bar\"}],\"scattergeo\":[{\"type\":\"scattergeo\",\"marker\":{\"colorbar\":{\"outlinewidth\":0,\"ticks\":\"\"}}}],\"scatterpolar\":[{\"type\":\"scatterpolar\",\"marker\":{\"colorbar\":{\"outlinewidth\":0,\"ticks\":\"\"}}}],\"histogram\":[{\"marker\":{\"pattern\":{\"fillmode\":\"overlay\",\"size\":10,\"solidity\":0.2}},\"type\":\"histogram\"}],\"scattergl\":[{\"type\":\"scattergl\",\"marker\":{\"colorbar\":{\"outlinewidth\":0,\"ticks\":\"\"}}}],\"scatter3d\":[{\"type\":\"scatter3d\",\"line\":{\"colorbar\":{\"outlinewidth\":0,\"ticks\":\"\"}},\"marker\":{\"colorbar\":{\"outlinewidth\":0,\"ticks\":\"\"}}}],\"scattermapbox\":[{\"type\":\"scattermapbox\",\"marker\":{\"colorbar\":{\"outlinewidth\":0,\"ticks\":\"\"}}}],\"scatterternary\":[{\"type\":\"scatterternary\",\"marker\":{\"colorbar\":{\"outlinewidth\":0,\"ticks\":\"\"}}}],\"scattercarpet\":[{\"type\":\"scattercarpet\",\"marker\":{\"colorbar\":{\"outlinewidth\":0,\"ticks\":\"\"}}}],\"carpet\":[{\"aaxis\":{\"endlinecolor\":\"#2a3f5f\",\"gridcolor\":\"white\",\"linecolor\":\"white\",\"minorgridcolor\":\"white\",\"startlinecolor\":\"#2a3f5f\"},\"baxis\":{\"endlinecolor\":\"#2a3f5f\",\"gridcolor\":\"white\",\"linecolor\":\"white\",\"minorgridcolor\":\"white\",\"startlinecolor\":\"#2a3f5f\"},\"type\":\"carpet\"}],\"table\":[{\"cells\":{\"fill\":{\"color\":\"#EBF0F8\"},\"line\":{\"color\":\"white\"}},\"header\":{\"fill\":{\"color\":\"#C8D4E3\"},\"line\":{\"color\":\"white\"}},\"type\":\"table\"}],\"barpolar\":[{\"marker\":{\"line\":{\"color\":\"#E5ECF6\",\"width\":0.5},\"pattern\":{\"fillmode\":\"overlay\",\"size\":10,\"solidity\":0.2}},\"type\":\"barpolar\"}],\"pie\":[{\"automargin\":true,\"type\":\"pie\"}]},\"layout\":{\"autotypenumbers\":\"strict\",\"colorway\":[\"#636efa\",\"#EF553B\",\"#00cc96\",\"#ab63fa\",\"#FFA15A\",\"#19d3f3\",\"#FF6692\",\"#B6E880\",\"#FF97FF\",\"#FECB52\"],\"font\":{\"color\":\"#2a3f5f\"},\"hovermode\":\"closest\",\"hoverlabel\":{\"align\":\"left\"},\"paper_bgcolor\":\"white\",\"plot_bgcolor\":\"#E5ECF6\",\"polar\":{\"bgcolor\":\"#E5ECF6\",\"angularaxis\":{\"gridcolor\":\"white\",\"linecolor\":\"white\",\"ticks\":\"\"},\"radialaxis\":{\"gridcolor\":\"white\",\"linecolor\":\"white\",\"ticks\":\"\"}},\"ternary\":{\"bgcolor\":\"#E5ECF6\",\"aaxis\":{\"gridcolor\":\"white\",\"linecolor\":\"white\",\"ticks\":\"\"},\"baxis\":{\"gridcolor\":\"white\",\"linecolor\":\"white\",\"ticks\":\"\"},\"caxis\":{\"gridcolor\":\"white\",\"linecolor\":\"white\",\"ticks\":\"\"}},\"coloraxis\":{\"colorbar\":{\"outlinewidth\":0,\"ticks\":\"\"}},\"colorscale\":{\"sequential\":[[0.0,\"#0d0887\"],[0.1111111111111111,\"#46039f\"],[0.2222222222222222,\"#7201a8\"],[0.3333333333333333,\"#9c179e\"],[0.4444444444444444,\"#bd3786\"],[0.5555555555555556,\"#d8576b\"],[0.6666666666666666,\"#ed7953\"],[0.7777777777777778,\"#fb9f3a\"],[0.8888888888888888,\"#fdca26\"],[1.0,\"#f0f921\"]],\"sequentialminus\":[[0.0,\"#0d0887\"],[0.1111111111111111,\"#46039f\"],[0.2222222222222222,\"#7201a8\"],[0.3333333333333333,\"#9c179e\"],[0.4444444444444444,\"#bd3786\"],[0.5555555555555556,\"#d8576b\"],[0.6666666666666666,\"#ed7953\"],[0.7777777777777778,\"#fb9f3a\"],[0.8888888888888888,\"#fdca26\"],[1.0,\"#f0f921\"]],\"diverging\":[[0,\"#8e0152\"],[0.1,\"#c51b7d\"],[0.2,\"#de77ae\"],[0.3,\"#f1b6da\"],[0.4,\"#fde0ef\"],[0.5,\"#f7f7f7\"],[0.6,\"#e6f5d0\"],[0.7,\"#b8e186\"],[0.8,\"#7fbc41\"],[0.9,\"#4d9221\"],[1,\"#276419\"]]},\"xaxis\":{\"gridcolor\":\"white\",\"linecolor\":\"white\",\"ticks\":\"\",\"title\":{\"standoff\":15},\"zerolinecolor\":\"white\",\"automargin\":true,\"zerolinewidth\":2},\"yaxis\":{\"gridcolor\":\"white\",\"linecolor\":\"white\",\"ticks\":\"\",\"title\":{\"standoff\":15},\"zerolinecolor\":\"white\",\"automargin\":true,\"zerolinewidth\":2},\"scene\":{\"xaxis\":{\"backgroundcolor\":\"#E5ECF6\",\"gridcolor\":\"white\",\"linecolor\":\"white\",\"showbackground\":true,\"ticks\":\"\",\"zerolinecolor\":\"white\",\"gridwidth\":2},\"yaxis\":{\"backgroundcolor\":\"#E5ECF6\",\"gridcolor\":\"white\",\"linecolor\":\"white\",\"showbackground\":true,\"ticks\":\"\",\"zerolinecolor\":\"white\",\"gridwidth\":2},\"zaxis\":{\"backgroundcolor\":\"#E5ECF6\",\"gridcolor\":\"white\",\"linecolor\":\"white\",\"showbackground\":true,\"ticks\":\"\",\"zerolinecolor\":\"white\",\"gridwidth\":2}},\"shapedefaults\":{\"line\":{\"color\":\"#2a3f5f\"}},\"annotationdefaults\":{\"arrowcolor\":\"#2a3f5f\",\"arrowhead\":0,\"arrowwidth\":1},\"geo\":{\"bgcolor\":\"white\",\"landcolor\":\"#E5ECF6\",\"subunitcolor\":\"white\",\"showland\":true,\"showlakes\":true,\"lakecolor\":\"white\"},\"title\":{\"x\":0.05},\"mapbox\":{\"style\":\"light\"}}},\"xaxis\":{\"anchor\":\"y\",\"domain\":[0.0,1.0],\"scaleanchor\":\"y\",\"constrain\":\"domain\",\"title\":{\"text\":\"Bracket\"}},\"yaxis\":{\"anchor\":\"x\",\"domain\":[0.0,1.0],\"autorange\":\"reversed\",\"constrain\":\"domain\"},\"coloraxis\":{\"colorbar\":{\"title\":{\"text\":\"Conditional Probability\"}},\"colorscale\":[[0.0,\"rgb(247,251,255)\"],[0.125,\"rgb(222,235,247)\"],[0.25,\"rgb(198,219,239)\"],[0.375,\"rgb(158,202,225)\"],[0.5,\"rgb(107,174,214)\"],[0.625,\"rgb(66,146,198)\"],[0.75,\"rgb(33,113,181)\"],[0.875,\"rgb(8,81,156)\"],[1.0,\"rgb(8,48,107)\"]]},\"margin\":{\"t\":60},\"height\":400,\"annotations\":[{\"font\":{\"color\":\"orange\"},\"showarrow\":false,\"text\":\"(\",\"x\":0,\"y\":0},{\"font\":{\"color\":\"orange\"},\"showarrow\":false,\"text\":\"(\",\"x\":0,\"y\":1},{\"font\":{\"color\":\"orange\"},\"showarrow\":false,\"text\":\"(\",\"x\":0,\"y\":2},{\"font\":{\"color\":\"orange\"},\"showarrow\":false,\"text\":\"(\",\"x\":0,\"y\":3},{\"font\":{\"color\":\"orange\"},\"showarrow\":false,\"text\":\"(\",\"x\":0,\"y\":4},{\"font\":{\"color\":\"orange\"},\"showarrow\":false,\"text\":\"(\",\"x\":0,\"y\":5},{\"font\":{\"color\":\"orange\"},\"showarrow\":false,\"text\":\"(\",\"x\":0,\"y\":6},{\"font\":{\"color\":\"orange\"},\"showarrow\":false,\"text\":\"(\",\"x\":0,\"y\":7},{\"font\":{\"color\":\"orange\"},\"showarrow\":false,\"text\":\"(\",\"x\":0,\"y\":8},{\"font\":{\"color\":\"orange\"},\"showarrow\":false,\"text\":\"(\",\"x\":0,\"y\":9},{\"font\":{\"color\":\"orange\"},\"showarrow\":false,\"text\":\"[\",\"x\":1,\"y\":0},{\"font\":{\"color\":\"orange\"},\"showarrow\":false,\"text\":\"[\",\"x\":1,\"y\":1},{\"font\":{\"color\":\"orange\"},\"showarrow\":false,\"text\":\"[\",\"x\":1,\"y\":2},{\"font\":{\"color\":\"orange\"},\"showarrow\":false,\"text\":\"[\",\"x\":1,\"y\":3},{\"font\":{\"color\":\"orange\"},\"showarrow\":false,\"text\":\"[\",\"x\":1,\"y\":4},{\"font\":{\"color\":\"orange\"},\"showarrow\":false,\"text\":\"[\",\"x\":1,\"y\":5},{\"font\":{\"color\":\"orange\"},\"showarrow\":false,\"text\":\"[\",\"x\":1,\"y\":6},{\"font\":{\"color\":\"orange\"},\"showarrow\":false,\"text\":\"[\",\"x\":1,\"y\":7},{\"font\":{\"color\":\"orange\"},\"showarrow\":false,\"text\":\"[\",\"x\":1,\"y\":8},{\"font\":{\"color\":\"orange\"},\"showarrow\":false,\"text\":\"[\",\"x\":1,\"y\":9},{\"font\":{\"color\":\"orange\"},\"showarrow\":false,\"text\":\"{\",\"x\":2,\"y\":0},{\"font\":{\"color\":\"orange\"},\"showarrow\":false,\"text\":\"{\",\"x\":2,\"y\":1},{\"font\":{\"color\":\"orange\"},\"showarrow\":false,\"text\":\"{\",\"x\":2,\"y\":2},{\"font\":{\"color\":\"orange\"},\"showarrow\":false,\"text\":\"{\",\"x\":2,\"y\":3},{\"font\":{\"color\":\"orange\"},\"showarrow\":false,\"text\":\"{\",\"x\":2,\"y\":4},{\"font\":{\"color\":\"orange\"},\"showarrow\":false,\"text\":\"{\",\"x\":2,\"y\":5},{\"font\":{\"color\":\"orange\"},\"showarrow\":false,\"text\":\"{\",\"x\":2,\"y\":6},{\"font\":{\"color\":\"orange\"},\"showarrow\":false,\"text\":\"{\",\"x\":2,\"y\":7},{\"font\":{\"color\":\"orange\"},\"showarrow\":false,\"text\":\"{\",\"x\":2,\"y\":8},{\"font\":{\"color\":\"orange\"},\"showarrow\":false,\"text\":\"{\",\"x\":2,\"y\":9},{\"font\":{\"color\":\"orange\"},\"showarrow\":false,\"text\":\"<\",\"x\":3,\"y\":0},{\"font\":{\"color\":\"orange\"},\"showarrow\":false,\"text\":\"<\",\"x\":3,\"y\":1},{\"font\":{\"color\":\"orange\"},\"showarrow\":false,\"text\":\"<\",\"x\":3,\"y\":2},{\"font\":{\"color\":\"orange\"},\"showarrow\":false,\"text\":\"<\",\"x\":3,\"y\":3},{\"font\":{\"color\":\"orange\"},\"showarrow\":false,\"text\":\"<\",\"x\":3,\"y\":4},{\"font\":{\"color\":\"orange\"},\"showarrow\":false,\"text\":\"<\",\"x\":3,\"y\":5},{\"font\":{\"color\":\"orange\"},\"showarrow\":false,\"text\":\"<\",\"x\":3,\"y\":6},{\"font\":{\"color\":\"orange\"},\"showarrow\":false,\"text\":\"<\",\"x\":3,\"y\":7},{\"font\":{\"color\":\"orange\"},\"showarrow\":false,\"text\":\"<\",\"x\":3,\"y\":8},{\"font\":{\"color\":\"orange\"},\"showarrow\":false,\"text\":\"<\",\"x\":3,\"y\":9},{\"font\":{\"color\":\"orange\"},\"showarrow\":false,\"text\":\")\",\"x\":4,\"y\":0},{\"font\":{\"color\":\"orange\"},\"showarrow\":false,\"text\":\")\",\"x\":4,\"y\":1},{\"font\":{\"color\":\"orange\"},\"showarrow\":false,\"text\":\")\",\"x\":4,\"y\":2},{\"font\":{\"color\":\"orange\"},\"showarrow\":false,\"text\":\")\",\"x\":4,\"y\":3},{\"font\":{\"color\":\"orange\"},\"showarrow\":false,\"text\":\")\",\"x\":4,\"y\":4},{\"font\":{\"color\":\"orange\"},\"showarrow\":false,\"text\":\")\",\"x\":4,\"y\":5},{\"font\":{\"color\":\"orange\"},\"showarrow\":false,\"text\":\")\",\"x\":4,\"y\":6},{\"font\":{\"color\":\"orange\"},\"showarrow\":false,\"text\":\")\",\"x\":4,\"y\":7},{\"font\":{\"color\":\"orange\"},\"showarrow\":false,\"text\":\")\",\"x\":4,\"y\":8},{\"font\":{\"color\":\"orange\"},\"showarrow\":false,\"text\":\")\",\"x\":4,\"y\":9},{\"font\":{\"color\":\"orange\"},\"showarrow\":false,\"text\":\"]\",\"x\":5,\"y\":0},{\"font\":{\"color\":\"orange\"},\"showarrow\":false,\"text\":\"]\",\"x\":5,\"y\":1},{\"font\":{\"color\":\"orange\"},\"showarrow\":false,\"text\":\"]\",\"x\":5,\"y\":2},{\"font\":{\"color\":\"orange\"},\"showarrow\":false,\"text\":\"]\",\"x\":5,\"y\":3},{\"font\":{\"color\":\"orange\"},\"showarrow\":false,\"text\":\"]\",\"x\":5,\"y\":4},{\"font\":{\"color\":\"orange\"},\"showarrow\":false,\"text\":\"]\",\"x\":5,\"y\":5},{\"font\":{\"color\":\"orange\"},\"showarrow\":false,\"text\":\"]\",\"x\":5,\"y\":6},{\"font\":{\"color\":\"orange\"},\"showarrow\":false,\"text\":\"]\",\"x\":5,\"y\":7},{\"font\":{\"color\":\"orange\"},\"showarrow\":false,\"text\":\"]\",\"x\":5,\"y\":8},{\"font\":{\"color\":\"orange\"},\"showarrow\":false,\"text\":\"]\",\"x\":5,\"y\":9},{\"font\":{\"color\":\"orange\"},\"showarrow\":false,\"text\":\"}\",\"x\":6,\"y\":0},{\"font\":{\"color\":\"orange\"},\"showarrow\":false,\"text\":\"}\",\"x\":6,\"y\":1},{\"font\":{\"color\":\"orange\"},\"showarrow\":false,\"text\":\"}\",\"x\":6,\"y\":2},{\"font\":{\"color\":\"orange\"},\"showarrow\":false,\"text\":\"}\",\"x\":6,\"y\":3},{\"font\":{\"color\":\"orange\"},\"showarrow\":false,\"text\":\"}\",\"x\":6,\"y\":4},{\"font\":{\"color\":\"orange\"},\"showarrow\":false,\"text\":\"}\",\"x\":6,\"y\":5},{\"font\":{\"color\":\"orange\"},\"showarrow\":false,\"text\":\"}\",\"x\":6,\"y\":6},{\"font\":{\"color\":\"orange\"},\"showarrow\":false,\"text\":\"}\",\"x\":6,\"y\":7},{\"font\":{\"color\":\"orange\"},\"showarrow\":false,\"text\":\"}\",\"x\":6,\"y\":8},{\"font\":{\"color\":\"orange\"},\"showarrow\":false,\"text\":\"}\",\"x\":6,\"y\":9},{\"font\":{\"color\":\"orange\"},\"showarrow\":false,\"text\":\">\",\"x\":7,\"y\":0},{\"font\":{\"color\":\"orange\"},\"showarrow\":false,\"text\":\">\",\"x\":7,\"y\":1},{\"font\":{\"color\":\"orange\"},\"showarrow\":false,\"text\":\">\",\"x\":7,\"y\":2},{\"font\":{\"color\":\"orange\"},\"showarrow\":false,\"text\":\">\",\"x\":7,\"y\":3},{\"font\":{\"color\":\"orange\"},\"showarrow\":false,\"text\":\">\",\"x\":7,\"y\":4},{\"font\":{\"color\":\"orange\"},\"showarrow\":false,\"text\":\">\",\"x\":7,\"y\":5},{\"font\":{\"color\":\"orange\"},\"showarrow\":false,\"text\":\">\",\"x\":7,\"y\":6},{\"font\":{\"color\":\"orange\"},\"showarrow\":false,\"text\":\">\",\"x\":7,\"y\":7},{\"font\":{\"color\":\"orange\"},\"showarrow\":false,\"text\":\">\",\"x\":7,\"y\":8},{\"font\":{\"color\":\"orange\"},\"showarrow\":false,\"text\":\">\",\"x\":7,\"y\":9}]},                        {\"responsive\": true}                    ).then(function(){\n",
       "                            \n",
       "var gd = document.getElementById('253fff5d-d676-40b4-9daf-7e944fd1420e');\n",
       "var x = new MutationObserver(function (mutations, observer) {{\n",
       "        var display = window.getComputedStyle(gd).display;\n",
       "        if (!display || display === 'none') {{\n",
       "            console.log([gd, 'removed!']);\n",
       "            Plotly.purge(gd);\n",
       "            observer.disconnect();\n",
       "        }}\n",
       "}});\n",
       "\n",
       "// Listen for the removal of the full notebook cells\n",
       "var notebookContainer = gd.closest('#notebook-container');\n",
       "if (notebookContainer) {{\n",
       "    x.observe(notebookContainer, {childList: true});\n",
       "}}\n",
       "\n",
       "// Listen for the clearing of the current output cell\n",
       "var outputEl = gd.closest('.output');\n",
       "if (outputEl) {{\n",
       "    x.observe(outputEl, {childList: true});\n",
       "}}\n",
       "\n",
       "                        })                };                });            </script>        </div>"
      ]
     },
     "metadata": {},
     "output_type": "display_data"
    }
   ],
   "source": [
    "bracket_scores = compute_bracket_scores(all_prompt_tokens)\n",
    "display_bracket_scores(all_prompts, bracket_scores, height_scale=40)"
   ]
  },
  {
   "attachments": {},
   "cell_type": "markdown",
   "metadata": {},
   "source": [
    "## Metrics\n",
    "\n",
    "I now define the metrics used to evaluate the model performance. The first metric measures the success at predicting openness or closedness of the bracket. The second measures in addition how well the model predicts the actual token. Both use average logit difference."
   ]
  }
 ],
 "metadata": {
  "kernelspec": {
   "display_name": "mech-interp",
   "language": "python",
   "name": "python3"
  },
  "language_info": {
   "codemirror_mode": {
    "name": "ipython",
    "version": 3
   },
   "file_extension": ".py",
   "mimetype": "text/x-python",
   "name": "python",
   "nbconvert_exporter": "python",
   "pygments_lexer": "ipython3",
   "version": "3.11.2"
  },
  "orig_nbformat": 4
 },
 "nbformat": 4,
 "nbformat_minor": 2
}
