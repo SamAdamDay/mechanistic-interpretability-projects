{
 "cells": [
  {
   "attachments": {},
   "cell_type": "markdown",
   "metadata": {},
   "source": [
    "# What token embedding dimensionality does GPT-Neo need?\n",
    "\n",
    "Experimenting with reducing GPT-Neo's token embedding dimensionality using SVD and measuring its resulting performance."
   ]
  },
  {
   "attachments": {},
   "cell_type": "markdown",
   "metadata": {},
   "source": [
    "## Setup"
   ]
  },
  {
   "cell_type": "code",
   "execution_count": 1,
   "metadata": {},
   "outputs": [],
   "source": [
    "DEVELOPMENT_MODE = False"
   ]
  },
  {
   "cell_type": "code",
   "execution_count": 2,
   "metadata": {},
   "outputs": [
    {
     "name": "stdout",
     "output_type": "stream",
     "text": [
      "Running as a Jupyter notebook - intended for development only!\n",
      "The autoreload extension is already loaded. To reload it, use:\n",
      "  %reload_ext autoreload\n"
     ]
    },
    {
     "name": "stderr",
     "output_type": "stream",
     "text": [
      "/tmp/ipykernel_3841/2873378927.py:13: DeprecationWarning: `magic(...)` is deprecated since IPython 0.13 (warning added in 8.1), use run_line_magic(magic_name, parameter_s).\n",
      "  ipython.magic(\"load_ext autoreload\")\n",
      "/tmp/ipykernel_3841/2873378927.py:14: DeprecationWarning: `magic(...)` is deprecated since IPython 0.13 (warning added in 8.1), use run_line_magic(magic_name, parameter_s).\n",
      "  ipython.magic(\"autoreload 2\")\n"
     ]
    }
   ],
   "source": [
    "try:\n",
    "    import google.colab\n",
    "    IN_COLAB = True\n",
    "    print(\"Running as a Colab notebook\")\n",
    "    %pip install git+https://github.com/SamAdamDay/mechanistic-interpretability-projects.git\n",
    "except:\n",
    "    IN_COLAB = False\n",
    "    print(\"Running as a Jupyter notebook - intended for development only!\")\n",
    "    from IPython import get_ipython\n",
    "\n",
    "    ipython = get_ipython()\n",
    "    # Code to automatically update the HookedTransformer code as its edited without restarting the kernel\n",
    "    ipython.magic(\"load_ext autoreload\")\n",
    "    ipython.magic(\"autoreload 2\")"
   ]
  },
  {
   "cell_type": "code",
   "execution_count": 3,
   "metadata": {},
   "outputs": [
    {
     "name": "stdout",
     "output_type": "stream",
     "text": [
      "Using renderer: notebook_connected\n"
     ]
    }
   ],
   "source": [
    "import plotly.io as pio\n",
    "\n",
    "if IN_COLAB or DEVELOPMENT_MODE:\n",
    "    pio.renderers.default = \"colab\"\n",
    "else:\n",
    "    pio.renderers.default = \"notebook_connected\"\n",
    "print(f\"Using renderer: {pio.renderers.default}\")\n"
   ]
  },
  {
   "cell_type": "code",
   "execution_count": 4,
   "metadata": {},
   "outputs": [
    {
     "name": "stderr",
     "output_type": "stream",
     "text": [
      "/root/mechanistic-interpretability-projects/venv/lib/python3.8/site-packages/tqdm/auto.py:21: TqdmWarning:\n",
      "\n",
      "IProgress not found. Please update jupyter and ipywidgets. See https://ipywidgets.readthedocs.io/en/stable/user_install.html\n",
      "\n"
     ]
    }
   ],
   "source": [
    "import torch\n",
    "import torch.nn as nn\n",
    "import torch.nn.functional as F\n",
    "import torch.optim as optim\n",
    "from torch.utils.data import DataLoader\n",
    "\n",
    "from sklearn.utils.extmath import randomized_svd\n",
    "\n",
    "from datasets import load_dataset\n",
    "\n",
    "import numpy as np\n",
    "\n",
    "from fancy_einsum import einsum\n",
    "\n",
    "from tqdm import tqdm\n",
    "\n",
    "import plotly.express as px\n",
    "\n",
    "import matplotlib.pyplot as plt\n",
    "\n",
    "import transformer_lens\n",
    "import transformer_lens.utils as utils\n",
    "from transformer_lens.hook_points import (\n",
    "    HookedRootModule,\n",
    "    HookPoint,\n",
    ")  # Hooking utilities\n",
    "from transformer_lens import (\n",
    "    HookedTransformer,\n",
    "    HookedTransformerConfig,\n",
    "    FactoredMatrix,\n",
    "    ActivationCache,\n",
    ")\n"
   ]
  },
  {
   "cell_type": "code",
   "execution_count": 5,
   "metadata": {},
   "outputs": [
    {
     "data": {
      "text/plain": [
       "<torch.autograd.grad_mode.set_grad_enabled at 0x7f03904dc1c0>"
      ]
     },
     "execution_count": 5,
     "metadata": {},
     "output_type": "execute_result"
    }
   ],
   "source": [
    "torch.set_grad_enabled(False)"
   ]
  },
  {
   "cell_type": "code",
   "execution_count": 6,
   "metadata": {},
   "outputs": [
    {
     "name": "stdout",
     "output_type": "stream",
     "text": [
      "cuda\n"
     ]
    }
   ],
   "source": [
    "device = \"cuda\" if torch.cuda.is_available() else \"cpu\"\n",
    "print(device)"
   ]
  },
  {
   "attachments": {},
   "cell_type": "markdown",
   "metadata": {},
   "source": [
    "## Reducing dimensionality"
   ]
  },
  {
   "cell_type": "code",
   "execution_count": 7,
   "metadata": {},
   "outputs": [],
   "source": [
    "MAX_DIM = 100 #@param {type:\"integer\"}\n",
    "BATCH_SIZE = 16 #@param {type:\"integer\"}\n",
    "DATASET_SIZE = 1024 #@param {type:\"integer\"}"
   ]
  },
  {
   "attachments": {},
   "cell_type": "markdown",
   "metadata": {},
   "source": [
    "Load the model"
   ]
  },
  {
   "cell_type": "code",
   "execution_count": 8,
   "metadata": {},
   "outputs": [
    {
     "name": "stderr",
     "output_type": "stream",
     "text": [
      "Using pad_token, but it is not set yet.\n"
     ]
    },
    {
     "name": "stdout",
     "output_type": "stream",
     "text": [
      "Loaded pretrained model gpt-neo-125M into HookedTransformer\n"
     ]
    }
   ],
   "source": [
    "model = HookedTransformer.from_pretrained(\"gpt-neo-125M\", device=device)"
   ]
  },
  {
   "attachments": {},
   "cell_type": "markdown",
   "metadata": {},
   "source": [
    "Get the token embedding lookup table"
   ]
  },
  {
   "cell_type": "code",
   "execution_count": 9,
   "metadata": {},
   "outputs": [
    {
     "name": "stdout",
     "output_type": "stream",
     "text": [
      "torch.Size([50257, 768])\n"
     ]
    }
   ],
   "source": [
    "params = model.state_dict()\n",
    "W_E = params[\"embed.W_E\"]\n",
    "print(W_E.shape)"
   ]
  },
  {
   "attachments": {},
   "cell_type": "markdown",
   "metadata": {},
   "source": [
    "Compute the randomised SVD ( randomised because the matrix is really big)"
   ]
  },
  {
   "cell_type": "code",
   "execution_count": 10,
   "metadata": {},
   "outputs": [
    {
     "name": "stdout",
     "output_type": "stream",
     "text": [
      "US (50257, 100)\n",
      "Vh (100, 768)\n"
     ]
    }
   ],
   "source": [
    "W_E_numpy = utils.to_numpy(W_E)\n",
    "U, S, Vh = randomized_svd(W_E_numpy, n_components=MAX_DIM)\n",
    "US = U * S\n",
    "print(\"US\", US.shape)\n",
    "print(\"Vh\", Vh.shape)"
   ]
  },
  {
   "attachments": {},
   "cell_type": "markdown",
   "metadata": {},
   "source": [
    "Load a dataset to evaluate the model performance"
   ]
  },
  {
   "cell_type": "code",
   "execution_count": 11,
   "metadata": {},
   "outputs": [
    {
     "name": "stderr",
     "output_type": "stream",
     "text": [
      "Found cached dataset wikitext (/root/.cache/huggingface/datasets/wikitext/wikitext-2-v1/1.0.0/a241db52902eaf2c6aa732210bead40c090019a499ceb13bcbfa3f8ab646a126)\n",
      "Loading cached processed dataset at /root/.cache/huggingface/datasets/wikitext/wikitext-2-v1/1.0.0/a241db52902eaf2c6aa732210bead40c090019a499ceb13bcbfa3f8ab646a126/cache-a1a2501cebd05bee.arrow\n"
     ]
    }
   ],
   "source": [
    "dataset = load_dataset(\"wikitext\", \"wikitext-2-v1\", split=\"test\")\n",
    "dataset = dataset.filter(lambda data_dict: data_dict[\"text\"] != \"\")\n",
    "dataset = dataset.shuffle()[:DATASET_SIZE]\n",
    "dataset_tokens = model.to_tokens(dataset[\"text\"], move_to_device=False)"
   ]
  },
  {
   "attachments": {},
   "cell_type": "markdown",
   "metadata": {},
   "source": [
    "Evaluate the model with the embedding lookup replaced with versions of reduced dimension"
   ]
  },
  {
   "cell_type": "code",
   "execution_count": 12,
   "metadata": {},
   "outputs": [
    {
     "name": "stderr",
     "output_type": "stream",
     "text": [
      "Base model: 100%|██████████| 64/64 [00:06<00:00, 10.36it/s]\n",
      "Dim [1/100]: 100%|██████████| 64/64 [00:06<00:00, 10.45it/s]\n",
      "Dim [2/100]: 100%|██████████| 64/64 [00:06<00:00, 10.18it/s]\n",
      "Dim [3/100]: 100%|██████████| 64/64 [00:06<00:00, 10.46it/s]\n",
      "Dim [4/100]: 100%|██████████| 64/64 [00:06<00:00, 10.46it/s]\n",
      "Dim [5/100]: 100%|██████████| 64/64 [00:06<00:00, 10.16it/s]\n",
      "Dim [6/100]: 100%|██████████| 64/64 [00:06<00:00, 10.16it/s]\n",
      "Dim [7/100]: 100%|██████████| 64/64 [00:06<00:00, 10.47it/s]\n",
      "Dim [8/100]: 100%|██████████| 64/64 [00:06<00:00, 10.45it/s]\n",
      "Dim [9/100]: 100%|██████████| 64/64 [00:06<00:00, 10.44it/s]\n",
      "Dim [10/100]: 100%|██████████| 64/64 [00:06<00:00, 10.17it/s]\n",
      "Dim [11/100]: 100%|██████████| 64/64 [00:06<00:00, 10.41it/s]\n",
      "Dim [12/100]: 100%|██████████| 64/64 [00:06<00:00, 10.18it/s]\n",
      "Dim [13/100]: 100%|██████████| 64/64 [00:06<00:00, 10.37it/s]\n",
      "Dim [14/100]: 100%|██████████| 64/64 [00:06<00:00, 10.17it/s]\n",
      "Dim [15/100]: 100%|██████████| 64/64 [00:06<00:00, 10.40it/s]\n",
      "Dim [16/100]: 100%|██████████| 64/64 [00:06<00:00, 10.40it/s]\n",
      "Dim [17/100]: 100%|██████████| 64/64 [00:06<00:00, 10.06it/s]\n",
      "Dim [18/100]: 100%|██████████| 64/64 [00:06<00:00, 10.41it/s]\n",
      "Dim [19/100]: 100%|██████████| 64/64 [00:06<00:00, 10.16it/s]\n",
      "Dim [20/100]: 100%|██████████| 64/64 [00:06<00:00, 10.37it/s]\n",
      "Dim [21/100]: 100%|██████████| 64/64 [00:06<00:00, 10.15it/s]\n",
      "Dim [22/100]: 100%|██████████| 64/64 [00:06<00:00, 10.40it/s]\n",
      "Dim [23/100]: 100%|██████████| 64/64 [00:06<00:00, 10.36it/s]\n",
      "Dim [24/100]: 100%|██████████| 64/64 [00:06<00:00, 10.08it/s]\n",
      "Dim [25/100]: 100%|██████████| 64/64 [00:06<00:00, 10.37it/s]\n",
      "Dim [26/100]: 100%|██████████| 64/64 [00:06<00:00, 10.41it/s]\n",
      "Dim [27/100]: 100%|██████████| 64/64 [00:06<00:00, 10.04it/s]\n",
      "Dim [28/100]: 100%|██████████| 64/64 [00:06<00:00, 10.41it/s]\n",
      "Dim [29/100]: 100%|██████████| 64/64 [00:06<00:00, 10.12it/s]\n",
      "Dim [30/100]: 100%|██████████| 64/64 [00:06<00:00, 10.38it/s]\n",
      "Dim [31/100]: 100%|██████████| 64/64 [00:06<00:00, 10.39it/s]\n",
      "Dim [32/100]: 100%|██████████| 64/64 [00:06<00:00, 10.11it/s]\n",
      "Dim [33/100]: 100%|██████████| 64/64 [00:06<00:00, 10.41it/s]\n",
      "Dim [34/100]: 100%|██████████| 64/64 [00:06<00:00, 10.13it/s]\n",
      "Dim [35/100]: 100%|██████████| 64/64 [00:06<00:00, 10.38it/s]\n",
      "Dim [36/100]: 100%|██████████| 64/64 [00:06<00:00, 10.06it/s]\n",
      "Dim [37/100]: 100%|██████████| 64/64 [00:06<00:00, 10.36it/s]\n",
      "Dim [38/100]: 100%|██████████| 64/64 [00:06<00:00, 10.39it/s]\n",
      "Dim [39/100]: 100%|██████████| 64/64 [00:06<00:00, 10.10it/s]\n",
      "Dim [40/100]: 100%|██████████| 64/64 [00:06<00:00, 10.36it/s]\n",
      "Dim [41/100]: 100%|██████████| 64/64 [00:06<00:00, 10.35it/s]\n",
      "Dim [42/100]: 100%|██████████| 64/64 [00:06<00:00, 10.11it/s]\n",
      "Dim [43/100]: 100%|██████████| 64/64 [00:06<00:00, 10.11it/s]\n",
      "Dim [44/100]: 100%|██████████| 64/64 [00:06<00:00, 10.33it/s]\n",
      "Dim [45/100]: 100%|██████████| 64/64 [00:06<00:00, 10.32it/s]\n",
      "Dim [46/100]: 100%|██████████| 64/64 [00:06<00:00, 10.33it/s]\n",
      "Dim [47/100]: 100%|██████████| 64/64 [00:06<00:00, 10.09it/s]\n",
      "Dim [48/100]: 100%|██████████| 64/64 [00:06<00:00, 10.37it/s]\n",
      "Dim [49/100]: 100%|██████████| 64/64 [00:06<00:00, 10.09it/s]\n",
      "Dim [50/100]: 100%|██████████| 64/64 [00:06<00:00, 10.35it/s]\n",
      "Dim [51/100]: 100%|██████████| 64/64 [00:06<00:00, 10.08it/s]\n",
      "Dim [52/100]: 100%|██████████| 64/64 [00:06<00:00, 10.35it/s]\n",
      "Dim [53/100]: 100%|██████████| 64/64 [00:06<00:00, 10.35it/s]\n",
      "Dim [54/100]: 100%|██████████| 64/64 [00:06<00:00, 10.04it/s]\n",
      "Dim [55/100]: 100%|██████████| 64/64 [00:06<00:00, 10.37it/s]\n",
      "Dim [56/100]: 100%|██████████| 64/64 [00:06<00:00, 10.04it/s]\n",
      "Dim [57/100]: 100%|██████████| 64/64 [00:06<00:00, 10.32it/s]\n",
      "Dim [58/100]: 100%|██████████| 64/64 [00:06<00:00, 10.05it/s]\n",
      "Dim [59/100]: 100%|██████████| 64/64 [00:06<00:00, 10.22it/s]\n",
      "Dim [60/100]: 100%|██████████| 64/64 [00:06<00:00, 10.20it/s]\n",
      "Dim [61/100]: 100%|██████████| 64/64 [00:06<00:00, 10.04it/s]\n",
      "Dim [62/100]: 100%|██████████| 64/64 [00:06<00:00, 10.33it/s]\n",
      "Dim [63/100]: 100%|██████████| 64/64 [00:06<00:00, 10.21it/s]\n",
      "Dim [64/100]: 100%|██████████| 64/64 [00:06<00:00, 10.08it/s]\n",
      "Dim [65/100]: 100%|██████████| 64/64 [00:06<00:00, 10.34it/s]\n",
      "Dim [66/100]: 100%|██████████| 64/64 [00:06<00:00, 10.07it/s]\n",
      "Dim [67/100]: 100%|██████████| 64/64 [00:06<00:00, 10.32it/s]\n",
      "Dim [68/100]: 100%|██████████| 64/64 [00:06<00:00, 10.28it/s]\n",
      "Dim [69/100]: 100%|██████████| 64/64 [00:06<00:00, 10.00it/s]\n",
      "Dim [70/100]: 100%|██████████| 64/64 [00:06<00:00, 10.27it/s]\n",
      "Dim [71/100]: 100%|██████████| 64/64 [00:06<00:00, 10.09it/s]\n",
      "Dim [72/100]: 100%|██████████| 64/64 [00:06<00:00, 10.31it/s]\n",
      "Dim [73/100]: 100%|██████████| 64/64 [00:06<00:00, 10.07it/s]\n",
      "Dim [74/100]: 100%|██████████| 64/64 [00:06<00:00, 10.26it/s]\n",
      "Dim [75/100]: 100%|██████████| 64/64 [00:06<00:00, 10.27it/s]\n",
      "Dim [76/100]: 100%|██████████| 64/64 [00:06<00:00, 10.10it/s]\n",
      "Dim [77/100]: 100%|██████████| 64/64 [00:06<00:00, 10.26it/s]\n",
      "Dim [78/100]: 100%|██████████| 64/64 [00:06<00:00, 10.03it/s]\n",
      "Dim [79/100]: 100%|██████████| 64/64 [00:06<00:00, 10.31it/s]\n",
      "Dim [80/100]: 100%|██████████| 64/64 [00:06<00:00, 10.09it/s]\n",
      "Dim [81/100]: 100%|██████████| 64/64 [00:06<00:00, 10.34it/s]\n",
      "Dim [82/100]: 100%|██████████| 64/64 [00:06<00:00, 10.23it/s]\n",
      "Dim [83/100]: 100%|██████████| 64/64 [00:06<00:00, 10.29it/s]\n",
      "Dim [84/100]: 100%|██████████| 64/64 [00:06<00:00, 10.01it/s]\n",
      "Dim [85/100]: 100%|██████████| 64/64 [00:06<00:00, 10.31it/s]\n",
      "Dim [86/100]: 100%|██████████| 64/64 [00:06<00:00, 10.10it/s]\n",
      "Dim [87/100]: 100%|██████████| 64/64 [00:06<00:00, 10.35it/s]\n",
      "Dim [88/100]: 100%|██████████| 64/64 [00:06<00:00, 10.05it/s]\n",
      "Dim [89/100]: 100%|██████████| 64/64 [00:06<00:00, 10.34it/s]\n",
      "Dim [90/100]: 100%|██████████| 64/64 [00:06<00:00, 10.13it/s]\n",
      "Dim [91/100]: 100%|██████████| 64/64 [00:06<00:00, 10.10it/s]\n",
      "Dim [92/100]: 100%|██████████| 64/64 [00:06<00:00, 10.24it/s]\n",
      "Dim [93/100]: 100%|██████████| 64/64 [00:06<00:00, 10.08it/s]\n",
      "Dim [94/100]: 100%|██████████| 64/64 [00:06<00:00, 10.29it/s]\n",
      "Dim [95/100]: 100%|██████████| 64/64 [00:06<00:00,  9.99it/s]\n",
      "Dim [96/100]: 100%|██████████| 64/64 [00:06<00:00, 10.32it/s]\n",
      "Dim [97/100]: 100%|██████████| 64/64 [00:06<00:00, 10.32it/s]\n",
      "Dim [98/100]: 100%|██████████| 64/64 [00:06<00:00, 10.11it/s]\n",
      "Dim [99/100]: 100%|██████████| 64/64 [00:06<00:00, 10.18it/s]\n",
      "Dim [100/100]: 100%|██████████| 64/64 [00:06<00:00, 10.30it/s]\n"
     ]
    }
   ],
   "source": [
    "W_E_original = torch.clone(W_E)\n",
    "\n",
    "dataloader = DataLoader(dataset_tokens, batch_size=BATCH_SIZE)\n",
    "\n",
    "# Compute the average loss with the base model\n",
    "total_loss = 0\n",
    "for batch in tqdm(dataloader, f\"Base model\"):\n",
    "    loss, _ = model.run_with_cache(batch, return_type=\"loss\")\n",
    "    total_loss += loss\n",
    "base_loss = (total_loss / len(dataloader)).item()\n",
    "\n",
    "loss_per_dim = np.zeros(MAX_DIM)\n",
    "\n",
    "for i in range(MAX_DIM):\n",
    "\n",
    "    # Replace the embedding lookup with the reduced dimension version\n",
    "    W_E[:, :] = torch.tensor(US[:, :i+1] @ Vh[:i+1, :])\n",
    "\n",
    "    # Compute the average loss\n",
    "    total_loss = 0\n",
    "    for batch in tqdm(dataloader, f\"Dim [{i+1}/{MAX_DIM}]\"):\n",
    "        loss, _ = model.run_with_cache(batch, return_type=\"loss\")\n",
    "        total_loss += loss\n",
    "    loss_per_dim[i] = (total_loss / len(dataloader)).item()"
   ]
  },
  {
   "cell_type": "code",
   "execution_count": 13,
   "metadata": {},
   "outputs": [
    {
     "data": {
      "image/png": "[encoded data removed]",
      "text/plain": [
       "<Figure size 640x480 with 1 Axes>"
      ]
     },
     "metadata": {},
     "output_type": "display_data"
    }
   ],
   "source": [
    "fig, ax = plt.subplots(1, 1)\n",
    "ax.plot(np.arange(1, MAX_DIM + 1), loss_per_dim)\n",
    "ax.plot([1, MAX_DIM+1], [base_loss, base_loss], \"r:\", label=\"Base model\")\n",
    "ax.set(\n",
    "    title=\"Performance when we reduce embedding dimensionality for GPT-Neo\",\n",
    "    xlabel=\"Dimensionality\",\n",
    "    ylabel=\"Loss\",\n",
    ")\n",
    "ax.legend()\n",
    "plt.show()"
   ]
  }
 ],
 "metadata": {
  "kernelspec": {
   "display_name": "mech-interp",
   "language": "python",
   "name": "python3"
  },
  "language_info": {
   "codemirror_mode": {
    "name": "ipython",
    "version": 3
   },
   "file_extension": ".py",
   "mimetype": "text/x-python",
   "name": "python",
   "nbconvert_exporter": "python",
   "pygments_lexer": "ipython3",
   "version": "3.8.10"
  },
  "orig_nbformat": 4
 },
 "nbformat": 4,
 "nbformat_minor": 2
}
