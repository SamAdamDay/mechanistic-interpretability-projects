{
 "cells": [
  {
   "attachments": {},
   "cell_type": "markdown",
   "metadata": {},
   "source": [
    "# What token embedding dimensionality does GPT-Neo need?\n",
    "\n",
    "Experimenting with reducing GPT-Neo's token embedding dimensionality using SVD and measuring its resulting performance."
   ]
  },
  {
   "attachments": {},
   "cell_type": "markdown",
   "metadata": {},
   "source": [
    "## Setup"
   ]
  },
  {
   "cell_type": "code",
   "execution_count": 1,
   "metadata": {},
   "outputs": [],
   "source": [
    "DEVELOPMENT_MODE = False"
   ]
  },
  {
   "cell_type": "code",
   "execution_count": 2,
   "metadata": {},
   "outputs": [
    {
     "name": "stdout",
     "output_type": "stream",
     "text": [
      "Running as a Jupyter notebook - intended for development only!\n",
      "The autoreload extension is already loaded. To reload it, use:\n",
      "  %reload_ext autoreload\n"
     ]
    },
    {
     "name": "stderr",
     "output_type": "stream",
     "text": [
      "/tmp/ipykernel_5066/2873378927.py:13: DeprecationWarning: `magic(...)` is deprecated since IPython 0.13 (warning added in 8.1), use run_line_magic(magic_name, parameter_s).\n",
      "  ipython.magic(\"load_ext autoreload\")\n",
      "/tmp/ipykernel_5066/2873378927.py:14: DeprecationWarning: `magic(...)` is deprecated since IPython 0.13 (warning added in 8.1), use run_line_magic(magic_name, parameter_s).\n",
      "  ipython.magic(\"autoreload 2\")\n"
     ]
    }
   ],
   "source": [
    "try:\n",
    "    import google.colab\n",
    "    IN_COLAB = True\n",
    "    print(\"Running as a Colab notebook\")\n",
    "    %pip install git+https://github.com/SamAdamDay/mechanistic-interpretability-projects.git\n",
    "except:\n",
    "    IN_COLAB = False\n",
    "    print(\"Running as a Jupyter notebook - intended for development only!\")\n",
    "    from IPython import get_ipython\n",
    "\n",
    "    ipython = get_ipython()\n",
    "    # Code to automatically update the HookedTransformer code as its edited without restarting the kernel\n",
    "    ipython.magic(\"load_ext autoreload\")\n",
    "    ipython.magic(\"autoreload 2\")"
   ]
  },
  {
   "cell_type": "code",
   "execution_count": 3,
   "metadata": {},
   "outputs": [
    {
     "name": "stdout",
     "output_type": "stream",
     "text": [
      "Using renderer: notebook_connected\n"
     ]
    }
   ],
   "source": [
    "import plotly.io as pio\n",
    "\n",
    "if IN_COLAB or DEVELOPMENT_MODE:\n",
    "    pio.renderers.default = \"colab\"\n",
    "else:\n",
    "    pio.renderers.default = \"notebook_connected\"\n",
    "print(f\"Using renderer: {pio.renderers.default}\")\n"
   ]
  },
  {
   "cell_type": "code",
   "execution_count": 4,
   "metadata": {},
   "outputs": [
    {
     "name": "stderr",
     "output_type": "stream",
     "text": [
      "/root/mechanistic-interpretability-projects/venv/lib/python3.8/site-packages/tqdm/auto.py:21: TqdmWarning:\n",
      "\n",
      "IProgress not found. Please update jupyter and ipywidgets. See https://ipywidgets.readthedocs.io/en/stable/user_install.html\n",
      "\n"
     ]
    }
   ],
   "source": [
    "import torch\n",
    "import torch.nn as nn\n",
    "import torch.nn.functional as F\n",
    "import torch.optim as optim\n",
    "from torch.utils.data import DataLoader\n",
    "\n",
    "from sklearn.utils.extmath import randomized_svd\n",
    "\n",
    "from datasets import load_dataset\n",
    "\n",
    "import numpy as np\n",
    "\n",
    "from fancy_einsum import einsum\n",
    "\n",
    "from tqdm import tqdm\n",
    "\n",
    "import plotly.express as px\n",
    "\n",
    "import matplotlib.pyplot as plt\n",
    "\n",
    "import transformer_lens\n",
    "import transformer_lens.utils as utils\n",
    "from transformer_lens.hook_points import (\n",
    "    HookedRootModule,\n",
    "    HookPoint,\n",
    ")  # Hooking utilities\n",
    "from transformer_lens import (\n",
    "    HookedTransformer,\n",
    "    HookedTransformerConfig,\n",
    "    FactoredMatrix,\n",
    "    ActivationCache,\n",
    ")\n"
   ]
  },
  {
   "cell_type": "code",
   "execution_count": 5,
   "metadata": {},
   "outputs": [
    {
     "data": {
      "text/plain": [
       "<torch.autograd.grad_mode.set_grad_enabled at 0x7f5231e0ab20>"
      ]
     },
     "execution_count": 5,
     "metadata": {},
     "output_type": "execute_result"
    }
   ],
   "source": [
    "torch.set_grad_enabled(False)"
   ]
  },
  {
   "cell_type": "code",
   "execution_count": 6,
   "metadata": {},
   "outputs": [
    {
     "name": "stdout",
     "output_type": "stream",
     "text": [
      "cuda\n"
     ]
    }
   ],
   "source": [
    "device = \"cuda\" if torch.cuda.is_available() else \"cpu\"\n",
    "print(device)"
   ]
  },
  {
   "attachments": {},
   "cell_type": "markdown",
   "metadata": {},
   "source": [
    "## Reducing dimensionality"
   ]
  },
  {
   "cell_type": "code",
   "execution_count": 7,
   "metadata": {},
   "outputs": [],
   "source": [
    "MAX_DIM = 200 #@param {type:\"integer\"}\n",
    "BATCH_SIZE = 8 #@param {type:\"integer\"}\n",
    "DATASET_SIZE = 1024 #@param {type:\"integer\"}"
   ]
  },
  {
   "attachments": {},
   "cell_type": "markdown",
   "metadata": {},
   "source": [
    "Load the model"
   ]
  },
  {
   "cell_type": "code",
   "execution_count": 8,
   "metadata": {},
   "outputs": [
    {
     "name": "stderr",
     "output_type": "stream",
     "text": [
      "Using pad_token, but it is not set yet.\n"
     ]
    },
    {
     "name": "stdout",
     "output_type": "stream",
     "text": [
      "Loaded pretrained model gpt-neo-125M into HookedTransformer\n"
     ]
    }
   ],
   "source": [
    "model = HookedTransformer.from_pretrained(\"gpt-neo-125M\", device=device)"
   ]
  },
  {
   "attachments": {},
   "cell_type": "markdown",
   "metadata": {},
   "source": [
    "Get the token embedding lookup table"
   ]
  },
  {
   "cell_type": "code",
   "execution_count": 9,
   "metadata": {},
   "outputs": [
    {
     "name": "stdout",
     "output_type": "stream",
     "text": [
      "torch.Size([50257, 768])\n"
     ]
    }
   ],
   "source": [
    "params = model.state_dict()\n",
    "W_E = params[\"embed.W_E\"]\n",
    "print(W_E.shape)"
   ]
  },
  {
   "attachments": {},
   "cell_type": "markdown",
   "metadata": {},
   "source": [
    "Compute the randomised SVD ( randomised because the matrix is really big)"
   ]
  },
  {
   "cell_type": "code",
   "execution_count": 10,
   "metadata": {},
   "outputs": [
    {
     "name": "stdout",
     "output_type": "stream",
     "text": [
      "US (50257, 200)\n",
      "Vh (200, 768)\n"
     ]
    }
   ],
   "source": [
    "W_E_numpy = utils.to_numpy(W_E)\n",
    "U, S, Vh = randomized_svd(W_E_numpy, n_components=MAX_DIM)\n",
    "US = U * S\n",
    "print(\"US\", US.shape)\n",
    "print(\"Vh\", Vh.shape)"
   ]
  },
  {
   "attachments": {},
   "cell_type": "markdown",
   "metadata": {},
   "source": [
    "Load a dataset to evaluate the model performance"
   ]
  },
  {
   "cell_type": "code",
   "execution_count": 11,
   "metadata": {},
   "outputs": [
    {
     "name": "stderr",
     "output_type": "stream",
     "text": [
      "Found cached dataset wikitext (/root/.cache/huggingface/datasets/wikitext/wikitext-2-v1/1.0.0/a241db52902eaf2c6aa732210bead40c090019a499ceb13bcbfa3f8ab646a126)\n",
      "Loading cached processed dataset at /root/.cache/huggingface/datasets/wikitext/wikitext-2-v1/1.0.0/a241db52902eaf2c6aa732210bead40c090019a499ceb13bcbfa3f8ab646a126/cache-a1a2501cebd05bee.arrow\n"
     ]
    }
   ],
   "source": [
    "dataset = load_dataset(\"wikitext\", \"wikitext-2-v1\", split=\"test\")\n",
    "dataset = dataset.filter(lambda data_dict: data_dict[\"text\"] != \"\")\n",
    "dataset = dataset.shuffle()[:DATASET_SIZE]\n",
    "dataset_tokens = model.to_tokens(dataset[\"text\"], move_to_device=False)"
   ]
  },
  {
   "attachments": {},
   "cell_type": "markdown",
   "metadata": {},
   "source": [
    "Evaluate the model with the embedding lookup replaced with versions of reduced dimension"
   ]
  },
  {
   "cell_type": "code",
   "execution_count": 12,
   "metadata": {},
   "outputs": [
    {
     "name": "stderr",
     "output_type": "stream",
     "text": [
      "Base model: 100%|██████████| 128/128 [00:08<00:00, 15.86it/s]\n",
      "Dim [1/200]: 100%|██████████| 128/128 [00:08<00:00, 15.64it/s]\n",
      "Dim [2/200]: 100%|██████████| 128/128 [00:08<00:00, 15.66it/s]\n",
      "Dim [3/200]: 100%|██████████| 128/128 [00:08<00:00, 15.71it/s]\n",
      "Dim [4/200]: 100%|██████████| 128/128 [00:08<00:00, 15.99it/s]\n",
      "Dim [5/200]: 100%|██████████| 128/128 [00:08<00:00, 15.61it/s]\n",
      "Dim [6/200]: 100%|██████████| 128/128 [00:08<00:00, 15.62it/s]\n",
      "Dim [7/200]: 100%|██████████| 128/128 [00:08<00:00, 15.58it/s]\n",
      "Dim [8/200]: 100%|██████████| 128/128 [00:08<00:00, 15.59it/s]\n",
      "Dim [9/200]: 100%|██████████| 128/128 [00:08<00:00, 15.57it/s]\n",
      "Dim [10/200]: 100%|██████████| 128/128 [00:08<00:00, 15.59it/s]\n",
      "Dim [11/200]: 100%|██████████| 128/128 [00:08<00:00, 15.93it/s]\n",
      "Dim [12/200]: 100%|██████████| 128/128 [00:08<00:00, 15.56it/s]\n",
      "Dim [13/200]: 100%|██████████| 128/128 [00:08<00:00, 15.59it/s]\n",
      "Dim [14/200]: 100%|██████████| 128/128 [00:08<00:00, 15.57it/s]\n",
      "Dim [15/200]: 100%|██████████| 128/128 [00:08<00:00, 15.97it/s]\n",
      "Dim [16/200]: 100%|██████████| 128/128 [00:08<00:00, 15.56it/s]\n",
      "Dim [17/200]: 100%|██████████| 128/128 [00:08<00:00, 15.56it/s]\n",
      "Dim [18/200]: 100%|██████████| 128/128 [00:08<00:00, 15.55it/s]\n",
      "Dim [19/200]: 100%|██████████| 128/128 [00:08<00:00, 15.57it/s]\n",
      "Dim [20/200]: 100%|██████████| 128/128 [00:08<00:00, 15.58it/s]\n",
      "Dim [21/200]: 100%|██████████| 128/128 [00:08<00:00, 15.59it/s]\n",
      "Dim [22/200]: 100%|██████████| 128/128 [00:08<00:00, 15.93it/s]\n",
      "Dim [23/200]: 100%|██████████| 128/128 [00:08<00:00, 15.54it/s]\n",
      "Dim [24/200]: 100%|██████████| 128/128 [00:08<00:00, 15.54it/s]\n",
      "Dim [25/200]: 100%|██████████| 128/128 [00:08<00:00, 15.54it/s]\n",
      "Dim [26/200]: 100%|██████████| 128/128 [00:08<00:00, 15.93it/s]\n",
      "Dim [27/200]: 100%|██████████| 128/128 [00:08<00:00, 15.56it/s]\n",
      "Dim [28/200]: 100%|██████████| 128/128 [00:08<00:00, 15.57it/s]\n",
      "Dim [29/200]: 100%|██████████| 128/128 [00:08<00:00, 15.56it/s]\n",
      "Dim [30/200]: 100%|██████████| 128/128 [00:08<00:00, 15.56it/s]\n",
      "Dim [31/200]: 100%|██████████| 128/128 [00:08<00:00, 15.93it/s]\n",
      "Dim [32/200]: 100%|██████████| 128/128 [00:08<00:00, 15.20it/s]\n",
      "Dim [33/200]: 100%|██████████| 128/128 [00:08<00:00, 15.93it/s]\n",
      "Dim [34/200]: 100%|██████████| 128/128 [00:08<00:00, 15.57it/s]\n",
      "Dim [35/200]: 100%|██████████| 128/128 [00:08<00:00, 15.56it/s]\n",
      "Dim [36/200]: 100%|██████████| 128/128 [00:08<00:00, 15.56it/s]\n",
      "Dim [37/200]: 100%|██████████| 128/128 [00:08<00:00, 15.94it/s]\n",
      "Dim [38/200]: 100%|██████████| 128/128 [00:08<00:00, 15.56it/s]\n",
      "Dim [39/200]: 100%|██████████| 128/128 [00:08<00:00, 15.56it/s]\n",
      "Dim [40/200]: 100%|██████████| 128/128 [00:08<00:00, 15.57it/s]\n",
      "Dim [41/200]: 100%|██████████| 128/128 [00:08<00:00, 15.95it/s]\n",
      "Dim [42/200]: 100%|██████████| 128/128 [00:08<00:00, 15.62it/s]\n",
      "Dim [43/200]: 100%|██████████| 128/128 [00:08<00:00, 15.56it/s]\n",
      "Dim [44/200]: 100%|██████████| 128/128 [00:08<00:00, 15.57it/s]\n",
      "Dim [45/200]: 100%|██████████| 128/128 [00:08<00:00, 15.57it/s]\n",
      "Dim [46/200]: 100%|██████████| 128/128 [00:08<00:00, 15.53it/s]\n",
      "Dim [47/200]: 100%|██████████| 128/128 [00:08<00:00, 15.56it/s]\n",
      "Dim [48/200]: 100%|██████████| 128/128 [00:08<00:00, 15.91it/s]\n",
      "Dim [49/200]: 100%|██████████| 128/128 [00:08<00:00, 15.58it/s]\n",
      "Dim [50/200]: 100%|██████████| 128/128 [00:08<00:00, 15.57it/s]\n",
      "Dim [51/200]: 100%|██████████| 128/128 [00:08<00:00, 15.56it/s]\n",
      "Dim [52/200]: 100%|██████████| 128/128 [00:08<00:00, 15.93it/s]\n",
      "Dim [53/200]: 100%|██████████| 128/128 [00:08<00:00, 15.57it/s]\n",
      "Dim [54/200]: 100%|██████████| 128/128 [00:08<00:00, 15.55it/s]\n",
      "Dim [55/200]: 100%|██████████| 128/128 [00:08<00:00, 15.56it/s]\n",
      "Dim [56/200]: 100%|██████████| 128/128 [00:08<00:00, 15.54it/s]\n",
      "Dim [57/200]: 100%|██████████| 128/128 [00:08<00:00, 15.58it/s]\n",
      "Dim [58/200]: 100%|██████████| 128/128 [00:08<00:00, 15.61it/s]\n",
      "Dim [59/200]: 100%|██████████| 128/128 [00:08<00:00, 15.94it/s]\n",
      "Dim [60/200]: 100%|██████████| 128/128 [00:08<00:00, 15.54it/s]\n",
      "Dim [61/200]: 100%|██████████| 128/128 [00:08<00:00, 15.60it/s]\n",
      "Dim [62/200]: 100%|██████████| 128/128 [00:08<00:00, 15.59it/s]\n",
      "Dim [63/200]: 100%|██████████| 128/128 [00:08<00:00, 15.92it/s]\n",
      "Dim [64/200]: 100%|██████████| 128/128 [00:08<00:00, 15.54it/s]\n",
      "Dim [65/200]: 100%|██████████| 128/128 [00:08<00:00, 15.57it/s]\n",
      "Dim [66/200]: 100%|██████████| 128/128 [00:08<00:00, 15.57it/s]\n",
      "Dim [67/200]: 100%|██████████| 128/128 [00:08<00:00, 15.56it/s]\n",
      "Dim [68/200]: 100%|██████████| 128/128 [00:08<00:00, 15.93it/s]\n",
      "Dim [69/200]: 100%|██████████| 128/128 [00:08<00:00, 15.18it/s]\n",
      "Dim [70/200]: 100%|██████████| 128/128 [00:08<00:00, 15.92it/s]\n",
      "Dim [71/200]: 100%|██████████| 128/128 [00:08<00:00, 15.55it/s]\n",
      "Dim [72/200]: 100%|██████████| 128/128 [00:08<00:00, 15.54it/s]\n",
      "Dim [73/200]: 100%|██████████| 128/128 [00:08<00:00, 15.58it/s]\n",
      "Dim [74/200]: 100%|██████████| 128/128 [00:08<00:00, 15.93it/s]\n",
      "Dim [75/200]: 100%|██████████| 128/128 [00:08<00:00, 15.55it/s]\n",
      "Dim [76/200]: 100%|██████████| 128/128 [00:08<00:00, 15.56it/s]\n",
      "Dim [77/200]: 100%|██████████| 128/128 [00:08<00:00, 15.55it/s]\n",
      "Dim [78/200]: 100%|██████████| 128/128 [00:08<00:00, 15.56it/s]\n",
      "Dim [79/200]: 100%|██████████| 128/128 [00:08<00:00, 15.94it/s]\n",
      "Dim [80/200]: 100%|██████████| 128/128 [00:08<00:00, 15.55it/s]\n",
      "Dim [81/200]: 100%|██████████| 128/128 [00:08<00:00, 15.49it/s]\n",
      "Dim [82/200]: 100%|██████████| 128/128 [00:08<00:00, 15.55it/s]\n",
      "Dim [83/200]: 100%|██████████| 128/128 [00:08<00:00, 15.54it/s]\n",
      "Dim [84/200]: 100%|██████████| 128/128 [00:08<00:00, 15.54it/s]\n",
      "Dim [85/200]: 100%|██████████| 128/128 [00:08<00:00, 15.92it/s]\n",
      "Dim [86/200]: 100%|██████████| 128/128 [00:08<00:00, 15.59it/s]\n",
      "Dim [87/200]: 100%|██████████| 128/128 [00:08<00:00, 15.55it/s]\n",
      "Dim [88/200]: 100%|██████████| 128/128 [00:08<00:00, 15.51it/s]\n",
      "Dim [89/200]: 100%|██████████| 128/128 [00:08<00:00, 15.91it/s]\n",
      "Dim [90/200]: 100%|██████████| 128/128 [00:08<00:00, 15.55it/s]\n",
      "Dim [91/200]: 100%|██████████| 128/128 [00:08<00:00, 15.57it/s]\n",
      "Dim [92/200]: 100%|██████████| 128/128 [00:08<00:00, 15.53it/s]\n",
      "Dim [93/200]: 100%|██████████| 128/128 [00:08<00:00, 15.58it/s]\n",
      "Dim [94/200]: 100%|██████████| 128/128 [00:08<00:00, 15.55it/s]\n",
      "Dim [95/200]: 100%|██████████| 128/128 [00:08<00:00, 15.59it/s]\n",
      "Dim [96/200]: 100%|██████████| 128/128 [00:08<00:00, 15.90it/s]\n",
      "Dim [97/200]: 100%|██████████| 128/128 [00:08<00:00, 15.58it/s]\n",
      "Dim [98/200]: 100%|██████████| 128/128 [00:08<00:00, 15.57it/s]\n",
      "Dim [99/200]: 100%|██████████| 128/128 [00:08<00:00, 15.54it/s]\n",
      "Dim [100/200]: 100%|██████████| 128/128 [00:08<00:00, 15.93it/s]\n",
      "Dim [101/200]: 100%|██████████| 128/128 [00:08<00:00, 15.55it/s]\n",
      "Dim [102/200]: 100%|██████████| 128/128 [00:08<00:00, 15.54it/s]\n",
      "Dim [103/200]: 100%|██████████| 128/128 [00:08<00:00, 15.55it/s]\n",
      "Dim [104/200]: 100%|██████████| 128/128 [00:08<00:00, 15.55it/s]\n",
      "Dim [105/200]: 100%|██████████| 128/128 [00:08<00:00, 15.56it/s]\n",
      "Dim [106/200]: 100%|██████████| 128/128 [00:08<00:00, 15.55it/s]\n",
      "Dim [107/200]: 100%|██████████| 128/128 [00:08<00:00, 15.93it/s]\n",
      "Dim [108/200]: 100%|██████████| 128/128 [00:08<00:00, 15.56it/s]\n",
      "Dim [109/200]: 100%|██████████| 128/128 [00:08<00:00, 15.53it/s]\n",
      "Dim [110/200]: 100%|██████████| 128/128 [00:08<00:00, 15.55it/s]\n",
      "Dim [111/200]: 100%|██████████| 128/128 [00:08<00:00, 15.91it/s]\n",
      "Dim [112/200]: 100%|██████████| 128/128 [00:08<00:00, 15.55it/s]\n",
      "Dim [113/200]: 100%|██████████| 128/128 [00:08<00:00, 15.55it/s]\n",
      "Dim [114/200]: 100%|██████████| 128/128 [00:08<00:00, 15.52it/s]\n",
      "Dim [115/200]: 100%|██████████| 128/128 [00:08<00:00, 15.57it/s]\n",
      "Dim [116/200]: 100%|██████████| 128/128 [00:08<00:00, 15.87it/s]\n",
      "Dim [117/200]: 100%|██████████| 128/128 [00:08<00:00, 15.20it/s]\n",
      "Dim [118/200]: 100%|██████████| 128/128 [00:08<00:00, 15.91it/s]\n",
      "Dim [119/200]: 100%|██████████| 128/128 [00:08<00:00, 15.61it/s]\n",
      "Dim [120/200]: 100%|██████████| 128/128 [00:08<00:00, 15.56it/s]\n",
      "Dim [121/200]: 100%|██████████| 128/128 [00:08<00:00, 15.54it/s]\n",
      "Dim [122/200]: 100%|██████████| 128/128 [00:08<00:00, 15.92it/s]\n",
      "Dim [123/200]: 100%|██████████| 128/128 [00:08<00:00, 15.55it/s]\n",
      "Dim [124/200]: 100%|██████████| 128/128 [00:08<00:00, 15.54it/s]\n",
      "Dim [125/200]: 100%|██████████| 128/128 [00:08<00:00, 15.56it/s]\n",
      "Dim [126/200]: 100%|██████████| 128/128 [00:08<00:00, 15.53it/s]\n",
      "Dim [127/200]: 100%|██████████| 128/128 [00:08<00:00, 15.88it/s]\n",
      "Dim [128/200]: 100%|██████████| 128/128 [00:08<00:00, 15.54it/s]\n",
      "Dim [129/200]: 100%|██████████| 128/128 [00:08<00:00, 15.57it/s]\n",
      "Dim [130/200]: 100%|██████████| 128/128 [00:08<00:00, 15.53it/s]\n",
      "Dim [131/200]: 100%|██████████| 128/128 [00:08<00:00, 15.52it/s]\n",
      "Dim [132/200]: 100%|██████████| 128/128 [00:08<00:00, 15.55it/s]\n",
      "Dim [133/200]: 100%|██████████| 128/128 [00:08<00:00, 15.92it/s]\n",
      "Dim [134/200]: 100%|██████████| 128/128 [00:08<00:00, 15.54it/s]\n",
      "Dim [135/200]: 100%|██████████| 128/128 [00:08<00:00, 15.55it/s]\n",
      "Dim [136/200]: 100%|██████████| 128/128 [00:08<00:00, 15.53it/s]\n",
      "Dim [137/200]: 100%|██████████| 128/128 [00:08<00:00, 15.92it/s]\n",
      "Dim [138/200]: 100%|██████████| 128/128 [00:08<00:00, 15.55it/s]\n",
      "Dim [139/200]: 100%|██████████| 128/128 [00:08<00:00, 15.55it/s]\n",
      "Dim [140/200]: 100%|██████████| 128/128 [00:08<00:00, 15.52it/s]\n",
      "Dim [141/200]: 100%|██████████| 128/128 [00:08<00:00, 15.55it/s]\n",
      "Dim [142/200]: 100%|██████████| 128/128 [00:08<00:00, 15.55it/s]\n",
      "Dim [143/200]: 100%|██████████| 128/128 [00:08<00:00, 15.55it/s]\n",
      "Dim [144/200]: 100%|██████████| 128/128 [00:08<00:00, 15.92it/s]\n",
      "Dim [145/200]: 100%|██████████| 128/128 [00:08<00:00, 15.55it/s]\n",
      "Dim [146/200]: 100%|██████████| 128/128 [00:08<00:00, 15.54it/s]\n",
      "Dim [147/200]: 100%|██████████| 128/128 [00:08<00:00, 15.56it/s]\n",
      "Dim [148/200]: 100%|██████████| 128/128 [00:08<00:00, 15.92it/s]\n",
      "Dim [149/200]: 100%|██████████| 128/128 [00:08<00:00, 15.57it/s]\n",
      "Dim [150/200]: 100%|██████████| 128/128 [00:08<00:00, 15.54it/s]\n",
      "Dim [151/200]: 100%|██████████| 128/128 [00:08<00:00, 15.55it/s]\n",
      "Dim [152/200]: 100%|██████████| 128/128 [00:08<00:00, 15.59it/s]\n",
      "Dim [153/200]: 100%|██████████| 128/128 [00:08<00:00, 15.91it/s]\n",
      "Dim [154/200]: 100%|██████████| 128/128 [00:08<00:00, 15.18it/s]\n",
      "Dim [155/200]: 100%|██████████| 128/128 [00:08<00:00, 15.93it/s]\n",
      "Dim [156/200]: 100%|██████████| 128/128 [00:08<00:00, 15.58it/s]\n",
      "Dim [157/200]: 100%|██████████| 128/128 [00:08<00:00, 15.55it/s]\n",
      "Dim [158/200]: 100%|██████████| 128/128 [00:08<00:00, 15.54it/s]\n",
      "Dim [159/200]: 100%|██████████| 128/128 [00:08<00:00, 15.90it/s]\n",
      "Dim [160/200]: 100%|██████████| 128/128 [00:08<00:00, 15.52it/s]\n",
      "Dim [161/200]: 100%|██████████| 128/128 [00:08<00:00, 15.50it/s]\n",
      "Dim [162/200]: 100%|██████████| 128/128 [00:08<00:00, 15.53it/s]\n",
      "Dim [163/200]: 100%|██████████| 128/128 [00:08<00:00, 15.55it/s]\n",
      "Dim [164/200]: 100%|██████████| 128/128 [00:08<00:00, 15.90it/s]\n",
      "Dim [165/200]: 100%|██████████| 128/128 [00:08<00:00, 15.52it/s]\n",
      "Dim [166/200]: 100%|██████████| 128/128 [00:08<00:00, 15.58it/s]\n",
      "Dim [167/200]: 100%|██████████| 128/128 [00:08<00:00, 15.53it/s]\n",
      "Dim [168/200]: 100%|██████████| 128/128 [00:08<00:00, 15.53it/s]\n",
      "Dim [169/200]: 100%|██████████| 128/128 [00:08<00:00, 15.55it/s]\n",
      "Dim [170/200]: 100%|██████████| 128/128 [00:08<00:00, 15.89it/s]\n",
      "Dim [171/200]: 100%|██████████| 128/128 [00:08<00:00, 15.57it/s]\n",
      "Dim [172/200]: 100%|██████████| 128/128 [00:08<00:00, 15.54it/s]\n",
      "Dim [173/200]: 100%|██████████| 128/128 [00:08<00:00, 15.55it/s]\n",
      "Dim [174/200]: 100%|██████████| 128/128 [00:08<00:00, 15.90it/s]\n",
      "Dim [175/200]: 100%|██████████| 128/128 [00:08<00:00, 15.54it/s]\n",
      "Dim [176/200]: 100%|██████████| 128/128 [00:08<00:00, 15.54it/s]\n",
      "Dim [177/200]: 100%|██████████| 128/128 [00:08<00:00, 15.56it/s]\n",
      "Dim [178/200]: 100%|██████████| 128/128 [00:08<00:00, 15.54it/s]\n",
      "Dim [179/200]: 100%|██████████| 128/128 [00:08<00:00, 15.53it/s]\n",
      "Dim [180/200]: 100%|██████████| 128/128 [00:08<00:00, 15.55it/s]\n",
      "Dim [181/200]: 100%|██████████| 128/128 [00:08<00:00, 15.93it/s]\n",
      "Dim [182/200]: 100%|██████████| 128/128 [00:08<00:00, 15.55it/s]\n",
      "Dim [183/200]: 100%|██████████| 128/128 [00:08<00:00, 15.59it/s]\n",
      "Dim [184/200]: 100%|██████████| 128/128 [00:08<00:00, 15.54it/s]\n",
      "Dim [185/200]: 100%|██████████| 128/128 [00:08<00:00, 15.93it/s]\n",
      "Dim [186/200]: 100%|██████████| 128/128 [00:08<00:00, 15.59it/s]\n",
      "Dim [187/200]: 100%|██████████| 128/128 [00:08<00:00, 15.53it/s]\n",
      "Dim [188/200]: 100%|██████████| 128/128 [00:08<00:00, 15.55it/s]\n",
      "Dim [189/200]: 100%|██████████| 128/128 [00:08<00:00, 15.57it/s]\n",
      "Dim [190/200]: 100%|██████████| 128/128 [00:08<00:00, 15.52it/s]\n",
      "Dim [191/200]: 100%|██████████| 128/128 [00:08<00:00, 15.54it/s]\n",
      "Dim [192/200]: 100%|██████████| 128/128 [00:08<00:00, 15.88it/s]\n",
      "Dim [193/200]: 100%|██████████| 128/128 [00:08<00:00, 15.57it/s]\n",
      "Dim [194/200]: 100%|██████████| 128/128 [00:08<00:00, 15.54it/s]\n",
      "Dim [195/200]: 100%|██████████| 128/128 [00:08<00:00, 15.55it/s]\n",
      "Dim [196/200]: 100%|██████████| 128/128 [00:08<00:00, 15.88it/s]\n",
      "Dim [197/200]: 100%|██████████| 128/128 [00:08<00:00, 15.55it/s]\n",
      "Dim [198/200]: 100%|██████████| 128/128 [00:08<00:00, 15.50it/s]\n",
      "Dim [199/200]: 100%|██████████| 128/128 [00:08<00:00, 15.56it/s]\n",
      "Dim [200/200]: 100%|██████████| 128/128 [00:08<00:00, 15.53it/s]\n"
     ]
    }
   ],
   "source": [
    "W_E_original = torch.clone(W_E)\n",
    "\n",
    "dataloader = DataLoader(dataset_tokens, batch_size=BATCH_SIZE)\n",
    "\n",
    "# Compute the average loss with the base model\n",
    "total_loss = 0\n",
    "for batch in tqdm(dataloader, f\"Base model\"):\n",
    "    loss, _ = model.run_with_cache(batch, return_type=\"loss\")\n",
    "    total_loss += loss\n",
    "base_loss = (total_loss / len(dataloader)).item()\n",
    "\n",
    "loss_per_dim = np.zeros(MAX_DIM)\n",
    "\n",
    "for i in range(MAX_DIM):\n",
    "\n",
    "    # Replace the embedding lookup with the reduced dimension version\n",
    "    W_E[:, :] = torch.tensor(US[:, :i+1] @ Vh[:i+1, :])\n",
    "\n",
    "    # Compute the average loss\n",
    "    total_loss = 0\n",
    "    for batch in tqdm(dataloader, f\"Dim [{i+1}/{MAX_DIM}]\"):\n",
    "        loss, _ = model.run_with_cache(batch, return_type=\"loss\")\n",
    "        total_loss += loss\n",
    "    loss_per_dim[i] = (total_loss / len(dataloader)).item()"
   ]
  },
  {
   "cell_type": "code",
   "execution_count": 13,
   "metadata": {},
   "outputs": [
    {
     "data": {
      "image/png": "[encoded data removed]",
      "text/plain": [
       "<Figure size 640x480 with 1 Axes>"
      ]
     },
     "metadata": {},
     "output_type": "display_data"
    }
   ],
   "source": [
    "fig, ax = plt.subplots(1, 1)\n",
    "ax.plot(np.arange(1, MAX_DIM + 1), loss_per_dim)\n",
    "ax.plot([1, MAX_DIM+1], [base_loss, base_loss], \"r:\", label=\"Base model\")\n",
    "ax.set(\n",
    "    title=\"Performance when we reduce embedding dimensionality for GPT-Neo\",\n",
    "    xlabel=\"Dimensionality\",\n",
    "    ylabel=\"Loss\",\n",
    ")\n",
    "ax.legend()\n",
    "plt.show()"
   ]
  }
 ],
 "metadata": {
  "kernelspec": {
   "display_name": "mech-interp",
   "language": "python",
   "name": "python3"
  },
  "language_info": {
   "codemirror_mode": {
    "name": "ipython",
    "version": 3
   },
   "file_extension": ".py",
   "mimetype": "text/x-python",
   "name": "python",
   "nbconvert_exporter": "python",
   "pygments_lexer": "ipython3",
   "version": "3.8.10"
  },
  "orig_nbformat": 4
 },
 "nbformat": 4,
 "nbformat_minor": 2
}
